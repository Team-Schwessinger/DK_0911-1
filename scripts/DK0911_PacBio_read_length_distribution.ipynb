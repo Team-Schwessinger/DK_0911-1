{
 "cells": [
  {
   "cell_type": "code",
   "execution_count": 1,
   "metadata": {
    "ExecuteTime": {
     "end_time": "2019-03-12T07:15:19.248861Z",
     "start_time": "2019-03-12T07:15:18.264996Z"
    },
    "collapsed": true
   },
   "outputs": [],
   "source": [
    "\n",
    "\n",
    "%matplotlib inline\n",
    "from __future__ import print_function\n",
    "import numpy as np\n",
    "import matplotlib.pyplot as plt\n",
    "import matplotlib\n",
    "from matplotlib.axes import Axes\n",
    "import pandas as pd\n",
    "import itertools\n",
    "import os\n",
    "import pandas as pd\n",
    "\n"
   ]
  },
  {
   "cell_type": "code",
   "execution_count": 3,
   "metadata": {
    "ExecuteTime": {
     "end_time": "2019-03-12T07:16:10.672111Z",
     "start_time": "2019-03-12T07:16:01.859681Z"
    },
    "collapsed": true
   },
   "outputs": [],
   "source": [
    "df_all= pd.read_csv('/home/benjamin/genome_assembly/Warrior/DK0911_v04/PacBio_reads/Raw_read_length_summary.csv')"
   ]
  },
  {
   "cell_type": "code",
   "execution_count": 4,
   "metadata": {
    "ExecuteTime": {
     "end_time": "2019-03-12T07:16:19.959345Z",
     "start_time": "2019-03-12T07:16:18.251112Z"
    },
    "collapsed": true
   },
   "outputs": [],
   "source": [
    "df_all['Numbering'] = pd.Series(range(0, len(df_all)))"
   ]
  },
  {
   "cell_type": "code",
   "execution_count": 5,
   "metadata": {
    "ExecuteTime": {
     "end_time": "2019-03-12T07:16:29.606919Z",
     "start_time": "2019-03-12T07:16:29.556719Z"
    },
    "collapsed": true
   },
   "outputs": [],
   "source": [
    "summary_dict = {'total' : df_all['read_length'].sum(),\n",
    "                'reads' : df_all['read_length'].count(),\n",
    "                'mean' : df_all['read_length'].mean(), \n",
    "                'median' :  df_all['read_length'].median()\n",
    "                }"
   ]
  },
  {
   "cell_type": "code",
   "execution_count": 6,
   "metadata": {
    "ExecuteTime": {
     "end_time": "2019-03-12T07:16:36.968996Z",
     "start_time": "2019-03-12T07:16:36.947315Z"
    }
   },
   "outputs": [
    {
     "name": "stdout",
     "output_type": "stream",
     "text": [
      "Summary statistics \n",
      "\n",
      "********************************************************************************\n",
      " Total sequence amount:                           1.867889e+10 \n",
      " Number of reads:                                 2.706377e+06 \n",
      " Median read length:                                      6509 \n",
      " Mean read length:                                        6902\n"
     ]
    }
   ],
   "source": [
    "print('Summary statistics', '\\n')\n",
    "print('%s'%'*'*80)\n",
    "print(\" {:<30}\".format('Total sequence amount:'),\"{0[total]:>30e}\".format(summary_dict),\"\\n\",\n",
    "     \"{:<30}\".format('Number of reads:'),\"{0[reads]:>30e}\".format(summary_dict), \"\\n\",\n",
    "    \"{:<30}\".format('Median read length:'), \"{0[median]:>30.0f}\".format(summary_dict), \"\\n\",\n",
    "\"{:<30}\".format('Mean read length:'), \"{0[mean]:>30.0f}\".format(summary_dict))"
   ]
  },
  {
   "cell_type": "code",
   "execution_count": 13,
   "metadata": {
    "ExecuteTime": {
     "end_time": "2019-03-12T07:20:45.969048Z",
     "start_time": "2019-03-12T07:20:45.768301Z"
    }
   },
   "outputs": [
    {
     "data": {
      "text/plain": [
       "1384669    6670\n",
       "Name: read_length, dtype: int64"
      ]
     },
     "execution_count": 13,
     "metadata": {},
     "output_type": "execute_result"
    }
   ],
   "source": [
    "df_all[df_all.CS_length > (0.25*df_all.CS_length.max())]['read_length'].head(1)"
   ]
  },
  {
   "cell_type": "code",
   "execution_count": 12,
   "metadata": {
    "ExecuteTime": {
     "end_time": "2019-03-12T07:20:05.791191Z",
     "start_time": "2019-03-12T07:20:05.656284Z"
    }
   },
   "outputs": [
    {
     "data": {
      "text/plain": [
       "1968523    9249\n",
       "Name: read_length, dtype: int64"
      ]
     },
     "execution_count": 12,
     "metadata": {},
     "output_type": "execute_result"
    }
   ],
   "source": [
    "df_all[df_all.CS_length > (0.50*df_all.CS_length.max())]['read_length'].head(1)"
   ]
  },
  {
   "cell_type": "code",
   "execution_count": 14,
   "metadata": {
    "ExecuteTime": {
     "end_time": "2019-03-12T07:21:21.006753Z",
     "start_time": "2019-03-12T07:21:20.931381Z"
    }
   },
   "outputs": [
    {
     "data": {
      "text/plain": [
       "2411111    12305\n",
       "Name: read_length, dtype: int64"
      ]
     },
     "execution_count": 14,
     "metadata": {},
     "output_type": "execute_result"
    }
   ],
   "source": [
    "df_all[df_all.CS_length > (0.75*df_all.CS_length.max())]['read_length'].head(1)"
   ]
  },
  {
   "cell_type": "code",
   "execution_count": 15,
   "metadata": {
    "ExecuteTime": {
     "end_time": "2019-03-12T07:21:57.010200Z",
     "start_time": "2019-03-12T07:21:56.978992Z"
    }
   },
   "outputs": [
    {
     "data": {
      "text/plain": [
       "51132"
      ]
     },
     "execution_count": 15,
     "metadata": {},
     "output_type": "execute_result"
    }
   ],
   "source": [
    "df_all.read_length.max()"
   ]
  },
  {
   "cell_type": "code",
   "execution_count": null,
   "metadata": {
    "collapsed": true
   },
   "outputs": [],
   "source": []
  }
 ],
 "metadata": {
  "kernelspec": {
   "display_name": "Python [default]",
   "language": "python",
   "name": "python3"
  },
  "language_info": {
   "codemirror_mode": {
    "name": "ipython",
    "version": 3
   },
   "file_extension": ".py",
   "mimetype": "text/x-python",
   "name": "python",
   "nbconvert_exporter": "python",
   "pygments_lexer": "ipython3",
   "version": "3.5.4"
  },
  "toc": {
   "nav_menu": {},
   "number_sections": true,
   "sideBar": true,
   "skip_h1_title": false,
   "title_cell": "Table of Contents",
   "title_sidebar": "Contents",
   "toc_cell": false,
   "toc_position": {},
   "toc_section_display": true,
   "toc_window_display": false
  }
 },
 "nbformat": 4,
 "nbformat_minor": 2
}
