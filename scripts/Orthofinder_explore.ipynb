{
 "cells": [
  {
   "cell_type": "code",
   "execution_count": 1,
   "metadata": {},
   "outputs": [
    {
     "name": "stderr",
     "output_type": "stream",
     "text": [
      "/home/benjamin/anaconda3/lib/python3.5/site-packages/Bio/SearchIO/__init__.py:211: BiopythonExperimentalWarning: Bio.SearchIO is an experimental submodule which may undergo significant changes prior to its future official release.\n",
      "  BiopythonExperimentalWarning)\n"
     ]
    }
   ],
   "source": [
    "%matplotlib inline\n",
    "import pandas as pd\n",
    "import os\n",
    "import re\n",
    "from Bio import SeqIO\n",
    "import pysam\n",
    "from Bio.SeqRecord import SeqRecord\n",
    "from Bio.Seq import Seq\n",
    "from Bio import SearchIO\n",
    "from pybedtools import BedTool\n",
    "import numpy as np\n",
    "import pybedtools\n",
    "import multiprocessing\n",
    "import re\n",
    "import time\n",
    "import matplotlib.pyplot as plt\n",
    "import json\n",
    "from ipywidgets import widgets\n",
    "from IPython.display import display\n",
    "from sklearn.externals.joblib import Parallel, delayed\n",
    "import seaborn as sns\n",
    "import matplotlib\n",
    "import subprocess"
   ]
  },
  {
   "cell_type": "code",
   "execution_count": 55,
   "metadata": {
    "collapsed": true
   },
   "outputs": [],
   "source": [
    "orthofinder_all_folder = '/home/benjamin/genome_assembly/Warrior/DK0911_v04/comp_orthology/orthofinder/OrthoFinder_all'\n",
    "orthofinder_three_pst_folder = '/home/benjamin/genome_assembly/Warrior/DK0911_v04/comp_orthology/orthofinder/OrthoFinder_Results_pst78_dk0911_ps104e'"
   ]
  },
  {
   "cell_type": "code",
   "execution_count": 56,
   "metadata": {},
   "outputs": [
    {
     "name": "stderr",
     "output_type": "stream",
     "text": [
      "/home/benjamin/anaconda3/lib/python3.5/site-packages/IPython/core/interactiveshell.py:2698: DtypeWarning: Columns (1,2,3,4,5,6,7,8,9,10,11,12,16) have mixed types. Specify dtype option on import or set low_memory=False.\n",
      "  interactivity=interactivity, compiler=compiler, result=result)\n"
     ]
    }
   ],
   "source": [
    "all_df = pd.read_csv(os.path.join(orthofinder_all_folder,'Orthogroups_1.csv' ), sep='\\t',index_col=0)\n",
    "three_pst_df = pd.read_csv(os.path.join(orthofinder_three_pst_folder, 'Orthogroups.csv'), sep='\\t',index_col=0)"
   ]
  },
  {
   "cell_type": "code",
   "execution_count": 57,
   "metadata": {},
   "outputs": [
    {
     "data": {
      "text/plain": [
       "Index(['DK_0911', 'Pst_104E', 'Pst_78'], dtype='object')"
      ]
     },
     "execution_count": 57,
     "metadata": {},
     "output_type": "execute_result"
    }
   ],
   "source": [
    "three_pst_df.columns"
   ]
  },
  {
   "cell_type": "code",
   "execution_count": 11,
   "metadata": {},
   "outputs": [
    {
     "data": {
      "text/plain": [
       "Index(['Agahy', 'Atrsp', 'Chiap', 'Chicu', 'Croqu', 'Eryha', 'Hetpy', 'Leucr',\n",
       "       'Melap', 'Melli', 'Mellp', 'Mereb', 'Micld', 'Micvi', 'Mixos', 'Mlr',\n",
       "       'Naifl', 'Naose', 'Pucco1', 'Pucco2', 'Pucgr', 'Pucgra', 'Pucsor',\n",
       "       'Pucst130', 'Pucst78', 'Pucst93210', 'Pucst93TX2', 'Puctr', 'Rhoba',\n",
       "       'Rhodia', 'Rhoglu', 'Rhomi', 'Rhomuc', 'Rhosp1', 'Rhosp2', 'Rhoto1',\n",
       "       'Rhoto2', 'Rhoto3', 'Rhoto4', 'Rhoto5', 'Sepsp', 'Slopil', 'Spoli',\n",
       "       'Spopa', 'Sporo', 'Vda_12008', 'Vda_12158', 'Vda_12161', 'Vda_12251',\n",
       "       'Vda_12253', 'Vda_17', 'Ztr_IPO323', 'Ztr_ST99CH_1A5', 'Ztr_ST99CH_1E4',\n",
       "       'Ztr_ST99CH_3D1', 'Ztr_ST99CH_3D7', 'Hyabl', 'PucstDK0911'],\n",
       "      dtype='object')"
      ]
     },
     "execution_count": 11,
     "metadata": {},
     "output_type": "execute_result"
    }
   ],
   "source": [
    "all_df.columns"
   ]
  },
  {
   "cell_type": "code",
   "execution_count": 60,
   "metadata": {},
   "outputs": [
    {
     "name": "stderr",
     "output_type": "stream",
     "text": [
      "/home/benjamin/anaconda3/lib/python3.5/site-packages/IPython/core/interactiveshell.py:2698: DtypeWarning: Columns (1,2,3,4,5,6,7,8,9,10,11,12,15,16,17,18,19,20,23,24,25,26,27,28,29,30,31,32,33,34,35,36,37,38,39,40,41,42,43,44,45,46,47,48,49,50,51,52,53,54,55,56,57,58) have mixed types. Specify dtype option on import or set low_memory=False.\n",
      "  interactivity=interactivity, compiler=compiler, result=result)\n"
     ]
    }
   ],
   "source": [
    "unassigned_all_df = pd.read_csv(os.path.join(orthofinder_all_folder,'Orthogroups_1_UnassignedGenes.csv' ), sep='\\t',index_col=0).fillna(False)\n",
    "unassigned_three_rust_df = pd.read_csv(os.path.join(orthofinder_three_pst_folder,'Orthogroups_UnassignedGenes.csv' ), sep='\\t',index_col=0).fillna(False)"
   ]
  },
  {
   "cell_type": "code",
   "execution_count": 61,
   "metadata": {},
   "outputs": [
    {
     "name": "stdout",
     "output_type": "stream",
     "text": [
      "DK_0911: 2534\n",
      "Pst_104E: 2991\n",
      "Pst_78: 4250\n"
     ]
    }
   ],
   "source": [
    "for species in unassigned_three_rust_df.columns:\n",
    "    print('%s: %i' % (species, unassigned_three_rust_df[unassigned_three_rust_df[species] != False][species].shape[0]))"
   ]
  },
  {
   "cell_type": "code",
   "execution_count": 54,
   "metadata": {},
   "outputs": [
    {
     "name": "stdout",
     "output_type": "stream",
     "text": [
      "Agahy: 1186\n",
      "Atrsp: 5034\n",
      "Chiap: 2005\n",
      "Chicu: 567\n",
      "Croqu: 3062\n",
      "Eryha: 1617\n",
      "Hetpy: 261\n",
      "Leucr: 965\n",
      "Melap: 2514\n",
      "Melli: 1070\n",
      "Mellp: 1530\n",
      "Mereb: 1798\n",
      "Micld: 0\n",
      "Micvi: 0\n",
      "Mixos: 1158\n",
      "Mlr: 249\n",
      "Naifl: 4509\n",
      "Naose: 3027\n",
      "Pucco1: 1916\n",
      "Pucco2: 1668\n",
      "Pucgr: 0\n",
      "Pucgra: 0\n",
      "Pucsor: 3119\n",
      "Pucst130: 1217\n",
      "Pucst78: 807\n",
      "Pucst93210: 228\n",
      "Pucst93TX2: 281\n",
      "Puctr: 1324\n",
      "Rhoba: 362\n",
      "Rhodia: 609\n",
      "Rhoglu: 488\n",
      "Rhomi: 808\n",
      "Rhomuc: 596\n",
      "Rhosp1: 55\n",
      "Rhosp2: 654\n",
      "Rhoto1: 374\n",
      "Rhoto2: 10\n",
      "Rhoto3: 364\n",
      "Rhoto4: 14\n",
      "Rhoto5: 22\n",
      "Sepsp: 2524\n",
      "Slopil: 1603\n",
      "Spoli: 1594\n",
      "Spopa: 686\n",
      "Sporo: 199\n",
      "Vda_12008: 64\n",
      "Vda_12158: 20\n",
      "Vda_12161: 17\n",
      "Vda_12251: 27\n",
      "Vda_12253: 44\n",
      "Vda_17: 616\n",
      "Ztr_IPO323: 621\n",
      "Ztr_ST99CH_1A5: 135\n",
      "Ztr_ST99CH_1E4: 147\n",
      "Ztr_ST99CH_3D1: 100\n",
      "Ztr_ST99CH_3D7: 365\n",
      "Hyabl: 274\n",
      "PucstDK0911: 705\n"
     ]
    }
   ],
   "source": [
    "for species in unassigned_df.columns:\n",
    "    print('%s: %i' % (species, unassigned_df[unassigned_df[species] != False][species].shape[0]))"
   ]
  },
  {
   "cell_type": "code",
   "execution_count": 62,
   "metadata": {
    "collapsed": true
   },
   "outputs": [],
   "source": [
    "gene_count_three_rust_df = pd.read_csv(os.path.join(orthofinder_three_pst_folder,'Orthogroups.GeneCount.csv' ), sep='\\t',index_col=0).fillna(False)"
   ]
  },
  {
   "cell_type": "code",
   "execution_count": 66,
   "metadata": {},
   "outputs": [
    {
     "data": {
      "text/plain": [
       "Index(['DK_0911', 'Pst_104E', 'Pst_78'], dtype='object')"
      ]
     },
     "execution_count": 66,
     "metadata": {},
     "output_type": "execute_result"
    }
   ],
   "source": [
    "gene_count_three_rust_df.columns[:3]"
   ]
  },
  {
   "cell_type": "code",
   "execution_count": 69,
   "metadata": {},
   "outputs": [
    {
     "data": {
      "text/plain": [
       "750"
      ]
     },
     "execution_count": 69,
     "metadata": {},
     "output_type": "execute_result"
    }
   ],
   "source": [
    "gene_count_three_rust_df[gene_count_three_rust_df['DK_0911'] == 0].shape[0]"
   ]
  },
  {
   "cell_type": "code",
   "execution_count": 70,
   "metadata": {},
   "outputs": [
    {
     "name": "stdout",
     "output_type": "stream",
     "text": [
      "DK_0911 is missing in 750 orthogroups\n",
      "Pst_104E is missing in 648 orthogroups\n",
      "Pst_78 is missing in 1369 orthogroups\n",
      "Total is missing in 0 orthogroups\n"
     ]
    }
   ],
   "source": [
    "for x in gene_count_three_rust_df.columns:\n",
    "    print('%s is missing in %i orthogroups' % (x, gene_count_three_rust_df[gene_count_three_rust_df[x] == 0].shape[0]))"
   ]
  },
  {
   "cell_type": "code",
   "execution_count": 46,
   "metadata": {},
   "outputs": [
    {
     "data": {
      "text/plain": [
       "OG0039239           False\n",
       "OG0039240           False\n",
       "OG0039241           False\n",
       "OG0039242           False\n",
       "OG0039243           False\n",
       "OG0039244           False\n",
       "OG0039245           False\n",
       "OG0039246           False\n",
       "OG0039247           False\n",
       "OG0039248           False\n",
       "OG0039249           False\n",
       "OG0039250           False\n",
       "OG0039251           False\n",
       "OG0039252           False\n",
       "OG0039253           False\n",
       "OG0039254           False\n",
       "OG0039255           False\n",
       "OG0039256           False\n",
       "OG0039257           False\n",
       "OG0039258           False\n",
       "OG0039259           False\n",
       "OG0039260           False\n",
       "OG0039261           False\n",
       "OG0039262           False\n",
       "OG0039263           False\n",
       "OG0039264           False\n",
       "OG0039265           False\n",
       "OG0039266           False\n",
       "OG0039267           False\n",
       "OG0039268           False\n",
       "                 ...     \n",
       "OG0094418    DK0911_20246\n",
       "OG0094419    DK0911_19917\n",
       "OG0094420    DK0911_27910\n",
       "OG0094421    DK0911_29229\n",
       "OG0094422    DK0911_25422\n",
       "OG0094423    DK0911_21386\n",
       "OG0094424    DK0911_27939\n",
       "OG0094425    DK0911_27940\n",
       "OG0094426    DK0911_27941\n",
       "OG0094427    DK0911_24157\n",
       "OG0094428    DK0911_26089\n",
       "OG0094429    DK0911_26092\n",
       "OG0094430    DK0911_21493\n",
       "OG0094431    DK0911_21494\n",
       "OG0094432    DK0911_22808\n",
       "OG0094433    DK0911_23252\n",
       "OG0094434    DK0911_25096\n",
       "OG0094435    DK0911_25100\n",
       "OG0094436    DK0911_27497\n",
       "OG0094437    DK0911_26976\n",
       "OG0094438    DK0911_26986\n",
       "OG0094439    DK0911_20953\n",
       "OG0094440    DK0911_19251\n",
       "OG0094441    DK0911_19280\n",
       "OG0094442    DK0911_30890\n",
       "OG0094443    DK0911_20117\n",
       "OG0094444    DK0911_25726\n",
       "OG0094445    DK0911_23843\n",
       "OG0094446    DK0911_27708\n",
       "OG0094447    DK0911_26287\n",
       "Name: PucstDK0911, Length: 55209, dtype: object"
      ]
     },
     "execution_count": 46,
     "metadata": {},
     "output_type": "execute_result"
    }
   ],
   "source": [
    "unassigned_df.PucstDK0911.fillna('False')"
   ]
  },
  {
   "cell_type": "code",
   "execution_count": null,
   "metadata": {
    "collapsed": true
   },
   "outputs": [],
   "source": []
  }
 ],
 "metadata": {
  "kernelspec": {
   "display_name": "Python [default]",
   "language": "python",
   "name": "python3"
  },
  "language_info": {
   "codemirror_mode": {
    "name": "ipython",
    "version": 3
   },
   "file_extension": ".py",
   "mimetype": "text/x-python",
   "name": "python",
   "nbconvert_exporter": "python",
   "pygments_lexer": "ipython3",
   "version": "3.5.4"
  },
  "toc": {
   "nav_menu": {},
   "number_sections": true,
   "sideBar": true,
   "skip_h1_title": false,
   "title_cell": "Table of Contents",
   "title_sidebar": "Contents",
   "toc_cell": false,
   "toc_position": {},
   "toc_section_display": true,
   "toc_window_display": false
  }
 },
 "nbformat": 4,
 "nbformat_minor": 2
}
