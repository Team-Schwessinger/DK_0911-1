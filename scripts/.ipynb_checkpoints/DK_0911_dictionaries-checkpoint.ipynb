{
 "cells": [
  {
   "cell_type": "markdown",
   "metadata": {},
   "source": [
    "# Dictionaries"
   ]
  },
  {
   "cell_type": "markdown",
   "metadata": {},
   "source": [
    "- Inputs: *gff3* file\n",
    "- Programs: N/A\n",
    "- Purpose: creates a dictionary that that maps **locus_tag** to **id** from the **attributes** column of *gff3* files."
   ]
  },
  {
   "cell_type": "code",
   "execution_count": null,
   "metadata": {
    "collapsed": true
   },
   "outputs": [],
   "source": [
    "import os\n",
    "import pandas as pd\n",
    "import re\n",
    "import sys\n",
    "\n",
    "\n",
    "## These constants should be defined in the ipynb calling this ipynb.\n",
    "\n",
    "try:\n",
    "    GENOME_VERSION\n",
    "except NameError:\n",
    "    raise Exception('Please define GENOME_VERSION in the local ipynb to use DK_0911_dictionaries.')\n",
    "\n",
    "GENOME_PATH = '/home/gamran/genome_analysis/Warrior/Richard/output/genome_%s/' % GENOME_VERSION\n",
    "GENOME = 'DK_0911_%s' % GENOME_VERSION\n",
    "\n",
    "P_GFF = pd.read_csv(os.path.join(GENOME_PATH, GENOME + '_p_ctg.anno.gff3'), sep='\\t', header=None)\n",
    "H_GFF = pd.read_csv(os.path.join(GENOME_PATH, GENOME + '_h_ctg.anno.gff3'), sep='\\t', header=None)\n",
    "\n",
    "def getLocusToIdDict(p_gff=P_GFF, h_gff=H_GFF):\n",
    "    '''returns a dictionary with key: locus_tag and val: ID from a\n",
    "    DataFrame of haplotig and primary contig gff3 files containing\n",
    "    attribute entries (column 9) such as:\n",
    "    ID=evm.TU.pcontig_000.1;locus_tag=DK0911_00000;Name=EVM prediction pcontig_000.1'''\n",
    "    \n",
    "    p_gff_genes = p_gff.loc[p_gff[2] == 'mRNA']\n",
    "    h_gff_genes = h_gff.loc[h_gff[2] == 'mRNA']\n",
    "    \n",
    "    dSeries = pd.concat([h_gff_genes[8], p_gff_genes[8]], ignore_index=True)\n",
    "\n",
    "    idSearch = re.compile(r'ID=(.*?);')\n",
    "    locusSearch = re.compile(r'^.*locus_tag=(.*?)(;|$)')\n",
    "\n",
    "    d = {}\n",
    "\n",
    "    for attr in dSeries:\n",
    "        key = locusSearch.match(attr).group(1)\n",
    "        val = idSearch.match(attr).group(1)\n",
    "        if key in d.keys():\n",
    "            print('Unexpected: locus tag: %s is already in dictionary!' % key)\n",
    "        d[key] = val\n",
    "    return d\n",
    "\n",
    "def mapWithDict(x):\n",
    "    locusToIdDict = getLocusToIdDict()\n",
    "    if x == 'NaN':\n",
    "        return x\n",
    "    if x in locusToIdDict:\n",
    "        return locusToIdDict[x]\n",
    "    print(\"x: %s\\n is not in the dictionary mapping loci to id.\" %x)\n",
    "    sys.exit()\n",
    "\n",
    "def changeFastaToIdTag(fastaFiles, fOut, rewriteInfile=False):\n",
    "    '''combines fasta files and rewrites headings from locus tags\n",
    "    (DK0911_16805) to id tags (evm.model.pcontig_057.39 (protein)\n",
    "    or evm.TU.xxx (gene))'''\n",
    "    locusToIdDict = getLocusToIdDict()\n",
    "    fOut = fOut + '_tmp' # in case fOut is one of the in files\n",
    "    with open(fOut, 'w') as outFile:\n",
    "        for fastaFile in fastaFiles:\n",
    "            with open(fastaFile, 'r') as inFile:\n",
    "                for line in inFile:\n",
    "                    if '>' in line:\n",
    "                        line = '>' + locusToIdDict[line[1:-1]] + '\\n'\n",
    "                        if fOut[:-4].endswith('gene.fa'):\n",
    "                            line = line.replace('model', 'TU')\n",
    "                    outFile.write(line)\n",
    "    os.rename(fOut, fOut[:-4])\n",
    "    \n",
    "    return True"
   ]
  },
  {
   "cell_type": "code",
   "execution_count": null,
   "metadata": {
    "collapsed": true
   },
   "outputs": [],
   "source": []
  }
 ],
 "metadata": {
  "anaconda-cloud": {},
  "kernelspec": {
   "display_name": "Python [default]",
   "language": "python",
   "name": "python3"
  },
  "language_info": {
   "codemirror_mode": {
    "name": "ipython",
    "version": 3
   },
   "file_extension": ".py",
   "mimetype": "text/x-python",
   "name": "python",
   "nbconvert_exporter": "python",
   "pygments_lexer": "ipython3",
   "version": "3.5.3"
  }
 },
 "nbformat": 4,
 "nbformat_minor": 1
}
