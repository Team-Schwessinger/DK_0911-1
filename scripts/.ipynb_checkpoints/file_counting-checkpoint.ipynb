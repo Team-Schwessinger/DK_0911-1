{
 "cells": [
  {
   "cell_type": "markdown",
   "metadata": {},
   "source": [
    "# File Counting"
   ]
  },
  {
   "cell_type": "code",
   "execution_count": 36,
   "metadata": {
    "collapsed": true
   },
   "outputs": [],
   "source": [
    "import os\n",
    "\n",
    "def getFileExtensions(cwd, ignoreExts = []):\n",
    "    '''returns a list of all file extensions in a working directory, cwd,\n",
    "    including the extensions contained in sub-directories within the cwd.\n",
    "    Does not include extensions in ignoreExts'''\n",
    "    allFiles = os.walk(cwd)\n",
    "    exts = []\n",
    "    for walk_output in allFiles:\n",
    "        for file_name in walk_output[-1]:\n",
    "            ext = file_name.split(\".\")[-1]\n",
    "            if ext not in ignoreExts:\n",
    "                exts.append(ext)\n",
    "    return(exts)\n",
    "\n",
    "def getExtensionCounts(cwd, ignoreExts = []):\n",
    "    '''returns a dictionary of all file extensions and their occurrences\n",
    "    in a working directory, cwd, and all the sub-directories within it.\n",
    "    Does not count extensions in ignoreExts.'''\n",
    "    d = {}\n",
    "    allFileExtensions = getFileExtensions(cwd, ignoreExts)\n",
    "    for key in allFileExtensions:\n",
    "        if key not in d and key not in ignoreExts:\n",
    "            d[key] = allFileExtensions.count(key)\n",
    "    return d\n",
    "\n",
    "def getFolderName(folderLoc):\n",
    "    '''returns the folder name from a folder location'''\n",
    "    return folderLoc.split(\"/\")[-1]\n",
    "\n",
    "def getDiscrepancies(folderLoc, refDict, ignoreExts = []):\n",
    "    '''returns a string describing all the file extension count discrepancies that\n",
    "    exist in a folder (at folderLoc), and all the sub-directories within that\n",
    "    folder, and a reference dictionary (refDict) of file extensions (as from \n",
    "    getExtensionCounts). NOTE that this will only check if all the files and\n",
    "    their counts in the refDict are present (with the correct counts) in folderLoc;\n",
    "    extra files in folderLoc with file extensions not in the refDict that are \n",
    "    not present in the dictionary will not be reported. This allows analysis files\n",
    "    to be added to a folder after files have been generated without causing errors\n",
    "    at this level.'''\n",
    "    \n",
    "    s = ''\n",
    "    fileExtensions = getFileExtensions(folderLoc, ignoreExts)\n",
    "\n",
    "    for ext in refDict.keys():\n",
    "        refCount = refDict[ext]\n",
    "        folderCount = fileExtensions.count(ext)\n",
    "        if refCount != folderCount:\n",
    "            problemFolder = getFolderName(folderLoc)\n",
    "            s += ('%s: Discrepancy in *.%s files: %i [FOLDER] vs %i [REF]\\n' %(problemFolder, ext, folderCount, refCount))\n",
    "    return s"
   ]
  },
  {
   "cell_type": "code",
   "execution_count": null,
   "metadata": {
    "collapsed": true
   },
   "outputs": [],
   "source": []
  }
 ],
 "metadata": {
  "anaconda-cloud": {},
  "kernelspec": {
   "display_name": "Python [default]",
   "language": "python",
   "name": "python3"
  },
  "language_info": {
   "codemirror_mode": {
    "name": "ipython",
    "version": 3
   },
   "file_extension": ".py",
   "mimetype": "text/x-python",
   "name": "python",
   "nbconvert_exporter": "python",
   "pygments_lexer": "ipython3",
   "version": "3.5.3"
  }
 },
 "nbformat": 4,
 "nbformat_minor": 1
}
