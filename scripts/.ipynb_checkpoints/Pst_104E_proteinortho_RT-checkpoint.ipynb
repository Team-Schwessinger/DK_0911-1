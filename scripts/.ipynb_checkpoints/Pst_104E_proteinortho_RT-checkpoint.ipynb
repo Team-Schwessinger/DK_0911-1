{
 "cells": [
  {
   "cell_type": "markdown",
   "metadata": {},
   "source": [
    "# proteinortho"
   ]
  },
  {
   "cell_type": "markdown",
   "metadata": {},
   "source": [
    "- Inputs: .*gff* files, .*faa* files\n",
    "- Programs: **proteinortho**\n",
    "- Purpose: **proteinortho** implements a blast-based approach to determine sets of (co-)orthologous proteins or nucleic acid sequences that generalises the reciprocal best alignment heuristic\n",
    "\n",
    "NB: this notebook, as it is written here, is meant to be run from another notebook, `DK_0911_defining_alleles_v02` (using command `%run DK_0911_proteinortho.ipynb`)."
   ]
  },
  {
   "cell_type": "code",
   "execution_count": null,
   "metadata": {
    "collapsed": true
   },
   "outputs": [],
   "source": [
    "import pandas as pd\n",
    "import os\n",
    "import sys\n",
    "import subprocess\n",
    "import shutil\n",
    "import re\n",
    "\n",
    "\n",
    "## This variable should be defined in the ipynb calling this ipynb.\n",
    "try:\n",
    "    GENOME_VERSION\n",
    "except NameError:\n",
    "    raise Exception('Please define GENOME_VERSION in the local ipynb to use this script.')\n",
    "    \n",
    "try:\n",
    "    GENOME_PATH\n",
    "    print(GENOME_PATH)\n",
    "except NameError:\n",
    "    raise Exception('Please define GENOME_PATH in the local ipynb to use this script.')\n",
    "    \n",
    "try:\n",
    "    BASE_OUT_PATH\n",
    "except NameError:\n",
    "    raise Exception('Please define BASE_OUT_PATH in the local ipynb to use this script.')\n",
    "\n",
    "GENOME = GENOME_VERSION\n",
    "\n",
    "PROTEINORTHO_OUT_PATH = os.path.join(BASE_OUT_PATH, 'proteinortho')\n",
    "\n",
    "ORIG_H_CTG_GFF_PATH = os.path.join(GENOME_PATH, '%s_h_ctg.anno.gff3' % GENOME_VERSION)\n",
    "ORIG_P_CTG_GFF_PATH = os.path.join(GENOME_PATH, '%s_p_ctg.anno.gff3' % GENOME_VERSION)\n",
    "\n",
    "PROTEINORTHO_PATH = '/home/gamran/anaconda3/proteinortho_v5.16b/proteinortho5.pl'\n",
    "PROJECT_NAME = 'ph_ctg_516'\n",
    "H_CTG_FAA = '%s_h_ctg.anno.protein.faa' % GENOME\n",
    "P_CTG_FAA = '%s_p_ctg.anno.protein.faa' % GENOME"
   ]
  },
  {
   "cell_type": "code",
   "execution_count": null,
   "metadata": {
    "collapsed": true
   },
   "outputs": [],
   "source": [
    "## obsolete function in v031\n",
    "\n",
    "# def getIdToLocusTagDict(df):\n",
    "#     df = df[df['type'] == 'mRNA']\n",
    "    \n",
    "#     locusSearch = re.compile(r'^.*locus_tag=(.*?)(;|$)')\n",
    "#     idSearch = re.compile(r'ID=(.*?);')\n",
    "    \n",
    "#     d = {}\n",
    "    \n",
    "#     for attr in df['attributes']:\n",
    "#         val = locusSearch.match(attr).group(1)\n",
    "#         key = idSearch.match(attr).group(1)\n",
    "#         if key in d.keys():\n",
    "#             print(\"Unexpected: id key: %s already in dictionary.\" % key)\n",
    "#         d[key] = val\n",
    "#     return d\n",
    "\n",
    "# def rewriteGffForProteinortho(gffInLoc, gffOutLoc):\n",
    "#     '''Takes a gff file at gffInLoc and rewrites it to conform to\n",
    "#     the format required for proteinortho analysis.'''\n",
    "#     ctgDf = pd.read_table(gffInLoc, skiprows = 1, header = None, \\\n",
    "#                            names = ['seqid', 'source', 'type', 'start', 'end', 'score', 'strand', 'phase', 'attributes'])\n",
    "    \n",
    "#     # get dict mapping ID to locus_tag from mRNA entries\n",
    "#     # need attribute to have 'ID=locus_tag' because .faa file has ID=locus_tag\n",
    "#     # will be used in this way: CDS.parent = mRNA.id =(dict)> locus_tag\n",
    "#     d = getIdToLocusTagDict(ctgDf)\n",
    "    \n",
    "#     # subset DataFrame to only CDS type (only type required for proteinortho analysis)\n",
    "#     ctgDf = ctgDf[ctgDf['type'] == 'CDS']\n",
    "    \n",
    "#     # turn attribute column into parent value\n",
    "#     parentSearch = re.compile(r'^.*Parent=(.*?)(;|$)')\n",
    "#     ctgDf['attributes'] = ctgDf['attributes'].apply(lambda x: parentSearch.match(x).group(1))\n",
    "    \n",
    "#     # map CDS.parent values (= mRNA.id) in attribute column to locus_tag\n",
    "#     ctgDf['attributes'] = ctgDf['attributes'].map(d)\n",
    "    \n",
    "#     # make attribute column into format 'ID=locus_tag' to be readable by proteinortho\n",
    "#     ctgDf['attributes'] = ctgDf['attributes'].apply(lambda x: 'ID=%s;'%x)\n",
    "    \n",
    "#     with open(gffOutLoc, 'w') as outfile:\n",
    "#         ctgDf.to_csv(outfile, sep='\\t', header = False, index = False)\n",
    "#     return ctgDf"
   ]
  },
  {
   "cell_type": "markdown",
   "metadata": {},
   "source": [
    "From the [proteinortho manual](https://www.bioinf.uni-leipzig.de/Software/proteinortho/manual.html):\n",
    "\n",
    ">Please note that you need additional data to include synteny, namely the gene positions in GFF3 format. As Proteinortho is primarily made for proteins, **it will only accept GFF entries of type CDS** (column #3 in the GFF-file). The **attributes column (#9) must contain Name=GENE IDENTIFIER** where GENE IDENTIFIER corresponds to the respective identifier in the FASTA format. It **may not contain a semicolon (;)**! Alternatively, you can also set **ID=GENE IDENTIFIER**.\n",
    "\n",
    "Thus, a new gff file must be re-written that is compatible with these standards."
   ]
  },
  {
   "cell_type": "code",
   "execution_count": null,
   "metadata": {
    "collapsed": true
   },
   "outputs": [],
   "source": [
    "def rewriteGffForProteinortho(gffInLoc, gffOutLoc):\n",
    "    '''Takes a gff file at gffInLoc and rewrites it to conform to\n",
    "    the format required for proteinortho analysis.'''\n",
    "    ctgDf = pd.read_table(gffInLoc, skiprows = 1, header = None, \\\n",
    "                           names = ['seqid', 'source', 'type', 'start', 'end', 'score', 'strand', 'phase', 'attributes'])\n",
    "    \n",
    "    # subset DataFrame to only CDS type (only type required for proteinortho analysis)\n",
    "    ctgDf = ctgDf[ctgDf['type'] == 'CDS']\n",
    "    \n",
    "    # turn attribute column into parent value of the CDS tag (which is the mRNA ID tag, \n",
    "    # consistent with the fasta headers)\n",
    "    parentSearch = re.compile(r'^.*Parent=(.*?)(;|$)')\n",
    "    ctgDf['attributes'] = ctgDf['attributes'].apply(lambda x: parentSearch.match(x).group(1))\n",
    "    \n",
    "    # make attribute column into format 'ID=parent ID tag' to be readable by proteinortho\n",
    "    ctgDf['attributes'] = ctgDf['attributes'].apply(lambda x: 'ID=%s;'%x)\n",
    "    \n",
    "    with open(gffOutLoc, 'w') as outfile:\n",
    "        ctgDf.to_csv(outfile, sep='\\t', header = False, index = False)\n",
    "    return ctgDf"
   ]
  },
  {
   "cell_type": "code",
   "execution_count": null,
   "metadata": {
    "collapsed": true,
    "scrolled": true
   },
   "outputs": [],
   "source": [
    "def getProteinorthoScript():\n",
    "    '''Returns a string containing the commands required to run\n",
    "    proteinortho on the two .faa files in synteny mode'''\n",
    "    s = ''\n",
    "    s += 'cd %s\\n' % PROTEINORTHO_OUT_PATH\n",
    "    s += 'source activate py27\\n'\n",
    "    s += '%s -project=%s -synteny -singles %s/%s %s/%s'\\\n",
    "        % (PROTEINORTHO_PATH, PROJECT_NAME, PROJECT_NAME, H_CTG_FAA, PROJECT_NAME, P_CTG_FAA)\n",
    "    return s\n"
   ]
  },
  {
   "cell_type": "code",
   "execution_count": null,
   "metadata": {
    "collapsed": true
   },
   "outputs": [],
   "source": [
    "def exitIfFileNotInCwd(fileName):\n",
    "    '''Checks if a file is in the current working directory (cwd)\n",
    "    and if not, alerts the user to take action.'''\n",
    "    if not os.path.exists(fileName):\n",
    "        fileOut = fileName\n",
    "        if fileName.endswith('.faa') and os.path.exists(os.path.join(GENOME_PATH, fileName[:-1])): #.fa file exists\n",
    "            fileName = fileName[:-1] # .faa is same as .fa, but simply indicates that amino acids are in the sequence\n",
    "            print(\"Copying %s file to %s\" % (fileOut, os.getcwd()))\n",
    "            shutil.copy2(os.path.join(GENOME_PATH, fileName), os.path.join(os.getcwd(), fileOut))\n",
    "        else:\n",
    "            print(\"Please copy %s file to %s\" % (fileOut, os.getcwd()))   \n",
    "            sys.exit()\n",
    "    return True\n",
    "\n",
    "def writeGffIfDoesntExist(new_gff_file_path, orig_gff_file_path):\n",
    "    '''Writes the new proteinortho-compatible gff file at the\n",
    "    new_gff_file_path if it does not already exist. If the gff at\n",
    "    new_gff_file_path already exists, it will not be re-written.'''\n",
    "    if not os.path.exists(new_gff_file_path):\n",
    "        print('Writing a new proteinortho-compatible gff file at %s based on original at %s' % (new_gff_file_path, orig_gff_file_path))\n",
    "        rewriteGffForProteinortho(orig_gff_file_path, new_gff_file_path)\n",
    "    else:\n",
    "        print('gff file at: %s already exists... no new gff file was generated.' % new_gff_file_path)\n",
    "\n",
    "def setUp():\n",
    "    print(\"Checking for correct files and directories...\")\n",
    "    os.chdir(PROTEINORTHO_OUT_PATH)\n",
    "    if not os.path.isdir(PROJECT_NAME):\n",
    "        print(\"Created directory: \" + os.path.join(os.getcwd(), PROJECT_NAME))\n",
    "        os.mkdir(PROJECT_NAME)\n",
    "    os.chdir(PROJECT_NAME)\n",
    "    \n",
    "    exitIfFileNotInCwd(H_CTG_FAA)\n",
    "    exitIfFileNotInCwd(P_CTG_FAA)\n",
    "    \n",
    "    NEW_H_CTG_GFF_PATH = os.path.join(os.getcwd(), H_CTG_FAA[:-3] + \"gff\")\n",
    "    NEW_P_CTG_GFF_PATH = os.path.join(os.getcwd(), P_CTG_FAA[:-3] + \"gff\")\n",
    "    \n",
    "    writeGffIfDoesntExist(NEW_H_CTG_GFF_PATH, ORIG_H_CTG_GFF_PATH)\n",
    "    writeGffIfDoesntExist(NEW_P_CTG_GFF_PATH, ORIG_P_CTG_GFF_PATH)\n",
    "\n",
    "    exitIfFileNotInCwd(P_CTG_FAA[:-3] + \"gff\")\n",
    "    exitIfFileNotInCwd(H_CTG_FAA[:-3] + \"gff\")\n",
    "    \n",
    "    print(\"Files and directories required for proteinortho analysis exist.\\n\")\n",
    "    \n",
    "    return True\n",
    "    "
   ]
  },
  {
   "cell_type": "code",
   "execution_count": null,
   "metadata": {
    "collapsed": true
   },
   "outputs": [],
   "source": [
    "import subprocess\n",
    "\n",
    "def writeBashScript(bashScriptName, folderPath):\n",
    "    '''Writes the proteinortho bash script with name bashScriptName\n",
    "    and in the folder folderPath'''\n",
    "    os.chdir(folderPath)\n",
    "\n",
    "    outFile = open(bashScriptName, 'w')\n",
    "    outFile.write('#!/bin/bash\\n')\n",
    "    outFile.write(getProteinorthoScript())\n",
    "    outFile.close()\n",
    "\n",
    "def runBashScript(bashScript, folderPath):\n",
    "    '''Runs bashScript and output is piped in real-time to Python'''\n",
    "    os.chdir(folderPath)\n",
    "    cmd = ['bash', bashScript]\n",
    "    p = subprocess.Popen(cmd, stdout=subprocess.PIPE, stderr=subprocess.STDOUT)\n",
    "\n",
    "    for line in iter(p.stdout.readline, b''):\n",
    "        print(line.rstrip())\n",
    "    \n",
    "    return True\n"
   ]
  },
  {
   "cell_type": "code",
   "execution_count": null,
   "metadata": {
    "collapsed": true
   },
   "outputs": [],
   "source": [
    "os.chdir('/home/gamran/genome_analysis/Warrior/Richard/scripts')\n",
    "%run 'file_counting.ipynb'\n",
    "\n",
    "PROTEINORTHO_OUT_PATH_DICT = {'blast-graph': 1,\n",
    "                             'faa': 2,\n",
    "                             'ffadj-graph': 1,\n",
    "                             'gff': 2,\n",
    "                             'phr': 2,\n",
    "                             'pin': 2,\n",
    "                             'poff': 1,\n",
    "                             'poff-graph': 1,\n",
    "                             'proteinortho': 1,\n",
    "                             'proteinortho-graph': 1,\n",
    "                             'psq': 2}\n",
    "\n",
    "def reportDiscrepancies(folderPath, refDict, ignoreExts = []):\n",
    "    '''Checks whether the proteinortho files already exist, according\n",
    "    to the refDict'''\n",
    "    print(\"Checking whether proteinortho files already exist in %s...\" % folderPath)\n",
    "    folder_name = getFolderName(folderPath)\n",
    "    print('Folder reference dictionary:\\n%s' % refDict)\n",
    "    \n",
    "    discrepancies = getDiscrepancies(folderPath, refDict, ignoreExts)\n",
    "    \n",
    "    if discrepancies == '':\n",
    "        print(\"All proteinortho files, according to the reference dictionary, appear to already exist.\")\n",
    "        return False\n",
    "    \n",
    "    print(discrepancies)\n",
    "    return True"
   ]
  },
  {
   "cell_type": "code",
   "execution_count": null,
   "metadata": {
    "collapsed": true
   },
   "outputs": [],
   "source": [
    "def main():\n",
    "    assert(setUp())\n",
    "    fileDiscrepancies = reportDiscrepancies(PROTEINORTHO_OUT_PATH, PROTEINORTHO_OUT_PATH_DICT, ['sh']) \n",
    "    if fileDiscrepancies:\n",
    "        print(\"Not all files supposed to be generated by proteinortho appear to be present. Running proteinortho now (this may take some time)...\")\n",
    "        writeBashScript('run_proteinortho.sh', PROTEINORTHO_OUT_PATH)\n",
    "        runBashScript('run_proteinortho.sh', PROTEINORTHO_OUT_PATH)\n",
    "        print(\"Proteinortho finished running.\")\n",
    "    else:\n",
    "        print(\"\\nProteinortho appears to have been ran previously, therefore it was not run this time.\")\n",
    "    return True"
   ]
  },
  {
   "cell_type": "code",
   "execution_count": null,
   "metadata": {
    "collapsed": true,
    "scrolled": true
   },
   "outputs": [],
   "source": [
    "if __name__ == \"__main__\":\n",
    "    main()"
   ]
  }
 ],
 "metadata": {
  "anaconda-cloud": {},
  "kernelspec": {
   "display_name": "Python [default]",
   "language": "python",
   "name": "python3"
  },
  "language_info": {
   "codemirror_mode": {
    "name": "ipython",
    "version": 3
   },
   "file_extension": ".py",
   "mimetype": "text/x-python",
   "name": "python",
   "nbconvert_exporter": "python",
   "pygments_lexer": "ipython3",
   "version": "3.5.3"
  }
 },
 "nbformat": 4,
 "nbformat_minor": 1
}
