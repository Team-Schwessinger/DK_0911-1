{
 "cells": [
  {
   "cell_type": "markdown",
   "metadata": {},
   "source": [
    "Some notebook to get the swissprot, merops, and, canDP running from funnanotate"
   ]
  },
  {
   "cell_type": "code",
   "execution_count": 1,
   "metadata": {},
   "outputs": [],
   "source": [
    "from __future__ import division\n",
    "import os, subprocess, logging, sys, argparse, inspect, csv, time, re, shutil, datetime, glob, platform, multiprocessing, itertools, hashlib\n",
    "from natsort import natsorted\n",
    "import warnings\n",
    "from Bio import SeqIO\n",
    "with warnings.catch_warnings():\n",
    "    warnings.simplefilter('ignore')\n",
    "    from Bio import SearchIO"
   ]
  },
  {
   "cell_type": "code",
   "execution_count": 2,
   "metadata": {},
   "outputs": [],
   "source": [
    "#some hardcoded reference database path would need to be changed accordingly\n",
    "DB = '/home/benjamin/anaconda3/envs/funannotate/.linuxbrew/Cellar/funannotate/0.3.10/libexec/DB'\n",
    "cpus = 8\n",
    "BUSCO_DB = '/home/benjamin/anaconda3/envs/Genome_assess/lineages/basidiomycota_odb9'"
   ]
  },
  {
   "cell_type": "code",
   "execution_count": 6,
   "metadata": {},
   "outputs": [],
   "source": [
    "p_genome_filtered = 'DK_0911_v04LT_p_ctg'\n",
    "BASE_AA_PATH = '/home/benjamin/genome_assembly/Warrior/DK0911_v04'\n",
    "BASE_A_PATH = '/home/benjamin/genome_assembly/Warrior/genome_v04'\n",
    "OUT_PATH = os.path.join(BASE_AA_PATH, 'protein_annotation',p_genome_filtered, 'funannotate', 'parsed')\n",
    "TMP_PATH = os.path.join(BASE_AA_PATH, 'protein_annotation',p_genome_filtered, 'funannotate', 'tmp')\n",
    "if not os.path.exists(OUT_PATH):\n",
    "    os.makedirs(OUT_PATH)\n",
    "if not os.path.exists(TMP_PATH):\n",
    "    os.makedirs(TMP_PATH)\n",
    "protein_input_file = os.path.join(BASE_A_PATH, '%s.protein.fa' % p_genome_filtered)"
   ]
  },
  {
   "cell_type": "code",
   "execution_count": 4,
   "metadata": {},
   "outputs": [],
   "source": [
    "def SwissProtBlast(input, cpus, evalue, tmpdir, output):\n",
    "    FNULL = open(os.devnull, 'w')\n",
    "    #run blastp against uniprot\n",
    "    blast_tmp = os.path.join(tmpdir, 'uniprot.xml')\n",
    "    blastdb = os.path.join(DB,'uniprot')\n",
    "    subprocess.call(['blastp', '-db', blastdb, '-outfmt', '5', '-out', blast_tmp,'-num_threads', str(cpus), '-max_target_seqs', '1', '-evalue', str(evalue), '-query', input], stdout = FNULL, stderr = FNULL)\n",
    "    #parse results\n",
    "    with open(output, 'w') as out:\n",
    "        with open(blast_tmp, 'rU') as results:\n",
    "            for qresult in SearchIO.parse(results, \"blast-xml\"):\n",
    "                hits = qresult.hits\n",
    "                qlen = qresult.seq_len\n",
    "                ID = qresult.id\n",
    "                num_hits = len(hits)\n",
    "                if num_hits > 0:\n",
    "                    length = hits[0].hsps[0].aln_span\n",
    "                    pident = hits[0].hsps[0].ident_num / float(length)\n",
    "                    if pident < 0.6:\n",
    "                        continue\n",
    "                    diff = length / float(qlen)\n",
    "                    if diff < 0.6:\n",
    "                        continue\n",
    "                    description = hits[0].description.split(\"=\")\n",
    "                    hdescript = description[0].replace(' OS','')\n",
    "                    name = description[2].replace(' PE','').upper()\n",
    "                    #need to do some filtering here of certain words\n",
    "                    bad_words = ['(Fragment)', 'homolog', 'homolog,']\n",
    "                    descript = hdescript.split(' ') #turn string into array, splitting on spaces\n",
    "                    final_desc = [x for x in descript if x not in bad_words]\n",
    "                    final_desc = ' '.join(final_desc)\n",
    "                    #okay, print out annotations for GAG\n",
    "                    if ID.endswith('-T1'):\n",
    "                        geneID = ID.replace('-T1','')\n",
    "                        out.write(\"%s\\tprot_desc\\t%s\\n\" % (geneID,final_desc))     \n",
    "                    else:\n",
    "                        mrnaID = ID\n",
    "                        out.write(\"%s\\tprot_desc\\t%s\\n\" % (mrnaID,final_desc))"
   ]
  },
  {
   "cell_type": "code",
   "execution_count": 5,
   "metadata": {},
   "outputs": [],
   "source": [
    "def MEROPSBlast(input, cpus, evalue, tmpdir, output):\n",
    "    FNULL = open(os.devnull, 'w')\n",
    "    #run blastp against merops\n",
    "    blast_tmp = os.path.join(tmpdir, 'merops.xml')\n",
    "    blastdb = os.path.join(DB,'MEROPS')\n",
    "    subprocess.call(['blastp', '-db', blastdb, '-outfmt', '5', '-out', blast_tmp, '-num_threads', str(cpus), '-max_target_seqs', '1', '-evalue', str(evalue), '-query', input], stdout = FNULL, stderr = FNULL)\n",
    "    #parse results\n",
    "    with open(output, 'w') as out:\n",
    "        with open(blast_tmp, 'rU') as results:\n",
    "            for qresult in SearchIO.parse(results, \"blast-xml\"):\n",
    "                hits = qresult.hits\n",
    "                qlen = qresult.seq_len\n",
    "                ID = qresult.id\n",
    "                num_hits = len(hits)\n",
    "                if num_hits > 0:\n",
    "                    if hits[0].hsps[0].evalue > evalue:\n",
    "                        continue\n",
    "                    sseqid = hits[0].id\n",
    "                    family = hits[0].description\n",
    "                    #okay, print out annotations for GAG\n",
    "                    if ID.endswith('-T1'):\n",
    "                        ID = ID.replace('-T1', '')\n",
    "                    out.write(\"%s\\tnote\\tMEROPS:%s\\n\" % (ID,sseqid))"
   ]
  },
  {
   "cell_type": "code",
   "execution_count": 6,
   "metadata": {},
   "outputs": [],
   "source": [
    "def dbCANsearch(input, cpus, evalue, tmpdir, output):\n",
    "    CAZY = {'CBM': 'Carbohydrate-binding module', 'CE': 'Carbohydrate esterase','GH': 'Glycoside hydrolase', 'GT': 'Glycosyltransferase', 'PL': 'Polysaccharide lyase', 'AA': 'Auxillary activities'}\n",
    "    FNULL = open(os.devnull, 'w')\n",
    "    #run hmmerscan\n",
    "    HMM = os.path.join(DB, 'dbCAN.hmm')\n",
    "    dbCAN_out = os.path.join(tmpdir, 'dbCAN.txt')\n",
    "    dbCAN_filtered = os.path.join(tmpdir, 'dbCAN.filtered.txt')\n",
    "    subprocess.call(['hmmscan', '--domtblout', dbCAN_out, '--cpu', str(cpus), '-E', str(evalue), HMM, input], stdout = FNULL, stderr = FNULL)\n",
    "    #now parse results\n",
    "    with open(output, 'w') as out:\n",
    "        with open(dbCAN_filtered, 'w') as filtered:\n",
    "            filtered.write(\"#HMM_family\\tHMM_len\\tQuery_ID\\tQuery_len\\tE-value\\tHMM_start\\tHMM_end\\tQuery_start\\tQuery_end\\tCoverage\\n\")\n",
    "            with open(dbCAN_out, 'rU') as results:\n",
    "                for qresult in SearchIO.parse(results, \"hmmscan3-domtab\"):\n",
    "                    query_length = qresult.seq_len\n",
    "                    hits = qresult.hits\n",
    "                    num_hits = len(hits)\n",
    "                    if num_hits > 0:\n",
    "                        for i in range(0,num_hits):\n",
    "                            hit_evalue = hits[i].evalue\n",
    "                            if hit_evalue > evalue:\n",
    "                                continue\n",
    "                            hit = hits[i].id\n",
    "                            hmmLen = hits[i].seq_len\n",
    "                            hmm_aln = int(hits[i].hsps[0].hit_end) - int(hits[i].hsps[0].hit_start)\n",
    "                            coverage = hmm_aln / float(hmmLen)\n",
    "                            if coverage < 0.45:\n",
    "                                continue\n",
    "                            query = hits[i].query_id\n",
    "                            filtered.write(\"%s\\t%s\\t%s\\t%s\\t%s\\t%s\\t%s\\t%s\\t%s\\t%f\\n\" % (hit, hmmLen, query, query_length, hit_evalue, hits[i].hsps[0].hit_start, hits[i].hsps[0].hit_end, hits[i].hsps[0].query_start, hits[i].hsps[0].query_end, coverage))\n",
    "                            #get type of hit for writing the annotation note\n",
    "                            type = ''.join(i for i in hit if not i.isdigit())\n",
    "                            descript = CAZY.get(type)\n",
    "                            if query.endswith('-T1'):\n",
    "                                query = query.replace('-T1', '')\n",
    "                            out.write(\"%s\\tnote\\tCAZy:%s\\n\" % (query, hit))"
   ]
  },
  {
   "cell_type": "code",
   "execution_count": 4,
   "metadata": {},
   "outputs": [],
   "source": [
    "def runBUSCO(input, DB, cpus, tmpdir, output):\n",
    "    FNULL = open(os.devnull, 'w')\n",
    "    #run busco in protein mapping mode\n",
    "    BUSCO = '/home/benjamin/anaconda3/envs/Genome_assess/bin/run_busco'\n",
    "    proteins = input.split('/')[-1]\n",
    "    #subprocess.call([BUSCO, '-i', input, '-m', 'prot', '-l', DB, '-o', proteins, '-c', str(cpus), '-f'], cwd = tmpdir, stdout = FNULL, stderr = FNULL)\n",
    "    #now parse output and write to annotation file\n",
    "    with open(output, 'w') as out:\n",
    "        with open(os.path.join(tmpdir, 'run_%s' % proteins, 'full_table_%s.tsv' % proteins), 'rU') as busco:\n",
    "            for line in busco:\n",
    "                col = line.split('\\t')\n",
    "                if col[0].startswith('#'):\n",
    "                    continue\n",
    "                if col[1] == 'Complete' or col[1] == 'Duplicated':\n",
    "                    if col[2].endswith('-T1'):\n",
    "                        ID = col[2].replace('-T1', '')\n",
    "                    else:\n",
    "                        ID = col[2]\n",
    "                    out.write(\"%s\\tnote\\tBUSCO:%s\\n\" % (ID, col[0]))"
   ]
  },
  {
   "cell_type": "code",
   "execution_count": 8,
   "metadata": {},
   "outputs": [],
   "source": [
    "#this doesn't really fit here as it generates a tablist file, but hey\n",
    "def get_names_from_fasta(input, output):\n",
    "    with open(output, 'w') as out_fh:\n",
    "        for seq in SeqIO.parse(input, 'fasta'):\n",
    "            out_fh.write('%s\\tSignalP3\\n' % seq.id)"
   ]
  },
  {
   "cell_type": "code",
   "execution_count": null,
   "metadata": {},
   "outputs": [],
   "source": [
    "blast_out = os.path.join(OUT_PATH, 'annotations.swissprot.txt')\n",
    "SwissProtBlast(protein_input_file, cpus, 1e-5, TMP_PATH,blast_out)"
   ]
  },
  {
   "cell_type": "code",
   "execution_count": null,
   "metadata": {},
   "outputs": [],
   "source": [
    "dbCAN_out = os.path.join(OUT_PATH, 'annotations.dbCAN.txt')\n",
    "dbCANsearch(protein_input_file, cpus, 1e-17, TMP_PATH, dbCAN_out)"
   ]
  },
  {
   "cell_type": "code",
   "execution_count": null,
   "metadata": {},
   "outputs": [],
   "source": [
    "merops_out = os.path.join(OUT_PATH, 'annotations.merops.txt')\n",
    "MEROPSBlast(protein_input_file, cpus, 1e-5, TMP_PATH, merops_out)"
   ]
  },
  {
   "cell_type": "code",
   "execution_count": 7,
   "metadata": {},
   "outputs": [
    {
     "name": "stderr",
     "output_type": "stream",
     "text": [
      "/home/benjamin/anaconda3/lib/python3.5/site-packages/ipykernel/__main__.py:9: DeprecationWarning: 'U' mode is deprecated\n"
     ]
    }
   ],
   "source": [
    "busco_out = os.path.join(OUT_PATH, 'annotations.busco.txt')\n",
    "runBUSCO(protein_input_file, BUSCO_DB, cpus, TMP_PATH, busco_out )"
   ]
  },
  {
   "cell_type": "code",
   "execution_count": 13,
   "metadata": {},
   "outputs": [],
   "source": [
    "#doing singalP3 tabfiles ran this twice for p and h.\n",
    "p_secretome_fn = '/home/benjamin/genome_assembly/Warrior/DK0911/Secretome/DK_0911_v04_h_ctg.protein.fa'\n",
    "p_secretome_out_fn = '/home/benjamin/genome_assembly/Warrior/DK0911_v04/protein_annotation/DK_0911_v04LT_h_ctg/combined/DK_0911_v04LT_h_ctg.SignalP3.tablist'\n",
    "get_names_from_fasta(p_secretome_fn, p_secretome_out_fn)"
   ]
  },
  {
   "cell_type": "code",
   "execution_count": null,
   "metadata": {},
   "outputs": [],
   "source": []
  }
 ],
 "metadata": {
  "kernelspec": {
   "display_name": "Python [default]",
   "language": "python",
   "name": "python3"
  },
  "language_info": {
   "codemirror_mode": {
    "name": "ipython",
    "version": 3
   },
   "file_extension": ".py",
   "mimetype": "text/x-python",
   "name": "python",
   "nbconvert_exporter": "python",
   "pygments_lexer": "ipython3",
   "version": "3.5.3"
  }
 },
 "nbformat": 4,
 "nbformat_minor": 2
}
