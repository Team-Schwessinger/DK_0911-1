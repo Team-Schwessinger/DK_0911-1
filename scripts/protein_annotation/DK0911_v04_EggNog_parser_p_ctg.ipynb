{
 "cells": [
  {
   "cell_type": "markdown",
   "metadata": {},
   "source": [
    "Idea is to read in the annotation file of emapper.py and pull out the annotations.\n",
    "This was run like:\n",
    "python /home/benjamin/anaconda3/envs/funannotate/eggnog-mapper-0.99.2/emapper.py -i ../DK_0911_v01_p_ctg.proteiniprs.fa -d euk --output DK_0911_v01_p_ctg --cpu 12\n"
   ]
  },
  {
   "cell_type": "code",
   "execution_count": 2,
   "metadata": {
    "collapsed": true
   },
   "outputs": [],
   "source": [
    "import pandas as pd\n",
    "import os\n",
    "import re\n",
    "from Bio import SeqIO\n",
    "import pysam\n",
    "from Bio.SeqRecord import SeqRecord\n",
    "from pybedtools import BedTool\n",
    "import numpy as np\n",
    "import pybedtools\n",
    "import time\n",
    "import matplotlib.pyplot as plt\n",
    "import sys\n",
    "import subprocess\n",
    "import shutil"
   ]
  },
  {
   "cell_type": "code",
   "execution_count": 61,
   "metadata": {
    "collapsed": true
   },
   "outputs": [],
   "source": [
    "p_genome = 'DK_0911_v01_p_ctg'\n",
    "p_genome_filtered = 'DK_0911_v04LT_p_ctg'\n",
    "BASE_FOLDER = '/home/benjamin/genome_assembly/Warrior/annotation/DK_0911_v01_p_ctg/eggnog/'\n",
    "EGGNOG_BLAST_FILE = '%s.emapper.annotations' % (p_genome)\n",
    "#EGGNOG_DIAMON_FILE = '%s_diamond.emapper.annotations' % (p_genome)\n",
    "BASE_AA_PATH = '/home/benjamin/genome_assembly/Warrior/DK0911_v04'\n",
    "BASE_A_PATH = '/home/benjamin/genome_assembly/Warrior/genome_v04'\n",
    "OUT_PATH = os.path.join(BASE_AA_PATH, 'protein_annotation',p_genome_filtered, 'eggnog-mapper', 'parsed')\n",
    "EGGNOG_PATH = OUT_PATH\n",
    "INTERPRO_PATH = os.path.join(BASE_AA_PATH, 'protein_annotation',p_genome_filtered, 'interpro', 'parsed')\n",
    "FUN_PATH = os.path.join(BASE_AA_PATH, 'protein_annotation',p_genome_filtered, 'funannotate', 'parsed')\n",
    "COMB_OUT_PATH = os.path.join(BASE_AA_PATH, 'protein_annotation',p_genome_filtered, 'combined')\n",
    "if not os.path.exists(OUT_PATH):\n",
    "    os.makedirs(OUT_PATH)\n",
    "if not os.path.exists(OUT_PATH_COMB):\n",
    "    os.makedirs(OUT_PATH_COMB)\n",
    "if not os.path.exists(OUT_PATH):\n",
    "    os.makedirs(OUT_PATH)\n",
    "if not os.path.exists(COMB_OUT_PATH):\n",
    "    os.makedirs(COMB_OUT_PATH)\n",
    "if not os.path.exists(FUN_PATH):\n",
    "    print('Please run funnanotate notebook before running the last steps of this notebook.')\n",
    "if not os.path.exists(INTERPRO_PATH):\n",
    "    print('Please run the interpro parser notebook before running the last stpes of this notebook.')"
   ]
  },
  {
   "cell_type": "code",
   "execution_count": 9,
   "metadata": {
    "collapsed": true
   },
   "outputs": [],
   "source": [
    "#pull out all proteins that are in the final assembly\n",
    "p_protein_list = []\n",
    "protein_fa_file = [x for x in os.listdir(BASE_A_PATH) if p_genome_filtered in x and x.endswith('.protein.fa')][0]\n",
    "for protein in SeqIO.parse(os.path.join(BASE_A_PATH, protein_fa_file) , 'fasta'):\n",
    "    p_protein_list.append(protein.id)"
   ]
  },
  {
   "cell_type": "code",
   "execution_count": 13,
   "metadata": {
    "collapsed": true
   },
   "outputs": [],
   "source": [
    "eggnog_blast_header = 'query_name seed_eggNOG_ortholog seed_ortholog_evalue seed_ortholog_score predicted_gene_name \\\n",
    "GO_terms KEGG_pathways Annotation_tax_scope OGs bestOG|evalue|score COG cat eggNOG annot'.split(' ')"
   ]
  },
  {
   "cell_type": "code",
   "execution_count": 30,
   "metadata": {
    "collapsed": true
   },
   "outputs": [],
   "source": [
    "eggnog_blast_df = pd.read_csv(os.path.join(BASE_FOLDER, EGGNOG_BLAST_FILE), sep ='\\t', header=None, names=eggnog_blast_header, skiprows=3)"
   ]
  },
  {
   "cell_type": "code",
   "execution_count": 31,
   "metadata": {},
   "outputs": [
    {
     "data": {
      "text/plain": [
       "(10205, 14)"
      ]
     },
     "execution_count": 31,
     "metadata": {},
     "output_type": "execute_result"
    }
   ],
   "source": [
    "eggnog_blast_df.shape"
   ]
  },
  {
   "cell_type": "code",
   "execution_count": 32,
   "metadata": {},
   "outputs": [
    {
     "data": {
      "text/plain": [
       "query_name                                                   DK0911_18058\n",
       "seed_eggNOG_ortholog                                        5297.EFP84543\n",
       "seed_ortholog_evalue                                             1.7e-264\n",
       "seed_ortholog_score                                                 872.3\n",
       "predicted_gene_name                                                  AAT2\n",
       "GO_terms                GO:0003674,GO:0003824,GO:0004069,GO:0005575,GO...\n",
       "KEGG_pathways           map00250,map00270,map00330,map00350,map00360,m...\n",
       "Annotation_tax_scope                                            fuNOG[21]\n",
       "OGs                     0928H@basNOG,0PGES@fuNOG,12PGV@opiNOG,COG1448@...\n",
       "bestOG|evalue|score                                KOG1411|1.7e-199|668.9\n",
       "COG                                                                     E\n",
       "cat                                            Aspartate aminotransferase\n",
       "eggNOG                                                                NaN\n",
       "annot                                                                 NaN\n",
       "Name: 1, dtype: object"
      ]
     },
     "execution_count": 32,
     "metadata": {},
     "output_type": "execute_result"
    }
   ],
   "source": [
    "eggnog_blast_df.iloc[1,:]"
   ]
  },
  {
   "cell_type": "code",
   "execution_count": 33,
   "metadata": {
    "collapsed": true
   },
   "outputs": [],
   "source": [
    "eggnog_blast_df.fillna(0, inplace =True)"
   ]
  },
  {
   "cell_type": "code",
   "execution_count": 34,
   "metadata": {},
   "outputs": [],
   "source": [
    "#here filter out all the proteins that are TE related and not in genome version v04 \n",
    "eggnog_blast_df = eggnog_blast_df[eggnog_blast_df.query_name.isin(p_protein_list)].reset_index(drop=True)"
   ]
  },
  {
   "cell_type": "code",
   "execution_count": 35,
   "metadata": {},
   "outputs": [
    {
     "data": {
      "text/plain": [
       "(7295, 14)"
      ]
     },
     "execution_count": 35,
     "metadata": {},
     "output_type": "execute_result"
    }
   ],
   "source": [
    "eggnog_blast_df.shape"
   ]
  },
  {
   "cell_type": "code",
   "execution_count": 36,
   "metadata": {},
   "outputs": [
    {
     "data": {
      "text/plain": [
       "Index(['query_name', 'seed_eggNOG_ortholog', 'seed_ortholog_evalue',\n",
       "       'seed_ortholog_score', 'predicted_gene_name', 'GO_terms',\n",
       "       'KEGG_pathways', 'Annotation_tax_scope', 'OGs', 'bestOG|evalue|score',\n",
       "       'COG', 'cat', 'eggNOG', 'annot'],\n",
       "      dtype='object')"
      ]
     },
     "execution_count": 36,
     "metadata": {},
     "output_type": "execute_result"
    }
   ],
   "source": [
    "eggnog_blast_df.columns"
   ]
  },
  {
   "cell_type": "code",
   "execution_count": 37,
   "metadata": {
    "collapsed": true
   },
   "outputs": [],
   "source": [
    "#pick all annotation columns. One at a time and write them out as tab file or annotations files. The later can be used\n",
    "#to annotate gff files using gag.py\n",
    "DBs = [x for x in eggnog_blast_df.columns.tolist()[4:] if x not in ['GO_terms','KEGG_pathways', 'OGs','bestOG|evalue|score' ] ]\n",
    "eggnog_blast_df['note'] = 'note'\n",
    "for db in DBs:\n",
    "    if len(eggnog_blast_df[eggnog_blast_df[db] !=0]) > 0:\n",
    "        eggnog_blast_df[eggnog_blast_df[db] !=0].loc[:,['query_name',db]]\\\n",
    "        .to_csv(os.path.join(OUT_PATH, db+'_terms.tab'), sep='\\t', header =None, index = None)\n",
    "        eggnog_blast_df[eggnog_blast_df[db] !=0].loc[:,['query_name', 'note', db]]\\\n",
    "        .to_csv(os.path.join(OUT_PATH, 'annotations.' +db+'.txt'), sep='\\t', header =None, index = None)\n",
    "    \n",
    "    "
   ]
  },
  {
   "cell_type": "code",
   "execution_count": 38,
   "metadata": {
    "collapsed": true
   },
   "outputs": [],
   "source": [
    "#now look after the remaining columns which have potentially multiple entries as values eg. GOterm, GOterm, GOterm\n",
    "#those values need to be split into a list and this made into a new dataframe before writting it out again.\n",
    "eggnog_blast_df = pd.read_csv(os.path.join(BASE_FOLDER, EGGNOG_BLAST_FILE), sep ='\\t', header=None, names=eggnog_blast_header, skiprows=3)\n",
    "eggnog_blast_df = eggnog_blast_df[eggnog_blast_df.query_name.isin(p_protein_list)].reset_index(drop=True)\n",
    "#['GO_terms','KEGG_pathways', 'OGs']\n",
    "for db in ['GO_terms','KEGG_pathways', 'OGs']:\n",
    "    eggnog_blast_df[db] = eggnog_blast_df[db].str.split(',')\n",
    "    all_term_list = []\n",
    "    all_query_list = []\n",
    "    eggnog_blast_df[db].fillna(0, inplace=True)\n",
    "    for key in eggnog_blast_df[eggnog_blast_df[db] != 0 ].index:\n",
    "        for term in eggnog_blast_df.loc[key,db]:\n",
    "            all_term_list.append(term)\n",
    "            all_query_list.append(eggnog_blast_df.loc[key,'query_name'])\n",
    "    tmp_df = pd.DataFrame([all_query_list, all_term_list]).T\n",
    "    tmp_df.rename(columns={0:'query_name', 1:'DB_ID'}, inplace=True)\n",
    "    tmp_df.to_csv(os.path.join(OUT_PATH, db+'_terms.tab'), sep='\\t', header =None, index = None)\n",
    "    tmp_df['note'] = 'note'\n",
    "    tmp_df.loc[:, ['query_name', 'note', 'DB_ID']].to_csv(os.path.join(OUT_PATH, 'annotations.' +db+'.txt'), sep='\\t', header =None, index = None)"
   ]
  },
  {
   "cell_type": "code",
   "execution_count": 45,
   "metadata": {
    "collapsed": true
   },
   "outputs": [],
   "source": [
    "#combine KEGG annotations, and GO terms\n",
    "egg_GO_file = [os.path.join(OUT_PATH, x) for x in os.listdir(OUT_PATH) if x == 'annotations.GO_terms.txt'][0] \n",
    "egg_KEGG_file = [os.path.join(OUT_PATH, x) for x in os.listdir(OUT_PATH) if x == 'annotations.KEGG_pathways.txt'][0]\n",
    "interpro_GO_file = [os.path.join(INTERPRO_PATH, x)\\\n",
    "                      for x in os.listdir(INTERPRO_PATH) if x == 'annotations.GO.txt'][0]\n",
    "interpro_KEGG_file = [os.path.join(INTERPRO_PATH, x)\\\n",
    "                      for x in os.listdir(INTERPRO_PATH) if x == 'annotations.Pathway.txt'][0]"
   ]
  },
  {
   "cell_type": "code",
   "execution_count": 46,
   "metadata": {
    "collapsed": true
   },
   "outputs": [],
   "source": [
    "GO_df = pd.concat([pd.read_csv(egg_GO_file, header=None, sep='\\t'), pd.read_csv(interpro_GO_file, header=None, sep='\\t')])"
   ]
  },
  {
   "cell_type": "code",
   "execution_count": 47,
   "metadata": {
    "collapsed": true
   },
   "outputs": [],
   "source": [
    "GO_df.drop_duplicates().to_csv(os.path.join(OUT_PATH, 'annotations.GO_combined.txt'), header=None, index =None, sep ='\\t')"
   ]
  },
  {
   "cell_type": "code",
   "execution_count": 48,
   "metadata": {
    "collapsed": true
   },
   "outputs": [],
   "source": [
    "interpro_pathway_df = pd.read_csv(interpro_KEGG_file, header = None, sep='\\t', names=['query_name','note', 'DB'])"
   ]
  },
  {
   "cell_type": "code",
   "execution_count": 49,
   "metadata": {},
   "outputs": [
    {
     "data": {
      "text/html": [
       "<div>\n",
       "<style>\n",
       "    .dataframe thead tr:only-child th {\n",
       "        text-align: right;\n",
       "    }\n",
       "\n",
       "    .dataframe thead th {\n",
       "        text-align: left;\n",
       "    }\n",
       "\n",
       "    .dataframe tbody tr th {\n",
       "        vertical-align: top;\n",
       "    }\n",
       "</style>\n",
       "<table border=\"1\" class=\"dataframe\">\n",
       "  <thead>\n",
       "    <tr style=\"text-align: right;\">\n",
       "      <th></th>\n",
       "      <th>query_name</th>\n",
       "      <th>note</th>\n",
       "      <th>DB</th>\n",
       "    </tr>\n",
       "  </thead>\n",
       "  <tbody>\n",
       "    <tr>\n",
       "      <th>0</th>\n",
       "      <td>DK0911_03949</td>\n",
       "      <td>note</td>\n",
       "      <td>Reactome: R-HSA-168276</td>\n",
       "    </tr>\n",
       "    <tr>\n",
       "      <th>1</th>\n",
       "      <td>DK0911_03949</td>\n",
       "      <td>note</td>\n",
       "      <td>Reactome: R-HSA-3108214</td>\n",
       "    </tr>\n",
       "    <tr>\n",
       "      <th>2</th>\n",
       "      <td>DK0911_03949</td>\n",
       "      <td>note</td>\n",
       "      <td>Reactome: R-HSA-159236</td>\n",
       "    </tr>\n",
       "    <tr>\n",
       "      <th>3</th>\n",
       "      <td>DK0911_03949</td>\n",
       "      <td>note</td>\n",
       "      <td>Reactome: R-HSA-4615885</td>\n",
       "    </tr>\n",
       "    <tr>\n",
       "      <th>4</th>\n",
       "      <td>DK0911_03949</td>\n",
       "      <td>note</td>\n",
       "      <td>Reactome: R-HSA-170822</td>\n",
       "    </tr>\n",
       "  </tbody>\n",
       "</table>\n",
       "</div>"
      ],
      "text/plain": [
       "     query_name  note                       DB\n",
       "0  DK0911_03949  note   Reactome: R-HSA-168276\n",
       "1  DK0911_03949  note  Reactome: R-HSA-3108214\n",
       "2  DK0911_03949  note   Reactome: R-HSA-159236\n",
       "3  DK0911_03949  note  Reactome: R-HSA-4615885\n",
       "4  DK0911_03949  note   Reactome: R-HSA-170822"
      ]
     },
     "execution_count": 49,
     "metadata": {},
     "output_type": "execute_result"
    }
   ],
   "source": [
    "interpro_pathway_df.head()"
   ]
  },
  {
   "cell_type": "code",
   "execution_count": 50,
   "metadata": {
    "collapsed": true
   },
   "outputs": [],
   "source": [
    "interpro_KEGG_df = interpro_pathway_df[interpro_pathway_df.DB.str.contains('KEGG')]"
   ]
  },
  {
   "cell_type": "code",
   "execution_count": 51,
   "metadata": {},
   "outputs": [
    {
     "name": "stderr",
     "output_type": "stream",
     "text": [
      "/home/benjamin/anaconda3/lib/python3.5/site-packages/ipykernel/__main__.py:1: FutureWarning: currently extract(expand=None) means expand=False (return Index/Series/DataFrame) but in a future version of pandas this will be changed to expand=True (return DataFrame)\n",
      "  if __name__ == '__main__':\n",
      "/home/benjamin/anaconda3/lib/python3.5/site-packages/ipykernel/__main__.py:1: SettingWithCopyWarning: \n",
      "A value is trying to be set on a copy of a slice from a DataFrame.\n",
      "Try using .loc[row_indexer,col_indexer] = value instead\n",
      "\n",
      "See the caveats in the documentation: http://pandas.pydata.org/pandas-docs/stable/indexing.html#indexing-view-versus-copy\n",
      "  if __name__ == '__main__':\n"
     ]
    }
   ],
   "source": [
    "interpro_KEGG_df['new_KEGG'] = 'map'+interpro_KEGG_df.DB.str.extract(r'KEGG: ([0-9]+)+')"
   ]
  },
  {
   "cell_type": "code",
   "execution_count": 53,
   "metadata": {
    "collapsed": true
   },
   "outputs": [],
   "source": [
    "KEGG_df = pd.concat([interpro_KEGG_df.loc[:,['query_name', 'note', 'new_KEGG']],\\\n",
    "                     pd.read_csv(egg_KEGG_file, header=None, sep='\\t', names=['query_name','note', 'new_KEGG'])])"
   ]
  },
  {
   "cell_type": "code",
   "execution_count": 54,
   "metadata": {
    "collapsed": true
   },
   "outputs": [],
   "source": [
    "KEGG_df.drop_duplicates().to_csv(os.path.join(OUT_PATH, 'annotations.KEGG_combined.txt'), header=None, index =None, sep ='\\t')"
   ]
  },
  {
   "cell_type": "code",
   "execution_count": 56,
   "metadata": {
    "collapsed": true
   },
   "outputs": [],
   "source": [
    "interpro_pathway_df[~interpro_pathway_df.DB.str.contains('KEGG')].to_csv(os.path.join(INTERPRO_PATH,\\\n",
    "                                                                         'annotations.Pathway_no_KEGG.txt'), header=None, index=None, sep='\\t')"
   ]
  },
  {
   "cell_type": "code",
   "execution_count": 104,
   "metadata": {
    "collapsed": true
   },
   "outputs": [],
   "source": [
    "#filter out other annotations files including busco, dbCAN, merops, swissprot\n",
    "funannotate_files = [os.path.join(FUN_PATH, x) for x in os.listdir(FUN_PATH) \\\n",
    "                    if x.startswith('annotations') and (x.endswith('busco.txt') or x.endswith('dbCAN.txt') or x.endswith('merops.txt') or x.endswith('swissprot.txt'))]\n",
    "#now get all eggnog files to write out the annotations as 'gene ID;ID'\n",
    "eggnog_files = [os.path.join(EGGNOG_PATH, x) for x in os.listdir(EGGNOG_PATH) if x.startswith('annotations')\\\n",
    "                and ('GO_terms' not in x and 'KEGG_pathways' not in x)]\n",
    "interpro_files = [os.path.join(INTERPRO_PATH, x) for x in os.listdir(INTERPRO_PATH) if x.startswith('annotations')\\\n",
    "                 and ('.GO.' not in x and '.Pathway.' not in x)]"
   ]
  },
  {
   "cell_type": "code",
   "execution_count": 107,
   "metadata": {
    "collapsed": true
   },
   "outputs": [],
   "source": [
    "#do the writing out as 'gene \\t ID;ID'\n",
    "for file in (funannotate_files + eggnog_files + interpro_files):\n",
    "    tmp_df = pd.read_csv(file, header = None, sep ='\\t', names=['query_name', 'note', 'annotation'])\n",
    "    tmp_dict = {}\n",
    "    #now do a quick check if the annotations  contains some DATABASE:ID description\n",
    "    #if that is the case remove the database name.\n",
    "    if any(':' in x for x in tmp_df['annotation']):\n",
    "        for name, group in tmp_df.groupby('query_name'):\n",
    "            tmp_list = group['annotation'].tolist()\n",
    "            for index, value in enumerate(tmp_list):\n",
    "                if ':' in value:\n",
    "                    tmp_list[index] = value[value.index(':')+1:].lstrip()\n",
    "            tmp_dict[name] = ';'.join(tmp_list)\n",
    "    else:\n",
    "        for name, group in tmp_df.groupby('query_name'):\n",
    "            tmp_dict[name] = ';'.join(group['annotation'].tolist())\n",
    "    fn = file.split('/')[-1]\n",
    "    fn = fn.replace('annotations', p_genome_filtered)\n",
    "    fn = fn.replace('.txt', '.tablist')\n",
    "    fn = os.path.join(COMB_OUT_PATH, fn)\n",
    "    tmp_fn = open(fn, 'w')\n",
    "    for key, value in tmp_dict.items():\n",
    "        print('%s\\t%s' %(key, value) ,file=tmp_fn)\n",
    "    tmp_fn.close()"
   ]
  },
  {
   "cell_type": "code",
   "execution_count": null,
   "metadata": {},
   "outputs": [],
   "source": []
  }
 ],
 "metadata": {
  "kernelspec": {
   "display_name": "Python [default]",
   "language": "python",
   "name": "python3"
  },
  "language_info": {
   "codemirror_mode": {
    "name": "ipython",
    "version": 3
   },
   "file_extension": ".py",
   "mimetype": "text/x-python",
   "name": "python",
   "nbconvert_exporter": "python",
   "pygments_lexer": "ipython3",
   "version": "3.5.3"
  }
 },
 "nbformat": 4,
 "nbformat_minor": 2
}
