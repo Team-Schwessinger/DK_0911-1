{
 "cells": [
  {
   "cell_type": "code",
   "execution_count": 1,
   "metadata": {},
   "outputs": [
    {
     "name": "stderr",
     "output_type": "stream",
     "text": [
      "/home/benjamin/anaconda3/lib/python3.5/site-packages/Bio/SearchIO/__init__.py:211: BiopythonExperimentalWarning: Bio.SearchIO is an experimental submodule which may undergo significant changes prior to its future official release.\n",
      "  BiopythonExperimentalWarning)\n"
     ]
    }
   ],
   "source": [
    "%matplotlib inline\n",
    "import pandas as pd\n",
    "import os\n",
    "import re\n",
    "from Bio import SeqIO\n",
    "import pysam\n",
    "from Bio.SeqRecord import SeqRecord\n",
    "from Bio.Seq import Seq\n",
    "from Bio import SearchIO\n",
    "from pybedtools import BedTool\n",
    "import numpy as np\n",
    "import pybedtools\n",
    "import multiprocessing\n",
    "import re\n",
    "import time\n",
    "import matplotlib.pyplot as plt\n",
    "import json\n",
    "from ipywidgets import widgets\n",
    "from IPython.display import display\n",
    "from sklearn.externals.joblib import Parallel, delayed\n",
    "import seaborn as sns\n",
    "import matplotlib\n",
    "import subprocess"
   ]
  },
  {
   "cell_type": "code",
   "execution_count": 11,
   "metadata": {},
   "outputs": [],
   "source": [
    "DK0911_genome_folder = '/home/benjamin/genome_assembly/Warrior/genome_v04'\n",
    "DK0911_GFF_file = os.path.join(DK0911_genome_folder, 'DK_0911_v04_ph_ctg.anno.gff3')\n",
    "DK0911_secretome_folder = '/home/benjamin/genome_assembly/Warrior/DK0911/Secretome'\n",
    "DK0911_annotation_folder_pcontigs = '/home/benjamin/genome_assembly/Warrior/DK0911_v04/protein_annotation/DK_0911_v04LT_p_ctg/combined'\n",
    "DK0911_annotation_folder_hcontigs = '/home/benjamin/genome_assembly/Warrior/DK0911_v04/protein_annotation/DK_0911_v04LT_h_ctg/combined'\n",
    "DK0911_output_folder = '/home/benjamin/genome_assembly/Warrior/DK0911_v04/comp_orthology/DK0911_annotations'"
   ]
  },
  {
   "cell_type": "code",
   "execution_count": 30,
   "metadata": {},
   "outputs": [],
   "source": [
    "#from https://github.com/BenjaminSchwessinger/AvrYr_hunting/blob/master/fisher/Pull_out_gene_beds_and_gffs.ipynb\n",
    "#just a quick function to convert the gff locus tag to a bed file for later convinience\n",
    "def gff_locus_tag_to_bed6(gff_fn, bed_fn, locID_list, gff=False):\n",
    "    \"\"\"\n",
    "    This function converts a gff file with locus_tags to a bed 6 format using\n",
    "    the locus tag id. The bed out file will be for genes only.\n",
    "    Input: Filename form gff file.\n",
    "           Bed out file name.\n",
    "           list of locusID_tags for subsetting.\n",
    "           If gff is True also put out the gff file. This is pretty slow for now.\n",
    "    Output: File converted to bed. Same filename as gff file just ending in bed.\n",
    "            And a subsetted gff file as well.\"\"\"\n",
    "    #now compile the pattern for search the locusTagID in the gff file.\n",
    "    loc_ID_pattern = re.compile(r'locus_tag=([^;]*)')\n",
    "    ID_pattern = re.compile(r'ID=(.*);Parent')\n",
    "    #write test if directory of bed_fn exists\n",
    "    #write function to check if bed_fn already exists\n",
    "    \n",
    "    #prepare for gff parsing as well\n",
    "    ids_to_keep = []\n",
    "    \n",
    "    #lets handle the bed file first\n",
    "    with open(gff_fn, 'r') as gff_fh:\n",
    "        with open(bed_fn, 'w') as bed_fh:\n",
    "            for line in gff_fh:\n",
    "                line = line.rstrip()\n",
    "                e = line.split('\\t')\n",
    "                if e[2] == 'gene':\n",
    "                    loc_ID = re.findall(loc_ID_pattern, line)[0]\n",
    "                    #this now subsects the outfile for members included in the locus_tag list\n",
    "                    if loc_ID in locID_list:\n",
    "                        print('%s\\t%s\\t%s\\t%s\\t%s\\t%s' % (e[0], int(e[3]) - 1 , e[4], loc_ID, e[7], e[6]), file=bed_fh)\n",
    "                #here we populate the list of ids we want to keep\n",
    "                elif e[2] == 'mRNA':\n",
    "                    loc_ID = re.findall(loc_ID_pattern, line)[0]\n",
    "                    if loc_ID in locID_list:\n",
    "                        ids_to_keep.append(re.findall(ID_pattern, line)[0])                    \n",
    "                else:\n",
    "                    continue\n",
    "    if gff == True:\n",
    "        with open(gff_fn, 'r') as gff_fh:\n",
    "            with open(bed_fn.replace('.bed', '.gff3'), 'w') as gff_out_fh:\n",
    "                for line in gff_fh:\n",
    "                    line = line.rstrip()\n",
    "                    e = line.split('\\t')\n",
    "                    if e[2] == 'gene':\n",
    "                        loc_ID = re.findall(loc_ID_pattern, e[8])[0]\n",
    "                        if loc_ID in locID_list:\n",
    "                            print(line, file=gff_out_fh)   \n",
    "                    elif any([re.search(r'\\b%s\\b' % x, e[8]) \\\n",
    "                            for x in ids_to_keep]):\n",
    "                          print(line, file=gff_out_fh) \n",
    "\n",
    "                    else:\n",
    "                        continue"
   ]
  },
  {
   "cell_type": "markdown",
   "metadata": {},
   "source": [
    "### Example of output file formate Pst_104E_v13_ph_ctg.secretome.gene.bed"
   ]
  },
  {
   "cell_type": "code",
   "execution_count": 4,
   "metadata": {},
   "outputs": [
    {
     "name": "stdout",
     "output_type": "stream",
     "text": [
      "DK_0911_v04_h_ctg.EffectorP2.0.fa  DK_0911_v04_p_ctg.protein.fa\n",
      "DK_0911_v04_h_ctg.protein.fa\t   README.txt\n",
      "DK_0911_v04_p_ctg.EffectorP2.0.fa\n"
     ]
    }
   ],
   "source": [
    "!ls /home/benjamin/genome_assembly/Warrior/DK0911/Secretome"
   ]
  },
  {
   "cell_type": "code",
   "execution_count": 10,
   "metadata": {},
   "outputs": [],
   "source": [
    "###now get the annotations of h\n",
    "effectorp2_h = [x.id for x in SeqIO.parse(os.path.join('/home/benjamin/genome_assembly/Warrior/DK0911/Secretome',\\\n",
    "                                            'DK_0911_v04_h_ctg.EffectorP2.0.fa'),'fasta')]\n",
    "effectorp2_h_bed = os.path.join('/home/benjamin/genome_assembly/Warrior/DK0911_v04/comp_orthology/DK0911_annotations',\\\n",
    "                                'DK_0911_v04_h_ctg.effectorp20.gene.bed')\n",
    "gff_locus_tag_to_bed6(DK0911_GFF_file, effectorp2_h_bed, effectorp2_h)\n",
    "\n",
    "secretome_h = [x.id for x in SeqIO.parse(os.path.join('/home/benjamin/genome_assembly/Warrior/DK0911/Secretome',\\\n",
    "                                            'DK_0911_v04_h_ctg.protein.fa'),'fasta')]\n",
    "secretome_h_bed = os.path.join('/home/benjamin/genome_assembly/Warrior/DK0911_v04/comp_orthology/DK0911_annotations',\\\n",
    "                                'DK_0911_v04_h_ctg.secretome.gene.bed')\n",
    "gff_locus_tag_to_bed6(DK0911_GFF_file, secretome_h_bed, secretome_h)\n",
    "\n",
    "\n"
   ]
  },
  {
   "cell_type": "code",
   "execution_count": 12,
   "metadata": {},
   "outputs": [
    {
     "name": "stdout",
     "output_type": "stream",
     "text": [
      "DK_0911_v04LT_p_ctg.Annotation_tax_scope.tablist\n",
      "DK_0911_v04LT_p_ctg.busco.tablist\n",
      "DK_0911_v04LT_p_ctg.cat.tablist\n",
      "DK_0911_v04LT_p_ctg.CDD.tablist\n",
      "DK_0911_v04LT_p_ctg.COG.tablist\n",
      "DK_0911_v04LT_p_ctg.Coils.tablist\n",
      "DK_0911_v04LT_p_ctg.dbCAN.tablist\n",
      "DK_0911_v04LT_p_ctg.Gene3D.tablist\n",
      "DK_0911_v04LT_p_ctg.GO_combined.tablist\n",
      "DK_0911_v04LT_p_ctg.Hamap.tablist\n",
      "DK_0911_v04LT_p_ctg.iprscan.tablist\n",
      "DK_0911_v04LT_p_ctg.KEGG_combined.tablist\n",
      "DK_0911_v04LT_p_ctg.merops.tablist\n",
      "DK_0911_v04LT_p_ctg.MobiDBLite.tablist\n",
      "DK_0911_v04LT_p_ctg.OGs.tablist\n",
      "DK_0911_v04LT_p_ctg.PANTHER.tablist\n",
      "DK_0911_v04LT_p_ctg.Pathway_no_KEGG.tablist\n",
      "DK_0911_v04LT_p_ctg.Pfam.tablist\n",
      "DK_0911_v04LT_p_ctg.PIRSF.tablist\n",
      "DK_0911_v04LT_p_ctg.predicted_gene_name.tablist\n",
      "DK_0911_v04LT_p_ctg.PRINTS.tablist\n",
      "DK_0911_v04LT_p_ctg.ProDom.tablist\n",
      "DK_0911_v04LT_p_ctg.ProSitePatterns.tablist\n",
      "DK_0911_v04LT_p_ctg.ProSiteProfiles.tablist\n",
      "DK_0911_v04LT_p_ctg.SFLD.tablist\n",
      "DK_0911_v04LT_p_ctg.SignalP3.tablist\n",
      "DK_0911_v04LT_p_ctg.SignalP_EUK.tablist\n",
      "DK_0911_v04LT_p_ctg.SignalP_GRAM_NEGATIVE.tablist\n",
      "DK_0911_v04LT_p_ctg.SignalP_GRAM_POSITIVE.tablist\n",
      "DK_0911_v04LT_p_ctg.SMART.tablist\n",
      "DK_0911_v04LT_p_ctg.SUPERFAMILY.tablist\n",
      "DK_0911_v04LT_p_ctg.swissprot.tablist\n",
      "DK_0911_v04LT_p_ctg.TIGRFAM.tablist\n",
      "DK_0911_v04LT_p_ctg.TMHMM.tablist\n"
     ]
    }
   ],
   "source": [
    "!ls '/home/benjamin/genome_assembly/Warrior/DK0911_v04/protein_annotation/DK_0911_v04LT_p_ctg/combined'"
   ]
  },
  {
   "cell_type": "code",
   "execution_count": 33,
   "metadata": {},
   "outputs": [],
   "source": [
    "###now get the annotations of h\n",
    "effectorp2_h = [x.id for x in SeqIO.parse(os.path.join('/home/benjamin/genome_assembly/Warrior/DK0911/Secretome',\\\n",
    "                                            'DK_0911_v04_h_ctg.EffectorP2.0.fa'),'fasta')]\n",
    "effectorp2_h_bed = os.path.join('/home/benjamin/genome_assembly/Warrior/DK0911_v04/comp_orthology/DK0911_annotations',\\\n",
    "                                'DK_0911_v04_h_ctg.effectorp20.gene.bed')\n",
    "gff_locus_tag_to_bed6(DK0911_GFF_file, effectorp2_h_bed, effectorp2_h)\n",
    "\n",
    "secretome_h = [x.id for x in SeqIO.parse(os.path.join('/home/benjamin/genome_assembly/Warrior/DK0911/Secretome',\\\n",
    "                                            'DK_0911_v04_h_ctg.protein.fa'),'fasta')]\n",
    "secretome_h_bed = os.path.join('/home/benjamin/genome_assembly/Warrior/DK0911_v04/comp_orthology/DK0911_annotations',\\\n",
    "                                'DK_0911_v04_h_ctg.secretome.gene.bed')\n",
    "gff_locus_tag_to_bed6(DK0911_GFF_file, secretome_h_bed, secretome_h)\n",
    "\n",
    "#BUSCOs\n",
    "busco_h = !cut -f1 {os.path.join(DK0911_annotation_folder_hcontigs, '../funannotate/parsed/annotations.busco.txt')}\n",
    "busco_h_bed = os.path.join('/home/benjamin/genome_assembly/Warrior/DK0911_v04/comp_orthology/DK0911_annotations',\\\n",
    "                                'DK_0911_v04_h_ctg.busco.gene.bed')\n",
    "gff_locus_tag_to_bed6(DK0911_GFF_file, busco_h_bed, busco_h)"
   ]
  },
  {
   "cell_type": "code",
   "execution_count": 34,
   "metadata": {},
   "outputs": [],
   "source": [
    "###now get the annotations of p\n",
    "effectorp2_p = [x.id for x in SeqIO.parse(os.path.join('/home/benjamin/genome_assembly/Warrior/DK0911/Secretome',\\\n",
    "                                            'DK_0911_v04_p_ctg.EffectorP2.0.fa'),'fasta')]\n",
    "effectorp2_p_bed = os.path.join('/home/benjamin/genome_assembly/Warrior/DK0911_v04/comp_orthology/DK0911_annotations',\\\n",
    "                                'DK_0911_v04_p_ctg.effectorp20.gene.bed')\n",
    "gff_locus_tag_to_bed6(DK0911_GFF_file, effectorp2_p_bed, effectorp2_p)\n",
    "\n",
    "secretome_p = [x.id for x in SeqIO.parse(os.path.join('/home/benjamin/genome_assembly/Warrior/DK0911/Secretome',\\\n",
    "                                            'DK_0911_v04_p_ctg.protein.fa'),'fasta')]\n",
    "secretome_p_bed = os.path.join('/home/benjamin/genome_assembly/Warrior/DK0911_v04/comp_orthology/DK0911_annotations',\\\n",
    "                                'DK_0911_v04_p_ctg.secretome.gene.bed')\n",
    "gff_locus_tag_to_bed6(DK0911_GFF_file, secretome_p_bed, secretome_p)\n",
    "\n",
    "#BUSCOs\n",
    "busco_p = !cut -f1 {os.path.join(DK0911_annotation_folder_pcontigs, '../funannotate/parsed/annotations.busco.txt')}\n",
    "busco_p_bed = os.path.join('/home/benjamin/genome_assembly/Warrior/DK0911_v04/comp_orthology/DK0911_annotations',\\\n",
    "                                'DK_0911_v04_p_ctg.busco.gene.bed')\n",
    "gff_locus_tag_to_bed6(DK0911_GFF_file, busco_p_bed, busco_p)"
   ]
  },
  {
   "cell_type": "code",
   "execution_count": 36,
   "metadata": {},
   "outputs": [],
   "source": [
    "###get bed for all genes\n",
    "DK0911_GFF_df = pd.read_csv(DK0911_GFF_file, sep='\\t', header=None)"
   ]
  },
  {
   "cell_type": "code",
   "execution_count": 38,
   "metadata": {},
   "outputs": [],
   "source": [
    "loc_ID_pattern = re.compile(r'locus_tag=([^;]*)')"
   ]
  },
  {
   "cell_type": "code",
   "execution_count": 45,
   "metadata": {},
   "outputs": [],
   "source": [
    "DK0911_all_genes = DK0911_GFF_df[DK0911_GFF_df[2] == 'gene'][8].apply(lambda x: re.findall(loc_ID_pattern,x)[0]).tolist()"
   ]
  },
  {
   "cell_type": "code",
   "execution_count": 52,
   "metadata": {},
   "outputs": [
    {
     "data": {
      "text/plain": [
       "True"
      ]
     },
     "execution_count": 52,
     "metadata": {},
     "output_type": "execute_result"
    }
   ],
   "source": [
    "len(DK0911_all_genes) == DK0911_GFF_df[DK0911_GFF_df[2] == 'gene'].shape[0]"
   ]
  },
  {
   "cell_type": "code",
   "execution_count": 53,
   "metadata": {},
   "outputs": [],
   "source": [
    "all_gene_bed = os.path.join('/home/benjamin/genome_assembly/Warrior/DK0911_v04/comp_orthology/DK0911_annotations',\\\n",
    "                                'DK_0911_v04_ph_ctg.genes.gene.bed')\n",
    "gff_locus_tag_to_bed6(DK0911_GFF_file, all_gene_bed, DK0911_all_genes)"
   ]
  },
  {
   "cell_type": "code",
   "execution_count": 57,
   "metadata": {},
   "outputs": [],
   "source": [
    "### TO DO get the annotation for the BUSCOs in PST104 sorted as well.\n",
    "Pst104E_genome_folder = '/home/benjamin/genome_assembly/PST79/FALCON/p_assemblies/v9_1/092017_assembly'\n",
    "Pst104E_GFF_file = os.path.join(Pst104E_genome_folder, 'Pst_104E_v13_ph_ctg.anno.gff3')\n",
    "Pst104E_annotation_folder = '/home/benjamin/genome_assembly/PST79/FALCON/p_assemblies/v9_1/Pst_104E_v12/enrichment_analysis/pa_26062017'\n",
    "Pst104E_output_folder = '/home/benjamin/genome_assembly/Warrior/DK0911_v04/comp_orthology/Pst104E_annotations'"
   ]
  },
  {
   "cell_type": "code",
   "execution_count": 75,
   "metadata": {},
   "outputs": [],
   "source": [
    "loc_ID_pattern = re.compile(r'locus_tag=([^;]*)')\n",
    "ID_pattern = re.compile(r'ID=([^;]*)')\n",
    "Pst104E_GFF_df = pd.read_csv(Pst104E_GFF_file, sep='\\t', header=None)"
   ]
  },
  {
   "cell_type": "code",
   "execution_count": 86,
   "metadata": {},
   "outputs": [],
   "source": [
    "Pst104E_GFF_dict = dict(zip([x.replace('TU', 'model') for x in Pst104E_GFF_df[Pst104E_GFF_df[2] == 'gene'][8].apply(lambda x: re.findall(ID_pattern,x)[0]).tolist()],\\\n",
    "                            Pst104E_GFF_df[Pst104E_GFF_df[2] == 'gene'][8].apply(lambda x: re.findall(loc_ID_pattern,x)[0]).tolist()))"
   ]
  },
  {
   "cell_type": "code",
   "execution_count": 89,
   "metadata": {},
   "outputs": [],
   "source": [
    "###now get the annotations of h\n",
    "\n",
    "tmp_list = !cut -f1 {os.path.join(Pst104E_annotation_folder, 'Pst_104E_v12_h_ctg.SignalP3.tablist')}\n",
    "secretome_h = [Pst104E_GFF_dict[x] for x in tmp_list]\n",
    "secretome_h_bed = os.path.join(Pst104E_output_folder,\\\n",
    "                                'Pst_104E_v13_h_ctg.secretome.gene.bed')\n",
    "gff_locus_tag_to_bed6(Pst104E_GFF_file, secretome_h_bed, secretome_h)\n",
    "\n",
    "#BUSCOs\n",
    "tmp_list = !cut -f1 {os.path.join(Pst104E_annotation_folder, 'Pst_104E_v12_h_ctg.busco.tablist')}\n",
    "busco_h = [Pst104E_GFF_dict[x] for x in tmp_list]\n",
    "busco_h_bed = os.path.join(Pst104E_output_folder,\\\n",
    "                                'Pst_104E_v13_h_ctg.busco.gene.bed')\n",
    "gff_locus_tag_to_bed6(Pst104E_GFF_file, busco_h_bed, busco_h)"
   ]
  },
  {
   "cell_type": "code",
   "execution_count": null,
   "metadata": {},
   "outputs": [],
   "source": []
  },
  {
   "cell_type": "code",
   "execution_count": null,
   "metadata": {},
   "outputs": [],
   "source": []
  },
  {
   "cell_type": "code",
   "execution_count": 90,
   "metadata": {},
   "outputs": [
    {
     "name": "stdout",
     "output_type": "stream",
     "text": [
      "total 15M\n",
      "-rw-rw-r-- 1 benjamin users  60K Oct 16 17:25 Pst_104E_v13_h_ctg.busco.gene.bed\n",
      "-rw-rw-r-- 1 benjamin users 102K Oct 16 17:25 Pst_104E_v13_h_ctg.secretome.gene.bed\n",
      "-rw-rw-r-- 1 benjamin users  16K Oct 15 13:55 Pst_104E_v13_ph_ctg.Cluster10.gene.bed\n",
      "-rw-rw-r-- 1 benjamin users 448K Oct 15 13:55 Pst_104E_v13_ph_ctg.Cluster10.gene.gff3\n",
      "-rw-rw-r-- 1 benjamin users 5.4K Oct 15 13:55 Pst_104E_v13_ph_ctg.Cluster11.gene.bed\n",
      "-rw-rw-r-- 1 benjamin users 144K Oct 15 13:55 Pst_104E_v13_ph_ctg.Cluster11.gene.gff3\n",
      "-rw-rw-r-- 1 benjamin users 3.7K Oct 15 13:55 Pst_104E_v13_ph_ctg.Cluster12.gene.bed\n",
      "-rw-rw-r-- 1 benjamin users 131K Oct 15 13:55 Pst_104E_v13_ph_ctg.Cluster12.gene.gff3\n",
      "-rw-rw-r-- 1 benjamin users 9.5K Oct 15 13:55 Pst_104E_v13_ph_ctg.Cluster13.gene.bed\n",
      "-rw-rw-r-- 1 benjamin users 277K Oct 15 13:55 Pst_104E_v13_ph_ctg.Cluster13.gene.gff3\n",
      "-rw-rw-r-- 1 benjamin users 9.1K Oct 15 13:55 Pst_104E_v13_ph_ctg.Cluster14.gene.bed\n",
      "-rw-rw-r-- 1 benjamin users 242K Oct 15 13:55 Pst_104E_v13_ph_ctg.Cluster14.gene.gff3\n",
      "-rw-rw-r-- 1 benjamin users 7.3K Oct 15 13:55 Pst_104E_v13_ph_ctg.Cluster15.gene.bed\n",
      "-rw-rw-r-- 1 benjamin users 195K Oct 15 13:55 Pst_104E_v13_ph_ctg.Cluster15.gene.gff3\n",
      "-rw-rw-r-- 1 benjamin users  14K Oct 15 13:55 Pst_104E_v13_ph_ctg.Cluster16.gene.bed\n",
      "-rw-rw-r-- 1 benjamin users 397K Oct 15 13:55 Pst_104E_v13_ph_ctg.Cluster16.gene.gff3\n",
      "-rw-rw-r-- 1 benjamin users 6.4K Oct 15 13:55 Pst_104E_v13_ph_ctg.Cluster1.gene.bed\n",
      "-rw-rw-r-- 1 benjamin users 218K Oct 15 13:55 Pst_104E_v13_ph_ctg.Cluster1.gene.gff3\n",
      "-rw-rw-r-- 1 benjamin users  12K Oct 15 13:55 Pst_104E_v13_ph_ctg.Cluster2.gene.bed\n",
      "-rw-rw-r-- 1 benjamin users 312K Oct 15 13:55 Pst_104E_v13_ph_ctg.Cluster2.gene.gff3\n",
      "-rw-rw-r-- 1 benjamin users 9.9K Oct 15 13:55 Pst_104E_v13_ph_ctg.Cluster3.gene.bed\n",
      "-rw-rw-r-- 1 benjamin users 288K Oct 15 13:55 Pst_104E_v13_ph_ctg.Cluster3.gene.gff3\n",
      "-rw-rw-r-- 1 benjamin users  12K Oct 15 13:55 Pst_104E_v13_ph_ctg.Cluster4.gene.bed\n",
      "-rw-rw-r-- 1 benjamin users 389K Oct 15 13:55 Pst_104E_v13_ph_ctg.Cluster4.gene.gff3\n",
      "-rw-rw-r-- 1 benjamin users  13K Oct 15 13:55 Pst_104E_v13_ph_ctg.Cluster5.gene.bed\n",
      "-rw-rw-r-- 1 benjamin users 366K Oct 15 13:55 Pst_104E_v13_ph_ctg.Cluster5.gene.gff3\n",
      "-rw-rw-r-- 1 benjamin users 2.6K Oct 15 13:55 Pst_104E_v13_ph_ctg.Cluster6.gene.bed\n",
      "-rw-rw-r-- 1 benjamin users  79K Oct 15 13:55 Pst_104E_v13_ph_ctg.Cluster6.gene.gff3\n",
      "-rw-rw-r-- 1 benjamin users  13K Oct 15 13:55 Pst_104E_v13_ph_ctg.Cluster7.gene.bed\n",
      "-rw-rw-r-- 1 benjamin users 352K Oct 15 13:55 Pst_104E_v13_ph_ctg.Cluster7.gene.gff3\n",
      "-rw-rw-r-- 1 benjamin users  14K Oct 15 13:55 Pst_104E_v13_ph_ctg.Cluster8.gene.bed\n",
      "-rw-rw-r-- 1 benjamin users 351K Oct 15 13:55 Pst_104E_v13_ph_ctg.Cluster8.gene.gff3\n",
      "-rw-rw-r-- 1 benjamin users  12K Oct 15 13:55 Pst_104E_v13_ph_ctg.Cluster9.gene.bed\n",
      "-rw-rw-r-- 1 benjamin users 382K Oct 15 13:55 Pst_104E_v13_ph_ctg.Cluster9.gene.gff3\n",
      "-rw-rw-r-- 1 benjamin users  91K Oct 15 13:55 Pst_104E_v13_ph_ctg.effectorp.gene.bed\n",
      "-rw-rw-r-- 1 benjamin users 2.2M Oct 15 13:55 Pst_104E_v13_ph_ctg.effectorp.gene.gff3\n",
      "-rw-rw-r-- 1 benjamin users  75K Oct 15 13:55 Pst_104E_v13_ph_ctg.nr_effector.gene.bed\n",
      "-rw-rw-r-- 1 benjamin users 1.9M Oct 15 13:55 Pst_104E_v13_ph_ctg.nr_effector.gene.gff3\n",
      "-rw-rw-r-- 1 benjamin users 207K Oct 15 13:55 Pst_104E_v13_ph_ctg.secretome.gene.bed\n",
      "-rw-rw-r-- 1 benjamin users 5.8M Oct 15 13:55 Pst_104E_v13_ph_ctg.secretome.gene.gff3\n"
     ]
    }
   ],
   "source": [
    "!ls -hl /home/benjamin/genome_assembly/Warrior/DK0911_v04/comp_orthology/Pst104E_annotations"
   ]
  },
  {
   "cell_type": "code",
   "execution_count": null,
   "metadata": {},
   "outputs": [],
   "source": []
  }
 ],
 "metadata": {
  "kernelspec": {
   "display_name": "Python [default]",
   "language": "python",
   "name": "python3"
  },
  "language_info": {
   "codemirror_mode": {
    "name": "ipython",
    "version": 3
   },
   "file_extension": ".py",
   "mimetype": "text/x-python",
   "name": "python",
   "nbconvert_exporter": "python",
   "pygments_lexer": "ipython3",
   "version": "3.5.3"
  }
 },
 "nbformat": 4,
 "nbformat_minor": 2
}
