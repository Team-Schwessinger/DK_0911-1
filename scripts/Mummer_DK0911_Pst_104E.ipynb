{
 "cells": [
  {
   "cell_type": "raw",
   "metadata": {},
   "source": [
    "This is a notebook to do whole genome alignments of DK0911 and Pst_104E with nucmer.\n",
    "We will start with doing alignments with \n",
    "nucmer -maxmatch -l 100 -c 500\n",
    "based on assemblytics here \n",
    "\n",
    "-l|minmatch     Set the minimum length of a single match (default 20)\n",
    "-c|mincluster   Sets the minimum length of a cluster of matches (default 65)\n",
    "--maxmatch      Use all anchor matches regardless of their uniqueness\n",
    "\n",
    "delta-filter \n",
    "-g \tGlobal alignment using length*identity weighted LIS (longest increasing subset). For every reference-query pair, leave only the alignments which form the longest mutually consistent set\n",
    "-i float \tSet the minimum alignment identity [0, 100], (default 0)\n",
    "-l int \tSet the minimum alignment length (default 0)\n",
    "-q \tQuery alignment using length*identity weighted LIS. For each query, leave only the alignments which form the longest consistent set for the query\n",
    "-r \tReference alignment using length*identity weighted LIS. For each reference, leave only the alignments which form the longest consistent set for the reference.\n",
    "-u float \tSet the minimum alignment uniqueness, i.e. percent of the alignment matching to unique reference AND query sequence [0, 100], (default 0)\n",
    "-o float \tSet the maximum alignment overlap for -r and -q options as a percent of the alignment length [0, 100], (default 75)\n",
    "\n",
    "USAGE: show-coords  [options]  <deltafile>\n",
    "\n",
    "-b          Merges overlapping alignments regardless of match dir\n",
    "            or frame and does not display any idenitity information.\n",
    "-B          Switch output to btab format\n",
    "-c          Include percent coverage information in the output\n",
    "-d          Display the alignment direction in the additional\n",
    "            FRM columns (default for promer)\n",
    "-g          Deprecated option. Please use 'delta-filter' instead\n",
    "-h          Display help information\n",
    "-H          Do not print the output header\n",
    "-I float    Set minimum percent identity to display\n",
    "-k          Knockout (do not display) alignments that overlap\n",
    "            another alignment in a different frame by more than 50%\n",
    "            of their length, AND have a smaller percent similarity\n",
    "            or are less than 75% of the size of the other alignment\n",
    "            (promer only)\n",
    "-l          Include the sequence length information in the output\n",
    "-L long     Set minimum alignment length to display\n",
    "-o          Annotate maximal alignments between two sequences, i.e.\n",
    "            overlaps between reference and query sequences\n",
    "-q          Sort output lines by query IDs and coordinates\n",
    "-r          Sort output lines by reference IDs and coordinates\n",
    "-T          Switch output to tab-delimited format\n",
    "\n",
    "\n",
    "mummerplot \n",
    "mummerplot -h\n",
    "\n",
    "  USAGE: mummerplot  [options]  <match file>\n",
    "\n",
    "  DESCRIPTION:\n",
    "    mummerplot generates plots of alignment data produced by mummer, nucmer,\n",
    "    promer or show-tiling by using the GNU gnuplot utility. After generating\n",
    "    the appropriate scripts and datafiles, mummerplot will attempt to run\n",
    "    gnuplot to generate the plot. If this attempt fails, a warning will be\n",
    "    output and the resulting .gp and .[frh]plot files will remain so that the\n",
    "    user may run gnuplot independently. If the attempt succeeds, either an x11\n",
    "    window will be spawned or an additional output file will be generated\n",
    "    (.ps or .png depending on the selected terminal). Feel free to edit the\n",
    "    resulting gnuplot script (.gp) and rerun gnuplot to change line thinkness,\n",
    "    labels, colors, plot size etc.\n",
    "\n",
    "  MANDATORY:\n",
    "    match file      Set the alignment input to 'match file'\n",
    "                    Valid inputs are from mummer, nucmer, promer and\n",
    "                    show-tiling (.out, .cluster, .delta and .tiling)\n",
    "\n",
    "  OPTIONS:\n",
    "    -b|breaklen     Highlight alignments with breakpoints further than\n",
    "                    breaklen nucleotides from the nearest sequence end\n",
    "    --[no]color     Color plot lines with a percent similarity gradient or\n",
    "                    turn off all plot color (default color by match dir)\n",
    "                    If the plot is very sparse, edit the .gp script to plot\n",
    "                    with 'linespoints' instead of 'lines'\n",
    "    -c\n",
    "    --[no]coverage  Generate a reference coverage plot (default for .tiling)\n",
    "    --depend        Print the dependency information and exit\n",
    "    -f\n",
    "    --filter        Only display .delta alignments which represent the \"best\"\n",
    "                    hit to any particular spot on either sequence, i.e. a\n",
    "                    one-to-one mapping of reference and query subsequences\n",
    "    -h\n",
    "    --help          Display help information and exit\n",
    "    -l\n",
    "    --layout        Layout a .delta multiplot in an intelligible fashion,\n",
    "                    this option requires the -R -Q options\n",
    "    --fat           Layout sequences using fattest alignment only\n",
    "    -p|prefix       Set the prefix of the output files (default 'out')\n",
    "    -rv             Reverse video for x11 plots\n",
    "    -r|IdR          Plot a particular reference sequence ID on the X-axis\n",
    "    -q|IdQ          Plot a particular query sequence ID on the Y-axis\n",
    "    -R|Rfile        Plot an ordered set of reference sequences from Rfile\n",
    "    -Q|Qfile        Plot an ordered set of query sequences from Qfile\n",
    "                    Rfile/Qfile Can either be the original DNA multi-FastA\n",
    "                    files or lists of sequence IDs, lens and dirs [ /+/-]\n",
    "    -r|rport        Specify the port to send reference ID and position on\n",
    "                    mouse double click in X11 plot window\n",
    "    -q|qport        Specify the port to send query IDs and position on mouse\n",
    "                    double click in X11 plot window\n",
    "    -s|size         Set the output size to small, medium or large\n",
    "                    --small --medium --large (default 'small')\n",
    "    -S\n",
    "    --SNP           Highlight SNP locations in each alignment\n",
    "    -t|terminal     Set the output terminal to x11, postscript or png\n",
    "                    --x11 --postscript --png (default 'x11')\n",
    "    -t|title        Specify the gnuplot plot title (default none)\n",
    "    -x|xrange       Set the xrange for the plot '[min:max]'\n",
    "    -y|yrange       Set the yrange for the plot '[min:max]'\n",
    "    -V\n",
    "    --version       Display the version information and exit"
   ]
  },
  {
   "cell_type": "code",
   "execution_count": 1,
   "metadata": {
    "ExecuteTime": {
     "end_time": "2019-05-06T10:40:03.884892Z",
     "start_time": "2019-05-06T10:40:03.577155Z"
    },
    "collapsed": true
   },
   "outputs": [],
   "source": [
    "%matplotlib inline"
   ]
  },
  {
   "cell_type": "code",
   "execution_count": 2,
   "metadata": {
    "ExecuteTime": {
     "end_time": "2019-05-06T10:40:05.426541Z",
     "start_time": "2019-05-06T10:40:04.361460Z"
    }
   },
   "outputs": [
    {
     "name": "stderr",
     "output_type": "stream",
     "text": [
      "/home/benjamin/anaconda3/lib/python3.5/site-packages/Bio/SearchIO/__init__.py:211: BiopythonExperimentalWarning: Bio.SearchIO is an experimental submodule which may undergo significant changes prior to its future official release.\n",
      "  BiopythonExperimentalWarning)\n"
     ]
    }
   ],
   "source": [
    "import pandas as pd\n",
    "import os\n",
    "import re\n",
    "from Bio import SeqIO\n",
    "from Bio import SeqUtils\n",
    "import pysam\n",
    "from Bio.SeqRecord import SeqRecord\n",
    "from pybedtools import BedTool\n",
    "import numpy as np\n",
    "import pybedtools\n",
    "import time\n",
    "import matplotlib.pyplot as plt\n",
    "import sys\n",
    "import subprocess\n",
    "import shutil\n",
    "from Bio.Seq import Seq\n",
    "import pysam\n",
    "from Bio import SearchIO\n",
    "import json\n",
    "import glob\n",
    "import scipy.stats as stats\n",
    "import statsmodels as sms\n",
    "import statsmodels.sandbox.stats.multicomp\n",
    "import distance\n",
    "import seaborn as sns\n",
    "from pybedtools import BedTool\n",
    "import matplotlib\n",
    "from sklearn.externals.joblib import Parallel, delayed\n",
    "import itertools as it\n",
    "import tempfile\n",
    "from scipy.signal import argrelextrema\n",
    "import scipy\n",
    "from IPython.display import Image\n",
    "from PIL import Image\n",
    "from collections import OrderedDict"
   ]
  },
  {
   "cell_type": "raw",
   "metadata": {},
   "source": [
    "Before the run\n",
    "$cp Pst_104E_v13_h_ctg.fa /home/benjamin/genome_assembly/PST79/FALCON/p_assemblies/v9_1/Pst_104E_v12/Warrior_comp_runs/mummer_comp/.\n",
    "$cp Pst_104E_v13_p_ctg.fa /home/benjamin/genome_assembly/PST79/FALCON/p_assemblies/v9_1/Pst_104E_v12/Warrior_comp_runs/mummer_comp/.\n",
    "$cp Pst_104E_v13_ph_ctg.fa /home/benjamin/genome_assembly/PST79/FALCON/p_assemblies/v9_1/Pst_104E_v12/Warrior_comp_runs/mummer_comp/.\n",
    "$cp DK_0911_v04_h_ctg.fa /home/benjamin/genome_assembly/PST79/FALCON/p_assemblies/v9_1/Pst_104E_v12/Warrior_comp_runs/mummer_comp/.\n",
    "$cp DK_0911_v04_p_ctg.fa /home/benjamin/genome_assembly/PST79/FALCON/p_assemblies/v9_1/Pst_104E_v12/Warrior_comp_runs/mummer_comp/.\n",
    "$cp DK_0911_v04_ph_ctg.fa /home/benjamin/genome_assembly/PST79/FALCON/p_assemblies/v9_1/Pst_104E_v12/Warrior_comp_runs/mummer_comp/."
   ]
  },
  {
   "cell_type": "code",
   "execution_count": 3,
   "metadata": {
    "ExecuteTime": {
     "end_time": "2019-05-06T10:40:06.788724Z",
     "start_time": "2019-05-06T10:40:06.773427Z"
    },
    "collapsed": true
   },
   "outputs": [],
   "source": [
    "#now do some folder as input\n",
    "BASEFOLDER = '/home/benjamin/genome_assembly/PST79/FALCON/p_assemblies/v9_1/Pst_104E_v12/Warrior_comp_runs/mummer_comp'\n",
    "GENOME_FOLDER = os.path.join(BASEFOLDER, 'genomes')\n",
    "OUTFOLDER = os.path.join(BASEFOLDER, 'output')\n",
    "if not os.path.exists(OUTFOLDER):\n",
    "    os.makedirs(OUTFOLDER)\n",
    "DK0911_p = 'DK_0911_v04_p_ctg.fa'\n",
    "DK0911_h = 'DK_0911_v04_h_ctg.fa'\n",
    "DK0911_ph = 'DK_0911_v04_ph_ctg.fa'\n",
    "PST_104E_p = 'Pst_104E_v13_p_ctg.fa'\n",
    "PST_104E_h = 'Pst_104E_v13_h_ctg.fa'\n",
    "PST_104E_ph = 'Pst_104E_v13_ph_ctg.fa'"
   ]
  },
  {
   "cell_type": "code",
   "execution_count": 4,
   "metadata": {
    "ExecuteTime": {
     "end_time": "2019-05-06T10:40:07.809744Z",
     "start_time": "2019-05-06T10:40:07.599901Z"
    },
    "collapsed": true
   },
   "outputs": [
    {
     "ename": "NameError",
     "evalue": "name 'fa_fn' is not defined",
     "output_type": "error",
     "traceback": [
      "\u001b[0;31m---------------------------------------------------------------------------\u001b[0m",
      "\u001b[0;31mNameError\u001b[0m                                 Traceback (most recent call last)",
      "\u001b[0;32m<ipython-input-4-3b15430455fc>\u001b[0m in \u001b[0;36m<module>\u001b[0;34m()\u001b[0m\n\u001b[1;32m      2\u001b[0m \u001b[0mcontig_series\u001b[0m \u001b[0;34m=\u001b[0m \u001b[0mpd\u001b[0m\u001b[0;34m.\u001b[0m\u001b[0mSeries\u001b[0m\u001b[0;34m(\u001b[0m\u001b[0;34m)\u001b[0m\u001b[0;34m\u001b[0m\u001b[0m\n\u001b[1;32m      3\u001b[0m \u001b[0mlength_series\u001b[0m \u001b[0;34m=\u001b[0m \u001b[0mpd\u001b[0m\u001b[0;34m.\u001b[0m\u001b[0mSeries\u001b[0m\u001b[0;34m(\u001b[0m\u001b[0;34m)\u001b[0m\u001b[0;34m\u001b[0m\u001b[0m\n\u001b[0;32m----> 4\u001b[0;31m \u001b[0;32mfor\u001b[0m \u001b[0mseq\u001b[0m \u001b[0;32min\u001b[0m \u001b[0mSeqIO\u001b[0m\u001b[0;34m.\u001b[0m\u001b[0mparse\u001b[0m\u001b[0;34m(\u001b[0m\u001b[0mfa_fn\u001b[0m\u001b[0;34m,\u001b[0m \u001b[0;34m'fasta'\u001b[0m\u001b[0;34m)\u001b[0m\u001b[0;34m:\u001b[0m\u001b[0;34m\u001b[0m\u001b[0m\n\u001b[0m\u001b[1;32m      5\u001b[0m     \u001b[0mlength_series\u001b[0m\u001b[0;34m.\u001b[0m\u001b[0mset_value\u001b[0m\u001b[0;34m(\u001b[0m\u001b[0mcounter\u001b[0m\u001b[0;34m,\u001b[0m \u001b[0mlen\u001b[0m\u001b[0;34m(\u001b[0m\u001b[0mseq\u001b[0m\u001b[0;34m.\u001b[0m\u001b[0mseq\u001b[0m\u001b[0;34m)\u001b[0m\u001b[0;34m)\u001b[0m\u001b[0;34m\u001b[0m\u001b[0m\n\u001b[1;32m      6\u001b[0m     \u001b[0mcontig_series\u001b[0m\u001b[0;34m.\u001b[0m\u001b[0mset_value\u001b[0m\u001b[0;34m(\u001b[0m\u001b[0mcounter\u001b[0m\u001b[0;34m,\u001b[0m \u001b[0mseq\u001b[0m\u001b[0;34m.\u001b[0m\u001b[0mid\u001b[0m\u001b[0;34m)\u001b[0m\u001b[0;34m\u001b[0m\u001b[0m\n",
      "\u001b[0;31mNameError\u001b[0m: name 'fa_fn' is not defined"
     ]
    }
   ],
   "source": [
    "counter = 0\n",
    "contig_series = pd.Series()\n",
    "length_series = pd.Series()\n",
    "for seq in SeqIO.parse(fa_fn, 'fasta'):\n",
    "    length_series.set_value(counter, len(seq.seq))\n",
    "    contig_series.set_value(counter, seq.id)\n",
    "    counter = counter + 1\n",
    "tmp_df = pd.concat([contig_series, length_series], axis=1)\n",
    "tmp_df['start'] = 0\n",
    "tmp_df['stop'] = tmp_df[1] -1\n",
    "tmp_df.sort_values(0, inplace=True)\n",
    "tmp_df.loc[:, [0, 'start', 'stop']].to_csv(fa_fn.replace('.fa', '.contig.bed'), sep='\\t', header=None, index=None)"
   ]
  },
  {
   "cell_type": "code",
   "execution_count": 5,
   "metadata": {
    "ExecuteTime": {
     "end_time": "2019-05-06T10:40:40.834808Z",
     "start_time": "2019-05-06T10:40:40.806011Z"
    },
    "collapsed": true
   },
   "outputs": [],
   "source": [
    "def contig_bed(fa_fn):\n",
    "    from Bio import SeqIO\n",
    "    counter = 0\n",
    "    contig_series = pd.Series()\n",
    "    length_series = pd.Series()\n",
    "    for seq in SeqIO.parse(fa_fn, 'fasta'):\n",
    "        length_series.set_value(counter, len(seq.seq))\n",
    "        contig_series.set_value(counter, seq.id)\n",
    "        counter = counter + 1\n",
    "    tmp_df = pd.concat([contig_series, length_series], axis=1)\n",
    "    tmp_df['start'] = 0\n",
    "    tmp_df['stop'] = tmp_df[1] -1\n",
    "    tmp_df.sort_values(0, inplace=True)\n",
    "    tmp_df.loc[:, [0, 'start', 'stop']].to_csv(fa_fn.replace('.fa', '.contig.bed'), sep='\\t', header=None, index=None)\n",
    "    return fa_fn.replace('.fa', '.contig.bed')"
   ]
  },
  {
   "cell_type": "code",
   "execution_count": 6,
   "metadata": {
    "ExecuteTime": {
     "end_time": "2019-05-06T10:40:41.503064Z",
     "start_time": "2019-05-06T10:40:41.478905Z"
    },
    "collapsed": true
   },
   "outputs": [],
   "source": [
    "def run_command(command, v=False):\n",
    "    #print('\\nRunnning now!\\n')\n",
    "    if v == True:\n",
    "        print(command)\n",
    "    try:\n",
    "        output = subprocess.check_output(command, shell=True, stderr=subprocess.STDOUT)\n",
    "    except subprocess.CalledProcessError as ex:\n",
    "        o = ex.output\n",
    "        returncode = ex.returncode\n",
    "        if returncode == 25:\n",
    "            next\n",
    "        else:\n",
    "            raise\n",
    "    #print(\"Done with it!\")\n",
    "    #print('\\nDone\\nWith ouput:\\n%s' % output)\n",
    "    #print(output)"
   ]
  },
  {
   "cell_type": "code",
   "execution_count": 7,
   "metadata": {
    "ExecuteTime": {
     "end_time": "2019-05-06T10:40:41.799081Z",
     "start_time": "2019-05-06T10:40:41.772220Z"
    },
    "collapsed": true
   },
   "outputs": [],
   "source": [
    "def run_nucmer(ref, query,maxmatch=True, l=100, c=500):\n",
    "    '''Run nucmer with three options.'''\n",
    "    #print(os.path.basename(ref)[:-3])\n",
    "    delta = os.path.join(OUTFOLDER, '%s.%s.l%s.c%s.delta' % (os.path.basename(ref)[:-3], os.path.basename(query)[:-3], l,c))\n",
    "    command='/home/benjamin/anaconda3/mummer-4.0.0/bin/nucmer -l %s -c %s -t 10 %s %s --prefix=%s' % (l, c, ref, query, delta.replace('.delta', ''))\n",
    "    if maxmatch == True:\n",
    "        delta = os.path.join(OUTFOLDER, '%s.%s.l%s.c%s.mm.delta' % (os.path.basename(ref)[:-3], os.path.basename(query)[:-3], l,c))\n",
    "        command='nucmer --maxmatch -l %s -c %s %s %s --prefix=%s' % (l, c, ref, query, delta.replace('.delta', ''))\n",
    "    if not os.path.exists(delta):\n",
    "        run_command(command)\n",
    "    return delta"
   ]
  },
  {
   "cell_type": "code",
   "execution_count": 8,
   "metadata": {
    "ExecuteTime": {
     "end_time": "2019-05-06T10:40:42.071100Z",
     "start_time": "2019-05-06T10:40:42.036760Z"
    },
    "collapsed": true
   },
   "outputs": [],
   "source": [
    "def run_delta_filter(delta, v=False, **kwargs):\n",
    "    filter_string = ''\n",
    "    if kwargs is not None:\n",
    "        for key,value in kwargs.items():\n",
    "            if key in ['1', 'g', 'h', 'm', 'q', 'r']:\n",
    "                filter_string = '%s %s' % (filter_string, value)\n",
    "            elif key in ['i', 'l', 'u', 'o']:\n",
    "                filter_string = '%s -%s %s' % (filter_string, key, value)\n",
    "            if v == True:\n",
    "                print('Used following delta filter option: %s %s' % (key,value))\n",
    "                print(filter_string)\n",
    "            \n",
    "            \n",
    "    delta_filter = delta.replace('.delta', '.deltafilter_%s' %(filter_string.replace(' ', '').replace('-','')))\n",
    "    command = '/home/benjamin/anaconda3/mummer-4.0.0/bin/delta-filter %s %s > %s' % (filter_string, delta, delta_filter)\n",
    "    run_command(command)\n",
    "    return delta_filter"
   ]
  },
  {
   "cell_type": "code",
   "execution_count": 9,
   "metadata": {
    "ExecuteTime": {
     "end_time": "2019-05-06T10:40:42.589080Z",
     "start_time": "2019-05-06T10:40:42.568460Z"
    },
    "collapsed": true
   },
   "outputs": [],
   "source": [
    "def run_show_coords(delta_filter,v=False, **kwargs):\n",
    "    filter_string = ''\n",
    "    if kwargs is not None:\n",
    "        for key,value in kwargs.items():\n",
    "            if v==True:\n",
    "                print('Used following show-coords option: %s %s' % (key,value))\n",
    "            filter_string = '%s %s' % (filter_string, value)\n",
    "    #print(delta_filter.index('.delta'))\n",
    "    showcoords = '%s_%s.coords' % (delta_filter, filter_string.replace(' ', '').replace('-',''))\n",
    "    command = '/home/benjamin/anaconda3/mummer-4.0.0/bin/show-coords -T %s %s > %s' % (filter_string, delta_filter, showcoords)\n",
    "    run_command(command)\n",
    "    return showcoords"
   ]
  },
  {
   "cell_type": "code",
   "execution_count": 10,
   "metadata": {
    "ExecuteTime": {
     "end_time": "2019-05-06T10:40:42.932358Z",
     "start_time": "2019-05-06T10:40:42.908717Z"
    },
    "collapsed": true
   },
   "outputs": [],
   "source": [
    "def run_mummerplot(delta_filter,v=False, **kwargs):\n",
    "    filter_string = ''\n",
    "    if kwargs is not None:\n",
    "        for key,value in kwargs.items():\n",
    "            if v == True:\n",
    "                print('Used following mummerplot option: %s %s' % (key,value))\n",
    "            filter_string = '%s %s' % (filter_string, value)\n",
    "    mummerplot = os.path.basename(delta_filter)\n",
    "    if 'r' in kwargs.keys():\n",
    "            mummerplot = mummerplot + kwargs['r'].replace('-r ','_')\n",
    "    previous_dir = os.getcwd()\n",
    "    os.chdir(OUTFOLDER)\n",
    "    command = '/home/benjamin/anaconda3/mummer-4.0.0/bin/mummerplot %s -p %s --png %s' % (filter_string, mummerplot, delta_filter)\n",
    "    run_command(command)\n",
    "    os.chdir(previous_dir)\n",
    "    return '%s.png' % (os.path.join(OUTFOLDER, mummerplot))"
   ]
  },
  {
   "cell_type": "code",
   "execution_count": 11,
   "metadata": {
    "ExecuteTime": {
     "end_time": "2019-05-06T10:40:43.354436Z",
     "start_time": "2019-05-06T10:40:43.336707Z"
    },
    "collapsed": true
   },
   "outputs": [],
   "source": [
    "def show_cov_plot(mummerplot, show=False):\n",
    "    if not os.path.exists(mummerplot):\n",
    "        return None\n",
    "    image = Image.open(mummerplot)\n",
    "    image = image.crop((10,500,800,800))\n",
    "    print('\\n##########\\n')\n",
    "    print('This is the coverage plot %s!' % os.path.basename(mummerplot))\n",
    "    print('\\n##########\\n')\n",
    "    if show==True:\n",
    "        image\n",
    "    return image"
   ]
  },
  {
   "cell_type": "code",
   "execution_count": 12,
   "metadata": {
    "ExecuteTime": {
     "end_time": "2019-05-06T10:40:43.974907Z",
     "start_time": "2019-05-06T10:40:43.961994Z"
    },
    "collapsed": true
   },
   "outputs": [],
   "source": [
    "def show_align_plot(mummerplot, show=False):\n",
    "    if not os.path.exists(mummerplot):\n",
    "        return None\n",
    "    image = Image.open(mummerplot)\n",
    "    print('\\n##########\\n')\n",
    "    print('This is the alignment plot %s!' % os.path.basename(mummerplot))\n",
    "    print('\\n##########\\n')\n",
    "    if show==True:\n",
    "        image\n",
    "    return image"
   ]
  },
  {
   "cell_type": "code",
   "execution_count": 13,
   "metadata": {
    "ExecuteTime": {
     "end_time": "2019-05-06T10:40:44.436573Z",
     "start_time": "2019-05-06T10:40:44.427298Z"
    },
    "collapsed": true
   },
   "outputs": [],
   "source": [
    "def nrbed_reverse(input_bed_fn, genome_bed_fn):\n",
    "    genome_bed = BedTool(genome_bed_fn)\n",
    "    input_bed = BedTool(input_bed_fn)\n",
    "    out_fn = input_bed_fn.replace('.nr.bed', '.nr_reverse.bed')\n",
    "    genome_bed.subtract(input_bed).saveas(out_fn)\n",
    "    return out_fn"
   ]
  },
  {
   "cell_type": "code",
   "execution_count": 14,
   "metadata": {
    "ExecuteTime": {
     "end_time": "2019-05-06T10:40:44.852205Z",
     "start_time": "2019-05-06T10:40:44.810628Z"
    },
    "collapsed": true
   },
   "outputs": [],
   "source": [
    "def coords_to_nrbed(coords_fn, merged_d = 0):\n",
    "    with open(coords_fn, 'r') as fh:\n",
    "        counter = 0\n",
    "        for line in fh:\n",
    "            #if line.startswith('['):\n",
    "                #counter = 1\n",
    "            #if counter == 1:\n",
    "            n_columns = len(line.split('\\t'))\n",
    "    column_names = ['r_start','r_stop', 'q_start', 'q_stop', 'aln_len_r', 'aln_len_q', 'pc_id', 'len_r', 'len_q', 'ref_name', 'query_name']\n",
    "\n",
    "    if len(column_names) != n_columns:\n",
    "        column_names.remove('len_r' )\n",
    "        column_names.remove('len_q')\n",
    "\n",
    "    df = pd.read_csv(coords_fn, sep='\\t', skiprows=4, names=column_names )\n",
    "    tmp_bed_fn = coords_fn.replace('.coords', '.tmpbed')\n",
    "    df['r_bed_start'] = df.r_start - 1\n",
    "    df['r_bed_stop'] = df.r_stop - 1\n",
    "    df.loc[:, ['ref_name', 'r_bed_start', 'r_bed_stop']].to_csv(tmp_bed_fn, header=None, index=None, sep='\\t')\n",
    "    BedTool(tmp_bed_fn).sort().merge(d=merged_d).saveas(tmp_bed_fn.replace('.tmpbed', '.nr.bed'))\n",
    "    return tmp_bed_fn.replace('.tmpbed', '.nr.bed')"
   ]
  },
  {
   "cell_type": "code",
   "execution_count": 15,
   "metadata": {
    "ExecuteTime": {
     "end_time": "2019-05-06T10:40:45.515883Z",
     "start_time": "2019-05-06T10:40:45.505398Z"
    },
    "collapsed": true
   },
   "outputs": [],
   "source": [
    "def count_bases_in_bed(fn):\n",
    "    \"\"\"Function that sums the interval size of bedfile.\"\"\"\n",
    "    header = ['contig', 'start', 'stop']\n",
    "    df = pd.read_csv(fn, sep='\\t', header=None, names=header)\n",
    "    df['interval'] = df.stop - df.start\n",
    "    return df.interval.sum()"
   ]
  },
  {
   "cell_type": "code",
   "execution_count": 16,
   "metadata": {
    "ExecuteTime": {
     "end_time": "2019-05-06T10:40:59.555701Z",
     "start_time": "2019-05-06T10:40:46.486760Z"
    }
   },
   "outputs": [
    {
     "name": "stderr",
     "output_type": "stream",
     "text": [
      "/home/benjamin/anaconda3/lib/python3.5/site-packages/ipykernel/__main__.py:7: FutureWarning: set_value is deprecated and will be removed in a future release. Please use .at[] or .iat[] accessors instead\n",
      "/home/benjamin/anaconda3/lib/python3.5/site-packages/ipykernel/__main__.py:8: FutureWarning: set_value is deprecated and will be removed in a future release. Please use .at[] or .iat[] accessors instead\n",
      "/home/benjamin/anaconda3/lib/python3.5/site-packages/ipykernel/__main__.py:7: FutureWarning: set_value is deprecated and will be removed in a future release. Please use .at[] or .iat[] accessors instead\n",
      "/home/benjamin/anaconda3/lib/python3.5/site-packages/ipykernel/__main__.py:8: FutureWarning: set_value is deprecated and will be removed in a future release. Please use .at[] or .iat[] accessors instead\n"
     ]
    }
   ],
   "source": [
    "#make the contig bed files for substraction later on \n",
    "contig_bed_fn_dict = {}\n",
    "for fa_fn in [os.path.join(GENOME_FOLDER, x) for x in os.listdir(GENOME_FOLDER)]:\n",
    "    if fa_fn.endswith('.fa'):\n",
    "        contig_bed_fn_dict[fa_fn.split('/')[-1][:-3]] = contig_bed(fa_fn)"
   ]
  },
  {
   "cell_type": "code",
   "execution_count": 17,
   "metadata": {
    "ExecuteTime": {
     "end_time": "2019-05-06T10:41:00.841416Z",
     "start_time": "2019-05-06T10:41:00.826072Z"
    },
    "collapsed": true
   },
   "outputs": [],
   "source": [
    "delta_DK0911_self_nmm = run_nucmer(os.path.join(GENOME_FOLDER, DK0911_p), os.path.join(GENOME_FOLDER, DK0911_h), maxmatch=False)\n",
    "delta_DK0911_Pst_104Ep_nmm = run_nucmer(os.path.join(GENOME_FOLDER, DK0911_p), os.path.join(GENOME_FOLDER, PST_104E_p), maxmatch=False)\n",
    "delta_DK0911_Pst_104Eph_nmm = run_nucmer(os.path.join(GENOME_FOLDER, DK0911_p), os.path.join(GENOME_FOLDER, PST_104E_ph), maxmatch=False)\n",
    "delta_Pst_104E_DK0911ph_nmm = run_nucmer(os.path.join(GENOME_FOLDER, PST_104E_p), os.path.join(GENOME_FOLDER, DK0911_ph), maxmatch=False)\n",
    "delta_Pst_104E_self_nmm = run_nucmer(os.path.join(GENOME_FOLDER, PST_104E_p), os.path.join(GENOME_FOLDER, PST_104E_h), maxmatch=False)\n",
    "delta_Pst_104E_DK0911p_nmm = run_nucmer(os.path.join(GENOME_FOLDER, PST_104E_p), os.path.join(GENOME_FOLDER, DK0911_p), maxmatch=False)"
   ]
  },
  {
   "cell_type": "code",
   "execution_count": 24,
   "metadata": {
    "ExecuteTime": {
     "end_time": "2019-05-06T11:36:23.400339Z",
     "start_time": "2019-05-06T11:36:23.392922Z"
    }
   },
   "outputs": [],
   "source": [
    "delta_Pst_104Eph_DK0911ph_mm = run_nucmer(os.path.join(GENOME_FOLDER, PST_104E_ph), os.path.join(GENOME_FOLDER, DK0911_ph))\n",
    "delta_DK0911ph_Pst_104Eph_mm = run_nucmer(os.path.join(GENOME_FOLDER, DK0911_ph), os.path.join(GENOME_FOLDER, PST_104E_ph))\n",
    "\n",
    "delta_Pst_104Eph_Pst_104Eph_mm = run_nucmer(os.path.join(GENOME_FOLDER, PST_104E_ph), os.path.join(GENOME_FOLDER, PST_104E_ph))\n",
    "delta_DK0911ph_DK0911ph_mm = run_nucmer(os.path.join(GENOME_FOLDER, DK0911_ph), os.path.join(GENOME_FOLDER, DK0911_ph))"
   ]
  },
  {
   "cell_type": "code",
   "execution_count": null,
   "metadata": {
    "ExecuteTime": {
     "end_time": "2019-05-03T05:16:36.329927Z",
     "start_time": "2019-05-03T05:16:36.315904Z"
    },
    "collapsed": true
   },
   "outputs": [],
   "source": [
    "#run a couple of delta mapping for mummer\n",
    "delta_DK0911_self_mm = run_nucmer(os.path.join(GENOME_FOLDER, DK0911_p), os.path.join(GENOME_FOLDER, DK0911_h))\n",
    "delta_DK0911_Pst_104Ep_mm = run_nucmer(os.path.join(GENOME_FOLDER, DK0911_p), os.path.join(GENOME_FOLDER, PST_104E_p))\n",
    "delta_DK0911_Pst_104Eph_mm = run_nucmer(os.path.join(GENOME_FOLDER, DK0911_p), os.path.join(GENOME_FOLDER, PST_104E_ph))"
   ]
  },
  {
   "cell_type": "code",
   "execution_count": null,
   "metadata": {
    "ExecuteTime": {
     "end_time": "2019-05-03T05:16:38.248137Z",
     "start_time": "2019-05-03T05:16:38.234639Z"
    },
    "collapsed": true
   },
   "outputs": [],
   "source": [
    "delta_Pst_104E_DK0911p_mm = run_nucmer(os.path.join(GENOME_FOLDER, PST_104E_p), os.path.join(GENOME_FOLDER, DK0911_p))\n",
    "delta_Pst_104E_DK0911ph_mm = run_nucmer(os.path.join(GENOME_FOLDER, PST_104E_p), os.path.join(GENOME_FOLDER, DK0911_ph))\n",
    "delta_Pst_104E_self_mm = run_nucmer(os.path.join(GENOME_FOLDER, PST_104E_p), os.path.join(GENOME_FOLDER, PST_104E_h))"
   ]
  },
  {
   "cell_type": "code",
   "execution_count": null,
   "metadata": {
    "ExecuteTime": {
     "end_time": "2019-05-03T05:16:42.539719Z",
     "start_time": "2019-05-03T05:16:40.180527Z"
    }
   },
   "outputs": [],
   "source": [
    "show_cov_plot(run_mummerplot(run_delta_filter(delta_DK0911_self_mm, **{'m':'-m', 'i': 95}, v=True), **{'c': '-c', 'r': '-r pcontig_000'}))"
   ]
  },
  {
   "cell_type": "code",
   "execution_count": null,
   "metadata": {
    "collapsed": true
   },
   "outputs": [],
   "source": [
    "show_cov_plot(run_mummerplot(run_delta_filter(delta_DK0911_self_mm, **{'m':'-m', 'i': 98}, v=True), **{'c': '-c', 'r': '-r pcontig_000'}))"
   ]
  },
  {
   "cell_type": "code",
   "execution_count": null,
   "metadata": {
    "collapsed": true
   },
   "outputs": [],
   "source": [
    "show_cov_plot(run_mummerplot(run_delta_filter(delta_DK0911_self_nmm, **{'m':'-m'}), **{'c': '-c', 'r': '-r pcontig_000'}))"
   ]
  },
  {
   "cell_type": "code",
   "execution_count": null,
   "metadata": {
    "collapsed": true
   },
   "outputs": [],
   "source": [
    "show_cov_plot(run_mummerplot(run_delta_filter(delta_DK0911_Pst_104Ep_mm, **{'m':'-m'}), **{'c': '-c', 'r': '-r pcontig_000'}))"
   ]
  },
  {
   "cell_type": "code",
   "execution_count": null,
   "metadata": {
    "collapsed": true
   },
   "outputs": [],
   "source": [
    "show_cov_plot(run_mummerplot(run_delta_filter(delta_DK0911_Pst_104Eph_mm, **{'m':'-m'}), **{'c': '-c', 'r': '-r pcontig_000'}))"
   ]
  },
  {
   "cell_type": "code",
   "execution_count": null,
   "metadata": {
    "collapsed": true
   },
   "outputs": [],
   "source": [
    "show_cov_plot(run_mummerplot(run_delta_filter(delta_DK0911_Pst_104Eph_mm, **{'m':'-m', 'i': '99'}), **{'c': '-c', 'r': '-r pcontig_002'}))"
   ]
  },
  {
   "cell_type": "code",
   "execution_count": null,
   "metadata": {
    "collapsed": true
   },
   "outputs": [],
   "source": [
    "show_cov_plot(run_mummerplot(run_delta_filter(delta_DK0911_Pst_104Eph_mm, **{'m':'-m', 'i': '80'}), **{'c': '-c', 'r': '-r pcontig_020'}))"
   ]
  },
  {
   "cell_type": "code",
   "execution_count": null,
   "metadata": {
    "collapsed": true
   },
   "outputs": [],
   "source": [
    "show_cov_plot(run_mummerplot(run_delta_filter(delta_Pst_104E_DK0911ph_mm, **{'m':'-m', 'i': '98'}), **{'c': '-c', 'r': '-r pcontig_010'}))"
   ]
  },
  {
   "cell_type": "code",
   "execution_count": null,
   "metadata": {
    "ExecuteTime": {
     "end_time": "2019-05-03T05:17:19.737228Z",
     "start_time": "2019-05-03T05:17:03.254546Z"
    }
   },
   "outputs": [],
   "source": [
    "Pst_104_p_contig_dict = {}\n",
    "for seq in SeqIO.parse(os.path.join(GENOME_FOLDER, PST_104E_p), 'fasta'):\n",
    "    Pst_104_p_contig_dict[seq.id] = len(seq.seq)\n",
    "Pst_104_p_contig_dict = OrderedDict(sorted(Pst_104_p_contig_dict.items()))\n",
    "for seq, length in Pst_104_p_contig_dict.items():\n",
    "    print('contig %s of DK0911p with %i length.' %(seq, length))\n",
    "    image = show_align_plot(run_mummerplot(run_delta_filter(delta_Pst_104E_DK0911p_mm, **{'m':'-m', 'i': '98', 'u': '0'}), **{ 'r': '-r %s' % seq }))\n",
    "    display(image)"
   ]
  },
  {
   "cell_type": "code",
   "execution_count": null,
   "metadata": {
    "collapsed": true
   },
   "outputs": [],
   "source": [
    "DK0911_p_contig_dict = {}\n",
    "for seq in SeqIO.parse(os.path.join(GENOME_FOLDER, DK0911_p), 'fasta'):\n",
    "    DK0911_p_contig_dict[seq.id] = len(seq.seq)\n",
    "DK0911_p_contig_dict = OrderedDict(sorted(DK0911_p_contig_dict.items()))\n",
    "for seq, length in DK0911_p_contig_dict.items():\n",
    "    print('contig %s of Pst_104_p with %i length.' %(seq, length))\n",
    "    image = show_align_plot(run_mummerplot(run_delta_filter(delta_DK0911_Pst_104Ep_mm, **{'m':'-m', 'i': '98', 'u': '0'}), **{ 'r': '-r %s' % seq }))\n",
    "    display(image)"
   ]
  },
  {
   "cell_type": "markdown",
   "metadata": {},
   "source": [
    "Now generate some bed files that contain the overlaps and the non-overlaps for either mapping.\n",
    "The cut-offs are 70, 80, 85, 90, 95, 99, 100. Also print the number of non-overlap bases."
   ]
  },
  {
   "cell_type": "code",
   "execution_count": null,
   "metadata": {
    "ExecuteTime": {
     "start_time": "2019-05-06T10:25:03.938Z"
    }
   },
   "outputs": [],
   "source": [
    "nucmer_files= [delta_Pst_104Eph_DK0911ph_mm, delta_DK0911ph_Pst_104Eph_mm ,delta_Pst_104Eph_Pst_104Eph_mm, delta_DK0911ph_DK0911ph_mm]\n",
    "identidies = [70, 80, 85, 90, 95, 96, 97, 98, 99, 100]\n",
    "for nucmer_file in nucmer_files:\n",
    "    genome = nucmer_file.split('/')[-1].split('.')[0]\n",
    "    genome_bed_fn = contig_bed_fn_dict[genome]\n",
    "    for id in identidies:\n",
    "        nr_bed_fn = coords_to_nrbed(run_show_coords(run_delta_filter(nucmer_file, **{'m':'-m', 'i': id, 'u': '0', 'g': '-g'})))\n",
    "        nr_reverse_bed_fn = nrbed_reverse(nr_bed_fn, genome_bed_fn)\n",
    "        non_covered_bases = count_bases_in_bed(nr_reverse_bed_fn)\n",
    "        total_bases = count_bases_in_bed(genome_bed_fn)\n",
    "        print('The genome %s with the nucmer alignment file %s has %i bases missing (%.2f percent) with and mimimum identify of %i' %\\\n",
    "             (genome, nucmer_file.split('/')[-1], non_covered_bases, (non_covered_bases/total_bases*100), id))"
   ]
  },
  {
   "cell_type": "markdown",
   "metadata": {},
   "source": [
    "### Here I am looking at the dnadiff output of DK0911 as ref and Pst104E as query run on the command line\n",
    "\n",
    "I guess the question here is why is the aligned sequence in the out.report so high while the non-covered region out of the coords file is also fairly high. "
   ]
  },
  {
   "cell_type": "code",
   "execution_count": null,
   "metadata": {
    "ExecuteTime": {
     "start_time": "2019-05-06T00:54:41.126Z"
    },
    "collapsed": true
   },
   "outputs": [],
   "source": [
    "merged_d = 0\n",
    "coords_fn = '/home/benjamin/genome_assembly/PST79/FALCON/p_assemblies/v9_1/Pst_104E_v12/Warrior_comp_runs/mummer_comp/dnadiff/Pst104E_on_DK0911/out.mcoords'\n",
    "with open(coords_fn, 'r') as fh:\n",
    "    counter = 0\n",
    "    for line in fh:\n",
    "        #if line.startswith('['):\n",
    "            #counter = 1\n",
    "        #if counter == 1:\n",
    "        n_columns = len(line.split('\\t'))\n",
    "column_names = ['r_start','r_stop', 'q_start', 'q_stop', 'aln_len_r', 'aln_len_q', 'pc_id', 'len_r', 'len_q', 'pc_aln_r', 'pc_aln_q', 'ref_name', 'query_name']\n",
    "\n",
    "if len(column_names) != n_columns:\n",
    "    column_names.remove('len_r' )\n",
    "    column_names.remove('len_q')\n",
    "\n",
    "df = pd.read_csv(coords_fn, sep='\\t', names=column_names )\n",
    "tmp_bed_fn = coords_fn + '.tmpbed'\n",
    "df['r_bed_start'] = df.r_start.astype(int) - 1\n",
    "df['r_bed_stop'] = df.r_stop.astype(int) - 1\n",
    "df.loc[:, ['ref_name', 'r_bed_start', 'r_bed_stop']].to_csv(tmp_bed_fn, header=None, index=None, sep='\\t')\n",
    "BedTool(tmp_bed_fn).sort().merge(d=merged_d).saveas(tmp_bed_fn.replace('.tmpbed', '.nr.bed'))\n"
   ]
  },
  {
   "cell_type": "code",
   "execution_count": null,
   "metadata": {
    "ExecuteTime": {
     "end_time": "2019-05-06T00:30:13.393187Z",
     "start_time": "2019-05-06T00:30:13.362336Z"
    }
   },
   "outputs": [],
   "source": [
    "count_bases_in_bed(tmp_bed_fn.replace('.tmpbed', '.nr.bed'))"
   ]
  },
  {
   "cell_type": "code",
   "execution_count": null,
   "metadata": {
    "ExecuteTime": {
     "end_time": "2019-05-06T00:34:34.521283Z",
     "start_time": "2019-05-06T00:34:34.062374Z"
    }
   },
   "outputs": [],
   "source": [
    "nrbed_fn = nrbed_reverse(tmp_bed_fn.replace('.tmpbed', '.nr.bed'), contig_bed_fn_dict['DK_0911_v04_ph_ctg'])"
   ]
  },
  {
   "cell_type": "code",
   "execution_count": null,
   "metadata": {
    "ExecuteTime": {
     "end_time": "2019-05-06T00:34:35.559163Z",
     "start_time": "2019-05-06T00:34:35.516097Z"
    }
   },
   "outputs": [],
   "source": [
    "count_bases_in_bed(nrbed_fn)"
   ]
  },
  {
   "cell_type": "code",
   "execution_count": null,
   "metadata": {
    "ExecuteTime": {
     "end_time": "2019-05-06T00:33:21.429199Z",
     "start_time": "2019-05-06T00:33:21.414412Z"
    }
   },
   "outputs": [],
   "source": [
    "contig_bed_fn_dict['DK_0911_v04_ph_ctg']"
   ]
  },
  {
   "cell_type": "markdown",
   "metadata": {},
   "source": [
    "### Runs some tests here for alignments and delta filter 1\n",
    "\n",
    "* look at regular delta alignments  maxmatch=False, l=20, c=65"
   ]
  },
  {
   "cell_type": "code",
   "execution_count": null,
   "metadata": {
    "ExecuteTime": {
     "end_time": "2019-05-06T00:43:42.945142Z",
     "start_time": "2019-05-06T00:43:42.927694Z"
    },
    "collapsed": true
   },
   "outputs": [],
   "source": [
    "delta_Pst_104Eph_DK0911ph_mm = run_nucmer(os.path.join(GENOME_FOLDER, PST_104E_ph), os.path.join(GENOME_FOLDER, DK0911_ph))\n",
    "delta_DK0911ph_Pst_104Eph_mm = run_nucmer(os.path.join(GENOME_FOLDER, DK0911_ph), os.path.join(GENOME_FOLDER, PST_104E_ph))"
   ]
  },
  {
   "cell_type": "code",
   "execution_count": 22,
   "metadata": {
    "ExecuteTime": {
     "end_time": "2019-05-06T11:22:06.198884Z",
     "start_time": "2019-05-06T11:21:10.791516Z"
    }
   },
   "outputs": [
    {
     "name": "stdout",
     "output_type": "stream",
     "text": [
      "The genome Pst_104E_v13_ph_ctg with the nucmer alignment file Pst_104E_v13_ph_ctg.DK_0911_v04_ph_ctg.l100.c500.mm.delta has 14951425 bases missing (9.53 percent) with and mimimum identify of 70\n",
      "The genome Pst_104E_v13_ph_ctg with the nucmer alignment file Pst_104E_v13_ph_ctg.DK_0911_v04_ph_ctg.l100.c500.mm.delta has 14951425 bases missing (9.53 percent) with and mimimum identify of 80\n",
      "The genome Pst_104E_v13_ph_ctg with the nucmer alignment file Pst_104E_v13_ph_ctg.DK_0911_v04_ph_ctg.l100.c500.mm.delta has 14951425 bases missing (9.53 percent) with and mimimum identify of 85\n",
      "The genome Pst_104E_v13_ph_ctg with the nucmer alignment file Pst_104E_v13_ph_ctg.DK_0911_v04_ph_ctg.l100.c500.mm.delta has 14966920 bases missing (9.54 percent) with and mimimum identify of 90\n",
      "The genome Pst_104E_v13_ph_ctg with the nucmer alignment file Pst_104E_v13_ph_ctg.DK_0911_v04_ph_ctg.l100.c500.mm.delta has 15406185 bases missing (9.82 percent) with and mimimum identify of 95\n",
      "The genome Pst_104E_v13_ph_ctg with the nucmer alignment file Pst_104E_v13_ph_ctg.DK_0911_v04_ph_ctg.l100.c500.mm.delta has 16030768 bases missing (10.22 percent) with and mimimum identify of 96\n",
      "The genome Pst_104E_v13_ph_ctg with the nucmer alignment file Pst_104E_v13_ph_ctg.DK_0911_v04_ph_ctg.l100.c500.mm.delta has 18199362 bases missing (11.60 percent) with and mimimum identify of 97\n",
      "The genome Pst_104E_v13_ph_ctg with the nucmer alignment file Pst_104E_v13_ph_ctg.DK_0911_v04_ph_ctg.l100.c500.mm.delta has 24973962 bases missing (15.92 percent) with and mimimum identify of 98\n",
      "The genome Pst_104E_v13_ph_ctg with the nucmer alignment file Pst_104E_v13_ph_ctg.DK_0911_v04_ph_ctg.l100.c500.mm.delta has 44620755 bases missing (28.45 percent) with and mimimum identify of 99\n",
      "The genome Pst_104E_v13_ph_ctg with the nucmer alignment file Pst_104E_v13_ph_ctg.DK_0911_v04_ph_ctg.l100.c500.mm.delta has 156371913 bases missing (99.71 percent) with and mimimum identify of 100\n",
      "The genome DK_0911_v04_ph_ctg with the nucmer alignment file DK_0911_v04_ph_ctg.Pst_104E_v13_ph_ctg.l100.c500.mm.delta has 3582469 bases missing (2.83 percent) with and mimimum identify of 70\n",
      "The genome DK_0911_v04_ph_ctg with the nucmer alignment file DK_0911_v04_ph_ctg.Pst_104E_v13_ph_ctg.l100.c500.mm.delta has 3582469 bases missing (2.83 percent) with and mimimum identify of 80\n",
      "The genome DK_0911_v04_ph_ctg with the nucmer alignment file DK_0911_v04_ph_ctg.Pst_104E_v13_ph_ctg.l100.c500.mm.delta has 3582469 bases missing (2.83 percent) with and mimimum identify of 85\n",
      "The genome DK_0911_v04_ph_ctg with the nucmer alignment file DK_0911_v04_ph_ctg.Pst_104E_v13_ph_ctg.l100.c500.mm.delta has 3583925 bases missing (2.83 percent) with and mimimum identify of 90\n",
      "The genome DK_0911_v04_ph_ctg with the nucmer alignment file DK_0911_v04_ph_ctg.Pst_104E_v13_ph_ctg.l100.c500.mm.delta has 3654831 bases missing (2.89 percent) with and mimimum identify of 95\n",
      "The genome DK_0911_v04_ph_ctg with the nucmer alignment file DK_0911_v04_ph_ctg.Pst_104E_v13_ph_ctg.l100.c500.mm.delta has 3807115 bases missing (3.01 percent) with and mimimum identify of 96\n",
      "The genome DK_0911_v04_ph_ctg with the nucmer alignment file DK_0911_v04_ph_ctg.Pst_104E_v13_ph_ctg.l100.c500.mm.delta has 4176031 bases missing (3.30 percent) with and mimimum identify of 97\n",
      "The genome DK_0911_v04_ph_ctg with the nucmer alignment file DK_0911_v04_ph_ctg.Pst_104E_v13_ph_ctg.l100.c500.mm.delta has 5662141 bases missing (4.47 percent) with and mimimum identify of 98\n",
      "The genome DK_0911_v04_ph_ctg with the nucmer alignment file DK_0911_v04_ph_ctg.Pst_104E_v13_ph_ctg.l100.c500.mm.delta has 13766585 bases missing (10.88 percent) with and mimimum identify of 99\n",
      "The genome DK_0911_v04_ph_ctg with the nucmer alignment file DK_0911_v04_ph_ctg.Pst_104E_v13_ph_ctg.l100.c500.mm.delta has 126093454 bases missing (99.64 percent) with and mimimum identify of 100\n",
      "The genome DK_0911_v04_ph_ctg with the nucmer alignment file DK_0911_v04_ph_ctg.DK_0911_v04_ph_ctg.l100.c500.mm.delta has 120468877 bases missing (95.19 percent) with and mimimum identify of 70\n",
      "The genome DK_0911_v04_ph_ctg with the nucmer alignment file DK_0911_v04_ph_ctg.DK_0911_v04_ph_ctg.l100.c500.mm.delta has 120468877 bases missing (95.19 percent) with and mimimum identify of 80\n",
      "The genome DK_0911_v04_ph_ctg with the nucmer alignment file DK_0911_v04_ph_ctg.DK_0911_v04_ph_ctg.l100.c500.mm.delta has 120468877 bases missing (95.19 percent) with and mimimum identify of 85\n",
      "The genome DK_0911_v04_ph_ctg with the nucmer alignment file DK_0911_v04_ph_ctg.DK_0911_v04_ph_ctg.l100.c500.mm.delta has 120468877 bases missing (95.19 percent) with and mimimum identify of 90\n",
      "The genome DK_0911_v04_ph_ctg with the nucmer alignment file DK_0911_v04_ph_ctg.DK_0911_v04_ph_ctg.l100.c500.mm.delta has 120489759 bases missing (95.21 percent) with and mimimum identify of 95\n",
      "The genome DK_0911_v04_ph_ctg with the nucmer alignment file DK_0911_v04_ph_ctg.DK_0911_v04_ph_ctg.l100.c500.mm.delta has 120513537 bases missing (95.23 percent) with and mimimum identify of 96\n",
      "The genome DK_0911_v04_ph_ctg with the nucmer alignment file DK_0911_v04_ph_ctg.DK_0911_v04_ph_ctg.l100.c500.mm.delta has 120595570 bases missing (95.29 percent) with and mimimum identify of 97\n",
      "The genome DK_0911_v04_ph_ctg with the nucmer alignment file DK_0911_v04_ph_ctg.DK_0911_v04_ph_ctg.l100.c500.mm.delta has 120829231 bases missing (95.48 percent) with and mimimum identify of 98\n",
      "The genome DK_0911_v04_ph_ctg with the nucmer alignment file DK_0911_v04_ph_ctg.DK_0911_v04_ph_ctg.l100.c500.mm.delta has 121196685 bases missing (95.77 percent) with and mimimum identify of 99\n",
      "The genome DK_0911_v04_ph_ctg with the nucmer alignment file DK_0911_v04_ph_ctg.DK_0911_v04_ph_ctg.l100.c500.mm.delta has 122063850 bases missing (96.45 percent) with and mimimum identify of 100\n",
      "The genome Pst_104E_v13_ph_ctg with the nucmer alignment file Pst_104E_v13_ph_ctg.Pst_104E_v13_ph_ctg.l100.c500.mm.delta has 0 bases missing (0.00 percent) with and mimimum identify of 70\n",
      "The genome Pst_104E_v13_ph_ctg with the nucmer alignment file Pst_104E_v13_ph_ctg.Pst_104E_v13_ph_ctg.l100.c500.mm.delta has 0 bases missing (0.00 percent) with and mimimum identify of 80\n",
      "The genome Pst_104E_v13_ph_ctg with the nucmer alignment file Pst_104E_v13_ph_ctg.Pst_104E_v13_ph_ctg.l100.c500.mm.delta has 0 bases missing (0.00 percent) with and mimimum identify of 85\n",
      "The genome Pst_104E_v13_ph_ctg with the nucmer alignment file Pst_104E_v13_ph_ctg.Pst_104E_v13_ph_ctg.l100.c500.mm.delta has 0 bases missing (0.00 percent) with and mimimum identify of 90\n",
      "The genome Pst_104E_v13_ph_ctg with the nucmer alignment file Pst_104E_v13_ph_ctg.Pst_104E_v13_ph_ctg.l100.c500.mm.delta has 0 bases missing (0.00 percent) with and mimimum identify of 95\n",
      "The genome Pst_104E_v13_ph_ctg with the nucmer alignment file Pst_104E_v13_ph_ctg.Pst_104E_v13_ph_ctg.l100.c500.mm.delta has 0 bases missing (0.00 percent) with and mimimum identify of 96\n",
      "The genome Pst_104E_v13_ph_ctg with the nucmer alignment file Pst_104E_v13_ph_ctg.Pst_104E_v13_ph_ctg.l100.c500.mm.delta has 0 bases missing (0.00 percent) with and mimimum identify of 97\n",
      "The genome Pst_104E_v13_ph_ctg with the nucmer alignment file Pst_104E_v13_ph_ctg.Pst_104E_v13_ph_ctg.l100.c500.mm.delta has 0 bases missing (0.00 percent) with and mimimum identify of 98\n",
      "The genome Pst_104E_v13_ph_ctg with the nucmer alignment file Pst_104E_v13_ph_ctg.Pst_104E_v13_ph_ctg.l100.c500.mm.delta has 0 bases missing (0.00 percent) with and mimimum identify of 99\n",
      "The genome Pst_104E_v13_ph_ctg with the nucmer alignment file Pst_104E_v13_ph_ctg.Pst_104E_v13_ph_ctg.l100.c500.mm.delta has 0 bases missing (0.00 percent) with and mimimum identify of 100\n"
     ]
    }
   ],
   "source": [
    "nucmer_files= [delta_Pst_104Eph_DK0911ph_mm, delta_DK0911ph_Pst_104Eph_mm , delta_DK0911ph_DK0911ph_mm, delta_Pst_104Eph_Pst_104Eph_mm]\n",
    "identidies = [70, 80, 85, 90, 95, 96, 97, 98, 99, 100]\n",
    "for nucmer_file in nucmer_files:\n",
    "    genome = nucmer_file.split('/')[-1].split('.')[0]\n",
    "    genome_bed_fn = contig_bed_fn_dict[genome]\n",
    "    for id in identidies:\n",
    "        nr_bed_fn = coords_to_nrbed(run_show_coords(run_delta_filter(nucmer_file, **{'m':'-m', 'i': id, 'u': '0'})))\n",
    "        nr_reverse_bed_fn = nrbed_reverse(nr_bed_fn, genome_bed_fn)\n",
    "        non_covered_bases = count_bases_in_bed(nr_reverse_bed_fn)\n",
    "        total_bases = count_bases_in_bed(genome_bed_fn)\n",
    "        print('The genome %s with the nucmer alignment file %s has %i bases missing (%.2f percent) with and mimimum identify of %i' %\\\n",
    "             (genome, nucmer_file.split('/')[-1], non_covered_bases, (non_covered_bases/total_bases*100), id))"
   ]
  },
  {
   "cell_type": "code",
   "execution_count": null,
   "metadata": {
    "ExecuteTime": {
     "start_time": "2019-05-06T11:40:13.853Z"
    }
   },
   "outputs": [],
   "source": [
    "nucmer_files= [run_nucmer(os.path.join(GENOME_FOLDER, PST_104E_ph),os.path.join(GENOME_FOLDER, DK0911_ph), maxmatch=True, l=20, c=65),\\\n",
    "               run_nucmer(os.path.join(GENOME_FOLDER, DK0911_ph), os.path.join(GENOME_FOLDER, PST_104E_ph), maxmatch=True, l=20, c=65)]\n",
    "identidies = [70, 80, 85, 90, 95, 96, 97, 98, 99, 100]\n",
    "for nucmer_file in nucmer_files:\n",
    "    genome = nucmer_file.split('/')[-1].split('.')[0]\n",
    "    genome_bed_fn = contig_bed_fn_dict[genome]\n",
    "    for id in identidies:\n",
    "        nr_bed_fn = coords_to_nrbed(run_show_coords(run_delta_filter(nucmer_file, **{'m':'-m', 'i': id, 'u': '0'})))\n",
    "        nr_reverse_bed_fn = nrbed_reverse(nr_bed_fn, genome_bed_fn)\n",
    "        non_covered_bases = count_bases_in_bed(nr_reverse_bed_fn)\n",
    "        total_bases = count_bases_in_bed(genome_bed_fn)\n",
    "        print('The genome %s with the nucmer alignment file %s has %i bases missing (%.2f percent) with and mimimum identify of %i' %\\\n",
    "             (genome, nucmer_file.split('/')[-1], non_covered_bases, (non_covered_bases/total_bases*100), id))"
   ]
  },
  {
   "cell_type": "code",
   "execution_count": null,
   "metadata": {
    "ExecuteTime": {
     "start_time": "2019-05-06T00:53:35.956Z"
    }
   },
   "outputs": [],
   "source": [
    "delta = '/home/benjamin/genome_assembly/PST79/FALCON/p_assemblies/v9_1/Pst_104E_v12/Warrior_comp_runs/mummer_comp/dnadiff/Pst104E_on_DK0911/out.delta'\n",
    "nucmer_files = [delta]\n",
    "identidies = [70, 80, 85, 90, 95, 96, 97, 98, 99, 100]\n",
    "for nucmer_file in nucmer_files:\n",
    "    genome = 'DK_0911_v04_ph_ctg'\n",
    "    genome_bed_fn = contig_bed_fn_dict[genome]\n",
    "    for id in identidies:\n",
    "        nr_bed_fn = coords_to_nrbed(run_show_coords(run_delta_filter(nucmer_file, **{'m':'-m', 'i': id, 'u': '0'})))\n",
    "        nr_reverse_bed_fn = nrbed_reverse(nr_bed_fn, genome_bed_fn)\n",
    "        non_covered_bases = count_bases_in_bed(nr_reverse_bed_fn)\n",
    "        total_bases = count_bases_in_bed(genome_bed_fn)\n",
    "        print('The genome %s with the nucmer alignment file %s has %i bases missing (%.2f percent) with and mimimum identify of %i' %\\\n",
    "             (genome, nucmer_file.split('/')[-1], non_covered_bases, (non_covered_bases/total_bases*100), id))"
   ]
  },
  {
   "cell_type": "code",
   "execution_count": null,
   "metadata": {
    "ExecuteTime": {
     "start_time": "2019-05-06T10:13:12.320Z"
    },
    "collapsed": true
   },
   "outputs": [],
   "source": [
    "print('Hello')"
   ]
  },
  {
   "cell_type": "code",
   "execution_count": null,
   "metadata": {
    "collapsed": true
   },
   "outputs": [],
   "source": [
    "delta = '/home/benjamin/genome_assembly/PST79/FALCON/p_assemblies/v9_1/Pst_104E_v12/Warrior_comp_runs/mummer_comp/dnadiff/Pst104E_on_DK0911/out.delta'\n",
    "nucmer_files = [delta]\n",
    "identidies = [70, 80, 85, 90, 95, 96, 97, 98, 99, 100]\n",
    "for nucmer_file in nucmer_files:\n",
    "    genome = 'DK_0911_v04_ph_ctg'\n",
    "    genome_bed_fn = contig_bed_fn_dict[genome]\n",
    "    for id in identidies:\n",
    "        nr_bed_fn = coords_to_nrbed(run_show_coords(run_delta_filter(nucmer_file, **{'m':'-m', 'i': id, 'u': '0'})))\n",
    "        nr_reverse_bed_fn = nrbed_reverse(nr_bed_fn, genome_bed_fn)\n",
    "        non_covered_bases = count_bases_in_bed(nr_reverse_bed_fn)\n",
    "        total_bases = count_bases_in_bed(genome_bed_fn)\n",
    "        print('The genome %s with the nucmer alignment file %s has %i bases missing (%.2f percent) with and mimimum identify of %i' %\\\n",
    "             (genome, nucmer_file.split('/')[-1], non_covered_bases, (non_covered_bases/total_bases*100), id))"
   ]
  },
  {
   "cell_type": "code",
   "execution_count": null,
   "metadata": {
    "collapsed": true
   },
   "outputs": [],
   "source": []
  },
  {
   "cell_type": "code",
   "execution_count": null,
   "metadata": {
    "collapsed": true
   },
   "outputs": [],
   "source": []
  },
  {
   "cell_type": "code",
   "execution_count": null,
   "metadata": {
    "collapsed": true
   },
   "outputs": [],
   "source": []
  },
  {
   "cell_type": "code",
   "execution_count": null,
   "metadata": {
    "collapsed": true
   },
   "outputs": [],
   "source": []
  },
  {
   "cell_type": "code",
   "execution_count": null,
   "metadata": {
    "collapsed": true
   },
   "outputs": [],
   "source": [
    "!ls {OUTFOLDER}"
   ]
  },
  {
   "cell_type": "code",
   "execution_count": null,
   "metadata": {
    "collapsed": true
   },
   "outputs": [],
   "source": [
    "print(genome, nucmer_file.split('/')[-1], non_covered_bases, (non_covered_bases/total_bases*100), id)"
   ]
  },
  {
   "cell_type": "code",
   "execution_count": null,
   "metadata": {
    "collapsed": true
   },
   "outputs": [],
   "source": [
    "total_bases"
   ]
  },
  {
   "cell_type": "code",
   "execution_count": null,
   "metadata": {
    "collapsed": true
   },
   "outputs": [],
   "source": [
    "genome_bed_fn "
   ]
  },
  {
   "cell_type": "code",
   "execution_count": null,
   "metadata": {
    "collapsed": true
   },
   "outputs": [],
   "source": [
    "contig_bed_fn_dict"
   ]
  },
  {
   "cell_type": "code",
   "execution_count": null,
   "metadata": {
    "collapsed": true
   },
   "outputs": [],
   "source": [
    "coords_fn = '/home/benjamin/genome_assembly/PST79/FALCON/p_assemblies/v9_1/Pst_104E_v12/Warrior_comp_runs/mummer_comp/output/DK_0911_v04_p_ctg.DK_0911_v04_h_ctg.l100.c500_rl.coords'"
   ]
  },
  {
   "cell_type": "code",
   "execution_count": null,
   "metadata": {
    "collapsed": true
   },
   "outputs": [],
   "source": [
    "coords_to_nrbed(run_show_coords(run_delta_filter(delta_Pst_104Eph_DK0911ph_mm, **{'m':'-m', 'i': '98', 'u': '0'})))"
   ]
  },
  {
   "cell_type": "code",
   "execution_count": null,
   "metadata": {
    "collapsed": true
   },
   "outputs": [],
   "source": [
    "!head /home/benjamin/genome_assembly/PST79/FALCON/p_assemblies/v9_1/Pst_104E_v12/Warrior_comp_runs/mummer_comp/output/Pst_104E_v13_ph_ctg.DK_0911_v04_ph_ctg.l100.c500.mm.deltafilter_u0mi98_.nr.bed"
   ]
  },
  {
   "cell_type": "code",
   "execution_count": null,
   "metadata": {
    "collapsed": true
   },
   "outputs": [],
   "source": [
    "coords_to_nrbed(run_show_coords(run_delta_filter(delta_Pst_104Eph_DK0911ph_mm, **{'m':'-m', 'i': '98', 'u': '0'})))"
   ]
  },
  {
   "cell_type": "code",
   "execution_count": null,
   "metadata": {
    "collapsed": true
   },
   "outputs": [],
   "source": [
    "count_bases_in_bed(coords_to_nrbed(run_show_coords(run_delta_filter(delta_Pst_104Eph_DK0911ph_mm, **{'m':'-m', 'i': '98', 'u': '0'}))))"
   ]
  },
  {
   "cell_type": "code",
   "execution_count": null,
   "metadata": {
    "collapsed": true
   },
   "outputs": [],
   "source": [
    "count_bases_in_bed(coords_to_nrbed(run_show_coords(run_delta_filter(delta_Pst_104Eph_DK0911ph_mm, **{'m':'-m', 'i': '99', 'u': '0'})) , merged_d=100))"
   ]
  },
  {
   "cell_type": "code",
   "execution_count": null,
   "metadata": {
    "collapsed": true
   },
   "outputs": [],
   "source": [
    "count_bases_in_bed(coords_to_nrbed(run_show_coords(run_delta_filter(delta_Pst_104Eph_DK0911ph_mm, **{'m':'-m', 'i': '99', 'u': '0'})) , merged_d=0))"
   ]
  },
  {
   "cell_type": "code",
   "execution_count": null,
   "metadata": {
    "collapsed": true
   },
   "outputs": [],
   "source": [
    "!ls /home/benjamin/genome_assembly/PST79/FALCON/p_assemblies/v9_1/Pst_104E_v12/Warrior_comp_runs/mummer_comp/genomes/"
   ]
  },
  {
   "cell_type": "code",
   "execution_count": null,
   "metadata": {
    "collapsed": true
   },
   "outputs": [],
   "source": [
    "coords_to_nrbed(run_show_coords(run_delta_filter(delta_Pst_104Eph_DK0911ph_mm, **{'m':'-m', 'i': '98', 'u': '0'})))"
   ]
  },
  {
   "cell_type": "code",
   "execution_count": null,
   "metadata": {
    "collapsed": true
   },
   "outputs": [],
   "source": [
    "tmp_bed_object = BedTool(coords_to_nrbed(run_show_coords(run_delta_filter(delta_Pst_104Eph_DK0911ph_mm, **{'m':'-m', 'i': '98', 'u': '0'}))))"
   ]
  },
  {
   "cell_type": "code",
   "execution_count": null,
   "metadata": {
    "collapsed": true
   },
   "outputs": [],
   "source": [
    "tmp_bed_object.head()"
   ]
  },
  {
   "cell_type": "code",
   "execution_count": null,
   "metadata": {
    "collapsed": true
   },
   "outputs": [],
   "source": [
    "tmp_bed_object.merge(d=100).head()"
   ]
  },
  {
   "cell_type": "code",
   "execution_count": null,
   "metadata": {
    "collapsed": true
   },
   "outputs": [],
   "source": [
    "!head {coords_fn}"
   ]
  },
  {
   "cell_type": "code",
   "execution_count": null,
   "metadata": {
    "collapsed": true
   },
   "outputs": [],
   "source": [
    "with open(coords_fn, 'r') as fh:\n",
    "    counter = 0\n",
    "    for line in fh:\n",
    "        #if line.startswith('['):\n",
    "            #counter = 1\n",
    "        #if counter == 1:\n",
    "        n_columns = len(line.split('\\t'))\n",
    "column_names = ['r_start','r_stop', 'q_start', 'q_stop', 'aln_len_r', 'aln_len_q', 'pc_id', 'len_r', 'len_q', 'ref_name', 'query_name']\n",
    "\n",
    "if len(columns) != n_columns:\n",
    "    column_names.remove('len_r' )\n",
    "    column_names.remove('len_q')\n",
    "\n",
    "df = pd.read_csv(coords_fn, sep='\\t', skiprows=4, names=column_names )\n",
    "tmp_bed_fn = coords_fn.replace('.coords', '.tmpbed')\n",
    "df['r_bed_start'] = df.r_start - 1\n",
    "df['r_bed_stop'] = df.r_stop - 1\n",
    "df.loc[:, ['ref_name', 'r_bed_start', 'r_bed_stop']].to_csv(tmp_bed_fn, header=None, index=None, sep='\\t')\n",
    "BedTool(tmp_bed_fn).sort().merge().saveas(tmp_bed_fn.replace('.tmpbed', '.nr.bed'))\n",
    "return tmp_bed_fn.replace('.tmpbed', '.nr.bed')"
   ]
  },
  {
   "cell_type": "code",
   "execution_count": null,
   "metadata": {
    "collapsed": true
   },
   "outputs": [],
   "source": [
    "count_bases_in_bed"
   ]
  },
  {
   "cell_type": "code",
   "execution_count": null,
   "metadata": {
    "collapsed": true
   },
   "outputs": [],
   "source": [
    "df"
   ]
  },
  {
   "cell_type": "code",
   "execution_count": null,
   "metadata": {
    "collapsed": true
   },
   "outputs": [],
   "source": []
  },
  {
   "cell_type": "code",
   "execution_count": null,
   "metadata": {
    "collapsed": true
   },
   "outputs": [],
   "source": []
  },
  {
   "cell_type": "code",
   "execution_count": null,
   "metadata": {
    "collapsed": true
   },
   "outputs": [],
   "source": []
  },
  {
   "cell_type": "code",
   "execution_count": null,
   "metadata": {
    "collapsed": true
   },
   "outputs": [],
   "source": [
    "image = show_align_plot(run_mummerplot(run_delta_filter(delta_Pst_104E_DK0911p_mm, **{'m':'-m', 'i': '-i 90', 'u': '-u 0'}), **{ 'r': '-r pcontig_193'}))"
   ]
  },
  {
   "cell_type": "code",
   "execution_count": null,
   "metadata": {
    "collapsed": true
   },
   "outputs": [],
   "source": [
    "fig, ax = plt.subplots(2)\n",
    "ax[1] = image"
   ]
  },
  {
   "cell_type": "code",
   "execution_count": null,
   "metadata": {
    "collapsed": true
   },
   "outputs": [],
   "source": [
    "show_align_plot(run_mummerplot(run_delta_filter(delta_Pst_104E_DK0911p_mm, **{'m':'-m', 'i': '-i 90', 'u': '-u 0'}), **{ 'r': '-r pcontig_193'}))"
   ]
  },
  {
   "cell_type": "code",
   "execution_count": null,
   "metadata": {
    "collapsed": true
   },
   "outputs": [],
   "source": [
    "show_cov_plot(run_mummerplot(run_delta_filter(delta_Pst_104E_DK0911ph_mm, **{'m':'-m', 'i': '-i 98', 'u': '-u 0'}), **{'c': '-c', 'r': '-r pcontig_003'}))"
   ]
  },
  {
   "cell_type": "code",
   "execution_count": null,
   "metadata": {
    "collapsed": true
   },
   "outputs": [],
   "source": [
    "show_align_plot(run_mummerplot(run_delta_filter(delta_Pst_104E_DK0911p_mm, **{'m':'-m', 'i': '-i 90', 'u': '-u 90'}), **{'r': '-r pcontig_000'}))"
   ]
  },
  {
   "cell_type": "code",
   "execution_count": null,
   "metadata": {
    "collapsed": true
   },
   "outputs": [],
   "source": []
  },
  {
   "cell_type": "code",
   "execution_count": null,
   "metadata": {
    "collapsed": true
   },
   "outputs": [],
   "source": [
    "delta_filter = {'m':'-m'}\n",
    "showcoords_fiter = {}\n",
    "mummerplot_filter = {'c': '-c', 'r': '-r pcontig_000'}"
   ]
  },
  {
   "cell_type": "code",
   "execution_count": null,
   "metadata": {
    "collapsed": true
   },
   "outputs": [],
   "source": [
    "from PIL import Image\n",
    "\n",
    "# we get the image\n",
    "\n",
    "image = Image.open(run_mummerplot(run_delta_filter(delta_DK0911_self_mm, **{'m':'-m'}), **{'c': '-c', 'r': '-r pcontig_000'}))"
   ]
  },
  {
   "cell_type": "code",
   "execution_count": null,
   "metadata": {
    "collapsed": true
   },
   "outputs": [],
   "source": [
    "image.size"
   ]
  },
  {
   "cell_type": "code",
   "execution_count": null,
   "metadata": {
    "collapsed": true
   },
   "outputs": [],
   "source": [
    "image.crop((10,500,800,800))"
   ]
  },
  {
   "cell_type": "code",
   "execution_count": null,
   "metadata": {
    "collapsed": true
   },
   "outputs": [],
   "source": [
    "display(Image(run_mummerplot(run_delta_filter(delta_DK0911_self_mm, **{'m':'-m'}), **{'c': '-c', 'r': '-r pcontig_000'})))\n",
    "display(Image(run_mummerplot(run_delta_filter(delta_DK0911_self_mm), **{'c': '-c', 'r': '-r pcontig_000'})))\n",
    "display(Image(run_mummerplot(run_delta_filter(delta_DK0911_self_nmm), **{'c': '-c', 'r': '-r pcontig_000'})))"
   ]
  },
  {
   "cell_type": "code",
   "execution_count": null,
   "metadata": {
    "collapsed": true
   },
   "outputs": [],
   "source": [
    "os."
   ]
  },
  {
   "cell_type": "code",
   "execution_count": null,
   "metadata": {
    "collapsed": true
   },
   "outputs": [],
   "source": [
    "display(Image(run_mummerplot(run_delta_filter(delta_DK0911_self_mm), **{'c': '-c', 'r': '-r pcontig_000'})))"
   ]
  },
  {
   "cell_type": "code",
   "execution_count": null,
   "metadata": {
    "collapsed": true
   },
   "outputs": [],
   "source": [
    "np_image = [img2array(im) for im in images]"
   ]
  },
  {
   "cell_type": "code",
   "execution_count": null,
   "metadata": {
    "collapsed": true
   },
   "outputs": [],
   "source": [
    "np_image "
   ]
  },
  {
   "cell_type": "code",
   "execution_count": null,
   "metadata": {
    "collapsed": true
   },
   "outputs": [],
   "source": [
    "for img in np_image:\n",
    "    plt.figure()\n",
    "    plt.imshow(img)"
   ]
  },
  {
   "cell_type": "code",
   "execution_count": null,
   "metadata": {
    "collapsed": true
   },
   "outputs": [],
   "source": [
    "display(Image(run_mummerplot(run_delta_filter(delta_DK0911_self_mm, **{'m':'-m'}), **{'c': '-c', 'r': '-r pcontig_000'}), width=1000, height=300))"
   ]
  },
  {
   "cell_type": "code",
   "execution_count": null,
   "metadata": {
    "collapsed": true
   },
   "outputs": [],
   "source": [
    "delta_filters = {'m':'-m'}\n",
    "delta_filters = {}\n",
    "show_coords_filter = {'l': '-l', 'r': '-r'}\n",
    "mummerplot_filter = {'c': '-c', 'r': '-r pcontig_000'}"
   ]
  },
  {
   "cell_type": "code",
   "execution_count": null,
   "metadata": {
    "collapsed": true
   },
   "outputs": [],
   "source": [
    "Image(run_mummerplot(run_delta_filter(delta_DK0911_self_mm, **{'m':'-m'}), **{'c': '-c', 'r': '-r pcontig_000'}), width=1000, height=300)"
   ]
  },
  {
   "cell_type": "code",
   "execution_count": null,
   "metadata": {
    "collapsed": true
   },
   "outputs": [],
   "source": [
    "Image(run_mummerplot(run_delta_filter(delta_DK0911_self_mm), **{'c': '-c', 'r': '-r pcontig_000'}))"
   ]
  },
  {
   "cell_type": "code",
   "execution_count": null,
   "metadata": {
    "collapsed": true
   },
   "outputs": [],
   "source": [
    "showcoords = run_show_coords(delta_filter, **show_coords_filter)"
   ]
  },
  {
   "cell_type": "code",
   "execution_count": null,
   "metadata": {
    "collapsed": true
   },
   "outputs": [],
   "source": [
    "mummer_plot = run_mummerplot(delta_filter, **mummerplot_filter)"
   ]
  },
  {
   "cell_type": "code",
   "execution_count": null,
   "metadata": {
    "collapsed": true
   },
   "outputs": [],
   "source": [
    "previous_dir = os.getcwd()\n",
    "os.chdir(OUTFOLDER)\n",
    "Image(mummer_plot)\n",
    "#os.chdir(previous_dir)"
   ]
  },
  {
   "cell_type": "code",
   "execution_count": null,
   "metadata": {
    "collapsed": true
   },
   "outputs": [],
   "source": []
  }
 ],
 "metadata": {
  "kernelspec": {
   "display_name": "Python [default]",
   "language": "python",
   "name": "python3"
  },
  "language_info": {
   "codemirror_mode": {
    "name": "ipython",
    "version": 3
   },
   "file_extension": ".py",
   "mimetype": "text/x-python",
   "name": "python",
   "nbconvert_exporter": "python",
   "pygments_lexer": "ipython3",
   "version": "3.5.4"
  },
  "toc": {
   "nav_menu": {},
   "number_sections": true,
   "sideBar": true,
   "skip_h1_title": false,
   "title_cell": "Table of Contents",
   "title_sidebar": "Contents",
   "toc_cell": false,
   "toc_position": {},
   "toc_section_display": true,
   "toc_window_display": false
  }
 },
 "nbformat": 4,
 "nbformat_minor": 2
}
