{
 "cells": [
  {
   "cell_type": "markdown",
   "metadata": {},
   "source": [
    "#### Presence absence analysis of the DK0911 genome based on orthology\n",
    "\n"
   ]
  },
  {
   "cell_type": "markdown",
   "metadata": {},
   "source": [
    "#### Usefull folders\n",
    "\n",
    "- Warrior TE analysis: /home/benjamin/genome_assembly/Warrior/TE_analysis\n",
    "- Pst_104_TE analysis: /home/benjamin/genome_assembly/PST79/FALCON/p_assemblies/v9_1/Pst_104E_v12/Warrior_comp_runs/REPET/TE_analysis\n",
    "- comparative coverage: /home/benjamin/genome_assembly/Warrior/TE_analysis\n"
   ]
  },
  {
   "cell_type": "code",
   "execution_count": 1,
   "metadata": {
    "ExecuteTime": {
     "end_time": "2019-10-04T04:02:34.341814Z",
     "start_time": "2019-10-04T04:02:33.985816Z"
    },
    "collapsed": true
   },
   "outputs": [],
   "source": [
    "%matplotlib inline"
   ]
  },
  {
   "cell_type": "code",
   "execution_count": 2,
   "metadata": {
    "ExecuteTime": {
     "end_time": "2019-10-04T04:02:37.964050Z",
     "start_time": "2019-10-04T04:02:34.344106Z"
    },
    "collapsed": true
   },
   "outputs": [],
   "source": [
    "import os\n",
    "from pybedtools import BedTool\n",
    "import pandas as pd\n",
    "import scipy\n",
    "import pandas as pd\n",
    "import numpy as np # need for  stats\n",
    "import matplotlib.pyplot as plt\n",
    "import seaborn as sns\n",
    "import re\n",
    "from scipy.stats import mannwhitneyu\n",
    "from scipy.stats import fisher_exact\n",
    "from scipy.stats import spearmanr\n",
    "from scipy.stats import wilcoxon\n",
    "from scipy.stats import kruskal\n",
    "from statsmodels.stats.multitest import multipletests\n",
    "from seaborn import boxenplot\n",
    "import pybedtools"
   ]
  },
  {
   "cell_type": "code",
   "execution_count": 3,
   "metadata": {
    "ExecuteTime": {
     "end_time": "2019-10-04T04:02:37.975033Z",
     "start_time": "2019-10-04T04:02:37.966540Z"
    },
    "collapsed": true
   },
   "outputs": [],
   "source": [
    "DK0911_ortho_dir = '/home/benjamin/genome_assembly/Warrior/DK0911_v04/comp_orthology/orthofinder/DK0911_vs_Ps104E_v13/'\n",
    "Pst_104E_ortho_dir = '/home/benjamin/genome_assembly/Warrior/DK0911_v04/comp_orthology/orthofinder/Ps104E_v13_vs_DK0911/'\n",
    "DK0911_genome_file_fn = '/home/benjamin/genome_assembly/Warrior/genome_v04/DK_0911_v04_ph_ctg.genome_file'\n",
    "Pst_104E_genome_file_fn = \\\n",
    "'/home/benjamin/genome_assembly/PST79/FALCON/p_assemblies/v9_1/092017_assembly/Pst_104E_v13_ph_ctg.genome_file'\n",
    "WGA_PAA_dir = '/home/benjamin/genome_assembly/Warrior/DK0911_v04/comp_COV/mummer4'\n",
    "LOWCOV_PAA_dir = '/home/benjamin/genome_assembly/Warrior/DK0911_v04/comp_COV/SRM_mapping/filtered/'\n",
    "ORTHOFINDER_FILE_NAME = '/home/benjamin/genome_assembly/Warrior/DK0911_v04/comp_orthology/orthofinder/result_update_redundant_protein_sets_01032019/Orthogroups_3_combined.csv'\n",
    "OUT_dir = '/home/benjamin/genome_assembly/Warrior/DK0911_v04/comp_orthology/orthofinder/downstream_analysis/'\n",
    "ORTHOFINDER_FILE_NAME = '/home/benjamin/genome_assembly/Warrior/DK0911_v04/comp_orthology/orthofinder/result_update_redundant_protein_sets_01032019/Orthogroups_3_combined.csv'"
   ]
  },
  {
   "cell_type": "markdown",
   "metadata": {
    "ExecuteTime": {
     "end_time": "2019-05-06T11:26:51.264463Z",
     "start_time": "2019-05-06T11:26:51.256515Z"
    },
    "collapsed": true
   },
   "source": [
    "* do simple checks if any of the genes is more likely to lack orthologs then others e.g. BUSCOS vs effectors and such\n",
    "* check if the missing orthologs overlap with other missing genes\n",
    "* pull in the Synet file for synteny and ask if effectors are in longer blogs or ask what is the speciatly of shorter blogs or now hits\n"
   ]
  },
  {
   "cell_type": "code",
   "execution_count": 4,
   "metadata": {
    "ExecuteTime": {
     "end_time": "2019-10-04T04:02:38.010790Z",
     "start_time": "2019-10-04T04:02:37.978313Z"
    },
    "collapsed": true
   },
   "outputs": [],
   "source": [
    "###all the bedfiles\n",
    "Pst_104E_annotation_dir = '/home/benjamin/genome_assembly/Warrior/DK0911_v04/comp_orthology/Pst104E_annotations/'\n",
    "Pst_104E_dict = {}\n",
    "Pst_104E_dict['Busco'] = os.path.join(Pst_104E_annotation_dir, 'Pst_104E_v13_ph_ctg.busco.gene.bed')\n",
    "Pst_104E_dict['All_genes'] = os.path.join(Pst_104E_annotation_dir, 'Pst_104E_v13_ph_ctg.genes.gene.bed')\n",
    "Pst_104E_dict['Primary_genes'] = os.path.join(Pst_104E_annotation_dir, 'Pst_104E_v13_p_ctg.genes.gene.bed')\n",
    "Pst_104E_dict['Secretome'] = os.path.join(Pst_104E_annotation_dir, 'Pst_104E_v13_ph_ctg.secretome.gene.bed')\n",
    "Pst_104E_dict['Ceffectors'] = os.path.join(Pst_104E_annotation_dir, 'Pst_104E_v13_ph_ctg.ceffectors.gene.bed')\n",
    "Pst_104E_dict['EffectorP'] = os.path.join(Pst_104E_annotation_dir, 'Pst_104E_v13_ph_ctg.effectorp.gene.bed')\n",
    "Pst_104E_dict['TE_superfamily'] = os.path.join(Pst_104E_annotation_dir, 'Pst_104E_v13_ph_ctg.104Ep_DK0911p.REPET.superfamily.gff')\n",
    "Pst_104E_dict['Lowcov_01'] = os.path.join(LOWCOV_PAA_dir, 'Pst_104E_v13_ph_ctg.bwamem.DK0911_gDNA.ph_window_w1000s200.ph_mapping.lowcov01.filtered.bed')\n",
    "Pst_104E_dict['WGA_95'] = os.path.join(WGA_PAA_dir, 'Pst_104E_v13_ph_ctg.DK_0911_v04_ph_ctg.l100.c500.mm.deltafilter_i95mu0g_.nr_reverse.bed')\n",
    "Pst_104E_dict['Singletons'] = os.path.join(Pst_104E_ortho_dir,'190312_Ps104E_v13_vs_DK0911_singleton.csv')\n",
    "Pst_104E_dict['Alleles'] = os.path.join(Pst_104E_ortho_dir, '190312_Ps104E_v13_vs_DK0911_allele.csv')\n",
    "Pst_104E_dict['Paraloges'] = os.path.join(Pst_104E_ortho_dir, '190312_Ps104E_v13_vs_DK0911_paraloge.csv')"
   ]
  },
  {
   "cell_type": "code",
   "execution_count": 5,
   "metadata": {
    "ExecuteTime": {
     "end_time": "2019-10-04T04:02:38.047430Z",
     "start_time": "2019-10-04T04:02:38.014375Z"
    },
    "collapsed": true
   },
   "outputs": [],
   "source": [
    "###all the bedfiles\n",
    "DK0911_annotation_dir = '/home/benjamin/genome_assembly/Warrior/DK0911_v04/comp_orthology/DK0911_annotations/'\n",
    "DK0911_dict = {}\n",
    "DK0911_dict['Busco'] = os.path.join(DK0911_annotation_dir, 'DK_0911_v04_ph_ctg.busco.gene.bed')\n",
    "DK0911_dict['All_genes'] = os.path.join(DK0911_annotation_dir, 'DK_0911_v04_ph_ctg.genes.gene.bed')\n",
    "DK0911_dict['Primary_genes'] = os.path.join(DK0911_annotation_dir, 'DK_0911_v04_p_ctg.genes.gene.bed')\n",
    "DK0911_dict['Secretome'] = os.path.join(DK0911_annotation_dir, 'DK_0911_v04_ph_ctg.secretome.gene.bed')\n",
    "DK0911_dict['Ceffectors'] = os.path.join(DK0911_annotation_dir, 'DK_0911_v04_ph_ctg.effectorp20.gene.bed')\n",
    "DK0911_dict['EffectorP'] = os.path.join(DK0911_annotation_dir, 'DK_0911_v04_ph_ctg.effectorp20.gene.bed')\n",
    "DK0911_dict['TE_superfamily'] = os.path.join(DK0911_annotation_dir, 'DK_0911_v04_ph_ctg.104Ep_DK0911p.REPET.superfamily.gff')\n",
    "DK0911_dict['Lowcov_01'] = os.path.join(LOWCOV_PAA_dir, 'DK_0911_v04_ph_ctg.bwamem.Pst79_TS.RG.mark_dup.ph_window_w1000s200.ph_mapping.lowcov01.filtered.bed' )\n",
    "DK0911_dict['WGA_95'] = os.path.join(WGA_PAA_dir, 'DK_0911_v04_ph_ctg.Pst_104E_v13_ph_ctg.l100.c500.mm.deltafilter_i95mu0g_.nr_reverse.bed')\n",
    "DK0911_dict['Singletons'] = os.path.join(DK0911_ortho_dir,'190506_DK0911_vs_Ps104E_v13_singleton.csv')\n",
    "DK0911_dict['Alleles'] = os.path.join(DK0911_ortho_dir, '190506_DK0911_vs_Ps104E_v13_allele.csv')\n",
    "DK0911_dict['Paraloges'] = os.path.join(DK0911_ortho_dir, '190506_DK0911_vs_Ps104E_v13_paraloge.csv')"
   ]
  },
  {
   "cell_type": "code",
   "execution_count": 6,
   "metadata": {
    "ExecuteTime": {
     "end_time": "2019-10-04T04:02:38.053306Z",
     "start_time": "2019-10-04T04:02:38.050089Z"
    },
    "collapsed": true
   },
   "outputs": [],
   "source": [
    "##OUTPATH for figures\n",
    "OUTPATH='/home/benjamin/genome_assembly/Warrior/DK0911_v04/figures'"
   ]
  },
  {
   "cell_type": "code",
   "execution_count": 7,
   "metadata": {
    "ExecuteTime": {
     "end_time": "2019-10-04T04:02:38.062352Z",
     "start_time": "2019-10-04T04:02:38.055759Z"
    },
    "collapsed": true
   },
   "outputs": [],
   "source": [
    "def overlap_feature_names(bed_a_fn, bed_b_fn, min_f_overlap):\n",
    "    \"\"\"Count the number of unqiue genes that intersect witht basence bedfile.\n",
    "    Assumes bed_a_fn is a bed six file.\"\"\"\n",
    "    bed_a = BedTool(bed_a_fn)\n",
    "    bed_b = BedTool(bed_b_fn)\n",
    "    return bed_a.intersect(bed_b, f=min_f_overlap).to_dataframe().name.unique()"
   ]
  },
  {
   "cell_type": "code",
   "execution_count": 8,
   "metadata": {
    "ExecuteTime": {
     "end_time": "2019-10-04T04:02:38.097491Z",
     "start_time": "2019-10-04T04:02:38.064538Z"
    },
    "collapsed": true
   },
   "outputs": [],
   "source": [
    "def get_sing_para(fn):\n",
    "    if 'singleton' in fn:\n",
    "        return pd.read_csv(fn)['Query'].tolist()\n",
    "    elif 'paraloge' in fn:\n",
    "        queries = pd.read_csv(fn)['Query'].tolist()\n",
    "        targets = pd.read_csv(fn)['Target'].tolist()\n",
    "        return queries, targets\n",
    "    else:\n",
    "        raise ValueError"
   ]
  },
  {
   "cell_type": "code",
   "execution_count": 9,
   "metadata": {
    "ExecuteTime": {
     "end_time": "2019-10-04T04:02:38.104340Z",
     "start_time": "2019-10-04T04:02:38.099859Z"
    },
    "collapsed": true
   },
   "outputs": [],
   "source": [
    "def get_gene_list(bed_fn):\n",
    "    df = pd.read_csv(bed_fn, header=None, sep='\\t')\n",
    "    return df[3].unique()"
   ]
  },
  {
   "cell_type": "code",
   "execution_count": 10,
   "metadata": {
    "ExecuteTime": {
     "end_time": "2019-10-04T04:02:38.114807Z",
     "start_time": "2019-10-04T04:02:38.106957Z"
    },
    "collapsed": true
   },
   "outputs": [],
   "source": [
    "def subset_bed(name_list, bed_fn, out_fn):\n",
    "    df = pd.read_csv(bed_fn, header=None, sep='\\t')\n",
    "    df[df[3].isin(name_list)].to_csv(out_fn, sep='\\t', header=None, index=None)\n",
    "    return out_fn"
   ]
  },
  {
   "cell_type": "code",
   "execution_count": 11,
   "metadata": {
    "ExecuteTime": {
     "end_time": "2019-10-04T04:02:38.122374Z",
     "start_time": "2019-10-04T04:02:38.117328Z"
    },
    "collapsed": true
   },
   "outputs": [],
   "source": [
    "def random_genes(bed_fn, n):\n",
    "    df = pd.read_csv(bed_fn, header=None, sep='\\t')\n",
    "    return df.sample(n)[3].tolist()"
   ]
  },
  {
   "cell_type": "code",
   "execution_count": 12,
   "metadata": {
    "ExecuteTime": {
     "end_time": "2019-10-04T04:02:38.129360Z",
     "start_time": "2019-10-04T04:02:38.124749Z"
    },
    "collapsed": true
   },
   "outputs": [],
   "source": [
    "def fisher_p(test_list, expect_list):\n",
    "    return fisher_exact([[len(test_list[0]), len(test_list[1])], [len(expect_list[0]), len(expect_list[1])]])[1]"
   ]
  },
  {
   "cell_type": "code",
   "execution_count": 13,
   "metadata": {
    "ExecuteTime": {
     "end_time": "2019-10-04T04:02:38.135651Z",
     "start_time": "2019-10-04T04:02:38.131750Z"
    },
    "collapsed": true
   },
   "outputs": [],
   "source": [
    "def count_genes_in_bed(bed_fn):\n",
    "    return pd.read_csv(bed_fn, header=None, sep='\\t').shape[0]"
   ]
  },
  {
   "cell_type": "code",
   "execution_count": 14,
   "metadata": {
    "ExecuteTime": {
     "end_time": "2019-10-04T04:02:38.165838Z",
     "start_time": "2019-10-04T04:02:38.137905Z"
    },
    "collapsed": true
   },
   "outputs": [],
   "source": [
    "def summary_dict_to_df(summary_dict, outer_index, inner_index):\n",
    "    \"\"\"Convert as summary dict with multiple keys and values of same length. To a multiindex dataframe.\"\"\"\n",
    "    assert(outer_index[0:int(len(outer_index)/2)] == outer_index[int(len(outer_index)/2):])\n",
    "    assert(inner_index[0:int(len(inner_index)/2)] == inner_index[int(len(inner_index)/2):])\n",
    "    df = pd.DataFrame.from_dict(summary_dict)\n",
    "    df['Cut_off'] = [x for x in outer_index[0:int(len(outer_index)/2)]]\n",
    "    \n",
    "    df['Type'] = inner_index[0:int(len(inner_index)/2)]\n",
    "    df.sort_values(['Cut_off', 'Type'], inplace = True)\n",
    "    index = pd.MultiIndex.from_tuples(list(zip(df['Cut_off'] , df['Type'])), names=['Cut-off', 'Type'])\n",
    "    df.index = index\n",
    "    return df.loc[:, df.columns[:2]].copy()"
   ]
  },
  {
   "cell_type": "code",
   "execution_count": 15,
   "metadata": {
    "ExecuteTime": {
     "end_time": "2019-10-04T04:02:38.312675Z",
     "start_time": "2019-10-04T04:02:38.168066Z"
    },
    "collapsed": true
   },
   "outputs": [],
   "source": [
    "def plot_synteny(genome, df,filter_bed_fn,color, out_fn):\n",
    "   \n",
    "    columns = [x for x in df.columns if genome in x][1:]\n",
    "    \n",
    "    f1, ax = plt.subplots(1, len(columns), figsize=(20, 7), sharey=True)\n",
    "    \n",
    "    column_rename_dict = {'All_genes': 'All genes',\n",
    "                         'Busco': \"BUSCOs\",\n",
    "                         'Ceffectors': 'Candidate effectors',\n",
    "                         'EffectorP' : 'EffectorP',\n",
    "                         'Secretome' : 'Secretome'}\n",
    "    \n",
    "    for n, column in enumerate(columns):\n",
    "        if genome == 'DK0911':\n",
    "            _dict = DK0911_dict\n",
    "        elif genome =='Pst_104E':\n",
    "            _dict = Pst_104E_dict\n",
    "        sub_gene_list = get_gene_list(filter_bed_fn)\n",
    "        df = df[df[genome].isin(sub_gene_list)].copy()\n",
    "        df = df.reset_index(drop=True)    \n",
    "        max_genes = len([x for x in get_gene_list(_dict[column.replace(genome+'_','')]) if x in sub_gene_list])\n",
    "        \n",
    "        \n",
    "        sns.violinplot(y=df[df[column] == True]['aln_length'], color=color, ax=ax[n], cut =0)\n",
    "        #ax[y[0], y[1]].axhline(y=overlap, color='r', linestyle='-')\n",
    "        #ax[n].set_title(column, fontsize=16)\n",
    "        #ax[y[0], y[1]].set_yticklabels([])\n",
    "        ax[n].set_ylabel('')\n",
    "        ax[n].set_xlabel(column_rename_dict[column.replace(genome+\"_\",'')]\\\n",
    "                         , fontsize=20, fontweight='bold')\n",
    "        ax[n].text(0.1, 390, 'n=%s' % df[df[column] == True].shape[0])\n",
    "        \n",
    "        \n",
    "        \n",
    "        ax[n].text(0.1, 370, 'max=%s' % max_genes)\n",
    "        percentage = round(df[df[column] == True].shape[0]/max_genes*100,2)\n",
    "        ax[n].text(0.1, 350, '%%=%s' % percentage)\n",
    "        for axis in ['bottom','left']:\n",
    "            ax[n].spines[axis].set_linewidth(2)\n",
    "        for axis in ['top','right']:\n",
    "            ax[n].spines[axis].set_linewidth(0)\n",
    "        ax[n].tick_params(width=2)\n",
    "        \n",
    "    ax[0].set_ylabel('Synteny Block Size', fontsize=20, fontweight='bold')\n",
    "    ax[0].set_ylim(0, 400)\n",
    "    plt.subplots_adjust(right=0.3, left=0.1)\n",
    "    #f1.suptitle(genome)\n",
    "    plt.tight_layout()\n",
    "    #f1.suptitle(os.path.basename(out_fn))\n",
    "    #plt.savefig(out_fn, dpi =300)\n",
    "    sns.despine(f1)\n",
    "    return f1"
   ]
  },
  {
   "cell_type": "code",
   "execution_count": 16,
   "metadata": {
    "ExecuteTime": {
     "end_time": "2019-10-04T04:02:38.372560Z",
     "start_time": "2019-10-04T04:02:38.314846Z"
    },
    "collapsed": true
   },
   "outputs": [],
   "source": [
    "def get_collinear_df(fn):\n",
    "    \"\"\"Parses out a dataframe from a collinear file obtained with synet runs.\n",
    "    This is not universial right now but assumes that DK0911 is first in this file and Pst104 is\n",
    "    second in this file.\"\"\"\n",
    "\n",
    "    synteny_dict = {}\n",
    "    synteny_dict['aln_name'] = []\n",
    "    synteny_dict['aln_position'] = []\n",
    "    synteny_dict['aln_length'] = []\n",
    "    synteny_dict['Pst_104E'] = []\n",
    "    synteny_dict['DK0911'] = []\n",
    "    synteny_dict['distance_5'] = []\n",
    "    synteny_dict['distance_3'] = []\n",
    "    len_pattern = re.compile(r'N=([^ ]*)')\n",
    "    d_pattern = re.compile(r'DK[^\\t]*')\n",
    "    p_pattern = re.compile(r'Pst[^\\t]*')\n",
    "    position_pattern = re.compile(r'-([^:]*)')\n",
    "    count = 0\n",
    "    with open(fn, 'r') as fh:\n",
    "        for line in fh:\n",
    "            line.rstrip()\n",
    "            count = count + 1\n",
    "            if line.startswith(r'## '):\n",
    "                aln_len = int(re.findall(len_pattern, line)[0])\n",
    "                aln_name = line.split(':')[0][3:]\n",
    "            elif not line.startswith(r'#'):\n",
    "                aln_position = int(re.findall(position_pattern , line)[0].replace(' ', ''))\n",
    "                synteny_dict['DK0911'].append(re.findall(d_pattern, line)[0])\n",
    "                synteny_dict['Pst_104E'].append(re.findall(p_pattern, line)[0])\n",
    "                synteny_dict['aln_name'].append(aln_name)\n",
    "                synteny_dict['aln_length'].append(aln_len)\n",
    "                synteny_dict['aln_position'].append(aln_position)\n",
    "                synteny_dict['distance_5'].append(aln_position)\n",
    "                synteny_dict['distance_3'].append(aln_len - aln_position)\n",
    "    syn_df = pd.DataFrame.from_dict(synteny_dict)\n",
    "    return syn_df\n"
   ]
  },
  {
   "cell_type": "code",
   "execution_count": 17,
   "metadata": {
    "ExecuteTime": {
     "end_time": "2019-10-04T04:02:38.379984Z",
     "start_time": "2019-10-04T04:02:38.374676Z"
    },
    "collapsed": true
   },
   "outputs": [],
   "source": [
    "def get_diamond_six_df(fn):\n",
    "    header = ['qseqid',\n",
    " 'sseqid',\n",
    " 'pident',\n",
    " 'length',\n",
    " 'mismatch',\n",
    " 'gapopen',\n",
    " 'qstart',\n",
    " 'qend',\n",
    " 'sstart',\n",
    " 'send',\n",
    " 'evalue',\n",
    " 'bitscore']\n",
    "    return pd.read_csv(fn, header=None, sep='\\t', names=header)"
   ]
  },
  {
   "cell_type": "code",
   "execution_count": 18,
   "metadata": {
    "ExecuteTime": {
     "end_time": "2019-10-04T04:02:38.389949Z",
     "start_time": "2019-10-04T04:02:38.381777Z"
    },
    "collapsed": true
   },
   "outputs": [],
   "source": [
    "def add_gentype_column(df, gene_type_list, genome, bed_fn_dict):\n",
    "    \"\"\"A function that takes a collinear dataframe, a gentype list, a genome name and a dictionary\n",
    "    that contains the filenames for bedfiles of genes belonging to different genetypes.\n",
    "    The function adds a new column to the df with False/True to belonging to the genetype.\"\"\"\n",
    "    for gene_type in gene_type_list:\n",
    "        tmp_index = df[genome].isin(get_gene_list(bed_fn_dict[gene_type]))\n",
    "        key = '%s_%s' % (genome, gene_type)\n",
    "        df[key] = False\n",
    "        df.loc[tmp_index, key] = True\n",
    "    return df"
   ]
  },
  {
   "cell_type": "code",
   "execution_count": 19,
   "metadata": {
    "ExecuteTime": {
     "end_time": "2019-10-04T04:02:38.397349Z",
     "start_time": "2019-10-04T04:02:38.391725Z"
    },
    "collapsed": true
   },
   "outputs": [],
   "source": [
    "def get_genetype_means(df, genome, gene_keys):\n",
    "    means = []\n",
    "    for gene_type in gene_keys:\n",
    "        column = '%s_%s' % (genome, gene_type)\n",
    "        means.append(round(df[df[column] == True]['aln_length'].mean(),2))\n",
    "    return means"
   ]
  },
  {
   "cell_type": "code",
   "execution_count": 20,
   "metadata": {
    "ExecuteTime": {
     "end_time": "2019-10-04T04:02:38.404619Z",
     "start_time": "2019-10-04T04:02:38.399094Z"
    },
    "collapsed": true
   },
   "outputs": [],
   "source": [
    "def get_genetype_median(df, genome, gene_keys):\n",
    "    medians = []\n",
    "    for gene_type in gene_keys:\n",
    "        column = '%s_%s' % (genome, gene_type)\n",
    "        medians.append(round(df[df[column] == True]['aln_length'].median(),2))\n",
    "    return medians"
   ]
  },
  {
   "cell_type": "code",
   "execution_count": 21,
   "metadata": {
    "ExecuteTime": {
     "end_time": "2019-10-04T04:02:38.415299Z",
     "start_time": "2019-10-04T04:02:38.406404Z"
    },
    "collapsed": true
   },
   "outputs": [],
   "source": [
    "def get_genetype_percentage(df, genome, bed_fn_dict, subset_bed_fn, gene_keys):\n",
    "    percentages = []\n",
    "    for gene_type in gene_keys:\n",
    "        column = '%s_%s' % (genome, gene_type)\n",
    "        max_genes = set(get_gene_list(bed_fn_dict[gene_type])).intersection(get_gene_list(subset_bed_fn))\n",
    "        percentages.append(round(len(df[df[column] == True][genome].unique())/len(max_genes)*100,2))\n",
    "        \n",
    "    return percentages"
   ]
  },
  {
   "cell_type": "code",
   "execution_count": 22,
   "metadata": {
    "ExecuteTime": {
     "end_time": "2019-10-04T04:02:38.424019Z",
     "start_time": "2019-10-04T04:02:38.416973Z"
    },
    "collapsed": true
   },
   "outputs": [],
   "source": [
    "def max_colinear_df(_dict, gene_keys):\n",
    "    df = pd.DataFrame.from_dict(_dict)\n",
    "    df.index = gene_keys\n",
    "    new_columns = [int(x) for x in df.columns]\n",
    "    new_columns.sort()\n",
    "    new_columns = [str(x) for x in new_columns]\n",
    "    return df.loc[:, new_columns].copy()"
   ]
  },
  {
   "cell_type": "code",
   "execution_count": 23,
   "metadata": {
    "ExecuteTime": {
     "end_time": "2019-10-04T04:02:38.440360Z",
     "start_time": "2019-10-04T04:02:38.425694Z"
    },
    "collapsed": true
   },
   "outputs": [],
   "source": [
    "def get_ortho_dict(file_name):\n",
    "    \"\"\"Function that takes a orthofinder file name and generates an orthofinder dict.\n",
    "    Input:\n",
    "        CSV Filename of orthofinder output.\n",
    "    Output:\n",
    "        Orthofinder dict with keys intergers of the numerical part of the orthofinder group.\n",
    "        Values are the gene identifier of each orthogroup.\"\"\"\n",
    "    orthofinder_dict = {}\n",
    "    try:\n",
    "        with open(file_name) as fh:\n",
    "            for line in fh:\n",
    "                if line.startswith('OG'):\n",
    "                    line.strip()\n",
    "                    OG = line.split('\\t')[0]\n",
    "                    value = [x.strip() for x in line.split(OG)[1].replace('\\t',',').split(',') if x != '']\n",
    "                    orthofinder_dict[int(line.split('\\t')[0].strip('OG'))] = value\n",
    "        return orthofinder_dict\n",
    "    except FileNotFoundError:\n",
    "        print(\"Please check the orthofinder in put file.\")"
   ]
  },
  {
   "cell_type": "code",
   "execution_count": 24,
   "metadata": {
    "ExecuteTime": {
     "end_time": "2019-10-04T04:02:38.447695Z",
     "start_time": "2019-10-04T04:02:38.442032Z"
    },
    "collapsed": true
   },
   "outputs": [],
   "source": [
    "def get_gene_to_ortho_dict(orthofinder_dict):\n",
    "    \"\"\"Function that makes a gene to ortho dict.\"\"\"\n",
    "    gene_to_ortho_dict = {}\n",
    "    for key,value in orthofinder_dict.items():\n",
    "        for item in value:\n",
    "            gene_to_ortho_dict[item] = key\n",
    "    return gene_to_ortho_dict"
   ]
  },
  {
   "cell_type": "markdown",
   "metadata": {},
   "source": [
    "#### Start with a chek if all two inputs of orhtology and ben beds line up"
   ]
  },
  {
   "cell_type": "code",
   "execution_count": 25,
   "metadata": {
    "ExecuteTime": {
     "end_time": "2019-10-04T04:02:38.905450Z",
     "start_time": "2019-10-04T04:02:38.449382Z"
    },
    "collapsed": true
   },
   "outputs": [],
   "source": [
    "DK_all = get_gene_list(DK0911_dict['All_genes'])\n",
    "Pst_104_all = get_gene_list(Pst_104E_dict['All_genes'])"
   ]
  },
  {
   "cell_type": "code",
   "execution_count": 26,
   "metadata": {
    "ExecuteTime": {
     "end_time": "2019-10-04T04:02:39.096864Z",
     "start_time": "2019-10-04T04:02:38.907894Z"
    }
   },
   "outputs": [
    {
     "data": {
      "text/plain": [
       "True"
      ]
     },
     "execution_count": 26,
     "metadata": {},
     "output_type": "execute_result"
    }
   ],
   "source": [
    "set(DK_all) == (set(pd.read_csv(DK0911_dict['Alleles'], header=None)[1][1:].unique())\\\n",
    "| set(get_sing_para(DK0911_dict['Paraloges'])[0]) | set(get_sing_para(DK0911_dict['Singletons']))) "
   ]
  },
  {
   "cell_type": "code",
   "execution_count": 27,
   "metadata": {
    "ExecuteTime": {
     "end_time": "2019-10-04T04:02:39.250318Z",
     "start_time": "2019-10-04T04:02:39.098860Z"
    }
   },
   "outputs": [
    {
     "data": {
      "text/plain": [
       "True"
      ]
     },
     "execution_count": 27,
     "metadata": {},
     "output_type": "execute_result"
    }
   ],
   "source": [
    "set(Pst_104_all) == (set(pd.read_csv(Pst_104E_dict['Alleles'], header=None)[1][1:].unique())\\\n",
    "| set(get_sing_para(Pst_104E_dict['Paraloges'])[0]) | set(get_sing_para(Pst_104E_dict['Singletons']))) "
   ]
  },
  {
   "cell_type": "code",
   "execution_count": 28,
   "metadata": {
    "ExecuteTime": {
     "end_time": "2019-10-04T04:02:40.578739Z",
     "start_time": "2019-10-04T04:02:39.252374Z"
    }
   },
   "outputs": [
    {
     "name": "stdout",
     "output_type": "stream",
     "text": [
      "For DK_0911_v04_ph_ctg:\n",
      "WGA_missing:553, 7.96E-34\n",
      "LOWCOV_missing:724, 1.20E-34\n",
      "Combined_missing:185\n",
      "Random_missing:15\n",
      "\n",
      "For Pst_104E_v13_ph_ctg:\n",
      "WGA_missing:2084, 1.31E-187\n",
      "LOWCOV_missing:2394, 1.15E-193\n",
      "Combined_missing:1441\n",
      "Random_missing:174\n",
      "\n"
     ]
    }
   ],
   "source": [
    "#get the combined missing genes and test if the overlap is significant with a fishers exact test and randomization\n",
    "min_overlap = 1\n",
    "key = \"WGA_LOWCOV_combined_mo%s\" % str(min_overlap).replace('.','')\n",
    "\n",
    "for _dict in [DK0911_dict, Pst_104E_dict]:\n",
    "    WGA_genes = overlap_feature_names(_dict['All_genes'], _dict['WGA_95'], min_overlap)\n",
    "    WGA_random = random_genes(_dict['All_genes'], len(WGA_genes))\n",
    "    LOWCOV_genes = overlap_feature_names(_dict['All_genes'], _dict['Lowcov_01'], min_overlap)\n",
    "    LOWCOV_random = random_genes(_dict['All_genes'], len(LOWCOV_genes))\n",
    "    genome = os.path.basename(_dict['All_genes']).split('.')[0]\n",
    "    overlap_list = [x for x in WGA_genes if x in LOWCOV_genes]\n",
    "    random_overlap_list = [x for x in WGA_random if x in LOWCOV_random]\n",
    "    out_fn = os.path.join(OUT_dir, '%s.%s.bed' % (genome, key))\n",
    "    _dict[key] = subset_bed(overlap_list, _dict['All_genes'], out_fn)\n",
    "    p_WGA = fisher_p([overlap_list, WGA_genes],[random_overlap_list, WGA_genes] )\n",
    "    p_LOWCOV = fisher_p([overlap_list, LOWCOV_genes],[random_overlap_list, LOWCOV_genes] )\n",
    "    print('For %s:\\nWGA_missing:%s, %.2E\\nLOWCOV_missing:%s, %.2E\\nCombined_missing:%s\\nRandom_missing:%s\\n'%\\\n",
    "         (genome, len(WGA_genes), p_WGA,  len(LOWCOV_genes), p_LOWCOV, len(overlap_list), len(random_overlap_list)))"
   ]
  },
  {
   "cell_type": "code",
   "execution_count": 29,
   "metadata": {
    "ExecuteTime": {
     "end_time": "2019-10-04T04:02:41.240426Z",
     "start_time": "2019-10-04T04:02:40.581527Z"
    }
   },
   "outputs": [
    {
     "name": "stdout",
     "output_type": "stream",
     "text": [
      "For DK_0911_v04_ph_ctg:\n",
      "WGA_missing:553, 1.22E-14\n",
      "Singletons_missing:1275, 1.60E-15\n",
      "Combined_missing:133\n",
      "Random_missing:31\n",
      "\n",
      "For Pst_104E_v13_ph_ctg:\n",
      "WGA_missing:2084, 5.53E-33\n",
      "Singletons_missing:1404, 1.28E-31\n",
      "Combined_missing:345\n",
      "Random_missing:91\n",
      "\n"
     ]
    }
   ],
   "source": [
    "for _dict in [DK0911_dict, Pst_104E_dict]:\n",
    "    WGA_genes = overlap_feature_names(_dict['All_genes'], _dict['WGA_95'], min_overlap)\n",
    "    WGA_random = random_genes(_dict['All_genes'], len(WGA_genes))\n",
    "    singletons = get_sing_para(_dict['Singletons'])\n",
    "    singletons_random = random_genes(_dict['All_genes'], len(singletons))\n",
    "    genome = os.path.basename(_dict['All_genes']).split('.')[0]\n",
    "    overlap_list = [x for x in WGA_genes if x in singletons]\n",
    "    random_overlap_list = [x for x in WGA_random if x in singletons_random]\n",
    "    \n",
    "    p_WGA = fisher_p([overlap_list, WGA_genes],[random_overlap_list, WGA_genes] )\n",
    "    p_sing = fisher_p([overlap_list, singletons],[random_overlap_list, singletons] )\n",
    "    print('For %s:\\nWGA_missing:%s, %.2E\\nSingletons_missing:%s, %.2E\\nCombined_missing:%s\\nRandom_missing:%s\\n'%\\\n",
    "         (genome, len(WGA_genes), p_WGA,  len(singletons), p_sing, len(overlap_list), len(random_overlap_list)))\n",
    "\n"
   ]
  },
  {
   "cell_type": "code",
   "execution_count": 30,
   "metadata": {
    "ExecuteTime": {
     "end_time": "2019-10-04T04:02:42.159535Z",
     "start_time": "2019-10-04T04:02:41.243754Z"
    }
   },
   "outputs": [
    {
     "name": "stdout",
     "output_type": "stream",
     "text": [
      "For DK_0911_v04_ph_ctg:\n",
      "WGA_missing:553, 1.15E-03\n",
      "Singletons_missing:1275, 9.36E-04\n",
      "LOWCOV_missing:724, 1E-032\n",
      "Combined_missing:55\n",
      "Random_missing:25\n",
      "\n",
      "For Pst_104E_v13_ph_ctg:\n",
      "WGA_missing:2084, 3.10E-23\n",
      "Singletons_missing:1404, 1.62E-22\n",
      "LOWCOV_missing:2394, 2E-232\n",
      "Combined_missing:276\n",
      "Random_missing:84\n",
      "\n"
     ]
    }
   ],
   "source": [
    "for _dict in [DK0911_dict, Pst_104E_dict]:\n",
    "    WGA_genes = overlap_feature_names(_dict['All_genes'], _dict['WGA_95'], min_overlap)\n",
    "    WGA_random = random_genes(_dict['All_genes'], len(WGA_genes))\n",
    "    singletons = get_sing_para(_dict['Singletons'])\n",
    "    singletons_random = random_genes(_dict['All_genes'], len(singletons))\n",
    "    genome = os.path.basename(_dict['All_genes']).split('.')[0]\n",
    "    LOWCOV_genes = overlap_feature_names(_dict['All_genes'], _dict['Lowcov_01'], min_overlap)\n",
    "    LOWCOV_random = random_genes(_dict['All_genes'], len(LOWCOV_genes))\n",
    "    \n",
    "    overlap_list = [x for x in WGA_genes if x in singletons and x in LOWCOV_genes]\n",
    "    random_overlap_list = [x for x in WGA_random if x in singletons_random and LOWCOV_random]\n",
    "    \n",
    "    p_WGA = fisher_p([overlap_list, WGA_genes],[random_overlap_list, WGA_genes] )\n",
    "    p_sing = fisher_p([overlap_list, singletons],[random_overlap_list, singletons] )\n",
    "    p_LOWCOV = fisher_p([overlap_list, LOWCOV_genes],[random_overlap_list, LOWCOV_genes] )\n",
    "    print('For %s:\\nWGA_missing:%s, %.2E\\nSingletons_missing:%s, %.2E\\nLOWCOV_missing:%s, %.E2\\nCombined_missing:%s\\nRandom_missing:%s\\n'%\\\n",
    "         (genome, len(WGA_genes), p_WGA,  len(singletons), p_sing, len(LOWCOV_genes), p_LOWCOV,  len(overlap_list), len(random_overlap_list)))"
   ]
  },
  {
   "cell_type": "code",
   "execution_count": 31,
   "metadata": {
    "ExecuteTime": {
     "end_time": "2019-10-04T04:02:47.851093Z",
     "start_time": "2019-10-04T04:02:42.162802Z"
    },
    "collapsed": true
   },
   "outputs": [],
   "source": [
    "#numbers of overlaps in missing` vs. gene category and the states (as before)\n",
    "Fishers_summary_dict = {}\n",
    "Absence_summary_dict = {}\n",
    "outer_index = [] #being the cut off\n",
    "inner_index = [] #being the type of gene to look at\n",
    "Fishers_summary_dict['DK0911'] = []\n",
    "Fishers_summary_dict['Pst_104E'] = []\n",
    "Absence_summary_dict['DK0911'] = []\n",
    "Absence_summary_dict['Pst_104E'] = []\n",
    "min_overlap = 1\n",
    "key = ''\n",
    "gene_keys = ['All_genes','Busco', 'Ceffectors',  'EffectorP',   'Secretome']\n",
    "missing_keys = ['Lowcov_01', 'WGA_95',  'WGA_LOWCOV_combined_mo1',]\n",
    "\n",
    "for _dict in [DK0911_dict, Pst_104E_dict]:\n",
    "    for gene_key in gene_keys:\n",
    "        for missing_key in missing_keys:\n",
    "        \n",
    "            inner_index.append(missing_key)\n",
    "            outer_index.append(gene_key)\n",
    "            category_genes_missing = overlap_feature_names(_dict[gene_key], _dict[missing_key], min_overlap)\n",
    "            all_genes_missing = overlap_feature_names(_dict['All_genes'], _dict[missing_key], min_overlap)\n",
    "            p_value = fisher_exact([[len(category_genes_missing), count_genes_in_bed(_dict[gene_key])],\\\n",
    "                              [len(all_genes_missing), count_genes_in_bed(_dict['All_genes'])]])[1]\n",
    "            percent_lost = round(len(category_genes_missing)/count_genes_in_bed(_dict[gene_key])*100, 2)\n",
    "            absence_value = [len(category_genes_missing), count_genes_in_bed(_dict[gene_key]), percent_lost]\n",
    "            if os.path.basename(_dict['All_genes']).startswith('DK'):\n",
    "                key = 'DK0911'\n",
    "            elif os.path.basename(_dict['All_genes']).startswith('Pst_104'):\n",
    "                key = 'Pst_104E'\n",
    "            \n",
    "            Fishers_summary_dict[key].append(p_value)\n",
    "            Absence_summary_dict[key].append(absence_value)"
   ]
  },
  {
   "cell_type": "code",
   "execution_count": 32,
   "metadata": {
    "ExecuteTime": {
     "end_time": "2019-10-04T04:02:47.887076Z",
     "start_time": "2019-10-04T04:02:47.854964Z"
    },
    "collapsed": true
   },
   "outputs": [],
   "source": [
    "Fishers_df = summary_dict_to_df(Fishers_summary_dict, outer_index, inner_index)\n",
    "Absence_df = summary_dict_to_df(Absence_summary_dict, outer_index, inner_index)"
   ]
  },
  {
   "cell_type": "code",
   "execution_count": 33,
   "metadata": {
    "ExecuteTime": {
     "end_time": "2019-10-04T04:02:47.929378Z",
     "start_time": "2019-10-04T04:02:47.889631Z"
    }
   },
   "outputs": [
    {
     "data": {
      "text/html": [
       "<div>\n",
       "<style scoped>\n",
       "    .dataframe tbody tr th:only-of-type {\n",
       "        vertical-align: middle;\n",
       "    }\n",
       "\n",
       "    .dataframe tbody tr th {\n",
       "        vertical-align: top;\n",
       "    }\n",
       "\n",
       "    .dataframe thead th {\n",
       "        text-align: right;\n",
       "    }\n",
       "</style>\n",
       "<table border=\"1\" class=\"dataframe\">\n",
       "  <thead>\n",
       "    <tr style=\"text-align: right;\">\n",
       "      <th></th>\n",
       "      <th></th>\n",
       "      <th>DK0911</th>\n",
       "      <th>Pst_104E</th>\n",
       "    </tr>\n",
       "    <tr>\n",
       "      <th>Cut-off</th>\n",
       "      <th>Type</th>\n",
       "      <th></th>\n",
       "      <th></th>\n",
       "    </tr>\n",
       "  </thead>\n",
       "  <tbody>\n",
       "    <tr>\n",
       "      <th rowspan=\"3\" valign=\"top\">All_genes</th>\n",
       "      <th>Lowcov_01</th>\n",
       "      <td>1.000000e+00</td>\n",
       "      <td>1.000000e+00</td>\n",
       "    </tr>\n",
       "    <tr>\n",
       "      <th>WGA_95</th>\n",
       "      <td>1.000000e+00</td>\n",
       "      <td>1.000000e+00</td>\n",
       "    </tr>\n",
       "    <tr>\n",
       "      <th>WGA_LOWCOV_combined_mo1</th>\n",
       "      <td>1.000000e+00</td>\n",
       "      <td>1.000000e+00</td>\n",
       "    </tr>\n",
       "    <tr>\n",
       "      <th rowspan=\"3\" valign=\"top\">Busco</th>\n",
       "      <th>Lowcov_01</th>\n",
       "      <td>2.108868e-12</td>\n",
       "      <td>5.455648e-10</td>\n",
       "    </tr>\n",
       "    <tr>\n",
       "      <th>WGA_95</th>\n",
       "      <td>4.579768e-05</td>\n",
       "      <td>1.324495e-13</td>\n",
       "    </tr>\n",
       "    <tr>\n",
       "      <th>WGA_LOWCOV_combined_mo1</th>\n",
       "      <td>1.477667e-03</td>\n",
       "      <td>9.379411e-17</td>\n",
       "    </tr>\n",
       "    <tr>\n",
       "      <th rowspan=\"3\" valign=\"top\">Ceffectors</th>\n",
       "      <th>Lowcov_01</th>\n",
       "      <td>3.326542e-02</td>\n",
       "      <td>5.836811e-02</td>\n",
       "    </tr>\n",
       "    <tr>\n",
       "      <th>WGA_95</th>\n",
       "      <td>9.235022e-01</td>\n",
       "      <td>3.479875e-03</td>\n",
       "    </tr>\n",
       "    <tr>\n",
       "      <th>WGA_LOWCOV_combined_mo1</th>\n",
       "      <td>7.400221e-01</td>\n",
       "      <td>5.795804e-03</td>\n",
       "    </tr>\n",
       "    <tr>\n",
       "      <th rowspan=\"3\" valign=\"top\">EffectorP</th>\n",
       "      <th>Lowcov_01</th>\n",
       "      <td>3.326542e-02</td>\n",
       "      <td>4.923270e-02</td>\n",
       "    </tr>\n",
       "    <tr>\n",
       "      <th>WGA_95</th>\n",
       "      <td>9.235022e-01</td>\n",
       "      <td>5.003802e-01</td>\n",
       "    </tr>\n",
       "    <tr>\n",
       "      <th>WGA_LOWCOV_combined_mo1</th>\n",
       "      <td>7.400221e-01</td>\n",
       "      <td>7.886652e-01</td>\n",
       "    </tr>\n",
       "    <tr>\n",
       "      <th rowspan=\"3\" valign=\"top\">Secretome</th>\n",
       "      <th>Lowcov_01</th>\n",
       "      <td>1.436367e-06</td>\n",
       "      <td>5.983996e-02</td>\n",
       "    </tr>\n",
       "    <tr>\n",
       "      <th>WGA_95</th>\n",
       "      <td>1.839260e-02</td>\n",
       "      <td>2.438171e-03</td>\n",
       "    </tr>\n",
       "    <tr>\n",
       "      <th>WGA_LOWCOV_combined_mo1</th>\n",
       "      <td>1.750980e-02</td>\n",
       "      <td>6.937300e-05</td>\n",
       "    </tr>\n",
       "  </tbody>\n",
       "</table>\n",
       "</div>"
      ],
      "text/plain": [
       "                                          DK0911      Pst_104E\n",
       "Cut-off    Type                                               \n",
       "All_genes  Lowcov_01                1.000000e+00  1.000000e+00\n",
       "           WGA_95                   1.000000e+00  1.000000e+00\n",
       "           WGA_LOWCOV_combined_mo1  1.000000e+00  1.000000e+00\n",
       "Busco      Lowcov_01                2.108868e-12  5.455648e-10\n",
       "           WGA_95                   4.579768e-05  1.324495e-13\n",
       "           WGA_LOWCOV_combined_mo1  1.477667e-03  9.379411e-17\n",
       "Ceffectors Lowcov_01                3.326542e-02  5.836811e-02\n",
       "           WGA_95                   9.235022e-01  3.479875e-03\n",
       "           WGA_LOWCOV_combined_mo1  7.400221e-01  5.795804e-03\n",
       "EffectorP  Lowcov_01                3.326542e-02  4.923270e-02\n",
       "           WGA_95                   9.235022e-01  5.003802e-01\n",
       "           WGA_LOWCOV_combined_mo1  7.400221e-01  7.886652e-01\n",
       "Secretome  Lowcov_01                1.436367e-06  5.983996e-02\n",
       "           WGA_95                   1.839260e-02  2.438171e-03\n",
       "           WGA_LOWCOV_combined_mo1  1.750980e-02  6.937300e-05"
      ]
     },
     "execution_count": 33,
     "metadata": {},
     "output_type": "execute_result"
    }
   ],
   "source": [
    "Fishers_df"
   ]
  },
  {
   "cell_type": "code",
   "execution_count": 58,
   "metadata": {
    "ExecuteTime": {
     "end_time": "2019-10-04T05:07:23.913466Z",
     "start_time": "2019-10-04T05:07:23.906097Z"
    }
   },
   "outputs": [
    {
     "data": {
      "text/plain": [
       "array([  1.00000000e+00,   1.00000000e+00,   1.00000000e+00,\n",
       "         2.10886823e-12,   4.57976802e-05,   1.47766746e-03,\n",
       "         3.32654195e-02,   9.23502238e-01,   7.40022092e-01,\n",
       "         3.32654195e-02,   9.23502238e-01,   7.40022092e-01,\n",
       "         1.43636689e-06,   1.83925959e-02,   1.75097992e-02])"
      ]
     },
     "execution_count": 58,
     "metadata": {},
     "output_type": "execute_result"
    }
   ],
   "source": [
    "Fishers_df['DK0911'].values"
   ]
  },
  {
   "cell_type": "code",
   "execution_count": 56,
   "metadata": {
    "ExecuteTime": {
     "end_time": "2019-10-04T04:55:17.493379Z",
     "start_time": "2019-10-04T04:55:17.488382Z"
    },
    "collapsed": true
   },
   "outputs": [],
   "source": [
    "Fishers_corrected_df = Fishers_df.copy()"
   ]
  },
  {
   "cell_type": "code",
   "execution_count": 60,
   "metadata": {
    "ExecuteTime": {
     "end_time": "2019-10-04T06:37:32.284613Z",
     "start_time": "2019-10-04T06:37:32.277789Z"
    },
    "collapsed": true
   },
   "outputs": [],
   "source": [
    "for name in Fishers_corrected_df.columns:\n",
    "    Fishers_corrected_df[name] = multipletest(Fishers_corrected_df[name], method='bonferroni')[1]"
   ]
  },
  {
   "cell_type": "code",
   "execution_count": 61,
   "metadata": {
    "ExecuteTime": {
     "end_time": "2019-10-04T06:37:37.854684Z",
     "start_time": "2019-10-04T06:37:37.835753Z"
    }
   },
   "outputs": [
    {
     "data": {
      "text/html": [
       "<div>\n",
       "<style scoped>\n",
       "    .dataframe tbody tr th:only-of-type {\n",
       "        vertical-align: middle;\n",
       "    }\n",
       "\n",
       "    .dataframe tbody tr th {\n",
       "        vertical-align: top;\n",
       "    }\n",
       "\n",
       "    .dataframe thead th {\n",
       "        text-align: right;\n",
       "    }\n",
       "</style>\n",
       "<table border=\"1\" class=\"dataframe\">\n",
       "  <thead>\n",
       "    <tr style=\"text-align: right;\">\n",
       "      <th></th>\n",
       "      <th></th>\n",
       "      <th>DK0911</th>\n",
       "      <th>Pst_104E</th>\n",
       "    </tr>\n",
       "    <tr>\n",
       "      <th>Cut-off</th>\n",
       "      <th>Type</th>\n",
       "      <th></th>\n",
       "      <th></th>\n",
       "    </tr>\n",
       "  </thead>\n",
       "  <tbody>\n",
       "    <tr>\n",
       "      <th rowspan=\"3\" valign=\"top\">All_genes</th>\n",
       "      <th>Lowcov_01</th>\n",
       "      <td>1.000000e+00</td>\n",
       "      <td>1.000000e+00</td>\n",
       "    </tr>\n",
       "    <tr>\n",
       "      <th>WGA_95</th>\n",
       "      <td>1.000000e+00</td>\n",
       "      <td>1.000000e+00</td>\n",
       "    </tr>\n",
       "    <tr>\n",
       "      <th>WGA_LOWCOV_combined_mo1</th>\n",
       "      <td>1.000000e+00</td>\n",
       "      <td>1.000000e+00</td>\n",
       "    </tr>\n",
       "    <tr>\n",
       "      <th rowspan=\"3\" valign=\"top\">Busco</th>\n",
       "      <th>Lowcov_01</th>\n",
       "      <td>3.163302e-11</td>\n",
       "      <td>8.183472e-09</td>\n",
       "    </tr>\n",
       "    <tr>\n",
       "      <th>WGA_95</th>\n",
       "      <td>6.869652e-04</td>\n",
       "      <td>1.986743e-12</td>\n",
       "    </tr>\n",
       "    <tr>\n",
       "      <th>WGA_LOWCOV_combined_mo1</th>\n",
       "      <td>2.216501e-02</td>\n",
       "      <td>1.406912e-15</td>\n",
       "    </tr>\n",
       "    <tr>\n",
       "      <th rowspan=\"3\" valign=\"top\">Ceffectors</th>\n",
       "      <th>Lowcov_01</th>\n",
       "      <td>4.989813e-01</td>\n",
       "      <td>8.755217e-01</td>\n",
       "    </tr>\n",
       "    <tr>\n",
       "      <th>WGA_95</th>\n",
       "      <td>1.000000e+00</td>\n",
       "      <td>5.219813e-02</td>\n",
       "    </tr>\n",
       "    <tr>\n",
       "      <th>WGA_LOWCOV_combined_mo1</th>\n",
       "      <td>1.000000e+00</td>\n",
       "      <td>8.693706e-02</td>\n",
       "    </tr>\n",
       "    <tr>\n",
       "      <th rowspan=\"3\" valign=\"top\">EffectorP</th>\n",
       "      <th>Lowcov_01</th>\n",
       "      <td>4.989813e-01</td>\n",
       "      <td>7.384906e-01</td>\n",
       "    </tr>\n",
       "    <tr>\n",
       "      <th>WGA_95</th>\n",
       "      <td>1.000000e+00</td>\n",
       "      <td>1.000000e+00</td>\n",
       "    </tr>\n",
       "    <tr>\n",
       "      <th>WGA_LOWCOV_combined_mo1</th>\n",
       "      <td>1.000000e+00</td>\n",
       "      <td>1.000000e+00</td>\n",
       "    </tr>\n",
       "    <tr>\n",
       "      <th rowspan=\"3\" valign=\"top\">Secretome</th>\n",
       "      <th>Lowcov_01</th>\n",
       "      <td>2.154550e-05</td>\n",
       "      <td>8.975994e-01</td>\n",
       "    </tr>\n",
       "    <tr>\n",
       "      <th>WGA_95</th>\n",
       "      <td>2.758889e-01</td>\n",
       "      <td>3.657256e-02</td>\n",
       "    </tr>\n",
       "    <tr>\n",
       "      <th>WGA_LOWCOV_combined_mo1</th>\n",
       "      <td>2.626470e-01</td>\n",
       "      <td>1.040595e-03</td>\n",
       "    </tr>\n",
       "  </tbody>\n",
       "</table>\n",
       "</div>"
      ],
      "text/plain": [
       "                                          DK0911      Pst_104E\n",
       "Cut-off    Type                                               \n",
       "All_genes  Lowcov_01                1.000000e+00  1.000000e+00\n",
       "           WGA_95                   1.000000e+00  1.000000e+00\n",
       "           WGA_LOWCOV_combined_mo1  1.000000e+00  1.000000e+00\n",
       "Busco      Lowcov_01                3.163302e-11  8.183472e-09\n",
       "           WGA_95                   6.869652e-04  1.986743e-12\n",
       "           WGA_LOWCOV_combined_mo1  2.216501e-02  1.406912e-15\n",
       "Ceffectors Lowcov_01                4.989813e-01  8.755217e-01\n",
       "           WGA_95                   1.000000e+00  5.219813e-02\n",
       "           WGA_LOWCOV_combined_mo1  1.000000e+00  8.693706e-02\n",
       "EffectorP  Lowcov_01                4.989813e-01  7.384906e-01\n",
       "           WGA_95                   1.000000e+00  1.000000e+00\n",
       "           WGA_LOWCOV_combined_mo1  1.000000e+00  1.000000e+00\n",
       "Secretome  Lowcov_01                2.154550e-05  8.975994e-01\n",
       "           WGA_95                   2.758889e-01  3.657256e-02\n",
       "           WGA_LOWCOV_combined_mo1  2.626470e-01  1.040595e-03"
      ]
     },
     "execution_count": 61,
     "metadata": {},
     "output_type": "execute_result"
    }
   ],
   "source": [
    "Fishers_corrected_df"
   ]
  },
  {
   "cell_type": "code",
   "execution_count": 34,
   "metadata": {
    "ExecuteTime": {
     "end_time": "2019-10-04T04:02:47.958414Z",
     "start_time": "2019-10-04T04:02:47.932037Z"
    }
   },
   "outputs": [
    {
     "data": {
      "text/html": [
       "<div>\n",
       "<style scoped>\n",
       "    .dataframe tbody tr th:only-of-type {\n",
       "        vertical-align: middle;\n",
       "    }\n",
       "\n",
       "    .dataframe tbody tr th {\n",
       "        vertical-align: top;\n",
       "    }\n",
       "\n",
       "    .dataframe thead th {\n",
       "        text-align: right;\n",
       "    }\n",
       "</style>\n",
       "<table border=\"1\" class=\"dataframe\">\n",
       "  <thead>\n",
       "    <tr style=\"text-align: right;\">\n",
       "      <th></th>\n",
       "      <th></th>\n",
       "      <th>DK0911</th>\n",
       "      <th>Pst_104E</th>\n",
       "    </tr>\n",
       "    <tr>\n",
       "      <th>Cut-off</th>\n",
       "      <th>Type</th>\n",
       "      <th></th>\n",
       "      <th></th>\n",
       "    </tr>\n",
       "  </thead>\n",
       "  <tbody>\n",
       "    <tr>\n",
       "      <th rowspan=\"3\" valign=\"top\">All_genes</th>\n",
       "      <th>Lowcov_01</th>\n",
       "      <td>[724, 25940, 2.79]</td>\n",
       "      <td>[2394, 30249, 7.91]</td>\n",
       "    </tr>\n",
       "    <tr>\n",
       "      <th>WGA_95</th>\n",
       "      <td>[553, 25940, 2.13]</td>\n",
       "      <td>[2084, 30249, 6.89]</td>\n",
       "    </tr>\n",
       "    <tr>\n",
       "      <th>WGA_LOWCOV_combined_mo1</th>\n",
       "      <td>[185, 25940, 0.71]</td>\n",
       "      <td>[1441, 30249, 4.76]</td>\n",
       "    </tr>\n",
       "    <tr>\n",
       "      <th rowspan=\"3\" valign=\"top\">Busco</th>\n",
       "      <th>Lowcov_01</th>\n",
       "      <td>[13, 2178, 0.6]</td>\n",
       "      <td>[126, 2740, 4.6]</td>\n",
       "    </tr>\n",
       "    <tr>\n",
       "      <th>WGA_95</th>\n",
       "      <td>[20, 2178, 0.92]</td>\n",
       "      <td>[91, 2740, 3.32]</td>\n",
       "    </tr>\n",
       "    <tr>\n",
       "      <th>WGA_LOWCOV_combined_mo1</th>\n",
       "      <td>[4, 2178, 0.18]</td>\n",
       "      <td>[44, 2740, 1.61]</td>\n",
       "    </tr>\n",
       "    <tr>\n",
       "      <th rowspan=\"3\" valign=\"top\">Ceffectors</th>\n",
       "      <th>Lowcov_01</th>\n",
       "      <td>[25, 1376, 1.82]</td>\n",
       "      <td>[244, 3520, 6.93]</td>\n",
       "    </tr>\n",
       "    <tr>\n",
       "      <th>WGA_95</th>\n",
       "      <td>[28, 1376, 2.03]</td>\n",
       "      <td>[194, 3520, 5.51]</td>\n",
       "    </tr>\n",
       "    <tr>\n",
       "      <th>WGA_LOWCOV_combined_mo1</th>\n",
       "      <td>[8, 1376, 0.58]</td>\n",
       "      <td>[130, 3520, 3.69]</td>\n",
       "    </tr>\n",
       "    <tr>\n",
       "      <th rowspan=\"3\" valign=\"top\">EffectorP</th>\n",
       "      <th>Lowcov_01</th>\n",
       "      <td>[25, 1376, 1.82]</td>\n",
       "      <td>[189, 2038, 9.27]</td>\n",
       "    </tr>\n",
       "    <tr>\n",
       "      <th>WGA_95</th>\n",
       "      <td>[28, 1376, 2.03]</td>\n",
       "      <td>[149, 2038, 7.31]</td>\n",
       "    </tr>\n",
       "    <tr>\n",
       "      <th>WGA_LOWCOV_combined_mo1</th>\n",
       "      <td>[8, 1376, 0.58]</td>\n",
       "      <td>[100, 2038, 4.91]</td>\n",
       "    </tr>\n",
       "    <tr>\n",
       "      <th rowspan=\"3\" valign=\"top\">Secretome</th>\n",
       "      <th>Lowcov_01</th>\n",
       "      <td>[55, 3699, 1.49]</td>\n",
       "      <td>[327, 4637, 7.05]</td>\n",
       "    </tr>\n",
       "    <tr>\n",
       "      <th>WGA_95</th>\n",
       "      <td>[57, 3699, 1.54]</td>\n",
       "      <td>[261, 4637, 5.63]</td>\n",
       "    </tr>\n",
       "    <tr>\n",
       "      <th>WGA_LOWCOV_combined_mo1</th>\n",
       "      <td>[14, 3699, 0.38]</td>\n",
       "      <td>[159, 4637, 3.43]</td>\n",
       "    </tr>\n",
       "  </tbody>\n",
       "</table>\n",
       "</div>"
      ],
      "text/plain": [
       "                                                DK0911             Pst_104E\n",
       "Cut-off    Type                                                            \n",
       "All_genes  Lowcov_01                [724, 25940, 2.79]  [2394, 30249, 7.91]\n",
       "           WGA_95                   [553, 25940, 2.13]  [2084, 30249, 6.89]\n",
       "           WGA_LOWCOV_combined_mo1  [185, 25940, 0.71]  [1441, 30249, 4.76]\n",
       "Busco      Lowcov_01                   [13, 2178, 0.6]     [126, 2740, 4.6]\n",
       "           WGA_95                     [20, 2178, 0.92]     [91, 2740, 3.32]\n",
       "           WGA_LOWCOV_combined_mo1     [4, 2178, 0.18]     [44, 2740, 1.61]\n",
       "Ceffectors Lowcov_01                  [25, 1376, 1.82]    [244, 3520, 6.93]\n",
       "           WGA_95                     [28, 1376, 2.03]    [194, 3520, 5.51]\n",
       "           WGA_LOWCOV_combined_mo1     [8, 1376, 0.58]    [130, 3520, 3.69]\n",
       "EffectorP  Lowcov_01                  [25, 1376, 1.82]    [189, 2038, 9.27]\n",
       "           WGA_95                     [28, 1376, 2.03]    [149, 2038, 7.31]\n",
       "           WGA_LOWCOV_combined_mo1     [8, 1376, 0.58]    [100, 2038, 4.91]\n",
       "Secretome  Lowcov_01                  [55, 3699, 1.49]    [327, 4637, 7.05]\n",
       "           WGA_95                     [57, 3699, 1.54]    [261, 4637, 5.63]\n",
       "           WGA_LOWCOV_combined_mo1    [14, 3699, 0.38]    [159, 4637, 3.43]"
      ]
     },
     "execution_count": 34,
     "metadata": {},
     "output_type": "execute_result"
    }
   ],
   "source": [
    "Absence_df "
   ]
  },
  {
   "cell_type": "code",
   "execution_count": 35,
   "metadata": {
    "ExecuteTime": {
     "end_time": "2019-10-04T04:03:03.160816Z",
     "start_time": "2019-10-04T04:02:47.960732Z"
    }
   },
   "outputs": [
    {
     "name": "stdout",
     "output_type": "stream",
     "text": [
      "For DK0911:\n",
      "All_genes:[1275, 25940, 1275], 1.00E+00, 4.92\n",
      "For DK0911:\n",
      "Busco:[7, 2178, 1275], 5.91E-34, 0.32\n",
      "For DK0911:\n",
      "Ceffectors:[53, 1376, 1275], 9.31E-02, 3.85\n",
      "For DK0911:\n",
      "EffectorP:[53, 1376, 1275], 9.31E-02, 3.85\n",
      "For DK0911:\n",
      "Secretome:[109, 3699, 1275], 9.30E-08, 2.95\n",
      "For Pst_104E:\n",
      "All_genes:[1404, 30249, 1404], 1.00E+00, 4.64\n",
      "For Pst_104E:\n",
      "Busco:[17, 2740, 1404], 1.06E-31, 0.62\n",
      "For Pst_104E:\n",
      "Ceffectors:[153, 2960, 1404], 2.20E-01, 5.17\n",
      "For Pst_104E:\n",
      "EffectorP:[142, 2038, 1404], 2.07E-05, 6.97\n",
      "For Pst_104E:\n",
      "Secretome:[190, 4637, 1404], 1.21E-01, 4.10\n"
     ]
    }
   ],
   "source": [
    "#comparing number of genes in category with overlap in singletons\n",
    "#get the combined missing genes and test if the overlap is significant with a fishers exact test and randomization\n",
    "\n",
    "min_overlap = 1\n",
    "key = ''\n",
    "missing_dict = {}\n",
    "fisher_dict = {}\n",
    "missing_dict['DK0911'] = []\n",
    "missing_dict['Pst_104E'] = []\n",
    "fisher_dict['DK0911'] = []\n",
    "fisher_dict['Pst_104E'] = []\n",
    "gene_keys = ['All_genes','Busco', 'Ceffectors',  'EffectorP',   'Secretome']\n",
    "for _dict in [DK0911_dict, Pst_104E_dict]:\n",
    "    for gene_key in gene_keys:    \n",
    "        category_genes = overlap_feature_names(_dict['All_genes'], _dict[gene_key], min_overlap)\n",
    "        all_genes = overlap_feature_names(_dict['All_genes'], _dict['All_genes'], min_overlap)\n",
    "        singletons = get_sing_para(_dict['Singletons'])\n",
    "            \n",
    "        all_genes_overlap = [x for x in all_genes if x in singletons]\n",
    "        \n",
    "            \n",
    "        catetory_genes_overlap = [x for x in category_genes if x in singletons]\n",
    "               \n",
    "        p_value = fisher_p([ catetory_genes_overlap, category_genes],[all_genes_overlap, all_genes])\n",
    "        absence_value = [len(catetory_genes_overlap), len(category_genes), len(singletons)]\n",
    "        percent_lost = len(catetory_genes_overlap)/len(category_genes) *100\n",
    "        if os.path.basename(_dict['All_genes']).startswith('DK'):\n",
    "            genome = 'DK0911'\n",
    "        elif os.path.basename(_dict['All_genes']).startswith('Pst_104'):\n",
    "            genome = 'Pst_104E'\n",
    "        missing_dict[genome].append(absence_value[0])\n",
    "        fisher_dict[genome].append(p_value)\n",
    "            \n",
    "        print('For %s:\\n%s:%s, %.2E, %.2f'%\\\n",
    "         (genome, gene_key, absence_value,  p_value, percent_lost)) \n",
    "            \n",
    " "
   ]
  },
  {
   "cell_type": "code",
   "execution_count": 36,
   "metadata": {
    "ExecuteTime": {
     "end_time": "2019-10-04T04:03:03.184914Z",
     "start_time": "2019-10-04T04:03:03.165907Z"
    }
   },
   "outputs": [
    {
     "data": {
      "text/html": [
       "<div>\n",
       "<style scoped>\n",
       "    .dataframe tbody tr th:only-of-type {\n",
       "        vertical-align: middle;\n",
       "    }\n",
       "\n",
       "    .dataframe tbody tr th {\n",
       "        vertical-align: top;\n",
       "    }\n",
       "\n",
       "    .dataframe thead th {\n",
       "        text-align: right;\n",
       "    }\n",
       "</style>\n",
       "<table border=\"1\" class=\"dataframe\">\n",
       "  <thead>\n",
       "    <tr style=\"text-align: right;\">\n",
       "      <th></th>\n",
       "      <th>DK0911</th>\n",
       "      <th>Pst_104E</th>\n",
       "    </tr>\n",
       "  </thead>\n",
       "  <tbody>\n",
       "    <tr>\n",
       "      <th>All_genes</th>\n",
       "      <td>1275</td>\n",
       "      <td>1404</td>\n",
       "    </tr>\n",
       "    <tr>\n",
       "      <th>Busco</th>\n",
       "      <td>7</td>\n",
       "      <td>17</td>\n",
       "    </tr>\n",
       "    <tr>\n",
       "      <th>Ceffectors</th>\n",
       "      <td>53</td>\n",
       "      <td>153</td>\n",
       "    </tr>\n",
       "    <tr>\n",
       "      <th>EffectorP</th>\n",
       "      <td>53</td>\n",
       "      <td>142</td>\n",
       "    </tr>\n",
       "    <tr>\n",
       "      <th>Secretome</th>\n",
       "      <td>109</td>\n",
       "      <td>190</td>\n",
       "    </tr>\n",
       "  </tbody>\n",
       "</table>\n",
       "</div>"
      ],
      "text/plain": [
       "            DK0911  Pst_104E\n",
       "All_genes     1275      1404\n",
       "Busco            7        17\n",
       "Ceffectors      53       153\n",
       "EffectorP       53       142\n",
       "Secretome      109       190"
      ]
     },
     "execution_count": 36,
     "metadata": {},
     "output_type": "execute_result"
    }
   ],
   "source": [
    "df_missing = pd.DataFrame.from_dict(missing_dict)\n",
    "df_missing.index = gene_keys\n",
    "df_missing"
   ]
  },
  {
   "cell_type": "code",
   "execution_count": 38,
   "metadata": {
    "ExecuteTime": {
     "end_time": "2019-10-04T04:03:19.231803Z",
     "start_time": "2019-10-04T04:03:19.224998Z"
    }
   },
   "outputs": [
    {
     "data": {
      "text/plain": [
       "{'DK0911': [1.0,\n",
       "  5.9061174051111282e-34,\n",
       "  0.093059279361810965,\n",
       "  0.093059279361810965,\n",
       "  9.2976060063041543e-08],\n",
       " 'Pst_104E': [1.0,\n",
       "  1.0597750634047715e-31,\n",
       "  0.22005456281485747,\n",
       "  2.0694240198812082e-05,\n",
       "  0.12111856089478229]}"
      ]
     },
     "execution_count": 38,
     "metadata": {},
     "output_type": "execute_result"
    }
   ],
   "source": [
    "fisher_dict"
   ]
  },
  {
   "cell_type": "code",
   "execution_count": 42,
   "metadata": {
    "ExecuteTime": {
     "end_time": "2019-10-04T04:05:49.088831Z",
     "start_time": "2019-10-04T04:05:49.084167Z"
    },
    "collapsed": true
   },
   "outputs": [],
   "source": [
    "from statsmodels.stats.multitest import multipletests as multipletest"
   ]
  },
  {
   "cell_type": "code",
   "execution_count": 51,
   "metadata": {
    "ExecuteTime": {
     "end_time": "2019-10-04T04:11:26.088649Z",
     "start_time": "2019-10-04T04:11:26.082255Z"
    },
    "collapsed": true
   },
   "outputs": [],
   "source": [
    "corrected_fisher_dict = {}\n",
    "for key, values in fisher_dict.items():\n",
    "    corrected_fisher_dict[key] = multipletest(values, method='bonferroni')[1]"
   ]
  },
  {
   "cell_type": "code",
   "execution_count": 52,
   "metadata": {
    "ExecuteTime": {
     "end_time": "2019-10-04T04:11:38.360931Z",
     "start_time": "2019-10-04T04:11:38.353268Z"
    }
   },
   "outputs": [
    {
     "data": {
      "text/plain": [
       "{'DK0911': array([  1.00000000e+00,   2.95305870e-33,   4.65296397e-01,\n",
       "          4.65296397e-01,   4.64880300e-07]),\n",
       " 'Pst_104E': array([  1.00000000e+00,   5.29887532e-31,   1.00000000e+00,\n",
       "          1.03471201e-04,   6.05592804e-01])}"
      ]
     },
     "execution_count": 52,
     "metadata": {},
     "output_type": "execute_result"
    }
   ],
   "source": [
    "corrected_fisher_dict"
   ]
  },
  {
   "cell_type": "code",
   "execution_count": 53,
   "metadata": {
    "ExecuteTime": {
     "end_time": "2019-10-04T04:13:00.386150Z",
     "start_time": "2019-10-04T04:13:00.365428Z"
    }
   },
   "outputs": [
    {
     "data": {
      "text/html": [
       "<div>\n",
       "<style scoped>\n",
       "    .dataframe tbody tr th:only-of-type {\n",
       "        vertical-align: middle;\n",
       "    }\n",
       "\n",
       "    .dataframe tbody tr th {\n",
       "        vertical-align: top;\n",
       "    }\n",
       "\n",
       "    .dataframe thead th {\n",
       "        text-align: right;\n",
       "    }\n",
       "</style>\n",
       "<table border=\"1\" class=\"dataframe\">\n",
       "  <thead>\n",
       "    <tr style=\"text-align: right;\">\n",
       "      <th></th>\n",
       "      <th>DK0911</th>\n",
       "      <th>Pst_104E</th>\n",
       "    </tr>\n",
       "  </thead>\n",
       "  <tbody>\n",
       "    <tr>\n",
       "      <th>All_genes</th>\n",
       "      <td>1.000000e+00</td>\n",
       "      <td>1.000000e+00</td>\n",
       "    </tr>\n",
       "    <tr>\n",
       "      <th>Busco</th>\n",
       "      <td>2.953059e-33</td>\n",
       "      <td>5.298875e-31</td>\n",
       "    </tr>\n",
       "    <tr>\n",
       "      <th>Ceffectors</th>\n",
       "      <td>4.652964e-01</td>\n",
       "      <td>1.000000e+00</td>\n",
       "    </tr>\n",
       "    <tr>\n",
       "      <th>EffectorP</th>\n",
       "      <td>4.652964e-01</td>\n",
       "      <td>1.034712e-04</td>\n",
       "    </tr>\n",
       "    <tr>\n",
       "      <th>Secretome</th>\n",
       "      <td>4.648803e-07</td>\n",
       "      <td>6.055928e-01</td>\n",
       "    </tr>\n",
       "  </tbody>\n",
       "</table>\n",
       "</div>"
      ],
      "text/plain": [
       "                  DK0911      Pst_104E\n",
       "All_genes   1.000000e+00  1.000000e+00\n",
       "Busco       2.953059e-33  5.298875e-31\n",
       "Ceffectors  4.652964e-01  1.000000e+00\n",
       "EffectorP   4.652964e-01  1.034712e-04\n",
       "Secretome   4.648803e-07  6.055928e-01"
      ]
     },
     "execution_count": 53,
     "metadata": {},
     "output_type": "execute_result"
    }
   ],
   "source": [
    "df_corrected_fisher = pd.DataFrame.from_dict(corrected_fisher_dict)\n",
    "df_corrected_fisher.index = gene_keys\n",
    "df_corrected_fisher"
   ]
  },
  {
   "cell_type": "code",
   "execution_count": 54,
   "metadata": {
    "ExecuteTime": {
     "end_time": "2019-10-04T04:13:17.939890Z",
     "start_time": "2019-10-04T04:13:17.922366Z"
    }
   },
   "outputs": [
    {
     "data": {
      "text/html": [
       "<div>\n",
       "<style scoped>\n",
       "    .dataframe tbody tr th:only-of-type {\n",
       "        vertical-align: middle;\n",
       "    }\n",
       "\n",
       "    .dataframe tbody tr th {\n",
       "        vertical-align: top;\n",
       "    }\n",
       "\n",
       "    .dataframe thead th {\n",
       "        text-align: right;\n",
       "    }\n",
       "</style>\n",
       "<table border=\"1\" class=\"dataframe\">\n",
       "  <thead>\n",
       "    <tr style=\"text-align: right;\">\n",
       "      <th></th>\n",
       "      <th>DK0911</th>\n",
       "      <th>Pst_104E</th>\n",
       "    </tr>\n",
       "  </thead>\n",
       "  <tbody>\n",
       "    <tr>\n",
       "      <th>All_genes</th>\n",
       "      <td>1.000000e+00</td>\n",
       "      <td>1.000000e+00</td>\n",
       "    </tr>\n",
       "    <tr>\n",
       "      <th>Busco</th>\n",
       "      <td>5.906117e-34</td>\n",
       "      <td>1.059775e-31</td>\n",
       "    </tr>\n",
       "    <tr>\n",
       "      <th>Ceffectors</th>\n",
       "      <td>9.305928e-02</td>\n",
       "      <td>2.200546e-01</td>\n",
       "    </tr>\n",
       "    <tr>\n",
       "      <th>EffectorP</th>\n",
       "      <td>9.305928e-02</td>\n",
       "      <td>2.069424e-05</td>\n",
       "    </tr>\n",
       "    <tr>\n",
       "      <th>Secretome</th>\n",
       "      <td>9.297606e-08</td>\n",
       "      <td>1.211186e-01</td>\n",
       "    </tr>\n",
       "  </tbody>\n",
       "</table>\n",
       "</div>"
      ],
      "text/plain": [
       "                  DK0911      Pst_104E\n",
       "All_genes   1.000000e+00  1.000000e+00\n",
       "Busco       5.906117e-34  1.059775e-31\n",
       "Ceffectors  9.305928e-02  2.200546e-01\n",
       "EffectorP   9.305928e-02  2.069424e-05\n",
       "Secretome   9.297606e-08  1.211186e-01"
      ]
     },
     "execution_count": 54,
     "metadata": {},
     "output_type": "execute_result"
    }
   ],
   "source": [
    "df_fisher = pd.DataFrame.from_dict(fisher_dict)\n",
    "df_fisher.index = gene_keys\n",
    "df_fisher"
   ]
  },
  {
   "cell_type": "code",
   "execution_count": null,
   "metadata": {
    "ExecuteTime": {
     "end_time": "2019-10-04T04:03:03.638173Z",
     "start_time": "2019-10-04T04:02:34.267Z"
    },
    "collapsed": true
   },
   "outputs": [],
   "source": [
    "syn_net_base_folder = '/home/benjamin/genome_assembly/Warrior/DK0911_v04/comp_orthology/run_SynNet/'\n",
    "syn_net_files = [os.path.join(syn_net_base_folder, x, 'DK_PAu.collinearity') for x in os.listdir(syn_net_base_folder) if x.startswith('Genomes')]"
   ]
  },
  {
   "cell_type": "code",
   "execution_count": null,
   "metadata": {
    "ExecuteTime": {
     "end_time": "2019-10-04T04:03:03.639949Z",
     "start_time": "2019-10-04T04:02:34.270Z"
    },
    "collapsed": true
   },
   "outputs": [],
   "source": [
    "for x in syn_net_files:\n",
    "    print(x)\n",
    "    print(os.path.exists(x))"
   ]
  },
  {
   "cell_type": "markdown",
   "metadata": {},
   "source": [
    "want to get for each gene the position in the alignement, the length of the alignment, the alignement name, plus its match.\n"
   ]
  },
  {
   "cell_type": "code",
   "execution_count": null,
   "metadata": {
    "ExecuteTime": {
     "end_time": "2019-10-04T04:03:03.641751Z",
     "start_time": "2019-10-04T04:02:34.337Z"
    },
    "collapsed": true
   },
   "outputs": [],
   "source": [
    "collinear_df_dict = {}\n",
    "for fn in syn_net_files:\n",
    "    collinear_df_dict[fn.split('/')[-2]] = get_collinear_df(fn)"
   ]
  },
  {
   "cell_type": "code",
   "execution_count": null,
   "metadata": {
    "ExecuteTime": {
     "end_time": "2019-10-04T04:03:03.643514Z",
     "start_time": "2019-10-04T04:02:34.341Z"
    },
    "collapsed": true
   },
   "outputs": [],
   "source": [
    "gene_keys = ['All_genes','Busco', 'Ceffectors',  'EffectorP',   'Secretome']\n",
    "for key, value in collinear_df_dict.items():\n",
    "    for genome, bed_fn_dict in zip(['DK0911', 'Pst_104E'], [DK0911_dict, Pst_104E_dict]):\n",
    "        collinear_df_dict[key] = add_gentype_column(value, gene_keys, genome, bed_fn_dict)"
   ]
  },
  {
   "cell_type": "code",
   "execution_count": null,
   "metadata": {
    "ExecuteTime": {
     "end_time": "2019-10-04T04:03:03.645210Z",
     "start_time": "2019-10-04T04:02:34.345Z"
    },
    "collapsed": true
   },
   "outputs": [],
   "source": [
    "#a dataframe that contains multiindex columns (genomes and m values) as columns, gentypes as rows\n",
    "#and values are lists of maximal collinear blocks per gene. Lose the linkage between geneid and block length"
   ]
  },
  {
   "cell_type": "code",
   "execution_count": null,
   "metadata": {
    "ExecuteTime": {
     "end_time": "2019-10-04T04:03:03.647045Z",
     "start_time": "2019-10-04T04:02:34.348Z"
    },
    "collapsed": true
   },
   "outputs": [],
   "source": [
    "max_collinear_df_dict = {}\n",
    "for key, tmp_df in collinear_df_dict.items():\n",
    "    m_pattern = re.compile(r'0m([0-9]*)')\n",
    "    m = re.findall(m_pattern, key)[0]\n",
    "    for genome in ['Pst_104E', 'DK0911']:\n",
    "        idx = tmp_df.groupby(genome)['aln_length'].agg(pd.Series.idxmax)\n",
    "        new_key = '%s_m%s' % (genome, m)\n",
    "        max_collinear_df_dict[new_key] =  tmp_df.iloc[idx].drop_duplicates([genome, 'aln_length']).copy()"
   ]
  },
  {
   "cell_type": "code",
   "execution_count": null,
   "metadata": {
    "ExecuteTime": {
     "end_time": "2019-10-04T04:03:03.648816Z",
     "start_time": "2019-10-04T04:02:34.352Z"
    },
    "collapsed": true
   },
   "outputs": [],
   "source": [
    "max_collinear_df_dict.keys()"
   ]
  },
  {
   "cell_type": "code",
   "execution_count": null,
   "metadata": {
    "ExecuteTime": {
     "end_time": "2019-10-04T04:03:03.650591Z",
     "start_time": "2019-10-04T04:02:34.357Z"
    },
    "collapsed": true
   },
   "outputs": [],
   "source": [
    "font = {'family' : 'DejaVu Sans',\n",
    "        'weight' : 'bold',\n",
    "        'size'   : 20}\n",
    "label_config_x = {'fontsize'            : 'large',\n",
    "      'verticalalignment'   : 'top',\n",
    "      'horizontalalignment' : 'center'\n",
    "      }\n",
    "label_config_y = {'fontsize'            : 'large',\n",
    "      'verticalalignment'   : 'bottom',\n",
    "      'horizontalalignment' : 'center'\n",
    "      }\n",
    "matplotlib.rc('font', **font)"
   ]
  },
  {
   "cell_type": "code",
   "execution_count": null,
   "metadata": {
    "ExecuteTime": {
     "end_time": "2019-10-04T04:03:03.652205Z",
     "start_time": "2019-10-04T04:02:34.363Z"
    },
    "collapsed": true
   },
   "outputs": [],
   "source": [
    "Max_collinear_mean = {}\n",
    "for genome in ['Pst_104E' , 'DK0911']:\n",
    "    Max_collinear_mean[genome] = {}\n",
    "    for key, tmp_df in max_collinear_df_dict.items():\n",
    "        if key.startswith(genome):\n",
    "            m2_pattern = re.compile(r'_m([0-9]*)')\n",
    "            m = re.findall(m2_pattern, key)[0]\n",
    "            Max_collinear_mean[genome][m] = get_genetype_means(tmp_df, genome, gene_keys)\n",
    "    Max_collinear_mean[genome] = max_colinear_df(Max_collinear_mean[genome], gene_keys)    "
   ]
  },
  {
   "cell_type": "code",
   "execution_count": null,
   "metadata": {
    "ExecuteTime": {
     "end_time": "2019-10-04T04:03:03.653976Z",
     "start_time": "2019-10-04T04:02:34.366Z"
    },
    "collapsed": true
   },
   "outputs": [],
   "source": [
    "f, ax = plt.subplots(1,2, figsize=[15,12], sharey=True)\n",
    "\n",
    "y= Max_collinear_mean['DK0911'].T.index\n",
    "\n",
    "\n",
    "label_list = [\"All genes\", 'BUSCOs', 'Candidate effectors', 'EffectorP', 'Secretome']\n",
    "\n",
    "\n",
    "for gene_type in gene_keys:\n",
    "    ax[1].plot(y, Max_collinear_mean['DK0911'].T[gene_type], 'o')\n",
    "    ax[1].title.set_text('DK0911')\n",
    "    ax[1].title.set_size(font['size'])\n",
    "    ax[1].title.set_weight(font['weight'])\n",
    "    ax[1].title.set_family(font['family'])\n",
    "    ax[0].title.set_text(\"Pst104E\")\n",
    "    ax[0].title.set_family(font['family'])\n",
    "    ax[0].title.set_size(font['size'])\n",
    "    ax[0].title.set_weight(font['weight'])\n",
    "    ax[0].plot(y, Max_collinear_mean['Pst_104E'].T[gene_type], 'o')\n",
    "\n",
    "f.text(0.5, 0.06, 'Max allowed gap size within alignment block', **font, ha='center', va='center')\n",
    "ax[0].set_ylabel('Mean Synteny Block Size',**font)\n",
    "L = plt.legend()\n",
    "for label, pos in zip(label_list, range(0,len(label_list))):\n",
    "    L.get_texts()[pos].set_text(label)"
   ]
  },
  {
   "cell_type": "code",
   "execution_count": null,
   "metadata": {
    "ExecuteTime": {
     "end_time": "2019-10-04T04:03:03.655579Z",
     "start_time": "2019-10-04T04:02:34.370Z"
    },
    "collapsed": true
   },
   "outputs": [],
   "source": [
    "Max_collinear_median = {}\n",
    "for genome in ['Pst_104E' , 'DK0911']:\n",
    "    Max_collinear_median[genome] = {}\n",
    "    for key, tmp_df in max_collinear_df_dict.items():\n",
    "        if key.startswith(genome):\n",
    "            m2_pattern = re.compile(r'_m([0-9]*)')\n",
    "            m = re.findall(m2_pattern, key)[0]\n",
    "            Max_collinear_median[genome][m] = get_genetype_median(tmp_df, genome, gene_keys)\n",
    "    Max_collinear_median[genome] = max_colinear_df(Max_collinear_median[genome], gene_keys)  "
   ]
  },
  {
   "cell_type": "code",
   "execution_count": null,
   "metadata": {
    "ExecuteTime": {
     "end_time": "2019-10-04T04:03:03.657237Z",
     "start_time": "2019-10-04T04:02:34.374Z"
    },
    "collapsed": true
   },
   "outputs": [],
   "source": [
    "f, ax = plt.subplots(1,2, figsize=[10,10], sharey=True)\n",
    "\n",
    "\n",
    "\n",
    "y= Max_collinear_median['DK0911'].T.index\n",
    "\n",
    "for gene_type in gene_keys:\n",
    "    ax[0].plot(y, Max_collinear_median['DK0911'].T[gene_type], 'o')\n",
    "    ax[0].title.set_text('DK0911')\n",
    "    ax[1].title.set_text(\"Pst_104E\" )\n",
    "    ax[1].plot(y,Max_collinear_median['Pst_104E'].T[gene_type], 'o')\n",
    "\n",
    "f.text(0.5, 0.06, 'Max allowed gap size within alignment block', fontsize=16, ha='center', va='center')\n",
    "ax[0].set_ylabel('Median Synteny Block Size',fontsize=16)\n",
    "L = plt.legend()\n"
   ]
  },
  {
   "cell_type": "code",
   "execution_count": null,
   "metadata": {
    "ExecuteTime": {
     "end_time": "2019-10-04T04:03:03.658950Z",
     "start_time": "2019-10-04T04:02:34.378Z"
    },
    "collapsed": true
   },
   "outputs": [],
   "source": [
    "Max_percentage = {}\n",
    "for genome, genome_dict in zip(['Pst_104E' , 'DK0911'], [ Pst_104E_dict, DK0911_dict]):\n",
    "    Max_percentage[genome] = {}\n",
    "    for key, tmp_df in max_collinear_df_dict.items():\n",
    "        if key.startswith(genome):\n",
    "            m2_pattern = re.compile(r'_m([0-9]*)')\n",
    "            m = re.findall(m2_pattern, key)[0]\n",
    "            Max_percentage[genome][m] = get_genetype_percentage(tmp_df, genome, genome_dict,\\\n",
    "                                                                genome_dict['All_genes'],  gene_keys)\n",
    "    Max_percentage[genome] = max_colinear_df(Max_percentage[genome], gene_keys)    "
   ]
  },
  {
   "cell_type": "code",
   "execution_count": null,
   "metadata": {
    "ExecuteTime": {
     "end_time": "2019-10-04T04:03:03.660550Z",
     "start_time": "2019-10-04T04:02:34.381Z"
    },
    "collapsed": true
   },
   "outputs": [],
   "source": [
    "f, ax = plt.subplots(1,2, figsize=[10,10], sharey=True)\n",
    "\n",
    "\n",
    "\n",
    "for gene_type in gene_keys:\n",
    "    ax[0].plot(Max_percentage['DK0911'].T[gene_type],'o')\n",
    "    ax[1].plot(Max_percentage['Pst_104E'].T[gene_type],'o')\n",
    "    ax[0].title.set_text('DK0911')\n",
    "    ax[1].title.set_text(\"Pst_104E\" )\n",
    "\n",
    "f.text(0.5, 0.06, 'Max allowed gap size within alignment block', fontsize=16, ha='center', va='center')\n",
    "ax[0].set_ylabel('Percentage of genes with synteny block',fontsize=16)\n",
    "ax[0].set_ylim(50,100)\n",
    "plt.legend()"
   ]
  },
  {
   "cell_type": "code",
   "execution_count": null,
   "metadata": {
    "ExecuteTime": {
     "end_time": "2019-10-04T04:03:03.662197Z",
     "start_time": "2019-10-04T04:02:34.384Z"
    },
    "collapsed": true
   },
   "outputs": [],
   "source": [
    "Max_collinear_mean_primary = {}\n",
    "for genome, genome_dict in zip(['Pst_104E' , 'DK0911'], [Pst_104E_dict, DK0911_dict]):\n",
    "    Max_collinear_mean_primary[genome] = {}\n",
    "    \n",
    "    for key, tmp_df in max_collinear_df_dict.items():\n",
    "        tmp_df = tmp_df[tmp_df[genome].isin(get_gene_list(genome_dict[\"Primary_genes\"]))].reset_index(drop=True).copy()\n",
    "        \n",
    "        if key.startswith(genome):\n",
    "            m2_pattern = re.compile(r'_m([0-9]*)')\n",
    "            m = re.findall(m2_pattern, key)[0]\n",
    "            Max_collinear_mean_primary[genome][m] = get_genetype_means(tmp_df, genome, gene_keys)\n",
    "    Max_collinear_mean_primary[genome] = max_colinear_df(Max_collinear_mean_primary[genome], gene_keys)    "
   ]
  },
  {
   "cell_type": "markdown",
   "metadata": {},
   "source": [
    "### Figure 5 of the paper A"
   ]
  },
  {
   "cell_type": "code",
   "execution_count": null,
   "metadata": {
    "ExecuteTime": {
     "end_time": "2019-10-04T04:03:03.663725Z",
     "start_time": "2019-10-04T04:02:34.468Z"
    },
    "collapsed": true
   },
   "outputs": [],
   "source": [
    "f, ax = plt.subplots(1,2, figsize=[15,12], sharey=True)\n",
    "\n",
    "y= Max_collinear_mean_primary['DK0911'].T.index\n",
    "\n",
    "\n",
    "label_list = [\"All genes\", 'BUSCOs', 'Candidate \\neffectors', 'EffectorP', 'Secretome']\n",
    "\n",
    "\n",
    "for gene_type in gene_keys:\n",
    "    ax[1].plot(y, Max_collinear_mean_primary['DK0911'].T[gene_type], 'o', ms=10 ,alpha=0.6)\n",
    "    ax[1].title.set_text('DK0911')\n",
    "    ax[1].title.set_size(font['size'])\n",
    "    ax[1].title.set_weight(font['weight'])\n",
    "    ax[1].title.set_family(font['family'])\n",
    "    ax[0].title.set_text(\"Pst104E\")\n",
    "    ax[0].title.set_family(font['family'])\n",
    "    ax[0].title.set_size(font['size'])\n",
    "    ax[0].title.set_weight(font['weight'])\n",
    "    ax[0].plot(y, Max_collinear_mean_primary['Pst_104E'].T[gene_type], 'o', ms=10 ,alpha=0.6)\n",
    "\n",
    "f.text(0.5, 0.06, 'Maximum number of gaps within alignment block', **font, ha='center', va='center')\n",
    "ax[0].set_ylabel('Mean Synteny Block Size',**font)\n",
    "L = plt.legend(frameon=False, loc=7)\n",
    "\n",
    "for label, pos in zip(label_list, range(0,len(label_list))):\n",
    "    L.get_texts()[pos].set_text(label)\n",
    "\n",
    "for pos in range(0,2):\n",
    "    for axis in ['bottom','left']:\n",
    "        ax[pos].spines[axis].set_linewidth(2)\n",
    "    for axis in ['top','right']:\n",
    "        ax[pos].spines[axis].set_linewidth(0)\n",
    "    ax[pos].tick_params(width=2)\n",
    "    ax[pos].tick_params(axis='x',rotation=-45)\n",
    "\n",
    "outfn = os.path.join(OUTPATH, 'F5A_synteny_block_length.tiff')\n",
    "plt.savefig(outfn, dpi=600,bbox_inches='tight')"
   ]
  },
  {
   "cell_type": "code",
   "execution_count": null,
   "metadata": {
    "ExecuteTime": {
     "end_time": "2019-10-04T04:03:03.665264Z",
     "start_time": "2019-10-04T04:02:34.472Z"
    },
    "collapsed": true
   },
   "outputs": [],
   "source": [
    "Max_percentage_primary = {}\n",
    "for genome, bed_fn_dict in zip(['Pst_104E' , 'DK0911'], [ Pst_104E_dict, DK0911_dict]):\n",
    "    Max_percentage_primary[genome] = {}\n",
    "    for key, tmp_df in max_collinear_df_dict.items():\n",
    "        tmp_df = tmp_df[tmp_df[genome].isin(get_gene_list(bed_fn_dict[\"Primary_genes\"]))].reset_index(drop=True).copy()\n",
    "        if key.startswith(genome):\n",
    "            m2_pattern = re.compile(r'_m([0-9]*)')\n",
    "            m = re.findall(m2_pattern, key)[0]\n",
    "            Max_percentage_primary[genome][m] = get_genetype_percentage(tmp_df, genome, bed_fn_dict,\\\n",
    "                                                                        bed_fn_dict['Primary_genes'],  gene_keys)\n",
    "    Max_percentage_primary[genome] = max_colinear_df(Max_percentage_primary[genome], gene_keys)"
   ]
  },
  {
   "cell_type": "markdown",
   "metadata": {},
   "source": [
    "### Figure 5 of the paper B"
   ]
  },
  {
   "cell_type": "code",
   "execution_count": null,
   "metadata": {
    "ExecuteTime": {
     "end_time": "2019-10-04T04:03:03.667061Z",
     "start_time": "2019-10-04T04:02:34.553Z"
    },
    "collapsed": true
   },
   "outputs": [],
   "source": [
    "f, ax = plt.subplots(1,2, figsize=[15,12], sharey=True)\n",
    "\n",
    "y= Max_percentage_primary['DK0911'].T.index\n",
    "\n",
    "\n",
    "label_list = [\"All genes\", 'BUSCOs', 'Candidate \\neffectors', 'EffectorP', 'Secretome']\n",
    "\n",
    "\n",
    "for gene_type in gene_keys:\n",
    "    ax[1].plot(y, Max_percentage_primary['DK0911'].T[gene_type], 'o', ms=10 ,alpha=0.6)\n",
    "    ax[1].title.set_text('DK0911')\n",
    "    ax[1].title.set_size(font['size'])\n",
    "    ax[1].title.set_weight(font['weight'])\n",
    "    ax[1].title.set_family(font['family'])\n",
    "    ax[0].title.set_text(\"Pst104E\")\n",
    "    ax[0].title.set_family(font['family'])\n",
    "    ax[0].title.set_size(font['size'])\n",
    "    ax[0].title.set_weight(font['weight'])\n",
    "    ax[0].plot(y, Max_percentage_primary['Pst_104E'].T[gene_type], 'o', ms=10 ,alpha=0.6)\n",
    "\n",
    "f.text(0.5, 0.06, 'Maximum number of gaps within alignment block', **font, ha='center', va='center')\n",
    "ax[0].set_ylabel('Percentage of genes with synteny block',**font)\n",
    "\n",
    "\n",
    "L = plt.legend(frameon=False, loc=7)\n",
    "for label, pos in zip(label_list, range(0,len(label_list))):\n",
    "    L.get_texts()[pos].set_text(label)\n",
    "\n",
    "    \n",
    "for pos in range(0,2):\n",
    "    for axis in ['bottom','left']:\n",
    "        ax[pos].spines[axis].set_linewidth(2)\n",
    "    for axis in ['top','right']:\n",
    "        ax[pos].spines[axis].set_linewidth(0)\n",
    "    ax[pos].tick_params(width=2)\n",
    "    ax[pos].tick_params(axis='x',rotation=-45)\n",
    "outfn = os.path.join(OUTPATH, 'F5B_synteny_gene_percentage.tiff')\n",
    "plt.savefig(outfn, dpi=600,bbox_inches='tight')"
   ]
  },
  {
   "cell_type": "markdown",
   "metadata": {},
   "source": [
    "### Analysis\n",
    "\n",
    "Based on the plot above choose max allowed gap size of nine."
   ]
  },
  {
   "cell_type": "code",
   "execution_count": null,
   "metadata": {
    "ExecuteTime": {
     "end_time": "2019-10-04T04:03:03.668697Z",
     "start_time": "2019-10-04T04:02:34.644Z"
    },
    "collapsed": true
   },
   "outputs": [],
   "source": [
    "!ls /home/benjamin/genome_assembly/Warrior/DK0911_v04/comp_orthology/run_SynNet/"
   ]
  },
  {
   "cell_type": "code",
   "execution_count": null,
   "metadata": {
    "ExecuteTime": {
     "end_time": "2019-10-04T04:03:03.670278Z",
     "start_time": "2019-10-04T04:02:34.648Z"
    },
    "collapsed": true
   },
   "outputs": [],
   "source": [
    "fn = '/home/benjamin/genome_assembly/Warrior/DK0911_v04/comp_orthology/run_SynNet/Genomes20190514_1247-SynNet-k25w0m8/DK_PAu.collinearity'"
   ]
  },
  {
   "cell_type": "code",
   "execution_count": null,
   "metadata": {
    "ExecuteTime": {
     "end_time": "2019-10-04T04:03:03.671833Z",
     "start_time": "2019-10-04T04:02:34.651Z"
    },
    "collapsed": true
   },
   "outputs": [],
   "source": [
    "syn_df = get_collinear_df(fn)\n",
    "gene_keys = ['All_genes','Busco', 'Ceffectors',  'EffectorP',   'Secretome']\n",
    "\n",
    "for genome, bed_fn_dict in zip(['DK0911', 'Pst_104E'], [DK0911_dict, Pst_104E_dict]):\n",
    "    syn_df = add_gentype_column(syn_df, gene_keys, genome, bed_fn_dict)"
   ]
  },
  {
   "cell_type": "code",
   "execution_count": null,
   "metadata": {
    "ExecuteTime": {
     "end_time": "2019-10-04T04:03:03.673360Z",
     "start_time": "2019-10-04T04:02:34.655Z"
    },
    "collapsed": true
   },
   "outputs": [],
   "source": [
    "syn_df.head()"
   ]
  },
  {
   "cell_type": "code",
   "execution_count": null,
   "metadata": {
    "ExecuteTime": {
     "end_time": "2019-10-04T04:03:03.674835Z",
     "start_time": "2019-10-04T04:02:34.659Z"
    },
    "collapsed": true
   },
   "outputs": [],
   "source": [
    "max_length_df_dict = {}\n",
    "pallete = [sns.color_palette('colorblind')[x] for x in [0,1]]\n",
    "for genome, color, genome_dict in zip(['Pst_104E', 'DK0911'], pallete, [Pst_104E_dict, DK0911_dict]): \n",
    "    idx = syn_df.groupby(genome)['aln_length'].agg(pd.Series.idxmax)\n",
    "    max_length_df_dict[genome] = syn_df.iloc[idx].drop_duplicates([genome, 'aln_length']).copy()\n",
    "    for gene_type in syn_df.columns[-10:]:\n",
    "        if genome in gene_type:\n",
    "            _tmp_df = max_length_df_dict[genome]\n",
    "      \n",
    "            #print(genome, gene_type)\n",
    "            #print(round(_tmp_df[_tmp_df[gene_type] == True]['aln_length'].mean(),2))\n",
    "            #print(round(_tmp_df[_tmp_df[gene_type] == True]['aln_length'].median(),2))\n",
    "    plot_synteny(genome, max_length_df_dict[genome],genome_dict[\"All_genes\"],   color, 'something')"
   ]
  },
  {
   "cell_type": "code",
   "execution_count": null,
   "metadata": {
    "ExecuteTime": {
     "end_time": "2019-10-04T04:03:03.676212Z",
     "start_time": "2019-10-04T04:02:34.664Z"
    },
    "collapsed": true
   },
   "outputs": [],
   "source": [
    "max_length_df_dict = {}\n",
    "pallete = [sns.color_palette('colorblind')[x] for x in [0,1]]\n",
    "for genome, color, genome_dict in zip(['Pst_104E', 'DK0911'], pallete, [Pst_104E_dict, DK0911_dict]): \n",
    "    idx = syn_df.groupby(genome)['aln_length'].agg(pd.Series.idxmax)\n",
    "    max_length_df_dict[genome] = syn_df.iloc[idx].drop_duplicates([genome, 'aln_length']).copy()\n",
    "    for gene_type in syn_df.columns[-10:]:\n",
    "        if genome in gene_type:\n",
    "            _tmp_df = max_length_df_dict[genome]\n",
    "            sub_gene_list = get_gene_list(genome_dict[\"Primary_genes\"])\n",
    "            _tmp_df = _tmp_df[_tmp_df[genome].isin(sub_gene_list)].copy()\n",
    "            _tmp_df = _tmp_df.reset_index(drop=True)\n",
    "            print(genome, gene_type)\n",
    "            print(round(_tmp_df[_tmp_df[gene_type] == True]['aln_length'].mean(),2),\\\n",
    "                  round(_tmp_df[_tmp_df[gene_type] == True]['aln_length'].median(),2))\n",
    "    plot_synteny(genome,_tmp_df,genome_dict[\"Primary_genes\"],   color, 'something')\n",
    "    outfn = os.path.join(OUTPATH, 'SF7_%s_synteny_block_size_per_gene_group.tiff' % genome)\n",
    "    plt.savefig(outfn, dpi=600,bbox_inches='tight')"
   ]
  },
  {
   "cell_type": "code",
   "execution_count": null,
   "metadata": {
    "ExecuteTime": {
     "end_time": "2019-10-04T04:03:03.677566Z",
     "start_time": "2019-10-04T04:02:34.668Z"
    },
    "collapsed": true
   },
   "outputs": [],
   "source": [
    "max_length_df_dict['Pst_104E']"
   ]
  },
  {
   "cell_type": "markdown",
   "metadata": {},
   "source": [
    "### Now fish out the best hits\n",
    "\n",
    "First get all the best hits based on the synteny\n",
    "\n",
    "sny_df groupby genome pull out genome number ask which one is in the best hit in the blast pair up."
   ]
  },
  {
   "cell_type": "code",
   "execution_count": null,
   "metadata": {
    "ExecuteTime": {
     "end_time": "2019-10-04T04:03:03.679036Z",
     "start_time": "2019-10-04T04:02:34.760Z"
    },
    "collapsed": true
   },
   "outputs": [],
   "source": [
    "syn_folder = '/home/benjamin/genome_assembly/Warrior/DK0911_v04/comp_orthology/run_SynNet/Genomes20190529_1333-SynNet-k500w0m9//'\n",
    "syn_df_fn = os.path.join(syn_folder, 'DK_PAu.collinearity')\n",
    "Diamond_df_dict = {}\n",
    "DK0911_diamond_fn = os.path.join(syn_folder, 'DK_PAu')\n",
    "Pst_104E_diamond_fn = os.path.join(syn_folder, 'PAu_DK')\n",
    "DK0911_pairing_fn = os.path.join(syn_folder, 'DK.pairing')\n",
    "Pst_104E_pairing_fn = os.path.join(syn_folder, 'PAu.pairing')\n",
    "\n",
    "DK0911_orthopairing_fn = os.path.join(syn_folder, 'DK.orthopairing')\n",
    "Pst_104E_orthopairing_fn = os.path.join(syn_folder, 'PAu.orthopairing')\n",
    "\n",
    "DK0911_nopairing_fn = os.path.join(syn_folder, 'DK.nopairing')\n",
    "Pst_104E_nopairing_fn = os.path.join(syn_folder, 'PAu.nopairing')\n",
    "syn_df = get_collinear_df(syn_df_fn)\n",
    "Diamond_df_dict['DK0911'] = get_diamond_six_df(DK0911_diamond_fn)\n",
    "Diamond_df_dict['Pst_104E'] = get_diamond_six_df(Pst_104E_diamond_fn)"
   ]
  },
  {
   "cell_type": "code",
   "execution_count": null,
   "metadata": {
    "ExecuteTime": {
     "end_time": "2019-10-04T04:03:03.680389Z",
     "start_time": "2019-10-04T04:02:34.763Z"
    },
    "collapsed": true
   },
   "outputs": [],
   "source": [
    "def get_best_blast_hit(query, subject, blast_df):\n",
    "    if len(blast_df[(blast_df['qseqid'] == query) & (blast_df['sseqid'].isin(subject))]) > 0:\n",
    "        idx = blast_df[(blast_df['qseqid'] == query) & (blast_df['sseqid'].isin(subject))]['bitscore'].idxmax()\n",
    "        return str(blast_df.loc[idx,'qseqid']), str(blast_df.loc[idx, 'sseqid'])\n",
    "    else:\n",
    "        return '',''"
   ]
  },
  {
   "cell_type": "code",
   "execution_count": null,
   "metadata": {
    "ExecuteTime": {
     "end_time": "2019-10-04T04:03:03.681851Z",
     "start_time": "2019-10-04T04:02:34.767Z"
    },
    "collapsed": true
   },
   "outputs": [],
   "source": [
    "#group by the query genome and loop of the groups\n",
    "#input the alignment hits into the get_best_blast_hit function\n",
    "#this function returns the best match\n",
    "Done_gene_list = {}\n",
    "Funn_gene_list = {}\n",
    "\n",
    "for q_genome, s_genome, out_fn in \\\n",
    "zip(['DK0911', 'Pst_104E'], ['Pst_104E', 'DK0911'], [DK0911_pairing_fn, Pst_104E_pairing_fn]):\n",
    "    grouped = syn_df.groupby(q_genome)\n",
    "    Done_gene_list[q_genome] = []\n",
    "    Funn_gene_list[q_genome] = []\n",
    "    with open(out_fn,'w') as out_hn:\n",
    "        for name, group in grouped:\n",
    "            #print(name)\n",
    "            query, subject = get_best_blast_hit(str(name), group[s_genome].tolist(), Diamond_df_dict[q_genome])\n",
    "            if query != '':\n",
    "                Done_gene_list[q_genome].append(query)\n",
    "                print(query, subject, sep='\\t', file = out_hn)\n",
    "            elif query == '':\n",
    "                Funn_gene_list[q_genome].append(name)\n",
    "#next fish out all the not done pairing and get those from the orthology analysis in a similar manner"
   ]
  },
  {
   "cell_type": "code",
   "execution_count": null,
   "metadata": {
    "ExecuteTime": {
     "end_time": "2019-10-04T04:03:03.683273Z",
     "start_time": "2019-10-04T04:02:34.770Z"
    },
    "collapsed": true
   },
   "outputs": [],
   "source": [
    "for key, value in Funn_gene_list.items():\n",
    "    print('%s: %s' %(key, len(value)))"
   ]
  },
  {
   "cell_type": "code",
   "execution_count": null,
   "metadata": {
    "ExecuteTime": {
     "end_time": "2019-10-04T04:03:03.684643Z",
     "start_time": "2019-10-04T04:02:34.776Z"
    },
    "collapsed": true
   },
   "outputs": [],
   "source": [
    "#now save out all the genes without paring\n",
    "for genome, genome_dict, out_fn in zip(['DK0911', 'Pst_104E'], [DK0911_dict, Pst_104E_dict],\\\n",
    "                                       [DK0911_nopairing_fn, Pst_104E_nopairing_fn]):\n",
    "    nopairing_genes = set(get_gene_list(genome_dict['All_genes'])) - set(Done_gene_list[genome])\n",
    "    with open(out_fn, 'w') as out_hn:\n",
    "        for gene in nopairing_genes:\n",
    "            print(gene, file=out_hn)"
   ]
  },
  {
   "cell_type": "code",
   "execution_count": null,
   "metadata": {
    "ExecuteTime": {
     "end_time": "2019-10-04T04:03:03.686059Z",
     "start_time": "2019-10-04T04:02:34.779Z"
    },
    "collapsed": true
   },
   "outputs": [],
   "source": [
    "#get the orthofinder results read in\n",
    "#this is the dict for all orthogroups and what members they have\n",
    "orthofinder_dict = get_ortho_dict(ORTHOFINDER_FILE_NAME)\n",
    "#this is the dict for proteins and what orthogroup they have\n",
    "gene_to_ortho_dict = get_gene_to_ortho_dict(orthofinder_dict)"
   ]
  },
  {
   "cell_type": "code",
   "execution_count": null,
   "metadata": {
    "ExecuteTime": {
     "end_time": "2019-10-04T04:03:03.687413Z",
     "start_time": "2019-10-04T04:02:34.783Z"
    },
    "collapsed": true
   },
   "outputs": [],
   "source": [
    "No_match_dict = {}\n",
    "No_blast_match = {}\n",
    "Done_gene_list_ortho = {}\n",
    "for genome, genome_dict, target, out_fn in zip(['DK0911', 'Pst_104E'], [DK0911_dict, Pst_104E_dict], \\\n",
    "                                       ['Pst104E', 'DK0911'], [DK0911_orthopairing_fn, Pst_104E_orthopairing_fn]):\n",
    "    nopairing_genes = set(get_gene_list(genome_dict['All_genes'])) - set(Done_gene_list[genome])\n",
    "    No_match_dict[genome] = []\n",
    "    No_blast_match[genome] = []\n",
    "    Done_gene_list_ortho[genome] = []\n",
    "    with open(out_fn, 'w') as out_hn:\n",
    "        \n",
    "        for gene in nopairing_genes:\n",
    "            ortho_group = gene_to_ortho_dict[gene]\n",
    "            ortho_match = [x for x in orthofinder_dict[ortho_group] if x.startswith(target)]\n",
    "            if len(ortho_match) > 0:\n",
    "                query, subject = get_best_blast_hit(gene, ortho_match, Diamond_df_dict[genome])\n",
    "                if query != '':\n",
    "                    Done_gene_list_ortho[genome].append(query)\n",
    "                    print(query, subject, sep='\\t', file = out_hn)\n",
    "                elif query == '':\n",
    "                    No_blast_match[genome].append(gene)\n",
    "            elif len(ortho_match) == 0:\n",
    "                No_match_dict[genome].append(gene)"
   ]
  },
  {
   "cell_type": "code",
   "execution_count": null,
   "metadata": {
    "ExecuteTime": {
     "end_time": "2019-10-04T04:03:03.688858Z",
     "start_time": "2019-10-04T04:02:34.786Z"
    },
    "collapsed": true
   },
   "outputs": [],
   "source": [
    "for key, value in No_blast_match.items():\n",
    "    print('%s: %s' %(key, len(value)))"
   ]
  },
  {
   "cell_type": "code",
   "execution_count": null,
   "metadata": {
    "ExecuteTime": {
     "end_time": "2019-10-04T04:03:03.690161Z",
     "start_time": "2019-10-04T04:02:34.790Z"
    },
    "collapsed": true
   },
   "outputs": [],
   "source": [
    "for key, value in No_match_dict.items():\n",
    "    print('%s: %s' %(key, len(value)))"
   ]
  },
  {
   "cell_type": "markdown",
   "metadata": {},
   "source": [
    "### Comment\n",
    "Initially this was run with Genomes20190514_1307-SynNet-k25w0m9, but I ran the same parameters but changing the k value for the blast search to 500 to get better coverage in hits. \n",
    "\n",
    "I hope this will reduce the \n",
    "for key, value in Funn_gene_list.items():\n",
    "    print('%s: %s' %(key, len(value)))\n",
    "    \n",
    "DK0911: 93\n",
    "Pst_104E: 50\n",
    "\n",
    "and\n",
    "\n",
    "for key, value in No_blast_match.items():\n",
    "    print('%s: %s' %(key, len(value)))\n",
    "\n",
    "DK0911: 200\n",
    "Pst_104E: 174"
   ]
  },
  {
   "cell_type": "code",
   "execution_count": null,
   "metadata": {
    "collapsed": true
   },
   "outputs": [],
   "source": []
  }
 ],
 "metadata": {
  "kernelspec": {
   "display_name": "Python [default]",
   "language": "python",
   "name": "python3"
  },
  "language_info": {
   "codemirror_mode": {
    "name": "ipython",
    "version": 3
   },
   "file_extension": ".py",
   "mimetype": "text/x-python",
   "name": "python",
   "nbconvert_exporter": "python",
   "pygments_lexer": "ipython3",
   "version": "3.5.4"
  },
  "toc": {
   "nav_menu": {},
   "number_sections": true,
   "sideBar": true,
   "skip_h1_title": false,
   "title_cell": "Table of Contents",
   "title_sidebar": "Contents",
   "toc_cell": false,
   "toc_position": {},
   "toc_section_display": true,
   "toc_window_display": false
  }
 },
 "nbformat": 4,
 "nbformat_minor": 2
}
