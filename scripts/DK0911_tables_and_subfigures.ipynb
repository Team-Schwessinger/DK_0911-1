{
 "cells": [
  {
   "cell_type": "markdown",
   "metadata": {},
   "source": [
    "### Notebook for tables and subfigures\n",
    "This is a short notebook that tries to capture all the things done to get the values for the tables"
   ]
  },
  {
   "cell_type": "markdown",
   "metadata": {},
   "source": [
    "#### Location of table draft\n",
    "The table draft is in the shared google drive folder SOMEWHERE/GRRC_collaboration/DK0911_genome_report_manuscript/Figures_and_Tables"
   ]
  },
  {
   "cell_type": "markdown",
   "metadata": {},
   "source": [
    "#### Table 1 or first Table for now\n",
    "This table summarizes the gene content and TE coverage and such."
   ]
  },
  {
   "cell_type": "code",
   "execution_count": 1,
   "metadata": {
    "ExecuteTime": {
     "end_time": "2019-10-04T06:55:04.735218Z",
     "start_time": "2019-10-04T06:55:03.775650Z"
    },
    "collapsed": true
   },
   "outputs": [],
   "source": [
    "import pandas as pd\n",
    "from Bio import SeqIO\n",
    "from Bio import SeqUtils\n",
    "import os\n",
    "import re"
   ]
  },
  {
   "cell_type": "code",
   "execution_count": 2,
   "metadata": {
    "ExecuteTime": {
     "end_time": "2019-10-04T06:55:05.524395Z",
     "start_time": "2019-10-04T06:55:05.509143Z"
    },
    "collapsed": true
   },
   "outputs": [],
   "source": [
    "#now get the basefolder of the final genome assembly\n",
    "BASEFOLDER = '/home/benjamin/genome_assembly/Warrior/genome_v04'\n",
    "TABLE_tmp = os.path.join(BASEFOLDER, '../DK0911_v04/TABLE_tmp')\n",
    "if not os.path.exists(TABLE_tmp):\n",
    "    os.makedirs(TABLE_tmp)\n",
    "p_name = 'DK_0911_v04_p_ctg'\n",
    "h_name = 'DK_0911_v04_h_ctg'\n",
    "p_BUSCO_file = '/home/benjamin/genome_assembly/Warrior/DK0911_v04/protein_annotation/DK_0911_v04LT_p_ctg/funannotate/parsed/annotations.busco.txt'\n",
    "h_BUSCO_file = '/home/benjamin/genome_assembly/Warrior/DK0911_v04/protein_annotation/DK_0911_v04LT_h_ctg/funannotate/parsed/annotations.busco.txt'\n",
    "p_effector2_fa_fn = '/home/benjamin/genome_assembly/Warrior/DK0911/Secretome/DK_0911_v04_p_ctg.EffectorP2.0.fa'\n",
    "h_effector2_fa_fn = '/home/benjamin/genome_assembly/Warrior/DK0911/Secretome/DK_0911_v04_h_ctg.EffectorP2.0.fa'"
   ]
  },
  {
   "cell_type": "code",
   "execution_count": 3,
   "metadata": {
    "ExecuteTime": {
     "end_time": "2019-10-04T06:55:06.492840Z",
     "start_time": "2019-10-04T06:55:06.367061Z"
    }
   },
   "outputs": [
    {
     "name": "stdout",
     "output_type": "stream",
     "text": [
      "DK_0911_v04_h_ctg.104Ep_DK0911p.REPET.gff3\r\n",
      "DK_0911_v04_h_ctg.anno.gff3\r\n",
      "DK_0911_v04_h_ctg.cds.fa\r\n",
      "DK_0911_v04_h_ctg.fa\r\n",
      "DK_0911_v04_h_ctg.fa.fai\r\n",
      "DK_0911_v04_h_ctg.gene.fa\r\n",
      "DK_0911_v04_h_ctg.genome_file\r\n",
      "DK_0911_v04_h_ctg.protein.fa\r\n",
      "DK_0911_v04LT_h_ctg.cds.fa\r\n",
      "DK_0911_v04LT_h_ctg.gene.bed\r\n",
      "DK_0911_v04LT_h_ctg.gene.fa\r\n",
      "DK_0911_v04LT_h_ctg.protein.fa\r\n",
      "DK_0911_v04LT.nr_id_80.protein.fa\r\n",
      "DK_0911_v04LT_p_ctg.cds.fa\r\n",
      "DK_0911_v04LT_p_ctg.gene.bed\r\n",
      "DK_0911_v04LT_p_ctg.gene.fa\r\n",
      "DK_0911_v04LT_p_ctg.protein.fa\r\n",
      "DK_0911_v04LT_ph_ctg.cds.fa\r\n",
      "DK_0911_v04LT_ph_ctg.protein.fa\r\n",
      "DK_0911_v04_p_ctg.104Ep_DK0911p.REPET.gff3\r\n",
      "DK_0911_v04_p_ctg.104Ep_DK0911p.REPET.superfamily.sorted.gff\r\n",
      "DK_0911_v04_p_ctg.anno.gff3\r\n",
      "DK_0911_v04_p_ctg.cds.fa\r\n",
      "DK_0911_v04_p_ctg.fa\r\n",
      "DK_0911_v04_p_ctg.fa.fai\r\n",
      "DK_0911_v04_p_ctg.gene.fa\r\n",
      "DK_0911_v04_p_ctg.gene.gff3\r\n",
      "DK_0911_v04_p_ctg.genome_file\r\n",
      "DK_0911_v04_p_ctg.protein.fa\r\n",
      "DK_0911_v04_p_ctg.pwh.anno.gff3\r\n",
      "DK_0911_v04_ph_ctg.anno.gff3\r\n",
      "DK_0911_v04_ph_ctg.anno.gtf\r\n",
      "DK_0911_v04_ph_ctg.cds.fa\r\n",
      "DK_0911_v04_ph_ctg.fa\r\n",
      "DK_0911_v04_ph_ctg.fa.fai\r\n",
      "DK_0911_v04_ph_ctg.gene.fa\r\n",
      "DK_0911_v04_ph_ctg.genome_file\r\n",
      "DK_0911_v04_ph_ctg.protein.fa\r\n",
      "DK_0911_v04_p.list\r\n",
      "DK_0911_v04_pwh.list\r\n",
      "DK_0911_v04_pwoh.list\r\n",
      "README.txt\r\n"
     ]
    }
   ],
   "source": [
    "#thats what is in that folder\n",
    "!ls {BASEFOLDER}"
   ]
  },
  {
   "cell_type": "code",
   "execution_count": 4,
   "metadata": {
    "ExecuteTime": {
     "end_time": "2019-10-04T06:55:10.183599Z",
     "start_time": "2019-10-04T06:55:10.150682Z"
    },
    "collapsed": true
   },
   "outputs": [],
   "source": [
    "def get_pwh_and_pwoh(p_contig_file, h_contig_file):\n",
    "    \"\"\"Function that reads primary and haplotig file and returns the following.\n",
    "    p_contigs, h_contigs, pwh_list, pwoh_list \n",
    "    Naming convention needs to follow pcontig_xxx and hcontig_xxx_xxx.\"\"\"\n",
    "    pwh_list = []\n",
    "    pwoh_list = []\n",
    "    h_contigs = []\n",
    "    h_to_p_list = []\n",
    "    for seq in SeqIO.parse(h_contig_file, 'fasta'):\n",
    "        h_contigs.append(seq.id)\n",
    "        h_to_p_list.append(seq.id[:-4].replace('h','p'))\n",
    "    h_to_p_list = list(set(h_to_p_list))\n",
    "    p_contigs = []\n",
    "    for seq in SeqIO.parse(p_contig_file, 'fasta'):\n",
    "        p_contigs.append(seq.id)\n",
    "        if seq.id in  h_to_p_list:\n",
    "            pwh_list.append(seq.id)\n",
    "        else:\n",
    "            pwoh_list.append(seq.id)\n",
    "    return p_contigs, h_contigs, pwh_list, pwoh_list "
   ]
  },
  {
   "cell_type": "code",
   "execution_count": 5,
   "metadata": {
    "ExecuteTime": {
     "end_time": "2019-10-04T06:55:11.998030Z",
     "start_time": "2019-10-04T06:55:11.967357Z"
    },
    "collapsed": true
   },
   "outputs": [],
   "source": [
    "def summary_genome_df(genome_fn):\n",
    "    contig_length = []\n",
    "    contig_id =[]\n",
    "    contig_GC = []\n",
    "    assembly_id = []\n",
    "    for x in SeqIO.parse(genome_fn, 'fasta'):\n",
    "        contig_id.append(x.id)\n",
    "        contig_length.append(len(x.seq))\n",
    "        contig_GC.append(SeqUtils.GC(x.seq))\n",
    "        assembly_id.append(genome_fn)\n",
    "    s1 = pd.Series(contig_id, name='ID')\n",
    "    s2 = pd.Series(contig_length, name='Length')\n",
    "    s3 = pd.Series(contig_GC, name='%GC')\n",
    "    s4 = pd.Series(assembly_id, name=\"Assembly\")\n",
    "    contig_df = pd.concat([s1, s2, s3, s4], axis=1)\n",
    "    return contig_df"
   ]
  },
  {
   "cell_type": "code",
   "execution_count": 6,
   "metadata": {
    "ExecuteTime": {
     "end_time": "2019-10-04T06:55:19.704329Z",
     "start_time": "2019-10-04T06:55:15.174925Z"
    },
    "collapsed": true
   },
   "outputs": [],
   "source": [
    "p_contig_file = os.path.join(BASEFOLDER, '%s.fa' % p_name)\n",
    "h_contig_file = os.path.join(BASEFOLDER, '%s.fa' % h_name)\n",
    "p_contigs, h_contigs, pwh_list, pwoh_list = get_pwh_and_pwoh(p_contig_file, h_contig_file)\n",
    "p_contig_df = summary_genome_df(p_contig_file)\n",
    "h_contig_df = summary_genome_df(h_contig_file)"
   ]
  },
  {
   "cell_type": "code",
   "execution_count": 18,
   "metadata": {
    "ExecuteTime": {
     "end_time": "2019-10-04T07:00:57.760284Z",
     "start_time": "2019-10-04T07:00:57.743050Z"
    }
   },
   "outputs": [
    {
     "data": {
      "text/plain": [
       "16    1543748\n",
       "17    1541929\n",
       "18    1432633\n",
       "19    1403510\n",
       "20    1341714\n",
       "21    1267121\n",
       "22    1266820\n",
       "23    1097733\n",
       "25    1025863\n",
       "26     985869\n",
       "13     975977\n",
       "28     971047\n",
       "27     970245\n",
       "29     968355\n",
       "30     910852\n",
       "32     905432\n",
       "31     900669\n",
       "33     883174\n",
       "34     873993\n",
       "35     811016\n",
       "38     738750\n",
       "39     737851\n",
       "36     736666\n",
       "37     722814\n",
       "40     716704\n",
       "41     628565\n",
       "44     605520\n",
       "43     589307\n",
       "45     587382\n",
       "46     555801\n",
       "       ...   \n",
       "67     181555\n",
       "68     173893\n",
       "69     169609\n",
       "70     152492\n",
       "71     138502\n",
       "72     137558\n",
       "73     117314\n",
       "57     116323\n",
       "74     109931\n",
       "75     100797\n",
       "76      98178\n",
       "77      81214\n",
       "78      80580\n",
       "79      72512\n",
       "81      70543\n",
       "80      70079\n",
       "82      56462\n",
       "42      55741\n",
       "84      48536\n",
       "85      44208\n",
       "83      40668\n",
       "86      30698\n",
       "87      29712\n",
       "24      25437\n",
       "88      23312\n",
       "89      23178\n",
       "90      23117\n",
       "91      22424\n",
       "92      20280\n",
       "93      20182\n",
       "Name: Length, Length: 79, dtype: int64"
      ]
     },
     "execution_count": 18,
     "metadata": {},
     "output_type": "execute_result"
    }
   ],
   "source": [
    "#N50 calcuations\n",
    "p_contig_df.sort_values('Length', ascending=False, inplace = True)\n",
    "p_contig_df['cumSum'] = p_contig_df.Length.cumsum()\n",
    "p_contig_df[p_contig_df.cumSum > 0.5*p_contig_df.cumSum.max() ]['Length']"
   ]
  },
  {
   "cell_type": "code",
   "execution_count": 7,
   "metadata": {
    "ExecuteTime": {
     "end_time": "2019-10-04T06:55:19.730653Z",
     "start_time": "2019-10-04T06:55:19.708620Z"
    }
   },
   "outputs": [
    {
     "data": {
      "text/plain": [
       "['pcontig_000',\n",
       " 'pcontig_001',\n",
       " 'pcontig_002',\n",
       " 'pcontig_003',\n",
       " 'pcontig_004',\n",
       " 'pcontig_005',\n",
       " 'pcontig_006',\n",
       " 'pcontig_008',\n",
       " 'pcontig_009',\n",
       " 'pcontig_010',\n",
       " 'pcontig_011',\n",
       " 'pcontig_012',\n",
       " 'pcontig_013',\n",
       " 'pcontig_014',\n",
       " 'pcontig_015',\n",
       " 'pcontig_016',\n",
       " 'pcontig_017',\n",
       " 'pcontig_018',\n",
       " 'pcontig_019',\n",
       " 'pcontig_020',\n",
       " 'pcontig_021',\n",
       " 'pcontig_022',\n",
       " 'pcontig_023',\n",
       " 'pcontig_024',\n",
       " 'pcontig_025',\n",
       " 'pcontig_026',\n",
       " 'pcontig_027',\n",
       " 'pcontig_028',\n",
       " 'pcontig_029',\n",
       " 'pcontig_030',\n",
       " 'pcontig_031',\n",
       " 'pcontig_032',\n",
       " 'pcontig_033',\n",
       " 'pcontig_034',\n",
       " 'pcontig_035',\n",
       " 'pcontig_036',\n",
       " 'pcontig_037',\n",
       " 'pcontig_038',\n",
       " 'pcontig_039',\n",
       " 'pcontig_040',\n",
       " 'pcontig_041',\n",
       " 'pcontig_042',\n",
       " 'pcontig_043',\n",
       " 'pcontig_045',\n",
       " 'pcontig_046',\n",
       " 'pcontig_047',\n",
       " 'pcontig_048',\n",
       " 'pcontig_049',\n",
       " 'pcontig_050',\n",
       " 'pcontig_051',\n",
       " 'pcontig_052',\n",
       " 'pcontig_053',\n",
       " 'pcontig_054',\n",
       " 'pcontig_055',\n",
       " 'pcontig_057',\n",
       " 'pcontig_058',\n",
       " 'pcontig_060',\n",
       " 'pcontig_063',\n",
       " 'pcontig_064',\n",
       " 'pcontig_065',\n",
       " 'pcontig_066',\n",
       " 'pcontig_067',\n",
       " 'pcontig_068',\n",
       " 'pcontig_069',\n",
       " 'pcontig_070',\n",
       " 'pcontig_072',\n",
       " 'pcontig_073',\n",
       " 'pcontig_074',\n",
       " 'pcontig_075',\n",
       " 'pcontig_076',\n",
       " 'pcontig_078',\n",
       " 'pcontig_079',\n",
       " 'pcontig_081',\n",
       " 'pcontig_082',\n",
       " 'pcontig_083',\n",
       " 'pcontig_084',\n",
       " 'pcontig_087',\n",
       " 'pcontig_088',\n",
       " 'pcontig_089',\n",
       " 'pcontig_090',\n",
       " 'pcontig_093',\n",
       " 'pcontig_094',\n",
       " 'pcontig_095',\n",
       " 'pcontig_101',\n",
       " 'pcontig_106',\n",
       " 'pcontig_107']"
      ]
     },
     "execution_count": 7,
     "metadata": {},
     "output_type": "execute_result"
    }
   ],
   "source": [
    "pwh_list"
   ]
  },
  {
   "cell_type": "code",
   "execution_count": 8,
   "metadata": {
    "ExecuteTime": {
     "end_time": "2019-10-04T06:55:23.281013Z",
     "start_time": "2019-10-04T06:55:23.269862Z"
    },
    "collapsed": true
   },
   "outputs": [],
   "source": [
    "#GC content quickly\n",
    "pwh_contig_df = p_contig_df[p_contig_df.ID.isin(pwh_list)]\n",
    "pwoh_contig_df = p_contig_df[p_contig_df.ID.isin(pwoh_list)]"
   ]
  },
  {
   "cell_type": "code",
   "execution_count": 9,
   "metadata": {
    "ExecuteTime": {
     "end_time": "2019-10-04T06:55:23.808456Z",
     "start_time": "2019-10-04T06:55:23.774541Z"
    }
   },
   "outputs": [
    {
     "data": {
      "text/html": [
       "<div>\n",
       "<style scoped>\n",
       "    .dataframe tbody tr th:only-of-type {\n",
       "        vertical-align: middle;\n",
       "    }\n",
       "\n",
       "    .dataframe tbody tr th {\n",
       "        vertical-align: top;\n",
       "    }\n",
       "\n",
       "    .dataframe thead th {\n",
       "        text-align: right;\n",
       "    }\n",
       "</style>\n",
       "<table border=\"1\" class=\"dataframe\">\n",
       "  <thead>\n",
       "    <tr style=\"text-align: right;\">\n",
       "      <th></th>\n",
       "      <th>ID</th>\n",
       "      <th>Length</th>\n",
       "      <th>%GC</th>\n",
       "      <th>Assembly</th>\n",
       "    </tr>\n",
       "  </thead>\n",
       "  <tbody>\n",
       "    <tr>\n",
       "      <th>57</th>\n",
       "      <td>pcontig_061</td>\n",
       "      <td>116323</td>\n",
       "      <td>45.089105</td>\n",
       "      <td>/home/benjamin/genome_assembly/Warrior/genome_...</td>\n",
       "    </tr>\n",
       "    <tr>\n",
       "      <th>71</th>\n",
       "      <td>pcontig_077</td>\n",
       "      <td>138502</td>\n",
       "      <td>43.189990</td>\n",
       "      <td>/home/benjamin/genome_assembly/Warrior/genome_...</td>\n",
       "    </tr>\n",
       "    <tr>\n",
       "      <th>74</th>\n",
       "      <td>pcontig_080</td>\n",
       "      <td>109931</td>\n",
       "      <td>44.419681</td>\n",
       "      <td>/home/benjamin/genome_assembly/Warrior/genome_...</td>\n",
       "    </tr>\n",
       "    <tr>\n",
       "      <th>86</th>\n",
       "      <td>pcontig_099</td>\n",
       "      <td>30698</td>\n",
       "      <td>44.797707</td>\n",
       "      <td>/home/benjamin/genome_assembly/Warrior/genome_...</td>\n",
       "    </tr>\n",
       "    <tr>\n",
       "      <th>88</th>\n",
       "      <td>pcontig_104</td>\n",
       "      <td>23312</td>\n",
       "      <td>40.614276</td>\n",
       "      <td>/home/benjamin/genome_assembly/Warrior/genome_...</td>\n",
       "    </tr>\n",
       "    <tr>\n",
       "      <th>89</th>\n",
       "      <td>pcontig_105</td>\n",
       "      <td>23178</td>\n",
       "      <td>42.009664</td>\n",
       "      <td>/home/benjamin/genome_assembly/Warrior/genome_...</td>\n",
       "    </tr>\n",
       "    <tr>\n",
       "      <th>92</th>\n",
       "      <td>pcontig_109</td>\n",
       "      <td>20280</td>\n",
       "      <td>44.112426</td>\n",
       "      <td>/home/benjamin/genome_assembly/Warrior/genome_...</td>\n",
       "    </tr>\n",
       "    <tr>\n",
       "      <th>93</th>\n",
       "      <td>pcontig_110</td>\n",
       "      <td>20182</td>\n",
       "      <td>42.770786</td>\n",
       "      <td>/home/benjamin/genome_assembly/Warrior/genome_...</td>\n",
       "    </tr>\n",
       "  </tbody>\n",
       "</table>\n",
       "</div>"
      ],
      "text/plain": [
       "             ID  Length        %GC  \\\n",
       "57  pcontig_061  116323  45.089105   \n",
       "71  pcontig_077  138502  43.189990   \n",
       "74  pcontig_080  109931  44.419681   \n",
       "86  pcontig_099   30698  44.797707   \n",
       "88  pcontig_104   23312  40.614276   \n",
       "89  pcontig_105   23178  42.009664   \n",
       "92  pcontig_109   20280  44.112426   \n",
       "93  pcontig_110   20182  42.770786   \n",
       "\n",
       "                                             Assembly  \n",
       "57  /home/benjamin/genome_assembly/Warrior/genome_...  \n",
       "71  /home/benjamin/genome_assembly/Warrior/genome_...  \n",
       "74  /home/benjamin/genome_assembly/Warrior/genome_...  \n",
       "86  /home/benjamin/genome_assembly/Warrior/genome_...  \n",
       "88  /home/benjamin/genome_assembly/Warrior/genome_...  \n",
       "89  /home/benjamin/genome_assembly/Warrior/genome_...  \n",
       "92  /home/benjamin/genome_assembly/Warrior/genome_...  \n",
       "93  /home/benjamin/genome_assembly/Warrior/genome_...  "
      ]
     },
     "execution_count": 9,
     "metadata": {},
     "output_type": "execute_result"
    }
   ],
   "source": [
    "pwoh_contig_df"
   ]
  },
  {
   "cell_type": "code",
   "execution_count": 132,
   "metadata": {
    "ExecuteTime": {
     "end_time": "2018-09-11T01:04:02.764605Z",
     "start_time": "2018-09-11T01:04:02.652706Z"
    }
   },
   "outputs": [
    {
     "name": "stderr",
     "output_type": "stream",
     "text": [
      "/home/benjamin/anaconda3/lib/python3.5/site-packages/ipykernel/__main__.py:1: SettingWithCopyWarning: \n",
      "A value is trying to be set on a copy of a slice from a DataFrame.\n",
      "Try using .loc[row_indexer,col_indexer] = value instead\n",
      "\n",
      "See the caveats in the documentation: http://pandas.pydata.org/pandas-docs/stable/indexing.html#indexing-view-versus-copy\n",
      "  if __name__ == '__main__':\n"
     ]
    },
    {
     "data": {
      "text/plain": [
       "43.8705157066869"
      ]
     },
     "execution_count": 132,
     "metadata": {},
     "output_type": "execute_result"
    }
   ],
   "source": [
    "pwoh_contig_df['l*GC'] = pwoh_contig_df['Length'] *  pwoh_contig_df['%GC']\n",
    "pwoh_contig_df['l*GC'].sum()/pwoh_contig_df['Length'].sum()"
   ]
  },
  {
   "cell_type": "code",
   "execution_count": 133,
   "metadata": {
    "ExecuteTime": {
     "end_time": "2018-09-11T01:04:31.059639Z",
     "start_time": "2018-09-11T01:04:30.949547Z"
    }
   },
   "outputs": [
    {
     "name": "stderr",
     "output_type": "stream",
     "text": [
      "/home/benjamin/anaconda3/lib/python3.5/site-packages/ipykernel/__main__.py:1: SettingWithCopyWarning: \n",
      "A value is trying to be set on a copy of a slice from a DataFrame.\n",
      "Try using .loc[row_indexer,col_indexer] = value instead\n",
      "\n",
      "See the caveats in the documentation: http://pandas.pydata.org/pandas-docs/stable/indexing.html#indexing-view-versus-copy\n",
      "  if __name__ == '__main__':\n"
     ]
    },
    {
     "data": {
      "text/plain": [
       "44.42511496789157"
      ]
     },
     "execution_count": 133,
     "metadata": {},
     "output_type": "execute_result"
    }
   ],
   "source": [
    "pwh_contig_df['l*GC'] = pwh_contig_df['Length'] *  pwh_contig_df['%GC']\n",
    "pwh_contig_df['l*GC'].sum()/pwh_contig_df['Length'].sum()"
   ]
  },
  {
   "cell_type": "code",
   "execution_count": 134,
   "metadata": {
    "ExecuteTime": {
     "end_time": "2018-09-11T01:05:49.084455Z",
     "start_time": "2018-09-11T01:05:49.074342Z"
    }
   },
   "outputs": [
    {
     "data": {
      "text/plain": [
       "44.43558624193618"
      ]
     },
     "execution_count": 134,
     "metadata": {},
     "output_type": "execute_result"
    }
   ],
   "source": [
    "h_contig_df['l*GC'] = h_contig_df['Length'] *  h_contig_df['%GC']\n",
    "h_contig_df['l*GC'].sum()/h_contig_df['Length'].sum()"
   ]
  },
  {
   "cell_type": "code",
   "execution_count": 6,
   "metadata": {},
   "outputs": [
    {
     "name": "stdout",
     "output_type": "stream",
     "text": [
      "1176\n",
      "52126201\n"
     ]
    }
   ],
   "source": [
    "#haplotig sequence length\n",
    "h_length = sum([len(x.seq) for x in SeqIO.parse(h_contig_file, 'fasta')])\n",
    "print(len(h_contigs))\n",
    "print(h_length)"
   ]
  },
  {
   "cell_type": "code",
   "execution_count": 7,
   "metadata": {},
   "outputs": [
    {
     "name": "stdout",
     "output_type": "stream",
     "text": [
      "86\n",
      "73945211\n"
     ]
    }
   ],
   "source": [
    "#pwh sequence length\n",
    "pwh_length = sum([len(x.seq) for x in SeqIO.parse(p_contig_file, 'fasta') if x.id in pwh_list])\n",
    "print(len(pwh_list))\n",
    "print(pwh_length)"
   ]
  },
  {
   "cell_type": "code",
   "execution_count": 8,
   "metadata": {},
   "outputs": [
    {
     "name": "stdout",
     "output_type": "stream",
     "text": [
      "8\n",
      "482406\n"
     ]
    }
   ],
   "source": [
    "#pwoh sequence length\n",
    "pwoh_length = sum([len(x.seq) for x in SeqIO.parse(p_contig_file, 'fasta') if x.id in pwoh_list])\n",
    "print(len(pwoh_list))\n",
    "print(pwoh_length)"
   ]
  },
  {
   "cell_type": "code",
   "execution_count": 9,
   "metadata": {},
   "outputs": [
    {
     "name": "stdout",
     "output_type": "stream",
     "text": [
      "94\n"
     ]
    }
   ],
   "source": [
    "print(len([x.id for x in SeqIO.parse(p_contig_file, 'fasta')]))"
   ]
  },
  {
   "cell_type": "code",
   "execution_count": 10,
   "metadata": {},
   "outputs": [
    {
     "name": "stdout",
     "output_type": "stream",
     "text": [
      "1240505 1240505 75668122\n"
     ]
    }
   ],
   "source": [
    "!grep -v '^>' {p_contig_file} | wc"
   ]
  },
  {
   "cell_type": "code",
   "execution_count": 11,
   "metadata": {},
   "outputs": [
    {
     "name": "stdout",
     "output_type": "stream",
     "text": [
      "74427617\n"
     ]
    }
   ],
   "source": [
    "print(pwh_length+pwoh_length)"
   ]
  },
  {
   "cell_type": "code",
   "execution_count": 12,
   "metadata": {},
   "outputs": [
    {
     "name": "stdout",
     "output_type": "stream",
     "text": [
      "0\n"
     ]
    }
   ],
   "source": [
    "l = 0\n",
    "for x in SeqIO.parse(p_contig_file, 'fasta'):\n",
    "    if len(x.seq) == 0:\n",
    "        print(x.id)\n",
    "print(l)"
   ]
  },
  {
   "cell_type": "code",
   "execution_count": 112,
   "metadata": {
    "collapsed": true
   },
   "outputs": [],
   "source": [
    "p_anno_gff = os.path.join(BASEFOLDER, 'DK_0911_v04_p_ctg.anno.gff3')\n",
    "pwh_anno_gff = os.path.join(TABLE_tmp, 'DK_0911_v04_p_ctg.pwh.anno.gff3')\n",
    "pwoh_anno_gff = os.path.join(TABLE_tmp, 'DK_0911_v04_p_ctg.pwoh.anno.gff3')\n",
    "p_REPET_gff = os.path.join(BASEFOLDER, 'DK_0911_v04_p_ctg.104Ep_DK0911p.REPET.gff3')\n",
    "h_REPET_gff = os.path.join(BASEFOLDER, 'DK_0911_v04_h_ctg.104Ep_DK0911p.REPET.gff3')\n",
    "pwh_REPET_gff = os.path.join(TABLE_tmp, 'DK_0911_v04_p_ctg.104Ep_DK0911p.pwh.REPET.gff3')\n",
    "pwoh_REPET_gff = os.path.join(TABLE_tmp, 'DK_0911_v04_p_ctg.104Ep_DK0911p.pwoh.REPET.gff3')\n",
    "h_anno_gff = os.path.join(BASEFOLDER, \"DK_0911_v04_h_ctg.anno.gff3\")"
   ]
  },
  {
   "cell_type": "code",
   "execution_count": 111,
   "metadata": {},
   "outputs": [
    {
     "data": {
      "text/plain": [
       "'/home/benjamin/genome_assembly/Warrior/genome_v04'"
      ]
     },
     "execution_count": 111,
     "metadata": {},
     "output_type": "execute_result"
    }
   ],
   "source": [
    "BASEFOLDER"
   ]
  },
  {
   "cell_type": "code",
   "execution_count": 14,
   "metadata": {
    "collapsed": true
   },
   "outputs": [],
   "source": [
    "in_fn = p_anno_gff\n",
    "out_fn = pwh_anno_gff\n",
    "subset = pwh_list"
   ]
  },
  {
   "cell_type": "code",
   "execution_count": 15,
   "metadata": {
    "collapsed": true
   },
   "outputs": [],
   "source": [
    "with open(in_fn, 'r') as in_fh:\n",
    "    with open(out_fn, 'w') as out_fh:\n",
    "        for line in in_fh:\n",
    "            if any(x in line.split('\\t') for x in subset):\n",
    "                line.rstrip()\n",
    "                print(line, file=out_fh)"
   ]
  },
  {
   "cell_type": "code",
   "execution_count": 16,
   "metadata": {},
   "outputs": [
    {
     "name": "stdout",
     "output_type": "stream",
     "text": [
      "     87      86    1033\n"
     ]
    }
   ],
   "source": [
    "!cut -f 1 {out_fn} | sort | uniq | wc"
   ]
  },
  {
   "cell_type": "code",
   "execution_count": 17,
   "metadata": {
    "collapsed": true
   },
   "outputs": [],
   "source": [
    "def grep(in_fn, out_fn, subset):\n",
    "    \"\"\"Functon that takes an infile and greps each line where one column exactly matches the subset\"\"\"\n",
    "    with open(in_fn, 'r') as in_fh:\n",
    "        with open(out_fn, 'w') as out_fh:\n",
    "            for line in in_fh:\n",
    "                if any(x in line.split('\\t') for x in subset):\n",
    "                    line.rstrip()\n",
    "                    print(line, file=out_fh)"
   ]
  },
  {
   "cell_type": "code",
   "execution_count": 18,
   "metadata": {
    "collapsed": true
   },
   "outputs": [],
   "source": [
    "grep(p_anno_gff, pwh_anno_gff, pwh_list)"
   ]
  },
  {
   "cell_type": "code",
   "execution_count": 19,
   "metadata": {
    "collapsed": true
   },
   "outputs": [],
   "source": [
    "grep(p_anno_gff, pwoh_anno_gff, pwoh_list)"
   ]
  },
  {
   "cell_type": "code",
   "execution_count": 20,
   "metadata": {
    "collapsed": true
   },
   "outputs": [],
   "source": [
    "grep(p_REPET_gff,pwh_REPET_gff,  pwh_list)"
   ]
  },
  {
   "cell_type": "code",
   "execution_count": 21,
   "metadata": {
    "collapsed": true
   },
   "outputs": [],
   "source": [
    "grep(p_REPET_gff,pwoh_REPET_gff,  pwoh_list)"
   ]
  },
  {
   "cell_type": "code",
   "execution_count": 22,
   "metadata": {},
   "outputs": [
    {
     "name": "stdout",
     "output_type": "stream",
     "text": [
      "Assembly count\t86\n",
      "Assembly length\tN/A (no FASTA data in GFF?)\n",
      "\n",
      "Gene count\t15003\n",
      "Gene length (mean)\t1552.9\n",
      "Gene length (sum)\t23298795\n",
      "\n",
      "mRNA count\t15003\n",
      "mRNA length (mean)\t1552.9\n",
      "mRNA length (sum)\t23298795\n",
      "mRNAs per gene (mean)\t1.0\n",
      "\n",
      "exon count\t64729\n",
      "exon length (mean)\t273.4\n",
      "exon length (sum)\t17697858\n",
      "exons per mRNA (mean)\t4.3\n",
      "\n",
      "CDS count\t64729\n",
      "CDS length (mean)\t273.4\n",
      "CDS fragment length (sum)\t17697858\n",
      "CDS per mRNA (mean)\t4.3\n",
      "\n",
      "# CDS fragment composition profile: count<tab>percentage\n",
      "mRNAs with 1 CDS\t3112\t20.7\n",
      "mRNAs with 2 CDS\t2617\t17.4\n",
      "mRNAs with 3 CDS\t2286\t15.2\n",
      "mRNAs with 4 CDS\t1707\t11.4\n",
      "mRNAs with 5 CDS\t1426\t9.5\n",
      "mRNAs with 6 CDS\t962\t6.41\n",
      "mRNAs with 7 CDS\t704\t4.69\n",
      "mRNAs with 8 CDS\t496\t3.31\n",
      "mRNAs with 9 CDS\t400\t2.67\n",
      "mRNAs with 10 CDS\t355\t2.37\n",
      "mRNAs with 11 CDS\t201\t1.34\n",
      "mRNAs with 12 CDS\t166\t1.11\n",
      "mRNAs with 13 CDS\t123\t0.82\n",
      "mRNAs with 14 CDS\t100\t0.667\n",
      "mRNAs with 15 CDS\t73\t0.487\n",
      "mRNAs with 16 CDS\t51\t0.34\n",
      "mRNAs with 17 CDS\t46\t0.307\n",
      "mRNAs with 18 CDS\t39\t0.26\n",
      "mRNAs with 19 CDS\t28\t0.187\n",
      "mRNAs with 20 CDS\t28\t0.187\n",
      "mRNAs with 21 CDS\t22\t0.147\n",
      "mRNAs with 22 CDS\t13\t0.0866\n",
      "mRNAs with 23 CDS\t10\t0.0667\n",
      "mRNAs with 24 CDS\t5\t0.0333\n",
      "mRNAs with 25 CDS\t5\t0.0333\n",
      "mRNAs with 26 CDS\t10\t0.0667\n",
      "mRNAs with 27 CDS\t5\t0.0333\n",
      "mRNAs with 29 CDS\t2\t0.0133\n",
      "mRNAs with 30 CDS\t1\t0.00667\n",
      "mRNAs with 31 CDS\t1\t0.00667\n",
      "mRNAs with 32 CDS\t3\t0.02\n",
      "mRNAs with 33 CDS\t1\t0.00667\n",
      "mRNAs with 34 CDS\t1\t0.00667\n",
      "mRNAs with 38 CDS\t1\t0.00667\n",
      "mRNAs with 40 CDS\t2\t0.0133\n",
      "mRNAs with 42 CDS\t1\t0.00667\n"
     ]
    }
   ],
   "source": [
    "!report_gff3_statistics.py -i {pwh_anno_gff}"
   ]
  },
  {
   "cell_type": "code",
   "execution_count": 23,
   "metadata": {},
   "outputs": [
    {
     "name": "stdout",
     "output_type": "stream",
     "text": [
      "Assembly count\t7\n",
      "Assembly length\tN/A (no FASTA data in GFF?)\n",
      "\n",
      "Gene count\t67\n",
      "Gene length (mean)\t1032.3\n",
      "Gene length (sum)\t69164\n",
      "\n",
      "mRNA count\t67\n",
      "mRNA length (mean)\t1032.3\n",
      "mRNA length (sum)\t69164\n",
      "mRNAs per gene (mean)\t1.0\n",
      "\n",
      "exon count\t183\n",
      "exon length (mean)\t320.3\n",
      "exon length (sum)\t58615\n",
      "exons per mRNA (mean)\t2.7\n",
      "\n",
      "CDS count\t183\n",
      "CDS length (mean)\t320.3\n",
      "CDS fragment length (sum)\t58615\n",
      "CDS per mRNA (mean)\t2.7\n",
      "\n",
      "# CDS fragment composition profile: count<tab>percentage\n",
      "mRNAs with 1 CDS\t26\t38.8\n",
      "mRNAs with 2 CDS\t15\t22.4\n",
      "mRNAs with 3 CDS\t12\t17.9\n",
      "mRNAs with 4 CDS\t5\t7.46\n",
      "mRNAs with 5 CDS\t2\t2.99\n",
      "mRNAs with 6 CDS\t2\t2.99\n",
      "mRNAs with 7 CDS\t3\t4.48\n",
      "mRNAs with 14 CDS\t2\t2.99\n"
     ]
    }
   ],
   "source": [
    "!report_gff3_statistics.py -i {pwoh_anno_gff}"
   ]
  },
  {
   "cell_type": "code",
   "execution_count": 24,
   "metadata": {},
   "outputs": [
    {
     "name": "stdout",
     "output_type": "stream",
     "text": [
      "Assembly count\t1125\n",
      "Assembly length\tN/A (no FASTA data in GFF?)\n",
      "\n",
      "Gene count\t10870\n",
      "Gene length (mean)\t1419.3\n",
      "Gene length (sum)\t15428273\n",
      "\n",
      "mRNA count\t10870\n",
      "mRNA length (mean)\t1419.3\n",
      "mRNA length (sum)\t15428273\n",
      "mRNAs per gene (mean)\t1.0\n",
      "\n",
      "exon count\t44756\n",
      "exon length (mean)\t270.1\n",
      "exon length (sum)\t12087793\n",
      "exons per mRNA (mean)\t4.1\n",
      "\n",
      "CDS count\t44756\n",
      "CDS length (mean)\t270.1\n",
      "CDS fragment length (sum)\t12087793\n",
      "CDS per mRNA (mean)\t4.1\n",
      "\n",
      "# CDS fragment composition profile: count<tab>percentage\n",
      "mRNAs with 1 CDS\t2452\t22.6\n",
      "mRNAs with 2 CDS\t1942\t17.9\n",
      "mRNAs with 3 CDS\t1712\t15.7\n",
      "mRNAs with 4 CDS\t1161\t10.7\n",
      "mRNAs with 5 CDS\t994\t9.14\n",
      "mRNAs with 6 CDS\t672\t6.18\n",
      "mRNAs with 7 CDS\t471\t4.33\n",
      "mRNAs with 8 CDS\t364\t3.35\n",
      "mRNAs with 9 CDS\t249\t2.29\n",
      "mRNAs with 10 CDS\t237\t2.18\n",
      "mRNAs with 11 CDS\t150\t1.38\n",
      "mRNAs with 12 CDS\t101\t0.929\n",
      "mRNAs with 13 CDS\t87\t0.8\n",
      "mRNAs with 14 CDS\t75\t0.69\n",
      "mRNAs with 15 CDS\t46\t0.423\n",
      "mRNAs with 16 CDS\t24\t0.221\n",
      "mRNAs with 17 CDS\t30\t0.276\n",
      "mRNAs with 18 CDS\t28\t0.258\n",
      "mRNAs with 19 CDS\t18\t0.166\n",
      "mRNAs with 20 CDS\t13\t0.12\n",
      "mRNAs with 21 CDS\t13\t0.12\n",
      "mRNAs with 22 CDS\t8\t0.0736\n",
      "mRNAs with 23 CDS\t4\t0.0368\n",
      "mRNAs with 24 CDS\t2\t0.0184\n",
      "mRNAs with 25 CDS\t1\t0.0092\n",
      "mRNAs with 26 CDS\t6\t0.0552\n",
      "mRNAs with 27 CDS\t3\t0.0276\n",
      "mRNAs with 29 CDS\t3\t0.0276\n",
      "mRNAs with 32 CDS\t1\t0.0092\n",
      "mRNAs with 37 CDS\t1\t0.0092\n",
      "mRNAs with 38 CDS\t1\t0.0092\n",
      "mRNAs with 40 CDS\t1\t0.0092\n"
     ]
    }
   ],
   "source": [
    "!report_gff3_statistics.py -i {h_anno_gff}"
   ]
  },
  {
   "cell_type": "code",
   "execution_count": 25,
   "metadata": {},
   "outputs": [
    {
     "name": "stdout",
     "output_type": "stream",
     "text": [
      "\n",
      "Molecule count: 86\n",
      "Gene count: 15003\n",
      "\n",
      "Total molecule bases: 73945211 bp\n",
      "Empty molecule bases: 0 bp\n",
      "Intergenic space count: 15089\n",
      "Average intergenic space distance: 3356.5 bp\n",
      "Median intergenic space distance: 1740 bp\n",
      "Minimum intergenic space distance: 0 bp\n",
      "Maximum intergenic space distance: 61009 bp\n",
      "\n",
      "Intron count: 49726\n",
      "Intron space count: 5600937\n",
      "Average intron size: 112.6 bp\n",
      "Median intron size: 82 bp\n",
      "Minimum intron size: 24 bp\n",
      "Maximum intron size: 170177 bp\n",
      "\n"
     ]
    }
   ],
   "source": [
    "!report_gff_intron_and_intergenic_stats.py -i {pwh_anno_gff} -f {p_contig_file}"
   ]
  },
  {
   "cell_type": "code",
   "execution_count": 26,
   "metadata": {},
   "outputs": [
    {
     "name": "stdout",
     "output_type": "stream",
     "text": [
      "\n",
      "Molecule count: 7\n",
      "Gene count: 67\n",
      "\n",
      "Total molecule bases: 459228 bp\n",
      "Empty molecule bases: 0 bp\n",
      "Intergenic space count: 74\n",
      "Average intergenic space distance: 5271.1 bp\n",
      "Median intergenic space distance: 3202 bp\n",
      "Minimum intergenic space distance: 126 bp\n",
      "Maximum intergenic space distance: 40346 bp\n",
      "\n",
      "Intron count: 116\n",
      "Intron space count: 10549\n",
      "Average intron size: 90.9 bp\n",
      "Median intron size: 80 bp\n",
      "Minimum intron size: 61 bp\n",
      "Maximum intron size: 368 bp\n",
      "\n"
     ]
    }
   ],
   "source": [
    "!report_gff_intron_and_intergenic_stats.py -i {pwoh_anno_gff} -f {p_contig_file}"
   ]
  },
  {
   "cell_type": "code",
   "execution_count": 27,
   "metadata": {},
   "outputs": [
    {
     "name": "stdout",
     "output_type": "stream",
     "text": [
      "\n",
      "Molecule count: 1125\n",
      "Gene count: 10870\n",
      "\n",
      "Total molecule bases: 51739088 bp\n",
      "Empty molecule bases: 0 bp\n",
      "Intergenic space count: 11995\n",
      "Average intergenic space distance: 3027.2 bp\n",
      "Median intergenic space distance: 1603 bp\n",
      "Minimum intergenic space distance: 0 bp\n",
      "Maximum intergenic space distance: 65202 bp\n",
      "\n",
      "Intron count: 33886\n",
      "Intron space count: 3340480\n",
      "Average intron size: 98.6 bp\n",
      "Median intron size: 82 bp\n",
      "Minimum intron size: 41 bp\n",
      "Maximum intron size: 47904 bp\n",
      "\n"
     ]
    }
   ],
   "source": [
    "!report_gff_intron_and_intergenic_stats.py -i {h_anno_gff} -f {h_contig_file}"
   ]
  },
  {
   "cell_type": "code",
   "execution_count": 40,
   "metadata": {
    "collapsed": true
   },
   "outputs": [],
   "source": [
    "def coverage_in_bases(input_gff):\n",
    "    !bedtools sort -i {input_gff} > {'%s_sort' % input_gff}\n",
    "    !bedtools merge -i {'%s_sort' % input_gff} > {'%s_merged' % input_gff}\n",
    "    tmp_df = pd.read_csv('%s_merged' % input_gff, sep='\\t', header=None)\n",
    "    tmp_df['cov'] = tmp_df[2] - tmp_df[1]\n",
    "    print(sum(tmp_df['cov']))\n",
    "    return sum(tmp_df['cov'])"
   ]
  },
  {
   "cell_type": "code",
   "execution_count": 41,
   "metadata": {},
   "outputs": [
    {
     "name": "stdout",
     "output_type": "stream",
     "text": [
      "41422635\n"
     ]
    },
    {
     "data": {
      "text/plain": [
       "56.018009063494326"
      ]
     },
     "execution_count": 41,
     "metadata": {},
     "output_type": "execute_result"
    }
   ],
   "source": [
    "coverage_in_bases(pwh_REPET_gff)/pwh_length * 100"
   ]
  },
  {
   "cell_type": "code",
   "execution_count": 42,
   "metadata": {},
   "outputs": [
    {
     "name": "stdout",
     "output_type": "stream",
     "text": [
      "390226\n"
     ]
    },
    {
     "data": {
      "text/plain": [
       "80.89161411756902"
      ]
     },
     "execution_count": 42,
     "metadata": {},
     "output_type": "execute_result"
    }
   ],
   "source": [
    "coverage_in_bases(pwoh_REPET_gff)/pwoh_length *100"
   ]
  },
  {
   "cell_type": "code",
   "execution_count": 116,
   "metadata": {},
   "outputs": [
    {
     "name": "stdout",
     "output_type": "stream",
     "text": [
      "27006141\n"
     ]
    },
    {
     "data": {
      "text/plain": [
       "51.809148723498957"
      ]
     },
     "execution_count": 116,
     "metadata": {},
     "output_type": "execute_result"
    }
   ],
   "source": [
    "coverage_in_bases(h_REPET_gff)/h_length *100"
   ]
  },
  {
   "cell_type": "code",
   "execution_count": 43,
   "metadata": {
    "collapsed": true
   },
   "outputs": [],
   "source": [
    "pwh_gene_LT = []"
   ]
  },
  {
   "cell_type": "code",
   "execution_count": 45,
   "metadata": {
    "collapsed": true
   },
   "outputs": [],
   "source": [
    "s = 'locus_tag=DK0911_17082;Name=EVM prediction pcontig_061.1'"
   ]
  },
  {
   "cell_type": "code",
   "execution_count": 65,
   "metadata": {},
   "outputs": [
    {
     "name": "stdout",
     "output_type": "stream",
     "text": [
      "67\n"
     ]
    }
   ],
   "source": [
    "pwoh_gene_LTs = []\n",
    "with open(pwoh_anno_gff) as fh:\n",
    "    pattern = re.compile('.*locus_tag=([A-Z,_,0-9]*);')\n",
    "    for line in fh:\n",
    "        if len(line) < 4:\n",
    "            continue\n",
    "        line_list = line.split('\\t')\n",
    "        if line_list[2] == 'gene':\n",
    "            pwoh_gene_LTs.append(re.findall(pattern, line_list[8])[0])\n",
    "print(len(pwoh_gene_LTs))"
   ]
  },
  {
   "cell_type": "code",
   "execution_count": 66,
   "metadata": {},
   "outputs": [
    {
     "name": "stdout",
     "output_type": "stream",
     "text": [
      "15003\n"
     ]
    }
   ],
   "source": [
    "pwh_gene_LTs = []\n",
    "with open(pwh_anno_gff) as fh:\n",
    "    pattern = re.compile('.*locus_tag=([A-Z,_,0-9]*);')\n",
    "    for line in fh:\n",
    "        if len(line) < 4:\n",
    "            continue\n",
    "        line_list = line.split('\\t')\n",
    "        if line_list[2] == 'gene':\n",
    "            pwh_gene_LTs.append(re.findall(pattern, line_list[8])[0])\n",
    "print(len(pwh_gene_LTs))"
   ]
  },
  {
   "cell_type": "code",
   "execution_count": 108,
   "metadata": {
    "collapsed": true
   },
   "outputs": [],
   "source": [
    "h_gene_LTs = [seq.id for seq in SeqIO.parse(os.path.join(BASEFOLDER, 'DK_0911_v04LT_h_ctg.protein.fa'), 'fasta') ]"
   ]
  },
  {
   "cell_type": "code",
   "execution_count": 69,
   "metadata": {
    "collapsed": true
   },
   "outputs": [],
   "source": [
    "p_BUSCOs = pd.read_csv(p_BUSCO_file, sep='\\t', header=None)[0].tolist()\n",
    "h_BUSCOs = pd.read_csv(h_BUSCO_file, sep='\\t', header=None)[0].tolist()"
   ]
  },
  {
   "cell_type": "code",
   "execution_count": 71,
   "metadata": {},
   "outputs": [
    {
     "data": {
      "text/plain": [
       "886"
      ]
     },
     "execution_count": 71,
     "metadata": {},
     "output_type": "execute_result"
    }
   ],
   "source": [
    "len(h_BUSCOs)"
   ]
  },
  {
   "cell_type": "code",
   "execution_count": 72,
   "metadata": {},
   "outputs": [
    {
     "name": "stdout",
     "output_type": "stream",
     "text": [
      "1290\n"
     ]
    }
   ],
   "source": [
    "print(len([x for x in p_BUSCOs if x in pwh_gene_LTs]))"
   ]
  },
  {
   "cell_type": "code",
   "execution_count": 73,
   "metadata": {},
   "outputs": [
    {
     "name": "stdout",
     "output_type": "stream",
     "text": [
      "2\n"
     ]
    }
   ],
   "source": [
    "print(len([x for x in p_BUSCOs if x in pwoh_gene_LTs]))"
   ]
  },
  {
   "cell_type": "code",
   "execution_count": 81,
   "metadata": {
    "collapsed": true
   },
   "outputs": [],
   "source": [
    "p_effectors = [seq.id for seq in SeqIO.parse(p_effector2_fa_fn, 'fasta')]\n",
    "h_effectors = [seq.id for seq in SeqIO.parse(h_effector2_fa_fn, 'fasta')]"
   ]
  },
  {
   "cell_type": "code",
   "execution_count": 78,
   "metadata": {},
   "outputs": [
    {
     "name": "stdout",
     "output_type": "stream",
     "text": [
      "816\n"
     ]
    }
   ],
   "source": [
    "print(len([x for x in p_effectors if x in pwh_gene_LTs]))"
   ]
  },
  {
   "cell_type": "code",
   "execution_count": 79,
   "metadata": {},
   "outputs": [
    {
     "name": "stdout",
     "output_type": "stream",
     "text": [
      "3\n"
     ]
    }
   ],
   "source": [
    "print(len([x for x in p_effectors if x in pwoh_gene_LTs]))"
   ]
  },
  {
   "cell_type": "code",
   "execution_count": 80,
   "metadata": {},
   "outputs": [
    {
     "data": {
      "text/plain": [
       "819"
      ]
     },
     "execution_count": 80,
     "metadata": {},
     "output_type": "execute_result"
    }
   ],
   "source": [
    "len(p_effectors)"
   ]
  },
  {
   "cell_type": "code",
   "execution_count": 82,
   "metadata": {},
   "outputs": [
    {
     "data": {
      "text/plain": [
       "557"
      ]
     },
     "execution_count": 82,
     "metadata": {},
     "output_type": "execute_result"
    }
   ],
   "source": [
    "len(h_effectors)"
   ]
  },
  {
   "cell_type": "markdown",
   "metadata": {},
   "source": [
    "### Moving on to next Table that describes the annotation of the different categories"
   ]
  },
  {
   "cell_type": "code",
   "execution_count": 83,
   "metadata": {
    "collapsed": true
   },
   "outputs": [],
   "source": [
    "p_anno_folder = '/home/benjamin/genome_assembly/Warrior/DK0911_v04/protein_annotation/DK_0911_v04LT_p_ctg/combined'\n",
    "h_anno_folder = '/home/benjamin/genome_assembly/Warrior/DK0911_v04/protein_annotation/DK_0911_v04LT_h_ctg/combined'\n",
    "file_endings =['.GO_combined.tablist', '.iprscan.tablist', '.Pfam.tablist', '.OGs.tablist', '.KEGG_combined.tablist','.merops.tablist', '.dbCAN.tablist','.SignalP3.tablist']"
   ]
  },
  {
   "cell_type": "code",
   "execution_count": 96,
   "metadata": {
    "collapsed": true
   },
   "outputs": [],
   "source": [
    "def count_and_mean_lenght(fa_fn, ID_list):\n",
    "    len_list = [len(seq.seq) for seq in SeqIO.parse(fa_fn, 'fasta') if seq.id in ID_list]\n",
    "    print('\\n\\nCount and mean lenght\\n\\n')\n",
    "    print('%i, %i'%(len(len_list), sum(len_list)/len(len_list)))"
   ]
  },
  {
   "cell_type": "code",
   "execution_count": 101,
   "metadata": {
    "collapsed": true
   },
   "outputs": [],
   "source": [
    "def proteins_w_anno(anno_tab_fn, ID_list):\n",
    "    anno_ids = pd.read_csv(anno_tab_fn, sep='\\t', header=None)[0].tolist()\n",
    "    len_all = len(ID_list)\n",
    "    match = len([x for x in anno_ids if x in ID_list])\n",
    "    print('%s: %s/%.2f' % (anno_tab_fn, match, (match/len_all*100)))\n",
    "    return anno_ids"
   ]
  },
  {
   "cell_type": "code",
   "execution_count": 106,
   "metadata": {},
   "outputs": [
    {
     "name": "stdout",
     "output_type": "stream",
     "text": [
      "\n",
      "\n",
      "Count and mean lenght\n",
      "\n",
      "\n",
      "15070, 392\n",
      "/home/benjamin/genome_assembly/Warrior/DK0911_v04/protein_annotation/DK_0911_v04LT_p_ctg/combined/DK_0911_v04LT_p_ctg.GO_combined.tablist: 5642/37.44\n",
      "/home/benjamin/genome_assembly/Warrior/DK0911_v04/protein_annotation/DK_0911_v04LT_p_ctg/combined/DK_0911_v04LT_p_ctg.iprscan.tablist: 6448/42.79\n",
      "/home/benjamin/genome_assembly/Warrior/DK0911_v04/protein_annotation/DK_0911_v04LT_p_ctg/combined/DK_0911_v04LT_p_ctg.Pfam.tablist: 5722/37.97\n",
      "/home/benjamin/genome_assembly/Warrior/DK0911_v04/protein_annotation/DK_0911_v04LT_p_ctg/combined/DK_0911_v04LT_p_ctg.OGs.tablist: 7295/48.41\n",
      "/home/benjamin/genome_assembly/Warrior/DK0911_v04/protein_annotation/DK_0911_v04LT_p_ctg/combined/DK_0911_v04LT_p_ctg.KEGG_combined.tablist: 2511/16.66\n",
      "/home/benjamin/genome_assembly/Warrior/DK0911_v04/protein_annotation/DK_0911_v04LT_p_ctg/combined/DK_0911_v04LT_p_ctg.merops.tablist: 262/1.74\n",
      "/home/benjamin/genome_assembly/Warrior/DK0911_v04/protein_annotation/DK_0911_v04LT_p_ctg/combined/DK_0911_v04LT_p_ctg.dbCAN.tablist: 229/1.52\n",
      "/home/benjamin/genome_assembly/Warrior/DK0911_v04/protein_annotation/DK_0911_v04LT_p_ctg/combined/DK_0911_v04LT_p_ctg.SignalP3.tablist: 2235/14.83\n",
      "No hits at all: 7110/47.18\n",
      "\n",
      "\n",
      "######Next List######\n",
      "\n",
      "\n",
      "\n",
      "\n",
      "Count and mean lenght\n",
      "\n",
      "\n",
      "1292, 606\n",
      "/home/benjamin/genome_assembly/Warrior/DK0911_v04/protein_annotation/DK_0911_v04LT_p_ctg/combined/DK_0911_v04LT_p_ctg.GO_combined.tablist: 1243/96.21\n",
      "/home/benjamin/genome_assembly/Warrior/DK0911_v04/protein_annotation/DK_0911_v04LT_p_ctg/combined/DK_0911_v04LT_p_ctg.iprscan.tablist: 1277/98.84\n",
      "/home/benjamin/genome_assembly/Warrior/DK0911_v04/protein_annotation/DK_0911_v04LT_p_ctg/combined/DK_0911_v04LT_p_ctg.Pfam.tablist: 1235/95.59\n",
      "/home/benjamin/genome_assembly/Warrior/DK0911_v04/protein_annotation/DK_0911_v04LT_p_ctg/combined/DK_0911_v04LT_p_ctg.OGs.tablist: 1281/99.15\n",
      "/home/benjamin/genome_assembly/Warrior/DK0911_v04/protein_annotation/DK_0911_v04LT_p_ctg/combined/DK_0911_v04LT_p_ctg.KEGG_combined.tablist: 718/55.57\n",
      "/home/benjamin/genome_assembly/Warrior/DK0911_v04/protein_annotation/DK_0911_v04LT_p_ctg/combined/DK_0911_v04LT_p_ctg.merops.tablist: 48/3.72\n",
      "/home/benjamin/genome_assembly/Warrior/DK0911_v04/protein_annotation/DK_0911_v04LT_p_ctg/combined/DK_0911_v04LT_p_ctg.dbCAN.tablist: 13/1.01\n",
      "/home/benjamin/genome_assembly/Warrior/DK0911_v04/protein_annotation/DK_0911_v04LT_p_ctg/combined/DK_0911_v04LT_p_ctg.SignalP3.tablist: 26/2.01\n",
      "No hits at all: 1/0.08\n",
      "\n",
      "\n",
      "######Next List######\n",
      "\n",
      "\n",
      "\n",
      "\n",
      "Count and mean lenght\n",
      "\n",
      "\n",
      "819, 153\n",
      "/home/benjamin/genome_assembly/Warrior/DK0911_v04/protein_annotation/DK_0911_v04LT_p_ctg/combined/DK_0911_v04LT_p_ctg.GO_combined.tablist: 57/6.96\n",
      "/home/benjamin/genome_assembly/Warrior/DK0911_v04/protein_annotation/DK_0911_v04LT_p_ctg/combined/DK_0911_v04LT_p_ctg.iprscan.tablist: 78/9.52\n",
      "/home/benjamin/genome_assembly/Warrior/DK0911_v04/protein_annotation/DK_0911_v04LT_p_ctg/combined/DK_0911_v04LT_p_ctg.Pfam.tablist: 67/8.18\n",
      "/home/benjamin/genome_assembly/Warrior/DK0911_v04/protein_annotation/DK_0911_v04LT_p_ctg/combined/DK_0911_v04LT_p_ctg.OGs.tablist: 85/10.38\n",
      "/home/benjamin/genome_assembly/Warrior/DK0911_v04/protein_annotation/DK_0911_v04LT_p_ctg/combined/DK_0911_v04LT_p_ctg.KEGG_combined.tablist: 16/1.95\n",
      "/home/benjamin/genome_assembly/Warrior/DK0911_v04/protein_annotation/DK_0911_v04LT_p_ctg/combined/DK_0911_v04LT_p_ctg.merops.tablist: 0/0.00\n",
      "/home/benjamin/genome_assembly/Warrior/DK0911_v04/protein_annotation/DK_0911_v04LT_p_ctg/combined/DK_0911_v04LT_p_ctg.dbCAN.tablist: 9/1.10\n",
      "/home/benjamin/genome_assembly/Warrior/DK0911_v04/protein_annotation/DK_0911_v04LT_p_ctg/combined/DK_0911_v04LT_p_ctg.SignalP3.tablist: 819/100.00\n",
      "No hits at all: 710/86.69\n",
      "\n",
      "\n",
      "######Next List######\n",
      "\n",
      "\n"
     ]
    }
   ],
   "source": [
    "genome_prefix = 'DK_0911_v04LT_p_ctg'\n",
    "gene_lists = [(pwh_gene_LTs+pwoh_gene_LTs),p_BUSCOs, p_effectors]\n",
    "anno_base_folder = p_anno_folder\n",
    "protein_fn = os.path.join(BASEFOLDER, 'DK_0911_v04LT_p_ctg.protein.fa')\n",
    "all_anno_ids = []\n",
    "for gene_list in gene_lists:\n",
    "    count_and_mean_lenght( protein_fn, gene_list)\n",
    "    for file_ending in file_endings:\n",
    "        fn = os.path.join(anno_base_folder, '%s%s' % (genome_prefix, file_ending))\n",
    "        ids = proteins_w_anno(fn, gene_list)\n",
    "        if file_ending != '.SignalP3.tablist':\n",
    "            all_anno_ids = all_anno_ids + ids\n",
    "    no_anno_num = len(gene_list) - len([x for x in gene_list if x in all_anno_ids])\n",
    "    print('No hits at all: %s/%.2f' % (no_anno_num, (no_anno_num/len(gene_list)*100)))\n",
    "    print(\"\\n\\n######Next List######\\n\\n\")"
   ]
  },
  {
   "cell_type": "code",
   "execution_count": 104,
   "metadata": {},
   "outputs": [
    {
     "data": {
      "text/plain": [
       "5487"
      ]
     },
     "execution_count": 104,
     "metadata": {},
     "output_type": "execute_result"
    }
   ],
   "source": [
    "no_anno_num"
   ]
  },
  {
   "cell_type": "code",
   "execution_count": 109,
   "metadata": {},
   "outputs": [
    {
     "name": "stdout",
     "output_type": "stream",
     "text": [
      "\n",
      "\n",
      "Count and mean lenght\n",
      "\n",
      "\n",
      "10870, 370\n",
      "/home/benjamin/genome_assembly/Warrior/DK0911_v04/protein_annotation/DK_0911_v04LT_h_ctg/combined/DK_0911_v04LT_h_ctg.GO_combined.tablist: 3948/36.32\n",
      "/home/benjamin/genome_assembly/Warrior/DK0911_v04/protein_annotation/DK_0911_v04LT_h_ctg/combined/DK_0911_v04LT_h_ctg.iprscan.tablist: 4425/40.71\n",
      "/home/benjamin/genome_assembly/Warrior/DK0911_v04/protein_annotation/DK_0911_v04LT_h_ctg/combined/DK_0911_v04LT_h_ctg.Pfam.tablist: 3891/35.80\n",
      "/home/benjamin/genome_assembly/Warrior/DK0911_v04/protein_annotation/DK_0911_v04LT_h_ctg/combined/DK_0911_v04LT_h_ctg.OGs.tablist: 5202/47.86\n",
      "/home/benjamin/genome_assembly/Warrior/DK0911_v04/protein_annotation/DK_0911_v04LT_h_ctg/combined/DK_0911_v04LT_h_ctg.KEGG_combined.tablist: 1789/16.46\n",
      "/home/benjamin/genome_assembly/Warrior/DK0911_v04/protein_annotation/DK_0911_v04LT_h_ctg/combined/DK_0911_v04LT_h_ctg.merops.tablist: 181/1.67\n",
      "/home/benjamin/genome_assembly/Warrior/DK0911_v04/protein_annotation/DK_0911_v04LT_h_ctg/combined/DK_0911_v04LT_h_ctg.dbCAN.tablist: 160/1.47\n",
      "/home/benjamin/genome_assembly/Warrior/DK0911_v04/protein_annotation/DK_0911_v04LT_h_ctg/combined/DK_0911_v04LT_h_ctg.SignalP3.tablist: 1464/13.47\n",
      "No hits at all: 5205/47.88\n",
      "\n",
      "\n",
      "######Next List######\n",
      "\n",
      "\n",
      "\n",
      "\n",
      "Count and mean lenght\n",
      "\n",
      "\n",
      "886, 589\n",
      "/home/benjamin/genome_assembly/Warrior/DK0911_v04/protein_annotation/DK_0911_v04LT_h_ctg/combined/DK_0911_v04LT_h_ctg.GO_combined.tablist: 844/95.26\n",
      "/home/benjamin/genome_assembly/Warrior/DK0911_v04/protein_annotation/DK_0911_v04LT_h_ctg/combined/DK_0911_v04LT_h_ctg.iprscan.tablist: 849/95.82\n",
      "/home/benjamin/genome_assembly/Warrior/DK0911_v04/protein_annotation/DK_0911_v04LT_h_ctg/combined/DK_0911_v04LT_h_ctg.Pfam.tablist: 827/93.34\n",
      "/home/benjamin/genome_assembly/Warrior/DK0911_v04/protein_annotation/DK_0911_v04LT_h_ctg/combined/DK_0911_v04LT_h_ctg.OGs.tablist: 876/98.87\n",
      "/home/benjamin/genome_assembly/Warrior/DK0911_v04/protein_annotation/DK_0911_v04LT_h_ctg/combined/DK_0911_v04LT_h_ctg.KEGG_combined.tablist: 493/55.64\n",
      "/home/benjamin/genome_assembly/Warrior/DK0911_v04/protein_annotation/DK_0911_v04LT_h_ctg/combined/DK_0911_v04LT_h_ctg.merops.tablist: 35/3.95\n",
      "/home/benjamin/genome_assembly/Warrior/DK0911_v04/protein_annotation/DK_0911_v04LT_h_ctg/combined/DK_0911_v04LT_h_ctg.dbCAN.tablist: 9/1.02\n",
      "/home/benjamin/genome_assembly/Warrior/DK0911_v04/protein_annotation/DK_0911_v04LT_h_ctg/combined/DK_0911_v04LT_h_ctg.SignalP3.tablist: 16/1.81\n",
      "No hits at all: 2/0.23\n",
      "\n",
      "\n",
      "######Next List######\n",
      "\n",
      "\n",
      "\n",
      "\n",
      "Count and mean lenght\n",
      "\n",
      "\n",
      "557, 145\n",
      "/home/benjamin/genome_assembly/Warrior/DK0911_v04/protein_annotation/DK_0911_v04LT_h_ctg/combined/DK_0911_v04LT_h_ctg.GO_combined.tablist: 33/5.92\n",
      "/home/benjamin/genome_assembly/Warrior/DK0911_v04/protein_annotation/DK_0911_v04LT_h_ctg/combined/DK_0911_v04LT_h_ctg.iprscan.tablist: 42/7.54\n",
      "/home/benjamin/genome_assembly/Warrior/DK0911_v04/protein_annotation/DK_0911_v04LT_h_ctg/combined/DK_0911_v04LT_h_ctg.Pfam.tablist: 38/6.82\n",
      "/home/benjamin/genome_assembly/Warrior/DK0911_v04/protein_annotation/DK_0911_v04LT_h_ctg/combined/DK_0911_v04LT_h_ctg.OGs.tablist: 50/8.98\n",
      "/home/benjamin/genome_assembly/Warrior/DK0911_v04/protein_annotation/DK_0911_v04LT_h_ctg/combined/DK_0911_v04LT_h_ctg.KEGG_combined.tablist: 6/1.08\n",
      "/home/benjamin/genome_assembly/Warrior/DK0911_v04/protein_annotation/DK_0911_v04LT_h_ctg/combined/DK_0911_v04LT_h_ctg.merops.tablist: 1/0.18\n",
      "/home/benjamin/genome_assembly/Warrior/DK0911_v04/protein_annotation/DK_0911_v04LT_h_ctg/combined/DK_0911_v04LT_h_ctg.dbCAN.tablist: 7/1.26\n",
      "/home/benjamin/genome_assembly/Warrior/DK0911_v04/protein_annotation/DK_0911_v04LT_h_ctg/combined/DK_0911_v04LT_h_ctg.SignalP3.tablist: 557/100.00\n",
      "No hits at all: 493/88.51\n",
      "\n",
      "\n",
      "######Next List######\n",
      "\n",
      "\n"
     ]
    }
   ],
   "source": [
    "genome_prefix = 'DK_0911_v04LT_h_ctg'\n",
    "gene_lists = [h_gene_LTs,h_BUSCOs, h_effectors]\n",
    "anno_base_folder = h_anno_folder\n",
    "protein_fn = os.path.join(BASEFOLDER, 'DK_0911_v04LT_h_ctg.protein.fa')\n",
    "all_anno_ids = []\n",
    "for gene_list in gene_lists:\n",
    "    count_and_mean_lenght( protein_fn, gene_list)\n",
    "    for file_ending in file_endings:\n",
    "        fn = os.path.join(anno_base_folder, '%s%s' % (genome_prefix, file_ending))\n",
    "        ids = proteins_w_anno(fn, gene_list)\n",
    "        if file_ending != '.SignalP3.tablist':\n",
    "            all_anno_ids = all_anno_ids + ids\n",
    "    no_anno_num = len(gene_list) - len([x for x in gene_list if x in all_anno_ids])\n",
    "    print('No hits at all: %s/%.2f' % (no_anno_num, (no_anno_num/len(gene_list)*100)))\n",
    "    print(\"\\n\\n######Next List######\\n\\n\")"
   ]
  },
  {
   "cell_type": "code",
   "execution_count": null,
   "metadata": {
    "collapsed": true
   },
   "outputs": [],
   "source": []
  }
 ],
 "metadata": {
  "kernelspec": {
   "display_name": "Python [default]",
   "language": "python",
   "name": "python3"
  },
  "language_info": {
   "codemirror_mode": {
    "name": "ipython",
    "version": 3
   },
   "file_extension": ".py",
   "mimetype": "text/x-python",
   "name": "python",
   "nbconvert_exporter": "python",
   "pygments_lexer": "ipython3",
   "version": "3.5.4"
  },
  "toc": {
   "nav_menu": {},
   "number_sections": true,
   "sideBar": true,
   "skip_h1_title": false,
   "title_cell": "Table of Contents",
   "title_sidebar": "Contents",
   "toc_cell": false,
   "toc_position": {},
   "toc_section_display": true,
   "toc_window_display": false
  }
 },
 "nbformat": 4,
 "nbformat_minor": 2
}
