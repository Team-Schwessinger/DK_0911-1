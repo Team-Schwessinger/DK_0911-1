{
 "cells": [
  {
   "cell_type": "markdown",
   "metadata": {},
   "source": [
    "### Filter and split vcf files\n",
    "This notebook tries to filter and split vcf files for a start to be extended to substracting SNPs and overlapping with other things.  \n",
    "Currently used tools:  \n",
    "- vcf-subset\n",
    "- vcffilter\n",
    "- bcftools\n",
    "- bedtools\n",
    "- pandas"
   ]
  },
  {
   "cell_type": "code",
   "execution_count": 34,
   "metadata": {
    "ExecuteTime": {
     "end_time": "2019-04-03T06:23:03.279792Z",
     "start_time": "2019-04-03T06:23:03.247150Z"
    }
   },
   "outputs": [],
   "source": [
    "import os\n",
    "import subprocess\n",
    "import datetime"
   ]
  },
  {
   "cell_type": "code",
   "execution_count": 90,
   "metadata": {
    "ExecuteTime": {
     "end_time": "2019-04-06T01:34:33.385216Z",
     "start_time": "2019-04-06T01:34:33.363527Z"
    },
    "collapsed": true
   },
   "outputs": [],
   "source": [
    "def comand_print(comand):\n",
    "    \"This function prints out the current executed command.\"\n",
    "    header = \"Currently working on the following command. Please be patient.\"\n",
    "    print(header)\n",
    "    print(comand)"
   ]
  },
  {
   "cell_type": "code",
   "execution_count": 89,
   "metadata": {
    "ExecuteTime": {
     "end_time": "2019-04-06T01:34:33.361662Z",
     "start_time": "2019-04-06T01:34:33.338399Z"
    }
   },
   "outputs": [],
   "source": [
    "def get_vcf_sample_names(vcf_fn):\n",
    "    \"\"\"This function take parses out the sample names of a vcf file. The file can be in plain text\n",
    "    or .gz format. It makes use of the #CHROM line in the vcf file.\"\"\"\n",
    "    if vcf_fn.endswith('.gz'):\n",
    "        import gzip\n",
    "        with gzip.open(vcf_fn) as fn:\n",
    "            for line in fn:\n",
    "                if line.decode(\"utf-8\").startswith('#CHROM'):\n",
    "                    good_line = line.decode(\"utf-8\").rstrip()\n",
    "                    break\n",
    "            samples = good_line.split('\\t')[9:]\n",
    "    else:\n",
    "        with open(vcf_fn) as fn:\n",
    "            for line in fn:\n",
    "                if line.startswith('#CHROM'):\n",
    "                    good_line = line.rstrip()\n",
    "                    break\n",
    "            samples = good_line.split('\\t')[9:]\n",
    "    return samples"
   ]
  },
  {
   "cell_type": "code",
   "execution_count": null,
   "metadata": {
    "ExecuteTime": {
     "end_time": "2019-04-06T02:01:27.611718Z",
     "start_time": "2019-04-06T01:49:33.290Z"
    },
    "collapsed": true
   },
   "outputs": [],
   "source": [
    "def vcf_subset(in_fn, sample, OUTFOLDER):\n",
    "    \"\"\"This function subsets the input vcf file for one specific sample using the following command.\n",
    "    vcf-subset --exclude-ref -c.\n",
    "    Input:\n",
    "        in_fn is the input vcf.\n",
    "        sample is the sample to be subset on.\n",
    "        OUTFOLDER is the folder were the new file should be saved in.\n",
    "    Output:\n",
    "        The function runs the command and returns the name of the output file.\"\"\"\n",
    "    out = os.path.basename(in_fn).replace('.vcf', '.%s.vcf' % sample)\n",
    "    out_fn = os.path.join(OUTFOLDER, out)\n",
    "    comand = 'vcf-subset --exclude-ref -c %s %s > %s' % (sample, in_fn, out_fn)\n",
    "    comand_print(comand)\n",
    "    subprocess.check_output(comand, stderr=subprocess.STDOUT, shell=True)\n",
    "    return out_fn"
   ]
  },
  {
   "cell_type": "code",
   "execution_count": null,
   "metadata": {
    "ExecuteTime": {
     "end_time": "2019-04-06T02:01:27.610685Z",
     "start_time": "2019-04-06T01:49:29.067Z"
    },
    "collapsed": true
   },
   "outputs": [],
   "source": [
    "def vcffilter(in_fn, OUTFOLDER, filters={\"DP\": \">10\", \"QUAL\": \">20\"}):\n",
    "    \"\"\"This function filters the input vcf file for a specific set of filter criterio using the following command.\n",
    "    vcffilter -f .\n",
    "    Input:\n",
    "        in_fn is the input vcf.\n",
    "        OUTFOLDER is the folder were the new file should be saved in.\n",
    "        filters is a dictionary where the key is the filter name and the value the filter value.\n",
    "        Accepts filter values that are >, =, or < of specific number. The outfile convention is\n",
    "        g, e, and s, respectively. \n",
    "    Output:\n",
    "        The function runs the command and returns the name of the output file.\"\"\"\n",
    "    appendix =''\n",
    "    for key, value in filters.items():\n",
    "        if '>' in value:\n",
    "            value = value.replace('>', 'g')\n",
    "        elif '<' in value:\n",
    "            value = value.replace('<', 's')\n",
    "        elif '=' in value:\n",
    "            value = value.replace('=', 'e')\n",
    "        appendix = '%s%s%s' % (appendix, key, value.strip(' ')) \n",
    "    out = os.path.basename(in_fn).replace('.vcf', '.%s.vcf' % appendix)\n",
    "    out_fn = os.path.join(OUTFOLDER, out) \n",
    "    genotype_filter = ''\n",
    "    for key, value in filters.items():\n",
    "        genotype_filter += '-f \"%s %s\" ' % (key, value)\n",
    "    comand = 'vcffilter %s %s > %s' % (genotype_filter, in_fn, out_fn)\n",
    "    print(comand)\n",
    "    subprocess.check_output(comand, stderr=subprocess.STDOUT, shell=True)\n",
    "    return out_fn"
   ]
  },
  {
   "cell_type": "code",
   "execution_count": 47,
   "metadata": {
    "ExecuteTime": {
     "end_time": "2019-04-03T06:27:00.981330Z",
     "start_time": "2019-04-03T06:27:00.942465Z"
    }
   },
   "outputs": [],
   "source": [
    "###HERE starts the program###\n",
    "###Provide your filter values in the dictionary and your input folder###\n",
    "filters={\"DP\": \">10\", \"QUAL\": \">20\"}\n",
    "INFOLDER = \"/home/benjamin/genome_assembly/Warrior/DK0911_v04/p_SNPs/freebays\""
   ]
  },
  {
   "cell_type": "code",
   "execution_count": 86,
   "metadata": {
    "ExecuteTime": {
     "end_time": "2019-04-06T01:09:08.105171Z",
     "start_time": "2019-04-06T01:09:08.059964Z"
    }
   },
   "outputs": [],
   "source": [
    "#This generates the outfolder name for the flitered vcf files\n",
    "appendix =''\n",
    "for key, value in filters.items():\n",
    "    if '>' in value:\n",
    "        value = value.replace('>', 'g')\n",
    "    elif '<' in value:\n",
    "        value = value.replace('<', 's')\n",
    "    elif '=' in value:\n",
    "        value = value.replace('=', 'e')\n",
    "    appendix = '%s%s%s' % (appendix, key, value.strip(' ')) \n",
    "filtered_out_folder = os.path.join(INFOLDER, appendix)\n",
    "if not os.path.exists(filtered_out_folder):\n",
    "    os.mkdir(filtered_out_folder)"
   ]
  },
  {
   "cell_type": "code",
   "execution_count": 88,
   "metadata": {
    "ExecuteTime": {
     "end_time": "2019-04-06T01:34:33.266548Z",
     "start_time": "2019-04-06T01:10:07.627982Z"
    }
   },
   "outputs": [
    {
     "name": "stdout",
     "output_type": "stream",
     "text": [
      "vcffilter -f \"QUAL >20\" -f \"DP >10\"  /home/benjamin/genome_assembly/Warrior/DK0911_v04/p_SNPs/freebays/DK_0911_v04_p_ctg.samples_15.03_06_19.freebayes.vcf > /home/benjamin/genome_assembly/Warrior/DK0911_v04/p_SNPs/freebays/QUALg20DPg10/DK_0911_v04_p_ctg.samples_15.03_06_19.freebayes.QUALg20DPg10.vcf\n",
      "vcffilter -f \"QUAL >20\" -f \"DP >10\"  /home/benjamin/genome_assembly/Warrior/DK0911_v04/p_SNPs/freebays/Pst_104E_v13_p_ctg.samples_14.03_14_19.freebayes.vcf > /home/benjamin/genome_assembly/Warrior/DK0911_v04/p_SNPs/freebays/QUALg20DPg10/Pst_104E_v13_p_ctg.samples_14.03_14_19.freebayes.QUALg20DPg10.vcf\n"
     ]
    }
   ],
   "source": [
    "#captures vcf files and filters them accordingly to the filter setting\n",
    "vcfs = [os.path.join(INFOLDER, vcf) for vcf in os.listdir(INFOLDER) if vcf.endswith('.vcf') or vcf.endswith('.vcf.gz')]\n",
    "filtered_vcfs = []\n",
    "for vcf in vcfs:\n",
    "    filtered_vcf = vcffilter(vcf, filtered_out_folder)\n",
    "    filtered_vcfs.append(filtered_vcf)"
   ]
  },
  {
   "cell_type": "code",
   "execution_count": 91,
   "metadata": {
    "ExecuteTime": {
     "end_time": "2019-04-06T01:41:17.821184Z",
     "start_time": "2019-04-06T01:41:17.806341Z"
    }
   },
   "outputs": [
    {
     "name": "stdout",
     "output_type": "stream",
     "text": [
      "S008326\n",
      "Pst79_folder5\n",
      "S008327\n",
      "S008329\n",
      "S008321\n",
      "S008323\n",
      "S008320\n",
      "S008328\n",
      "DK0911_gDNA\n",
      "SRR172674\n",
      "S00832A\n",
      "S00832B\n",
      "S008322\n",
      "S008325\n",
      "S008324\n"
     ]
    }
   ],
   "source": [
    "for sample in samples:\n",
    "    print(sample)"
   ]
  },
  {
   "cell_type": "code",
   "execution_count": null,
   "metadata": {
    "collapsed": true
   },
   "outputs": [],
   "source": [
    "#splits up the filtered vcf files according to the samples contained in them. \n",
    "#one vcf per filtered sample\n",
    "split_and_filtered_vcfs = []\n",
    "for filtered_vcf in filtered_vcfs:\n",
    "    samples = get_vcf_sample_names(filtered_vcf)\n",
    "    split_out_folder = os.path.join(os.path.dirname(filtered_vcf), 'split_vcf')\n",
    "    if not os.path.exists(split_out_folder):\n",
    "        os.mkdir(split_out_folder)\n",
    "    for sample in samples:\n",
    "        print(sample)\n",
    "        split_and_filtered_vcf = vcf_subset(filtered_vcf, sample, split_out_folder)\n",
    "        split_and_filtered_vcfs.append(split_and_filtered_vcf)"
   ]
  },
  {
   "cell_type": "code",
   "execution_count": 93,
   "metadata": {
    "ExecuteTime": {
     "end_time": "2019-04-06T02:01:27.541357Z",
     "start_time": "2019-04-06T01:44:30.248303Z"
    }
   },
   "outputs": [
    {
     "name": "stdout",
     "output_type": "stream",
     "text": [
      "Pst79_folder5\n",
      "vcf-subset --exclude-ref -c Pst79_folder5 /home/benjamin/genome_assembly/Warrior/DK0911_v04/p_SNPs/freebays/QUALg20DPg10/DK_0911_v04_p_ctg.samples_15.03_06_19.freebayes.QUALg20DPg10.vcf > /home/benjamin/genome_assembly/Warrior/DK0911_v04/p_SNPs/freebays/QUALg20DPg10/split_vcf/DK_0911_v04_p_ctg.samples_15.03_06_19.freebayes.QUALg20DPg10.Pst79_folder5.vcf\n",
      "DK0911_gDNA\n",
      "vcf-subset --exclude-ref -c DK0911_gDNA /home/benjamin/genome_assembly/Warrior/DK0911_v04/p_SNPs/freebays/QUALg20DPg10/DK_0911_v04_p_ctg.samples_15.03_06_19.freebayes.QUALg20DPg10.vcf > /home/benjamin/genome_assembly/Warrior/DK0911_v04/p_SNPs/freebays/QUALg20DPg10/split_vcf/DK_0911_v04_p_ctg.samples_15.03_06_19.freebayes.QUALg20DPg10.DK0911_gDNA.vcf\n",
      "Pst79_folder5\n",
      "vcf-subset --exclude-ref -c Pst79_folder5 /home/benjamin/genome_assembly/Warrior/DK0911_v04/p_SNPs/freebays/QUALg20DPg10/Pst_104E_v13_p_ctg.samples_14.03_14_19.freebayes.QUALg20DPg10.vcf > /home/benjamin/genome_assembly/Warrior/DK0911_v04/p_SNPs/freebays/QUALg20DPg10/split_vcf/Pst_104E_v13_p_ctg.samples_14.03_14_19.freebayes.QUALg20DPg10.Pst79_folder5.vcf\n",
      "DK0911_gDNA\n",
      "vcf-subset --exclude-ref -c DK0911_gDNA /home/benjamin/genome_assembly/Warrior/DK0911_v04/p_SNPs/freebays/QUALg20DPg10/Pst_104E_v13_p_ctg.samples_14.03_14_19.freebayes.QUALg20DPg10.vcf > /home/benjamin/genome_assembly/Warrior/DK0911_v04/p_SNPs/freebays/QUALg20DPg10/split_vcf/Pst_104E_v13_p_ctg.samples_14.03_14_19.freebayes.QUALg20DPg10.DK0911_gDNA.vcf\n"
     ]
    }
   ],
   "source": [
    "#splits up the filtered vcf files according to the samples contained in them. \n",
    "#one vcf per filtered sample\n",
    "split_and_filtered_vcfs = []\n",
    "for filtered_vcf in filtered_vcfs:\n",
    "    samples = get_vcf_sample_names(filtered_vcf)\n",
    "    split_out_folder = os.path.join(os.path.dirname(filtered_vcf), 'split_vcf')\n",
    "    if not os.path.exists(split_out_folder):\n",
    "        os.mkdir(split_out_folder)\n",
    "    for sample in ['Pst79_folder5', 'DK0911_gDNA']:\n",
    "        print(sample)\n",
    "        split_and_filtered_vcf = vcf_subset(filtered_vcf, sample, split_out_folder)\n",
    "        split_and_filtered_vcfs.append(split_and_filtered_vcf)"
   ]
  },
  {
   "cell_type": "code",
   "execution_count": 94,
   "metadata": {
    "ExecuteTime": {
     "end_time": "2019-04-06T02:01:27.609322Z",
     "start_time": "2019-04-06T02:01:27.544405Z"
    }
   },
   "outputs": [
    {
     "ename": "FileNotFoundError",
     "evalue": "[Errno 2] No such file or directory: '/home/benjamin/genome_assembly/Warrior/DK0911_v04/p_SNPs/freebays/QUALg20DPg10/DK_0911_v04_p_ctg.samples_15.03_06_19.freebayesQUALg20DPg10.vcf'",
     "output_type": "error",
     "traceback": [
      "\u001b[0;31m---------------------------------------------------------------------------\u001b[0m",
      "\u001b[0;31mFileNotFoundError\u001b[0m                         Traceback (most recent call last)",
      "\u001b[0;32m<ipython-input-94-75f11fc5a3b8>\u001b[0m in \u001b[0;36m<module>\u001b[0;34m()\u001b[0m\n\u001b[0;32m----> 1\u001b[0;31m \u001b[0msamples\u001b[0m \u001b[0;34m=\u001b[0m \u001b[0mget_vcf_sample_names\u001b[0m\u001b[0;34m(\u001b[0m\u001b[0mvcf_out\u001b[0m\u001b[0;34m)\u001b[0m\u001b[0;34m\u001b[0m\u001b[0m\n\u001b[0m\u001b[1;32m      2\u001b[0m \u001b[0msplit_out_folder\u001b[0m \u001b[0;34m=\u001b[0m \u001b[0mos\u001b[0m\u001b[0;34m.\u001b[0m\u001b[0mpath\u001b[0m\u001b[0;34m.\u001b[0m\u001b[0mjoin\u001b[0m\u001b[0;34m(\u001b[0m\u001b[0mos\u001b[0m\u001b[0;34m.\u001b[0m\u001b[0mpath\u001b[0m\u001b[0;34m.\u001b[0m\u001b[0mdirname\u001b[0m\u001b[0;34m(\u001b[0m\u001b[0mvcf_out\u001b[0m\u001b[0;34m)\u001b[0m\u001b[0;34m,\u001b[0m \u001b[0;34m'split_vcf'\u001b[0m\u001b[0;34m)\u001b[0m\u001b[0;34m\u001b[0m\u001b[0m\n\u001b[1;32m      3\u001b[0m \u001b[0;32mif\u001b[0m \u001b[0;32mnot\u001b[0m \u001b[0mos\u001b[0m\u001b[0;34m.\u001b[0m\u001b[0mpath\u001b[0m\u001b[0;34m.\u001b[0m\u001b[0mexists\u001b[0m\u001b[0;34m(\u001b[0m\u001b[0msplit_out_folder\u001b[0m\u001b[0;34m)\u001b[0m\u001b[0;34m:\u001b[0m\u001b[0;34m\u001b[0m\u001b[0m\n\u001b[1;32m      4\u001b[0m     \u001b[0mos\u001b[0m\u001b[0;34m.\u001b[0m\u001b[0mmkdir\u001b[0m\u001b[0;34m(\u001b[0m\u001b[0msplit_out_folder\u001b[0m\u001b[0;34m)\u001b[0m\u001b[0;34m\u001b[0m\u001b[0m\n\u001b[1;32m      5\u001b[0m \u001b[0mtest_vcf_split\u001b[0m \u001b[0;34m=\u001b[0m \u001b[0mvcf_subset\u001b[0m\u001b[0;34m(\u001b[0m\u001b[0mvcf_out\u001b[0m\u001b[0;34m,\u001b[0m \u001b[0;34m'S008326'\u001b[0m\u001b[0;34m,\u001b[0m \u001b[0msplit_out_folder\u001b[0m\u001b[0;34m)\u001b[0m\u001b[0;34m\u001b[0m\u001b[0m\n",
      "\u001b[0;32m<ipython-input-89-0864afd73411>\u001b[0m in \u001b[0;36mget_vcf_sample_names\u001b[0;34m(vcf_fn)\u001b[0m\n\u001b[1;32m     11\u001b[0m             \u001b[0msamples\u001b[0m \u001b[0;34m=\u001b[0m \u001b[0mgood_line\u001b[0m\u001b[0;34m.\u001b[0m\u001b[0msplit\u001b[0m\u001b[0;34m(\u001b[0m\u001b[0;34m'\\t'\u001b[0m\u001b[0;34m)\u001b[0m\u001b[0;34m[\u001b[0m\u001b[0;36m9\u001b[0m\u001b[0;34m:\u001b[0m\u001b[0;34m]\u001b[0m\u001b[0;34m\u001b[0m\u001b[0m\n\u001b[1;32m     12\u001b[0m     \u001b[0;32melse\u001b[0m\u001b[0;34m:\u001b[0m\u001b[0;34m\u001b[0m\u001b[0m\n\u001b[0;32m---> 13\u001b[0;31m         \u001b[0;32mwith\u001b[0m \u001b[0mopen\u001b[0m\u001b[0;34m(\u001b[0m\u001b[0mvcf_fn\u001b[0m\u001b[0;34m)\u001b[0m \u001b[0;32mas\u001b[0m \u001b[0mfn\u001b[0m\u001b[0;34m:\u001b[0m\u001b[0;34m\u001b[0m\u001b[0m\n\u001b[0m\u001b[1;32m     14\u001b[0m             \u001b[0;32mfor\u001b[0m \u001b[0mline\u001b[0m \u001b[0;32min\u001b[0m \u001b[0mfn\u001b[0m\u001b[0;34m:\u001b[0m\u001b[0;34m\u001b[0m\u001b[0m\n\u001b[1;32m     15\u001b[0m                 \u001b[0;32mif\u001b[0m \u001b[0mline\u001b[0m\u001b[0;34m.\u001b[0m\u001b[0mstartswith\u001b[0m\u001b[0;34m(\u001b[0m\u001b[0;34m'#CHROM'\u001b[0m\u001b[0;34m)\u001b[0m\u001b[0;34m:\u001b[0m\u001b[0;34m\u001b[0m\u001b[0m\n",
      "\u001b[0;31mFileNotFoundError\u001b[0m: [Errno 2] No such file or directory: '/home/benjamin/genome_assembly/Warrior/DK0911_v04/p_SNPs/freebays/QUALg20DPg10/DK_0911_v04_p_ctg.samples_15.03_06_19.freebayesQUALg20DPg10.vcf'"
     ]
    }
   ],
   "source": [
    "samples = get_vcf_sample_names(vcf_out)\n",
    "split_out_folder = os.path.join(os.path.dirname(vcf_out), 'split_vcf')\n",
    "if not os.path.exists(split_out_folder):\n",
    "    os.mkdir(split_out_folder)\n",
    "test_vcf_split = vcf_subset(vcf_out, 'S008326', split_out_folder)\n",
    "for sample in samples:\n",
    "    print(sample)"
   ]
  },
  {
   "cell_type": "code",
   "execution_count": null,
   "metadata": {
    "collapsed": true
   },
   "outputs": [],
   "source": []
  }
 ],
 "metadata": {
  "kernelspec": {
   "display_name": "Python [default]",
   "language": "python",
   "name": "python3"
  },
  "language_info": {
   "codemirror_mode": {
    "name": "ipython",
    "version": 3
   },
   "file_extension": ".py",
   "mimetype": "text/x-python",
   "name": "python",
   "nbconvert_exporter": "python",
   "pygments_lexer": "ipython3",
   "version": "3.5.3"
  },
  "toc": {
   "nav_menu": {},
   "number_sections": true,
   "sideBar": true,
   "skip_h1_title": false,
   "title_cell": "Table of Contents",
   "title_sidebar": "Contents",
   "toc_cell": false,
   "toc_position": {},
   "toc_section_display": true,
   "toc_window_display": false
  }
 },
 "nbformat": 4,
 "nbformat_minor": 2
}
