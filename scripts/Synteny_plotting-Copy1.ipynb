{
 "cells": [
  {
   "cell_type": "code",
   "execution_count": 16,
   "metadata": {
    "ExecuteTime": {
     "end_time": "2019-02-15T06:23:03.229175Z",
     "start_time": "2019-02-15T06:23:03.214687Z"
    },
    "collapsed": true
   },
   "outputs": [],
   "source": [
    "%matplotlib inline"
   ]
  },
  {
   "cell_type": "code",
   "execution_count": 1,
   "metadata": {
    "ExecuteTime": {
     "end_time": "2019-02-15T06:22:47.269017Z",
     "start_time": "2019-02-15T06:22:44.968324Z"
    }
   },
   "outputs": [
    {
     "name": "stderr",
     "output_type": "stream",
     "text": [
      "/home/benjamin/anaconda3/lib/python3.5/site-packages/Bio/SearchIO/__init__.py:211: BiopythonExperimentalWarning: Bio.SearchIO is an experimental submodule which may undergo significant changes prior to its future official release.\n",
      "  BiopythonExperimentalWarning)\n"
     ]
    }
   ],
   "source": [
    "import pandas as pd\n",
    "import os\n",
    "import re\n",
    "from Bio import SeqIO\n",
    "from Bio import SeqUtils\n",
    "import pysam\n",
    "from Bio.SeqRecord import SeqRecord\n",
    "from pybedtools import BedTool\n",
    "import numpy as np\n",
    "import pybedtools\n",
    "import time\n",
    "import matplotlib.pyplot as plt\n",
    "import sys\n",
    "import subprocess\n",
    "import shutil\n",
    "from Bio.Seq import Seq\n",
    "import pysam\n",
    "from Bio import SearchIO\n",
    "import json\n",
    "import glob\n",
    "import scipy.stats as stats\n",
    "import statsmodels as sms\n",
    "import statsmodels.sandbox.stats.multicomp\n",
    "import distance\n",
    "import seaborn as sns\n",
    "from pybedtools import BedTool\n",
    "import matplotlib\n",
    "from sklearn.externals.joblib import Parallel, delayed\n",
    "import itertools as it\n",
    "import tempfile\n",
    "from scipy.signal import argrelextrema\n",
    "import scipy\n",
    "from IPython.display import Image\n",
    "from PIL import Image\n",
    "from collections import OrderedDict"
   ]
  },
  {
   "cell_type": "code",
   "execution_count": 45,
   "metadata": {
    "ExecuteTime": {
     "end_time": "2019-02-15T06:31:35.033158Z",
     "start_time": "2019-02-15T06:31:35.022418Z"
    },
    "collapsed": true
   },
   "outputs": [],
   "source": [
    "OUT_PATH = '/home/benjamin/genome_assembly/Warrior/DK0911_v04/comp_orthology/orthofinder/test_folder/'"
   ]
  },
  {
   "cell_type": "code",
   "execution_count": 69,
   "metadata": {
    "ExecuteTime": {
     "end_time": "2019-02-16T05:58:23.225170Z",
     "start_time": "2019-02-16T05:58:23.202428Z"
    },
    "collapsed": true
   },
   "outputs": [],
   "source": [
    "up_match_df = pd.read_csv(os.path.join(OUT_PATH, '14022019_up_match_simple_true_df.csv'), index_col = 0)\n",
    "down_match_df = pd.read_csv(os.path.join(OUT_PATH, '14022019_down_match_simple_true_df.csv'), index_col = 0)"
   ]
  },
  {
   "cell_type": "code",
   "execution_count": 70,
   "metadata": {
    "ExecuteTime": {
     "end_time": "2019-02-16T05:58:23.737186Z",
     "start_time": "2019-02-16T05:58:23.718305Z"
    },
    "collapsed": true
   },
   "outputs": [],
   "source": [
    "fn = '/home/benjamin/genome_assembly/PST79/FALCON/p_assemblies/v9_1/Pst_104E_v12/Warrior_comp_runs/busco3/run_Pst_104E_v13_p_ctg.protein/full_table_Pst_104E_v13_p_ctg.protein.tsv'\n",
    "\n",
    "p_buscos = pd.read_csv(fn, sep='\\t', header=None, comment='#')[2].unique()"
   ]
  },
  {
   "cell_type": "code",
   "execution_count": 71,
   "metadata": {
    "ExecuteTime": {
     "end_time": "2019-02-16T05:58:23.949168Z",
     "start_time": "2019-02-16T05:58:23.930318Z"
    },
    "collapsed": true
   },
   "outputs": [],
   "source": [
    "fn_effector = '/home/benjamin/genome_assembly/Warrior/DK0911_v04/comp_orthology/Pst104E_annotations/Pst_104E_v13_ph_ctg.nr_effector.gene.bed'\n",
    "\n",
    "p_effector = pd.read_csv(fn_effector, sep='\\t', header=None, comment='#')[3].unique()"
   ]
  },
  {
   "cell_type": "code",
   "execution_count": 72,
   "metadata": {
    "ExecuteTime": {
     "end_time": "2019-02-16T05:58:24.137169Z",
     "start_time": "2019-02-16T05:58:24.126449Z"
    }
   },
   "outputs": [
    {
     "data": {
      "text/plain": [
       "array(['Pst104E_01192', 'Pst104E_04184', 'Pst104E_01554', ...,\n",
       "       'Pst104E_15044', 'Pst104E_07230', 'Pst104E_10356'], dtype=object)"
      ]
     },
     "execution_count": 72,
     "metadata": {},
     "output_type": "execute_result"
    }
   ],
   "source": [
    "p_buscos"
   ]
  },
  {
   "cell_type": "code",
   "execution_count": 73,
   "metadata": {
    "ExecuteTime": {
     "end_time": "2019-02-16T05:58:24.405174Z",
     "start_time": "2019-02-16T05:58:24.350324Z"
    }
   },
   "outputs": [
    {
     "data": {
      "text/html": [
       "<div>\n",
       "<style>\n",
       "    .dataframe thead tr:only-child th {\n",
       "        text-align: right;\n",
       "    }\n",
       "\n",
       "    .dataframe thead th {\n",
       "        text-align: left;\n",
       "    }\n",
       "\n",
       "    .dataframe tbody tr th {\n",
       "        vertical-align: top;\n",
       "    }\n",
       "</style>\n",
       "<table border=\"1\" class=\"dataframe\">\n",
       "  <thead>\n",
       "    <tr style=\"text-align: right;\">\n",
       "      <th></th>\n",
       "      <th>0</th>\n",
       "      <th>1</th>\n",
       "      <th>2</th>\n",
       "      <th>3</th>\n",
       "      <th>4</th>\n",
       "      <th>5</th>\n",
       "      <th>6</th>\n",
       "      <th>7</th>\n",
       "    </tr>\n",
       "  </thead>\n",
       "  <tbody>\n",
       "    <tr>\n",
       "      <th>Pst104E_00000</th>\n",
       "      <td>1.0</td>\n",
       "      <td>1.0</td>\n",
       "      <td>1.0</td>\n",
       "      <td>1.0</td>\n",
       "      <td>1.0</td>\n",
       "      <td>0.0</td>\n",
       "      <td>0.0</td>\n",
       "      <td>0.0</td>\n",
       "    </tr>\n",
       "    <tr>\n",
       "      <th>Pst104E_00001</th>\n",
       "      <td>1.0</td>\n",
       "      <td>1.0</td>\n",
       "      <td>1.0</td>\n",
       "      <td>1.0</td>\n",
       "      <td>0.0</td>\n",
       "      <td>0.0</td>\n",
       "      <td>0.0</td>\n",
       "      <td>0.0</td>\n",
       "    </tr>\n",
       "    <tr>\n",
       "      <th>Pst104E_00002</th>\n",
       "      <td>1.0</td>\n",
       "      <td>1.0</td>\n",
       "      <td>1.0</td>\n",
       "      <td>0.0</td>\n",
       "      <td>0.0</td>\n",
       "      <td>0.0</td>\n",
       "      <td>0.0</td>\n",
       "      <td>0.0</td>\n",
       "    </tr>\n",
       "    <tr>\n",
       "      <th>Pst104E_00003</th>\n",
       "      <td>1.0</td>\n",
       "      <td>1.0</td>\n",
       "      <td>0.0</td>\n",
       "      <td>0.0</td>\n",
       "      <td>0.0</td>\n",
       "      <td>0.0</td>\n",
       "      <td>0.0</td>\n",
       "      <td>0.0</td>\n",
       "    </tr>\n",
       "    <tr>\n",
       "      <th>Pst104E_00004</th>\n",
       "      <td>1.0</td>\n",
       "      <td>0.0</td>\n",
       "      <td>0.0</td>\n",
       "      <td>0.0</td>\n",
       "      <td>0.0</td>\n",
       "      <td>0.0</td>\n",
       "      <td>0.0</td>\n",
       "      <td>0.0</td>\n",
       "    </tr>\n",
       "    <tr>\n",
       "      <th>Pst104E_00005</th>\n",
       "      <td>0.0</td>\n",
       "      <td>0.0</td>\n",
       "      <td>0.0</td>\n",
       "      <td>0.0</td>\n",
       "      <td>0.0</td>\n",
       "      <td>0.0</td>\n",
       "      <td>0.0</td>\n",
       "      <td>0.0</td>\n",
       "    </tr>\n",
       "    <tr>\n",
       "      <th>Pst104E_00007</th>\n",
       "      <td>1.0</td>\n",
       "      <td>1.0</td>\n",
       "      <td>0.0</td>\n",
       "      <td>0.0</td>\n",
       "      <td>0.0</td>\n",
       "      <td>0.0</td>\n",
       "      <td>0.0</td>\n",
       "      <td>0.0</td>\n",
       "    </tr>\n",
       "    <tr>\n",
       "      <th>Pst104E_00008</th>\n",
       "      <td>1.0</td>\n",
       "      <td>0.0</td>\n",
       "      <td>0.0</td>\n",
       "      <td>0.0</td>\n",
       "      <td>0.0</td>\n",
       "      <td>0.0</td>\n",
       "      <td>0.0</td>\n",
       "      <td>0.0</td>\n",
       "    </tr>\n",
       "    <tr>\n",
       "      <th>Pst104E_00009</th>\n",
       "      <td>0.0</td>\n",
       "      <td>0.0</td>\n",
       "      <td>0.0</td>\n",
       "      <td>0.0</td>\n",
       "      <td>0.0</td>\n",
       "      <td>0.0</td>\n",
       "      <td>0.0</td>\n",
       "      <td>0.0</td>\n",
       "    </tr>\n",
       "    <tr>\n",
       "      <th>Pst104E_00010</th>\n",
       "      <td>1.0</td>\n",
       "      <td>1.0</td>\n",
       "      <td>1.0</td>\n",
       "      <td>1.0</td>\n",
       "      <td>1.0</td>\n",
       "      <td>1.0</td>\n",
       "      <td>1.0</td>\n",
       "      <td>0.0</td>\n",
       "    </tr>\n",
       "    <tr>\n",
       "      <th>Pst104E_00011</th>\n",
       "      <td>1.0</td>\n",
       "      <td>1.0</td>\n",
       "      <td>1.0</td>\n",
       "      <td>1.0</td>\n",
       "      <td>1.0</td>\n",
       "      <td>1.0</td>\n",
       "      <td>0.0</td>\n",
       "      <td>0.0</td>\n",
       "    </tr>\n",
       "    <tr>\n",
       "      <th>Pst104E_00012</th>\n",
       "      <td>1.0</td>\n",
       "      <td>1.0</td>\n",
       "      <td>1.0</td>\n",
       "      <td>1.0</td>\n",
       "      <td>1.0</td>\n",
       "      <td>0.0</td>\n",
       "      <td>0.0</td>\n",
       "      <td>0.0</td>\n",
       "    </tr>\n",
       "    <tr>\n",
       "      <th>Pst104E_00013</th>\n",
       "      <td>1.0</td>\n",
       "      <td>1.0</td>\n",
       "      <td>1.0</td>\n",
       "      <td>1.0</td>\n",
       "      <td>0.0</td>\n",
       "      <td>0.0</td>\n",
       "      <td>0.0</td>\n",
       "      <td>0.0</td>\n",
       "    </tr>\n",
       "    <tr>\n",
       "      <th>Pst104E_00014</th>\n",
       "      <td>1.0</td>\n",
       "      <td>1.0</td>\n",
       "      <td>1.0</td>\n",
       "      <td>0.0</td>\n",
       "      <td>0.0</td>\n",
       "      <td>0.0</td>\n",
       "      <td>0.0</td>\n",
       "      <td>0.0</td>\n",
       "    </tr>\n",
       "    <tr>\n",
       "      <th>Pst104E_00015</th>\n",
       "      <td>1.0</td>\n",
       "      <td>1.0</td>\n",
       "      <td>0.0</td>\n",
       "      <td>0.0</td>\n",
       "      <td>0.0</td>\n",
       "      <td>0.0</td>\n",
       "      <td>0.0</td>\n",
       "      <td>0.0</td>\n",
       "    </tr>\n",
       "    <tr>\n",
       "      <th>Pst104E_00016</th>\n",
       "      <td>1.0</td>\n",
       "      <td>0.0</td>\n",
       "      <td>0.0</td>\n",
       "      <td>0.0</td>\n",
       "      <td>0.0</td>\n",
       "      <td>0.0</td>\n",
       "      <td>0.0</td>\n",
       "      <td>0.0</td>\n",
       "    </tr>\n",
       "    <tr>\n",
       "      <th>Pst104E_00017</th>\n",
       "      <td>0.0</td>\n",
       "      <td>0.0</td>\n",
       "      <td>0.0</td>\n",
       "      <td>0.0</td>\n",
       "      <td>0.0</td>\n",
       "      <td>0.0</td>\n",
       "      <td>0.0</td>\n",
       "      <td>0.0</td>\n",
       "    </tr>\n",
       "    <tr>\n",
       "      <th>Pst104E_00018</th>\n",
       "      <td>NaN</td>\n",
       "      <td>NaN</td>\n",
       "      <td>NaN</td>\n",
       "      <td>NaN</td>\n",
       "      <td>NaN</td>\n",
       "      <td>NaN</td>\n",
       "      <td>NaN</td>\n",
       "      <td>NaN</td>\n",
       "    </tr>\n",
       "    <tr>\n",
       "      <th>Pst104E_00019</th>\n",
       "      <td>1.0</td>\n",
       "      <td>1.0</td>\n",
       "      <td>1.0</td>\n",
       "      <td>0.0</td>\n",
       "      <td>0.0</td>\n",
       "      <td>1.0</td>\n",
       "      <td>1.0</td>\n",
       "      <td>1.0</td>\n",
       "    </tr>\n",
       "    <tr>\n",
       "      <th>Pst104E_00020</th>\n",
       "      <td>1.0</td>\n",
       "      <td>1.0</td>\n",
       "      <td>0.0</td>\n",
       "      <td>0.0</td>\n",
       "      <td>1.0</td>\n",
       "      <td>1.0</td>\n",
       "      <td>1.0</td>\n",
       "      <td>0.0</td>\n",
       "    </tr>\n",
       "    <tr>\n",
       "      <th>Pst104E_00021</th>\n",
       "      <td>1.0</td>\n",
       "      <td>0.0</td>\n",
       "      <td>0.0</td>\n",
       "      <td>1.0</td>\n",
       "      <td>1.0</td>\n",
       "      <td>1.0</td>\n",
       "      <td>0.0</td>\n",
       "      <td>0.0</td>\n",
       "    </tr>\n",
       "    <tr>\n",
       "      <th>Pst104E_00022</th>\n",
       "      <td>0.0</td>\n",
       "      <td>0.0</td>\n",
       "      <td>1.0</td>\n",
       "      <td>1.0</td>\n",
       "      <td>1.0</td>\n",
       "      <td>0.0</td>\n",
       "      <td>0.0</td>\n",
       "      <td>0.0</td>\n",
       "    </tr>\n",
       "    <tr>\n",
       "      <th>Pst104E_00024</th>\n",
       "      <td>NaN</td>\n",
       "      <td>NaN</td>\n",
       "      <td>NaN</td>\n",
       "      <td>NaN</td>\n",
       "      <td>NaN</td>\n",
       "      <td>NaN</td>\n",
       "      <td>NaN</td>\n",
       "      <td>NaN</td>\n",
       "    </tr>\n",
       "    <tr>\n",
       "      <th>Pst104E_00025</th>\n",
       "      <td>1.0</td>\n",
       "      <td>1.0</td>\n",
       "      <td>0.0</td>\n",
       "      <td>0.0</td>\n",
       "      <td>0.0</td>\n",
       "      <td>0.0</td>\n",
       "      <td>0.0</td>\n",
       "      <td>0.0</td>\n",
       "    </tr>\n",
       "    <tr>\n",
       "      <th>Pst104E_00026</th>\n",
       "      <td>1.0</td>\n",
       "      <td>0.0</td>\n",
       "      <td>0.0</td>\n",
       "      <td>0.0</td>\n",
       "      <td>0.0</td>\n",
       "      <td>0.0</td>\n",
       "      <td>0.0</td>\n",
       "      <td>0.0</td>\n",
       "    </tr>\n",
       "    <tr>\n",
       "      <th>Pst104E_00027</th>\n",
       "      <td>0.0</td>\n",
       "      <td>0.0</td>\n",
       "      <td>0.0</td>\n",
       "      <td>0.0</td>\n",
       "      <td>0.0</td>\n",
       "      <td>0.0</td>\n",
       "      <td>0.0</td>\n",
       "      <td>0.0</td>\n",
       "    </tr>\n",
       "    <tr>\n",
       "      <th>Pst104E_00028</th>\n",
       "      <td>NaN</td>\n",
       "      <td>NaN</td>\n",
       "      <td>NaN</td>\n",
       "      <td>NaN</td>\n",
       "      <td>NaN</td>\n",
       "      <td>NaN</td>\n",
       "      <td>NaN</td>\n",
       "      <td>NaN</td>\n",
       "    </tr>\n",
       "    <tr>\n",
       "      <th>Pst104E_00029</th>\n",
       "      <td>1.0</td>\n",
       "      <td>1.0</td>\n",
       "      <td>0.0</td>\n",
       "      <td>0.0</td>\n",
       "      <td>0.0</td>\n",
       "      <td>0.0</td>\n",
       "      <td>0.0</td>\n",
       "      <td>0.0</td>\n",
       "    </tr>\n",
       "    <tr>\n",
       "      <th>Pst104E_00030</th>\n",
       "      <td>1.0</td>\n",
       "      <td>0.0</td>\n",
       "      <td>0.0</td>\n",
       "      <td>0.0</td>\n",
       "      <td>0.0</td>\n",
       "      <td>0.0</td>\n",
       "      <td>0.0</td>\n",
       "      <td>0.0</td>\n",
       "    </tr>\n",
       "    <tr>\n",
       "      <th>Pst104E_00031</th>\n",
       "      <td>1.0</td>\n",
       "      <td>1.0</td>\n",
       "      <td>0.0</td>\n",
       "      <td>1.0</td>\n",
       "      <td>0.0</td>\n",
       "      <td>0.0</td>\n",
       "      <td>0.0</td>\n",
       "      <td>0.0</td>\n",
       "    </tr>\n",
       "    <tr>\n",
       "      <th>...</th>\n",
       "      <td>...</td>\n",
       "      <td>...</td>\n",
       "      <td>...</td>\n",
       "      <td>...</td>\n",
       "      <td>...</td>\n",
       "      <td>...</td>\n",
       "      <td>...</td>\n",
       "      <td>...</td>\n",
       "    </tr>\n",
       "    <tr>\n",
       "      <th>Pst104E_00966</th>\n",
       "      <td>0.0</td>\n",
       "      <td>0.0</td>\n",
       "      <td>0.0</td>\n",
       "      <td>0.0</td>\n",
       "      <td>0.0</td>\n",
       "      <td>0.0</td>\n",
       "      <td>0.0</td>\n",
       "      <td>0.0</td>\n",
       "    </tr>\n",
       "    <tr>\n",
       "      <th>Pst104E_00967</th>\n",
       "      <td>NaN</td>\n",
       "      <td>NaN</td>\n",
       "      <td>NaN</td>\n",
       "      <td>NaN</td>\n",
       "      <td>NaN</td>\n",
       "      <td>NaN</td>\n",
       "      <td>NaN</td>\n",
       "      <td>NaN</td>\n",
       "    </tr>\n",
       "    <tr>\n",
       "      <th>Pst104E_00968</th>\n",
       "      <td>NaN</td>\n",
       "      <td>NaN</td>\n",
       "      <td>NaN</td>\n",
       "      <td>NaN</td>\n",
       "      <td>NaN</td>\n",
       "      <td>NaN</td>\n",
       "      <td>NaN</td>\n",
       "      <td>NaN</td>\n",
       "    </tr>\n",
       "    <tr>\n",
       "      <th>Pst104E_00969</th>\n",
       "      <td>NaN</td>\n",
       "      <td>NaN</td>\n",
       "      <td>NaN</td>\n",
       "      <td>NaN</td>\n",
       "      <td>NaN</td>\n",
       "      <td>NaN</td>\n",
       "      <td>NaN</td>\n",
       "      <td>NaN</td>\n",
       "    </tr>\n",
       "    <tr>\n",
       "      <th>Pst104E_00970</th>\n",
       "      <td>1.0</td>\n",
       "      <td>1.0</td>\n",
       "      <td>0.0</td>\n",
       "      <td>0.0</td>\n",
       "      <td>0.0</td>\n",
       "      <td>1.0</td>\n",
       "      <td>0.0</td>\n",
       "      <td>0.0</td>\n",
       "    </tr>\n",
       "    <tr>\n",
       "      <th>Pst104E_00971</th>\n",
       "      <td>1.0</td>\n",
       "      <td>0.0</td>\n",
       "      <td>0.0</td>\n",
       "      <td>0.0</td>\n",
       "      <td>1.0</td>\n",
       "      <td>0.0</td>\n",
       "      <td>0.0</td>\n",
       "      <td>0.0</td>\n",
       "    </tr>\n",
       "    <tr>\n",
       "      <th>Pst104E_00972</th>\n",
       "      <td>1.0</td>\n",
       "      <td>0.0</td>\n",
       "      <td>0.0</td>\n",
       "      <td>0.0</td>\n",
       "      <td>0.0</td>\n",
       "      <td>0.0</td>\n",
       "      <td>0.0</td>\n",
       "      <td>0.0</td>\n",
       "    </tr>\n",
       "    <tr>\n",
       "      <th>Pst104E_00973</th>\n",
       "      <td>0.0</td>\n",
       "      <td>0.0</td>\n",
       "      <td>0.0</td>\n",
       "      <td>0.0</td>\n",
       "      <td>0.0</td>\n",
       "      <td>0.0</td>\n",
       "      <td>0.0</td>\n",
       "      <td>NaN</td>\n",
       "    </tr>\n",
       "    <tr>\n",
       "      <th>Pst104E_00974</th>\n",
       "      <td>1.0</td>\n",
       "      <td>1.0</td>\n",
       "      <td>1.0</td>\n",
       "      <td>1.0</td>\n",
       "      <td>1.0</td>\n",
       "      <td>0.0</td>\n",
       "      <td>1.0</td>\n",
       "      <td>0.0</td>\n",
       "    </tr>\n",
       "    <tr>\n",
       "      <th>Pst104E_00975</th>\n",
       "      <td>1.0</td>\n",
       "      <td>1.0</td>\n",
       "      <td>1.0</td>\n",
       "      <td>1.0</td>\n",
       "      <td>0.0</td>\n",
       "      <td>1.0</td>\n",
       "      <td>0.0</td>\n",
       "      <td>1.0</td>\n",
       "    </tr>\n",
       "    <tr>\n",
       "      <th>Pst104E_00976</th>\n",
       "      <td>1.0</td>\n",
       "      <td>1.0</td>\n",
       "      <td>1.0</td>\n",
       "      <td>0.0</td>\n",
       "      <td>1.0</td>\n",
       "      <td>0.0</td>\n",
       "      <td>1.0</td>\n",
       "      <td>0.0</td>\n",
       "    </tr>\n",
       "    <tr>\n",
       "      <th>Pst104E_00977</th>\n",
       "      <td>1.0</td>\n",
       "      <td>1.0</td>\n",
       "      <td>0.0</td>\n",
       "      <td>1.0</td>\n",
       "      <td>0.0</td>\n",
       "      <td>1.0</td>\n",
       "      <td>0.0</td>\n",
       "      <td>0.0</td>\n",
       "    </tr>\n",
       "    <tr>\n",
       "      <th>Pst104E_00978</th>\n",
       "      <td>1.0</td>\n",
       "      <td>0.0</td>\n",
       "      <td>1.0</td>\n",
       "      <td>0.0</td>\n",
       "      <td>1.0</td>\n",
       "      <td>0.0</td>\n",
       "      <td>0.0</td>\n",
       "      <td>0.0</td>\n",
       "    </tr>\n",
       "    <tr>\n",
       "      <th>Pst104E_00979</th>\n",
       "      <td>1.0</td>\n",
       "      <td>0.0</td>\n",
       "      <td>0.0</td>\n",
       "      <td>0.0</td>\n",
       "      <td>0.0</td>\n",
       "      <td>0.0</td>\n",
       "      <td>0.0</td>\n",
       "      <td>0.0</td>\n",
       "    </tr>\n",
       "    <tr>\n",
       "      <th>Pst104E_00980</th>\n",
       "      <td>NaN</td>\n",
       "      <td>NaN</td>\n",
       "      <td>NaN</td>\n",
       "      <td>NaN</td>\n",
       "      <td>NaN</td>\n",
       "      <td>NaN</td>\n",
       "      <td>NaN</td>\n",
       "      <td>NaN</td>\n",
       "    </tr>\n",
       "    <tr>\n",
       "      <th>Pst104E_00981</th>\n",
       "      <td>NaN</td>\n",
       "      <td>NaN</td>\n",
       "      <td>NaN</td>\n",
       "      <td>NaN</td>\n",
       "      <td>NaN</td>\n",
       "      <td>NaN</td>\n",
       "      <td>NaN</td>\n",
       "      <td>NaN</td>\n",
       "    </tr>\n",
       "    <tr>\n",
       "      <th>Pst104E_00983</th>\n",
       "      <td>NaN</td>\n",
       "      <td>NaN</td>\n",
       "      <td>NaN</td>\n",
       "      <td>NaN</td>\n",
       "      <td>NaN</td>\n",
       "      <td>NaN</td>\n",
       "      <td>NaN</td>\n",
       "      <td>NaN</td>\n",
       "    </tr>\n",
       "    <tr>\n",
       "      <th>Pst104E_00985</th>\n",
       "      <td>1.0</td>\n",
       "      <td>1.0</td>\n",
       "      <td>1.0</td>\n",
       "      <td>1.0</td>\n",
       "      <td>0.0</td>\n",
       "      <td>1.0</td>\n",
       "      <td>1.0</td>\n",
       "      <td>0.0</td>\n",
       "    </tr>\n",
       "    <tr>\n",
       "      <th>Pst104E_00986</th>\n",
       "      <td>1.0</td>\n",
       "      <td>1.0</td>\n",
       "      <td>1.0</td>\n",
       "      <td>0.0</td>\n",
       "      <td>1.0</td>\n",
       "      <td>1.0</td>\n",
       "      <td>0.0</td>\n",
       "      <td>0.0</td>\n",
       "    </tr>\n",
       "    <tr>\n",
       "      <th>Pst104E_00987</th>\n",
       "      <td>1.0</td>\n",
       "      <td>1.0</td>\n",
       "      <td>0.0</td>\n",
       "      <td>1.0</td>\n",
       "      <td>1.0</td>\n",
       "      <td>0.0</td>\n",
       "      <td>0.0</td>\n",
       "      <td>0.0</td>\n",
       "    </tr>\n",
       "    <tr>\n",
       "      <th>Pst104E_00988</th>\n",
       "      <td>1.0</td>\n",
       "      <td>0.0</td>\n",
       "      <td>1.0</td>\n",
       "      <td>1.0</td>\n",
       "      <td>0.0</td>\n",
       "      <td>0.0</td>\n",
       "      <td>0.0</td>\n",
       "      <td>1.0</td>\n",
       "    </tr>\n",
       "    <tr>\n",
       "      <th>Pst104E_00989</th>\n",
       "      <td>NaN</td>\n",
       "      <td>NaN</td>\n",
       "      <td>NaN</td>\n",
       "      <td>NaN</td>\n",
       "      <td>NaN</td>\n",
       "      <td>NaN</td>\n",
       "      <td>NaN</td>\n",
       "      <td>NaN</td>\n",
       "    </tr>\n",
       "    <tr>\n",
       "      <th>Pst104E_00991</th>\n",
       "      <td>1.0</td>\n",
       "      <td>0.0</td>\n",
       "      <td>1.0</td>\n",
       "      <td>1.0</td>\n",
       "      <td>0.0</td>\n",
       "      <td>0.0</td>\n",
       "      <td>1.0</td>\n",
       "      <td>1.0</td>\n",
       "    </tr>\n",
       "    <tr>\n",
       "      <th>Pst104E_00992</th>\n",
       "      <td>NaN</td>\n",
       "      <td>NaN</td>\n",
       "      <td>NaN</td>\n",
       "      <td>NaN</td>\n",
       "      <td>NaN</td>\n",
       "      <td>NaN</td>\n",
       "      <td>NaN</td>\n",
       "      <td>NaN</td>\n",
       "    </tr>\n",
       "    <tr>\n",
       "      <th>Pst104E_00994</th>\n",
       "      <td>1.0</td>\n",
       "      <td>0.0</td>\n",
       "      <td>0.0</td>\n",
       "      <td>1.0</td>\n",
       "      <td>1.0</td>\n",
       "      <td>1.0</td>\n",
       "      <td>0.0</td>\n",
       "      <td>0.0</td>\n",
       "    </tr>\n",
       "    <tr>\n",
       "      <th>Pst104E_00995</th>\n",
       "      <td>NaN</td>\n",
       "      <td>NaN</td>\n",
       "      <td>NaN</td>\n",
       "      <td>NaN</td>\n",
       "      <td>NaN</td>\n",
       "      <td>NaN</td>\n",
       "      <td>NaN</td>\n",
       "      <td>NaN</td>\n",
       "    </tr>\n",
       "    <tr>\n",
       "      <th>Pst104E_00996</th>\n",
       "      <td>NaN</td>\n",
       "      <td>NaN</td>\n",
       "      <td>NaN</td>\n",
       "      <td>NaN</td>\n",
       "      <td>NaN</td>\n",
       "      <td>NaN</td>\n",
       "      <td>NaN</td>\n",
       "      <td>NaN</td>\n",
       "    </tr>\n",
       "    <tr>\n",
       "      <th>Pst104E_00997</th>\n",
       "      <td>NaN</td>\n",
       "      <td>NaN</td>\n",
       "      <td>NaN</td>\n",
       "      <td>NaN</td>\n",
       "      <td>NaN</td>\n",
       "      <td>NaN</td>\n",
       "      <td>NaN</td>\n",
       "      <td>NaN</td>\n",
       "    </tr>\n",
       "    <tr>\n",
       "      <th>Pst104E_00998</th>\n",
       "      <td>1.0</td>\n",
       "      <td>1.0</td>\n",
       "      <td>0.0</td>\n",
       "      <td>0.0</td>\n",
       "      <td>1.0</td>\n",
       "      <td>1.0</td>\n",
       "      <td>0.0</td>\n",
       "      <td>0.0</td>\n",
       "    </tr>\n",
       "    <tr>\n",
       "      <th>Pst104E_00999</th>\n",
       "      <td>1.0</td>\n",
       "      <td>0.0</td>\n",
       "      <td>0.0</td>\n",
       "      <td>1.0</td>\n",
       "      <td>1.0</td>\n",
       "      <td>0.0</td>\n",
       "      <td>0.0</td>\n",
       "      <td>0.0</td>\n",
       "    </tr>\n",
       "  </tbody>\n",
       "</table>\n",
       "<p>962 rows × 8 columns</p>\n",
       "</div>"
      ],
      "text/plain": [
       "                 0    1    2    3    4    5    6    7\n",
       "Pst104E_00000  1.0  1.0  1.0  1.0  1.0  0.0  0.0  0.0\n",
       "Pst104E_00001  1.0  1.0  1.0  1.0  0.0  0.0  0.0  0.0\n",
       "Pst104E_00002  1.0  1.0  1.0  0.0  0.0  0.0  0.0  0.0\n",
       "Pst104E_00003  1.0  1.0  0.0  0.0  0.0  0.0  0.0  0.0\n",
       "Pst104E_00004  1.0  0.0  0.0  0.0  0.0  0.0  0.0  0.0\n",
       "Pst104E_00005  0.0  0.0  0.0  0.0  0.0  0.0  0.0  0.0\n",
       "Pst104E_00007  1.0  1.0  0.0  0.0  0.0  0.0  0.0  0.0\n",
       "Pst104E_00008  1.0  0.0  0.0  0.0  0.0  0.0  0.0  0.0\n",
       "Pst104E_00009  0.0  0.0  0.0  0.0  0.0  0.0  0.0  0.0\n",
       "Pst104E_00010  1.0  1.0  1.0  1.0  1.0  1.0  1.0  0.0\n",
       "Pst104E_00011  1.0  1.0  1.0  1.0  1.0  1.0  0.0  0.0\n",
       "Pst104E_00012  1.0  1.0  1.0  1.0  1.0  0.0  0.0  0.0\n",
       "Pst104E_00013  1.0  1.0  1.0  1.0  0.0  0.0  0.0  0.0\n",
       "Pst104E_00014  1.0  1.0  1.0  0.0  0.0  0.0  0.0  0.0\n",
       "Pst104E_00015  1.0  1.0  0.0  0.0  0.0  0.0  0.0  0.0\n",
       "Pst104E_00016  1.0  0.0  0.0  0.0  0.0  0.0  0.0  0.0\n",
       "Pst104E_00017  0.0  0.0  0.0  0.0  0.0  0.0  0.0  0.0\n",
       "Pst104E_00018  NaN  NaN  NaN  NaN  NaN  NaN  NaN  NaN\n",
       "Pst104E_00019  1.0  1.0  1.0  0.0  0.0  1.0  1.0  1.0\n",
       "Pst104E_00020  1.0  1.0  0.0  0.0  1.0  1.0  1.0  0.0\n",
       "Pst104E_00021  1.0  0.0  0.0  1.0  1.0  1.0  0.0  0.0\n",
       "Pst104E_00022  0.0  0.0  1.0  1.0  1.0  0.0  0.0  0.0\n",
       "Pst104E_00024  NaN  NaN  NaN  NaN  NaN  NaN  NaN  NaN\n",
       "Pst104E_00025  1.0  1.0  0.0  0.0  0.0  0.0  0.0  0.0\n",
       "Pst104E_00026  1.0  0.0  0.0  0.0  0.0  0.0  0.0  0.0\n",
       "Pst104E_00027  0.0  0.0  0.0  0.0  0.0  0.0  0.0  0.0\n",
       "Pst104E_00028  NaN  NaN  NaN  NaN  NaN  NaN  NaN  NaN\n",
       "Pst104E_00029  1.0  1.0  0.0  0.0  0.0  0.0  0.0  0.0\n",
       "Pst104E_00030  1.0  0.0  0.0  0.0  0.0  0.0  0.0  0.0\n",
       "Pst104E_00031  1.0  1.0  0.0  1.0  0.0  0.0  0.0  0.0\n",
       "...            ...  ...  ...  ...  ...  ...  ...  ...\n",
       "Pst104E_00966  0.0  0.0  0.0  0.0  0.0  0.0  0.0  0.0\n",
       "Pst104E_00967  NaN  NaN  NaN  NaN  NaN  NaN  NaN  NaN\n",
       "Pst104E_00968  NaN  NaN  NaN  NaN  NaN  NaN  NaN  NaN\n",
       "Pst104E_00969  NaN  NaN  NaN  NaN  NaN  NaN  NaN  NaN\n",
       "Pst104E_00970  1.0  1.0  0.0  0.0  0.0  1.0  0.0  0.0\n",
       "Pst104E_00971  1.0  0.0  0.0  0.0  1.0  0.0  0.0  0.0\n",
       "Pst104E_00972  1.0  0.0  0.0  0.0  0.0  0.0  0.0  0.0\n",
       "Pst104E_00973  0.0  0.0  0.0  0.0  0.0  0.0  0.0  NaN\n",
       "Pst104E_00974  1.0  1.0  1.0  1.0  1.0  0.0  1.0  0.0\n",
       "Pst104E_00975  1.0  1.0  1.0  1.0  0.0  1.0  0.0  1.0\n",
       "Pst104E_00976  1.0  1.0  1.0  0.0  1.0  0.0  1.0  0.0\n",
       "Pst104E_00977  1.0  1.0  0.0  1.0  0.0  1.0  0.0  0.0\n",
       "Pst104E_00978  1.0  0.0  1.0  0.0  1.0  0.0  0.0  0.0\n",
       "Pst104E_00979  1.0  0.0  0.0  0.0  0.0  0.0  0.0  0.0\n",
       "Pst104E_00980  NaN  NaN  NaN  NaN  NaN  NaN  NaN  NaN\n",
       "Pst104E_00981  NaN  NaN  NaN  NaN  NaN  NaN  NaN  NaN\n",
       "Pst104E_00983  NaN  NaN  NaN  NaN  NaN  NaN  NaN  NaN\n",
       "Pst104E_00985  1.0  1.0  1.0  1.0  0.0  1.0  1.0  0.0\n",
       "Pst104E_00986  1.0  1.0  1.0  0.0  1.0  1.0  0.0  0.0\n",
       "Pst104E_00987  1.0  1.0  0.0  1.0  1.0  0.0  0.0  0.0\n",
       "Pst104E_00988  1.0  0.0  1.0  1.0  0.0  0.0  0.0  1.0\n",
       "Pst104E_00989  NaN  NaN  NaN  NaN  NaN  NaN  NaN  NaN\n",
       "Pst104E_00991  1.0  0.0  1.0  1.0  0.0  0.0  1.0  1.0\n",
       "Pst104E_00992  NaN  NaN  NaN  NaN  NaN  NaN  NaN  NaN\n",
       "Pst104E_00994  1.0  0.0  0.0  1.0  1.0  1.0  0.0  0.0\n",
       "Pst104E_00995  NaN  NaN  NaN  NaN  NaN  NaN  NaN  NaN\n",
       "Pst104E_00996  NaN  NaN  NaN  NaN  NaN  NaN  NaN  NaN\n",
       "Pst104E_00997  NaN  NaN  NaN  NaN  NaN  NaN  NaN  NaN\n",
       "Pst104E_00998  1.0  1.0  0.0  0.0  1.0  1.0  0.0  0.0\n",
       "Pst104E_00999  1.0  0.0  0.0  1.0  1.0  0.0  0.0  0.0\n",
       "\n",
       "[962 rows x 8 columns]"
      ]
     },
     "execution_count": 73,
     "metadata": {},
     "output_type": "execute_result"
    }
   ],
   "source": [
    "up_match_df \n",
    "\n"
   ]
  },
  {
   "cell_type": "code",
   "execution_count": 74,
   "metadata": {
    "ExecuteTime": {
     "end_time": "2019-02-16T05:58:24.937171Z",
     "start_time": "2019-02-16T05:58:24.899882Z"
    }
   },
   "outputs": [
    {
     "data": {
      "text/html": [
       "<div>\n",
       "<style>\n",
       "    .dataframe thead tr:only-child th {\n",
       "        text-align: right;\n",
       "    }\n",
       "\n",
       "    .dataframe thead th {\n",
       "        text-align: left;\n",
       "    }\n",
       "\n",
       "    .dataframe tbody tr th {\n",
       "        vertical-align: top;\n",
       "    }\n",
       "</style>\n",
       "<table border=\"1\" class=\"dataframe\">\n",
       "  <thead>\n",
       "    <tr style=\"text-align: right;\">\n",
       "      <th></th>\n",
       "      <th>0</th>\n",
       "      <th>1</th>\n",
       "      <th>2</th>\n",
       "      <th>3</th>\n",
       "      <th>4</th>\n",
       "      <th>5</th>\n",
       "      <th>6</th>\n",
       "      <th>7</th>\n",
       "    </tr>\n",
       "  </thead>\n",
       "  <tbody>\n",
       "    <tr>\n",
       "      <th>Pst104E_00000</th>\n",
       "      <td>NaN</td>\n",
       "      <td>NaN</td>\n",
       "      <td>NaN</td>\n",
       "      <td>NaN</td>\n",
       "      <td>NaN</td>\n",
       "      <td>NaN</td>\n",
       "      <td>NaN</td>\n",
       "      <td>NaN</td>\n",
       "    </tr>\n",
       "    <tr>\n",
       "      <th>Pst104E_00001</th>\n",
       "      <td>1.0</td>\n",
       "      <td>NaN</td>\n",
       "      <td>NaN</td>\n",
       "      <td>NaN</td>\n",
       "      <td>NaN</td>\n",
       "      <td>NaN</td>\n",
       "      <td>NaN</td>\n",
       "      <td>NaN</td>\n",
       "    </tr>\n",
       "    <tr>\n",
       "      <th>Pst104E_00002</th>\n",
       "      <td>1.0</td>\n",
       "      <td>1.0</td>\n",
       "      <td>NaN</td>\n",
       "      <td>NaN</td>\n",
       "      <td>NaN</td>\n",
       "      <td>NaN</td>\n",
       "      <td>NaN</td>\n",
       "      <td>NaN</td>\n",
       "    </tr>\n",
       "    <tr>\n",
       "      <th>Pst104E_00003</th>\n",
       "      <td>1.0</td>\n",
       "      <td>1.0</td>\n",
       "      <td>1.0</td>\n",
       "      <td>NaN</td>\n",
       "      <td>NaN</td>\n",
       "      <td>NaN</td>\n",
       "      <td>NaN</td>\n",
       "      <td>NaN</td>\n",
       "    </tr>\n",
       "    <tr>\n",
       "      <th>Pst104E_00004</th>\n",
       "      <td>1.0</td>\n",
       "      <td>1.0</td>\n",
       "      <td>1.0</td>\n",
       "      <td>1.0</td>\n",
       "      <td>NaN</td>\n",
       "      <td>NaN</td>\n",
       "      <td>NaN</td>\n",
       "      <td>NaN</td>\n",
       "    </tr>\n",
       "  </tbody>\n",
       "</table>\n",
       "</div>"
      ],
      "text/plain": [
       "                 0    1    2    3   4   5   6   7\n",
       "Pst104E_00000  NaN  NaN  NaN  NaN NaN NaN NaN NaN\n",
       "Pst104E_00001  1.0  NaN  NaN  NaN NaN NaN NaN NaN\n",
       "Pst104E_00002  1.0  1.0  NaN  NaN NaN NaN NaN NaN\n",
       "Pst104E_00003  1.0  1.0  1.0  NaN NaN NaN NaN NaN\n",
       "Pst104E_00004  1.0  1.0  1.0  1.0 NaN NaN NaN NaN"
      ]
     },
     "execution_count": 74,
     "metadata": {},
     "output_type": "execute_result"
    }
   ],
   "source": [
    "down_match_df.head()"
   ]
  },
  {
   "cell_type": "code",
   "execution_count": 75,
   "metadata": {
    "ExecuteTime": {
     "end_time": "2019-02-16T05:58:25.729159Z",
     "start_time": "2019-02-16T05:58:25.710484Z"
    }
   },
   "outputs": [
    {
     "data": {
      "text/plain": [
       "Index(['Pst104E_00000', 'Pst104E_00007', 'Pst104E_00010', 'Pst104E_00018',\n",
       "       'Pst104E_00019', 'Pst104E_00024', 'Pst104E_00025', 'Pst104E_00028',\n",
       "       'Pst104E_00029', 'Pst104E_00031',\n",
       "       ...\n",
       "       'Pst104E_00981', 'Pst104E_00983', 'Pst104E_00985', 'Pst104E_00989',\n",
       "       'Pst104E_00991', 'Pst104E_00994', 'Pst104E_00995', 'Pst104E_00996',\n",
       "       'Pst104E_00997', 'Pst104E_00998'],\n",
       "      dtype='object', length=339)"
      ]
     },
     "execution_count": 75,
     "metadata": {},
     "output_type": "execute_result"
    }
   ],
   "source": [
    "down_match_df[down_match_df['0'] != 1].index #.apply(lambda x: len(x) == np.count_nonzero(np.isnan(x)), axis = 1).sum()"
   ]
  },
  {
   "cell_type": "code",
   "execution_count": 76,
   "metadata": {
    "ExecuteTime": {
     "end_time": "2019-02-16T05:58:26.257157Z",
     "start_time": "2019-02-16T05:58:26.238452Z"
    }
   },
   "outputs": [
    {
     "data": {
      "text/plain": [
       "True"
      ]
     },
     "execution_count": 76,
     "metadata": {},
     "output_type": "execute_result"
    }
   ],
   "source": [
    "down_match_df.shape[0] == up_match_df.shape[0]"
   ]
  },
  {
   "cell_type": "code",
   "execution_count": 77,
   "metadata": {
    "ExecuteTime": {
     "end_time": "2019-02-16T05:58:26.713162Z",
     "start_time": "2019-02-16T05:58:26.698437Z"
    }
   },
   "outputs": [
    {
     "data": {
      "text/plain": [
       "7"
      ]
     },
     "execution_count": 77,
     "metadata": {},
     "output_type": "execute_result"
    }
   ],
   "source": [
    "down_0_no_match.shape[0]"
   ]
  },
  {
   "cell_type": "code",
   "execution_count": 78,
   "metadata": {
    "ExecuteTime": {
     "end_time": "2019-02-16T05:58:27.929235Z",
     "start_time": "2019-02-16T05:58:27.846462Z"
    },
    "collapsed": true
   },
   "outputs": [],
   "source": [
    "up_hit_array = up_match_df.apply(lambda x: np.sum(x))\n",
    "up_possible_hit_array = up_match_df.apply(lambda x: np.count_nonzero(~np.isnan(x)))\n",
    "down_hit_array = down_match_df.apply(lambda x: np.sum(x))[::-1]\n",
    "down_possible_hit_array = down_match_df.apply(lambda x: np.count_nonzero(~np.isnan(x)))[::-1]\n",
    "x_axis_index = np.array(range(-(len(up_match_df.columns)),(len(up_match_df.columns)+1) ))\n",
    "\n",
    "\n",
    "up_0_no_match = up_match_df[up_match_df['0'] != 1].index\n",
    "down_0_no_match = down_match_df[down_match_df['0'] != 1].index\n",
    "both_0_match = np.array(down_match_df.shape[0] - sum(down_match_df.loc[up_0_no_match, '0'] != 1))\n",
    "y_axis_hit_array =  np.concatenate((down_hit_array, both_0_match, up_hit_array), axis=None)\n",
    "y_axis_possible_hit = np.concatenate((down_possible_hit_array, np.array(down_match_df.shape[0]),\\\n",
    "                                      up_possible_hit_array), axis= None)"
   ]
  },
  {
   "cell_type": "code",
   "execution_count": 79,
   "metadata": {
    "ExecuteTime": {
     "end_time": "2019-02-16T05:58:30.377290Z",
     "start_time": "2019-02-16T05:58:29.302332Z"
    }
   },
   "outputs": [
    {
     "data": {
      "text/plain": [
       "<matplotlib.text.Text at 0x7f84e20279b0>"
      ]
     },
     "execution_count": 79,
     "metadata": {},
     "output_type": "execute_result"
    },
    {
     "data": {
      "image/png": "[encoded data removed]",
      "text/plain": [
       "<matplotlib.figure.Figure at 0x7f84e1eed780>"
      ]
     },
     "metadata": {},
     "output_type": "display_data"
    }
   ],
   "source": [
    "fig, ax = plt.subplots(figsize=(12,12))\n",
    "\n",
    "ax.bar(x_axis_index, y_axis_possible_hit,width =1,\\\n",
    "       fill = False, edgecolor='r', linewidth = 2, label = 'Possible orthologs hits.')\n",
    "ax.bar(x_axis_index, y_axis_hit_array, width =1,fill = True, edgecolor='b',\\\n",
    "       alpha = 0.5, linewidth = 2, label = 'Observed orthologs hits.' )\n",
    "\n",
    "ax.set_xticks(x_axis_index)\n",
    "ax.tick_params(axis='both', which='major', labelsize=20)\n",
    "ax.legend(prop={'size': 15})\n",
    "ax.set_ylabel('Number of Genes', size=20)\n",
    "ax.set_xlabel('Relative Position', size=20)\n"
   ]
  },
  {
   "cell_type": "code",
   "execution_count": 80,
   "metadata": {
    "ExecuteTime": {
     "end_time": "2019-02-16T05:58:35.113214Z",
     "start_time": "2019-02-16T05:58:35.094642Z"
    },
    "collapsed": true
   },
   "outputs": [],
   "source": [
    "up_match_df = up_match_df[up_match_df.index.isin(p_buscos)]\n",
    "down_match_df= down_match_df[down_match_df.index.isin(p_buscos)]"
   ]
  },
  {
   "cell_type": "code",
   "execution_count": 81,
   "metadata": {
    "ExecuteTime": {
     "end_time": "2019-02-16T05:58:35.733204Z",
     "start_time": "2019-02-16T05:58:35.662331Z"
    },
    "collapsed": true
   },
   "outputs": [],
   "source": [
    "up_hit_array = up_match_df.apply(lambda x: np.sum(x))\n",
    "up_possible_hit_array = up_match_df.apply(lambda x: np.count_nonzero(~np.isnan(x)))\n",
    "down_hit_array = down_match_df.apply(lambda x: np.sum(x))[::-1]\n",
    "down_possible_hit_array = down_match_df.apply(lambda x: np.count_nonzero(~np.isnan(x)))[::-1]\n",
    "x_axis_index = np.array(range(-(len(up_match_df.columns)),(len(up_match_df.columns)+1) ))\n",
    "\n",
    "\n",
    "up_0_no_match = up_match_df[up_match_df['0'] != 1].index\n",
    "down_0_no_match = down_match_df[down_match_df['0'] != 1].index\n",
    "both_0_match = np.array(down_match_df.shape[0] - sum(down_match_df.loc[up_0_no_match, '0'] != 1))\n",
    "y_axis_hit_array =  np.concatenate((down_hit_array, both_0_match, up_hit_array), axis=None)\n",
    "y_axis_possible_hit = np.concatenate((down_possible_hit_array, np.array(down_match_df.shape[0]),\\\n",
    "                                      up_possible_hit_array), axis= None)"
   ]
  },
  {
   "cell_type": "code",
   "execution_count": 82,
   "metadata": {
    "ExecuteTime": {
     "end_time": "2019-02-16T05:58:37.179015Z",
     "start_time": "2019-02-16T05:58:36.258685Z"
    }
   },
   "outputs": [
    {
     "data": {
      "text/plain": [
       "<matplotlib.text.Text at 0x7f84e1a1d898>"
      ]
     },
     "execution_count": 82,
     "metadata": {},
     "output_type": "execute_result"
    },
    {
     "data": {
      "image/png": "[encoded data removed]",
      "text/plain": [
       "<matplotlib.figure.Figure at 0x7f84e1a53128>"
      ]
     },
     "metadata": {},
     "output_type": "display_data"
    }
   ],
   "source": [
    "fig, ax = plt.subplots(figsize=(12,12))\n",
    "\n",
    "ax.bar(x_axis_index, y_axis_possible_hit,width =1,\\\n",
    "       fill = False, edgecolor='r', linewidth = 2, label = 'Possible orthologs hits.')\n",
    "ax.bar(x_axis_index, y_axis_hit_array, width =1,fill = True, edgecolor='b',\\\n",
    "       alpha = 0.5, linewidth = 2, label = 'Observed orthologs hits.' )\n",
    "\n",
    "ax.set_xticks(x_axis_index)\n",
    "ax.tick_params(axis='both', which='major', labelsize=20)\n",
    "ax.legend(prop={'size': 15})\n",
    "ax.set_ylabel('Number of Genes', size=20)\n",
    "ax.set_xlabel('Relative Position', size=20)\n",
    "plt.title('BUSCOS')"
   ]
  },
  {
   "cell_type": "code",
   "execution_count": 83,
   "metadata": {
    "ExecuteTime": {
     "end_time": "2019-02-16T05:58:43.785175Z",
     "start_time": "2019-02-16T05:58:43.770508Z"
    }
   },
   "outputs": [
    {
     "data": {
      "text/plain": [
       "array(['Pst104E_01192', 'Pst104E_04184', 'Pst104E_01554', ...,\n",
       "       'Pst104E_15044', 'Pst104E_07230', 'Pst104E_10356'], dtype=object)"
      ]
     },
     "execution_count": 83,
     "metadata": {},
     "output_type": "execute_result"
    }
   ],
   "source": [
    "p_buscos"
   ]
  },
  {
   "cell_type": "code",
   "execution_count": 84,
   "metadata": {
    "ExecuteTime": {
     "end_time": "2019-02-16T05:58:44.425172Z",
     "start_time": "2019-02-16T05:58:44.410444Z"
    }
   },
   "outputs": [
    {
     "data": {
      "text/plain": [
       "array(['Pst104E_00002', 'Pst104E_00005', 'Pst104E_00008', ...,\n",
       "       'Pst104E_30030', 'Pst104E_30105', 'Pst104E_30240'], dtype=object)"
      ]
     },
     "execution_count": 84,
     "metadata": {},
     "output_type": "execute_result"
    }
   ],
   "source": [
    "p_effector"
   ]
  },
  {
   "cell_type": "code",
   "execution_count": 85,
   "metadata": {
    "ExecuteTime": {
     "end_time": "2019-02-16T05:58:44.945215Z",
     "start_time": "2019-02-16T05:58:44.898440Z"
    },
    "collapsed": true
   },
   "outputs": [],
   "source": [
    "up_match_df = pd.read_csv(os.path.join(OUT_PATH, '14022019_up_match_simple_true_df.csv'), index_col = 0)\n",
    "down_match_df = pd.read_csv(os.path.join(OUT_PATH, '14022019_down_match_simple_true_df.csv'), index_col = 0)\n",
    "up_match_df = up_match_df[up_match_df.index.isin(p_effector)]\n",
    "down_match_df= down_match_df[down_match_df.index.isin(p_effector)]"
   ]
  },
  {
   "cell_type": "code",
   "execution_count": 86,
   "metadata": {
    "ExecuteTime": {
     "end_time": "2019-02-16T05:58:45.617214Z",
     "start_time": "2019-02-16T05:58:45.546531Z"
    },
    "collapsed": true
   },
   "outputs": [],
   "source": [
    "up_hit_array = up_match_df.apply(lambda x: np.sum(x))\n",
    "up_possible_hit_array = up_match_df.apply(lambda x: np.count_nonzero(~np.isnan(x)))\n",
    "down_hit_array = down_match_df.apply(lambda x: np.sum(x))[::-1]\n",
    "down_possible_hit_array = down_match_df.apply(lambda x: np.count_nonzero(~np.isnan(x)))[::-1]\n",
    "x_axis_index = np.array(range(-(len(up_match_df.columns)),(len(up_match_df.columns)+1) ))\n",
    "\n",
    "\n",
    "up_0_no_match = up_match_df[up_match_df['0'] != 1].index\n",
    "down_0_no_match = down_match_df[down_match_df['0'] != 1].index\n",
    "both_0_match = np.array(down_match_df.shape[0] - sum(down_match_df.loc[up_0_no_match, '0'] != 1))\n",
    "y_axis_hit_array =  np.concatenate((down_hit_array, both_0_match, up_hit_array), axis=None)\n",
    "y_axis_possible_hit = np.concatenate((down_possible_hit_array, np.array(down_match_df.shape[0]),\\\n",
    "                                      up_possible_hit_array), axis= None)"
   ]
  },
  {
   "cell_type": "code",
   "execution_count": 87,
   "metadata": {
    "ExecuteTime": {
     "end_time": "2019-02-16T05:58:49.065236Z",
     "start_time": "2019-02-16T05:58:47.974518Z"
    }
   },
   "outputs": [
    {
     "data": {
      "text/plain": [
       "<matplotlib.text.Text at 0x7f84e193ba58>"
      ]
     },
     "execution_count": 87,
     "metadata": {},
     "output_type": "execute_result"
    },
    {
     "data": {
      "image/png": "[encoded data removed]",
      "text/plain": [
       "<matplotlib.figure.Figure at 0x7f84e1959390>"
      ]
     },
     "metadata": {},
     "output_type": "display_data"
    }
   ],
   "source": [
    "fig, ax = plt.subplots(figsize=(12,12))\n",
    "\n",
    "ax.bar(x_axis_index, y_axis_possible_hit,width =1,\\\n",
    "       fill = False, edgecolor='r', linewidth = 2, label = 'Possible orthologs hits.')\n",
    "ax.bar(x_axis_index, y_axis_hit_array, width =1,fill = True, edgecolor='b',\\\n",
    "       alpha = 0.5, linewidth = 2, label = 'Observed orthologs hits.' )\n",
    "\n",
    "ax.set_xticks(x_axis_index)\n",
    "ax.tick_params(axis='both', which='major', labelsize=20)\n",
    "ax.legend(prop={'size': 15})\n",
    "ax.set_ylabel('Number of Genes', size=20)\n",
    "ax.set_xlabel('Relative Position', size=20)\n",
    "plt.title('Effectors')"
   ]
  },
  {
   "cell_type": "code",
   "execution_count": null,
   "metadata": {
    "collapsed": true
   },
   "outputs": [],
   "source": []
  }
 ],
 "metadata": {
  "kernelspec": {
   "display_name": "Python [default]",
   "language": "python",
   "name": "python3"
  },
  "language_info": {
   "codemirror_mode": {
    "name": "ipython",
    "version": 3
   },
   "file_extension": ".py",
   "mimetype": "text/x-python",
   "name": "python",
   "nbconvert_exporter": "python",
   "pygments_lexer": "ipython3",
   "version": "3.5.3"
  },
  "toc": {
   "nav_menu": {},
   "number_sections": true,
   "sideBar": true,
   "skip_h1_title": false,
   "title_cell": "Table of Contents",
   "title_sidebar": "Contents",
   "toc_cell": false,
   "toc_position": {},
   "toc_section_display": true,
   "toc_window_display": false
  }
 },
 "nbformat": 4,
 "nbformat_minor": 2
}
