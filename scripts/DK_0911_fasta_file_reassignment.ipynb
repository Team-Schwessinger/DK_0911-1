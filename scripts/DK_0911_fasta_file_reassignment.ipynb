{
 "cells": [
  {
   "cell_type": "markdown",
   "metadata": {},
   "source": [
    "# Fasta File Reassignment"
   ]
  },
  {
   "cell_type": "markdown",
   "metadata": {},
   "source": [
    "- Inputs: original .*fasta* files, reassignment pairs\n",
    "- Programs: N/A\n",
    "- Purpose: reassign pwoh as haplotigs in *fasta* files"
   ]
  },
  {
   "cell_type": "code",
   "execution_count": 2,
   "metadata": {},
   "outputs": [
    {
     "data": {
      "text/plain": [
       "1176"
      ]
     },
     "execution_count": 2,
     "metadata": {},
     "output_type": "execute_result"
    }
   ],
   "source": [
    "import os\n",
    "from Bio import SeqIO\n",
    "\n",
    "GENOME_IN_VERSION = 'v01'\n",
    "GENOME_OUT_VERSION = 'v032'\n",
    "\n",
    "GENOME_PATH_IN = '/home/gamran/genome_analysis/Warrior/genome_%s/' % GENOME_IN_VERSION\n",
    "GENOME_PATH_OUT = '/home/gamran/genome_analysis/Warrior/Richard/output/genome_%s' % GENOME_OUT_VERSION\n",
    "\n",
    "GENOME_IN = 'DK_0911_%s' % GENOME_IN_VERSION\n",
    "GENOME_OUT = 'DK_0911_%s' % GENOME_OUT_VERSION\n",
    "\n",
    "H_FILE_LOC = GENOME_PATH_IN + GENOME_IN + '_h_ctg.fa'\n",
    "P_FILE_LOC = GENOME_PATH_IN + GENOME_IN + '_p_ctg.fa'\n",
    "\n",
    "htgs = [h for h in SeqIO.parse(H_FILE_LOC, 'fasta')]\n",
    "pCtgs = [p for p in SeqIO.parse(P_FILE_LOC, 'fasta')]\n",
    "\n",
    "def getPCtgNum(ctg):\n",
    "    '''returns the primary contig number to which a haplotig or primary contig belongs,\n",
    "    e.g. hcontig_003_048 will return 003\n",
    "    e.g. pcontig_008 will return 008'''\n",
    "    return ctg[8:11]\n",
    "\n",
    "def getPCtg(num, pCtgs):\n",
    "    '''gets a primary contig by its ID number'''\n",
    "    for pCtg in pCtgs:\n",
    "        if int(getPCtgNum(pCtg.id)) == num:\n",
    "            return pCtg\n",
    "    print('ERROR: primary contig of number: ' + str(num) + ' could not be found.')\n",
    "\n",
    "def changeName(htg, pCtgNum):\n",
    "    pCtgNum = str(pCtgNum)\n",
    "    if len(pCtgNum) < 3:\n",
    "        pCtgNum = '0'*(3-len(pCtgNum)) + str(pCtgNum)\n",
    "        # print('h' + htg.id[1:][:-3] + pCtgNum + '_' + htg.id[-3:])\n",
    "    return 'h' + htg.id[1:][:-3] + pCtgNum + '_' + htg.id[-3:]\n",
    "\n",
    "def assignPwohToPwh(pwohNum, pCtgNum, htgs, pCtgs):\n",
    "    '''Takes a pwoh, changes its id and removes it from pCtgs\n",
    "    and adds it to htgs. Returns list of pCtgs and htgs.\n",
    "    For example, if pwoh.id = 049 and pCtgNum = 005,\n",
    "    pcontig_049 will become hcontig_005_049.\n",
    "    \n",
    "    NB: if, for example, hcontig_005_049 already exists, \n",
    "    this is not accounted for in this function and may cause an error.'''\n",
    "    \n",
    "    for i in range (len(pCtgs)):\n",
    "        if int(getPCtgNum(pCtgs[i].id)) == pwohNum:\n",
    "            htg = pCtgs.pop(i)\n",
    "\n",
    "            newId = changeName(htg, pCtgNum)\n",
    "            htg.id = newId\n",
    "            htg.description = newId\n",
    "\n",
    "            htgs.append(htg)\n",
    "            return pCtgs, htgs\n",
    "\n",
    "def assignManyPwohToPwh(pairs, htgs, pCtgs):\n",
    "    '''takes a list of [(pwohNum, pCtgNum), ...] pairs and changes the pwoh\n",
    "    to a haplotig paired with pCtgNum. Returns a list of pCtgs and htgs.'''\n",
    "    for pwohNum, pCtgNum in pairs:\n",
    "        pCtgs, htgs = assignPwohToPwh(pwohNum, pCtgNum, htgs, pCtgs)\n",
    "    return pCtgs, htgs\n",
    "\n",
    "\n",
    "assignmentPairs = [(86, 39), \\\n",
    "                   (96, 33), \\\n",
    "                   (97, 39), \\\n",
    "                   (100, 33), \\\n",
    "                   (103, 74)]\n",
    "\n",
    "pCtgs, htgs = assignManyPwohToPwh(assignmentPairs, htgs, pCtgs)\n",
    "\n",
    "if not os.path.exists(GENOME_PATH_OUT):\n",
    "    os.mkdir(GENOME_PATH_OUT)\n",
    "SeqIO.write(pCtgs, os.path.join(GENOME_PATH_OUT, GENOME_OUT + '_p_ctg.fa'), 'fasta')\n",
    "SeqIO.write(htgs, os.path.join(GENOME_PATH_OUT, GENOME_OUT + '_h_ctg.fa'), 'fasta')"
   ]
  },
  {
   "cell_type": "code",
   "execution_count": null,
   "metadata": {
    "collapsed": true
   },
   "outputs": [],
   "source": []
  }
 ],
 "metadata": {
  "anaconda-cloud": {},
  "kernelspec": {
   "display_name": "Python [conda root]",
   "language": "python",
   "name": "conda-root-py"
  },
  "language_info": {
   "codemirror_mode": {
    "name": "ipython",
    "version": 3
   },
   "file_extension": ".py",
   "mimetype": "text/x-python",
   "name": "python",
   "nbconvert_exporter": "python",
   "pygments_lexer": "ipython3",
   "version": "3.5.4"
  },
  "toc": {
   "nav_menu": {},
   "number_sections": true,
   "sideBar": true,
   "skip_h1_title": false,
   "title_cell": "Table of Contents",
   "title_sidebar": "Contents",
   "toc_cell": false,
   "toc_position": {},
   "toc_section_display": true,
   "toc_window_display": false
  }
 },
 "nbformat": 4,
 "nbformat_minor": 1
}
