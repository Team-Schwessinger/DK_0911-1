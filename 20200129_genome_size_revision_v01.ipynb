{
 "cells": [
  {
   "cell_type": "markdown",
   "metadata": {},
   "source": [
    "### This is part of the revision of the paper to look at the estimate genome size of certain Pst and Psh genomes\n"
   ]
  },
  {
   "cell_type": "markdown",
   "metadata": {},
   "source": [
    "We will use jellyfish followed by GenomeScope for genome size estimates. We will use the following SRA samples correspoding to different publically available datasets. \n",
    "\n",
    "\n",
    "The corresponding short reads come from SRA as follows:\n",
    "* SRR8208848 (Pst 93–210)\n",
    "* SRR8208849 (Psh 93TX-2)\n",
    "* SRX667385  (Pst 11/08) -- Warrior\n",
    "* PRJEB15280 (Pst FW1) -- Kranich\n",
    "* SRX7105378 (Pst DK0911)\n",
    "* SRX3181917 (Pst 104E)\n",
    "* SRR987409  (Pst 78)\n",
    "\n",
    "Two additional isolates were provided directly from Dr. Diane Saunders.\n",
    "\n",
    "* Pst-12/83\n",
    "* Pst-12/86\n",
    "\n",
    "These were downloaded with fastq-dumb 20200131 and 20200211"
   ]
  },
  {
   "cell_type": "markdown",
   "metadata": {},
   "source": [
    "The following step need to be done:\n",
    "* run jellyfish v2.2.6\n",
    "* run genomescope 2 online http://qb.cshl.edu/genomescope/genomescope2.0/"
   ]
  },
  {
   "cell_type": "code",
   "execution_count": 1,
   "metadata": {
    "ExecuteTime": {
     "end_time": "2020-01-31T00:25:36.816948Z",
     "start_time": "2020-01-31T00:25:36.529698Z"
    },
    "collapsed": true
   },
   "outputs": [],
   "source": [
    "%matplotlib inline"
   ]
  },
  {
   "cell_type": "code",
   "execution_count": 2,
   "metadata": {
    "ExecuteTime": {
     "end_time": "2020-01-31T00:25:38.980737Z",
     "start_time": "2020-01-31T00:25:37.823712Z"
    }
   },
   "outputs": [
    {
     "name": "stderr",
     "output_type": "stream",
     "text": [
      "/home/benjamin/anaconda3/lib/python3.5/site-packages/Bio/SearchIO/__init__.py:211: BiopythonExperimentalWarning: Bio.SearchIO is an experimental submodule which may undergo significant changes prior to its future official release.\n",
      "  BiopythonExperimentalWarning)\n"
     ]
    }
   ],
   "source": [
    "import pandas as pd\n",
    "import os\n",
    "import re\n",
    "from Bio import SeqIO\n",
    "from Bio import SeqUtils\n",
    "import pysam\n",
    "from Bio.SeqRecord import SeqRecord\n",
    "from pybedtools import BedTool\n",
    "import numpy as np\n",
    "import pybedtools\n",
    "import time\n",
    "import matplotlib.pyplot as plt\n",
    "import sys\n",
    "import subprocess\n",
    "import shutil\n",
    "from Bio.Seq import Seq\n",
    "import pysam\n",
    "from Bio import SearchIO\n",
    "import json\n",
    "import glob\n",
    "import scipy.stats as stats\n",
    "import statsmodels as sms\n",
    "import statsmodels.sandbox.stats.multicomp\n",
    "import distance\n",
    "import seaborn as sns\n",
    "from pybedtools import BedTool\n",
    "import matplotlib\n",
    "from sklearn.externals.joblib import Parallel, delayed\n",
    "import itertools as it\n",
    "import tempfile\n",
    "from scipy.signal import argrelextrema\n",
    "import scipy\n",
    "from het_cov import *\n",
    "import importlib\n",
    "import subprocess"
   ]
  },
  {
   "cell_type": "code",
   "execution_count": 4,
   "metadata": {
    "ExecuteTime": {
     "end_time": "2020-01-31T00:27:13.785420Z",
     "start_time": "2020-01-31T00:27:13.780449Z"
    },
    "collapsed": true
   },
   "outputs": [],
   "source": [
    "RAW_READ_DIR = '/home/benjamin/genome_assembly/Warrior/DK0911_v04/revisions_v01/raw_data'\n",
    "JELLYFISH_DIR = '/home/benjamin/genome_assembly/Warrior/DK0911_v04/revisions_v01/genomesize/jellyfish'"
   ]
  },
  {
   "cell_type": "code",
   "execution_count": 3,
   "metadata": {
    "ExecuteTime": {
     "end_time": "2020-01-31T00:27:11.053381Z",
     "start_time": "2020-01-31T00:27:10.917586Z"
    },
    "collapsed": true
   },
   "outputs": [],
   "source": [
    "!mkdir -p /home/benjamin/genome_assembly/Warrior/DK0911_v04/revisions_v01/genomesize/jellyfish"
   ]
  },
  {
   "cell_type": "code",
   "execution_count": 14,
   "metadata": {
    "ExecuteTime": {
     "end_time": "2020-01-31T03:36:36.893061Z",
     "start_time": "2020-01-31T03:36:36.887462Z"
    },
    "collapsed": true
   },
   "outputs": [],
   "source": [
    "##get all the raw read data\n",
    "fastqs = [x for x in os.listdir(RAW_READ_DIR) if x.endswith('.fastq') or x.endswith('.fq')]"
   ]
  },
  {
   "cell_type": "code",
   "execution_count": 15,
   "metadata": {
    "ExecuteTime": {
     "end_time": "2020-01-31T03:36:37.359907Z",
     "start_time": "2020-01-31T03:36:37.351911Z"
    },
    "collapsed": true
   },
   "outputs": [
    {
     "data": {
      "text/plain": [
       "{'ERR1607728',\n",
       " 'S150',\n",
       " 'SRR10406086',\n",
       " 'SRR1533792',\n",
       " 'SRR172670',\n",
       " 'SRR6031720',\n",
       " 'SRR8208848',\n",
       " 'SRR8208849'}"
      ]
     },
     "execution_count": 15,
     "metadata": {},
     "output_type": "execute_result"
    }
   ],
   "source": [
    "samples = {x.split('_')[0] for x in fastqs} \n",
    "samples"
   ]
  },
  {
   "cell_type": "code",
   "execution_count": 18,
   "metadata": {
    "ExecuteTime": {
     "end_time": "2020-01-31T03:56:54.514993Z",
     "start_time": "2020-01-31T03:38:09.494126Z"
    },
    "collapsed": true
   },
   "outputs": [
    {
     "name": "stdout",
     "output_type": "stream",
     "text": [
      "jellyfish count -C -m 21 -s 1000000000 -t 20 /home/benjamin/genome_assembly/Warrior/DK0911_v04/revisions_v01/raw_data/SRR8208848_*.* -o /home/benjamin/genome_assembly/Warrior/DK0911_v04/revisions_v01/genomesize/jellyfish/SRR8208848.jf\n",
      "0\n",
      "jellyfish histo -t 20 /home/benjamin/genome_assembly/Warrior/DK0911_v04/revisions_v01/genomesize/jellyfish/SRR8208848.jf > /home/benjamin/genome_assembly/Warrior/DK0911_v04/revisions_v01/genomesize/jellyfish/SRR8208848.histo\n",
      "jellyfish count -C -m 21 -s 1000000000 -t 20 /home/benjamin/genome_assembly/Warrior/DK0911_v04/revisions_v01/raw_data/SRR172670_*.* -o /home/benjamin/genome_assembly/Warrior/DK0911_v04/revisions_v01/genomesize/jellyfish/SRR172670.jf\n",
      "0\n",
      "jellyfish histo -t 20 /home/benjamin/genome_assembly/Warrior/DK0911_v04/revisions_v01/genomesize/jellyfish/SRR172670.jf > /home/benjamin/genome_assembly/Warrior/DK0911_v04/revisions_v01/genomesize/jellyfish/SRR172670.histo\n",
      "jellyfish count -C -m 21 -s 1000000000 -t 20 /home/benjamin/genome_assembly/Warrior/DK0911_v04/revisions_v01/raw_data/SRR6031720_*.* -o /home/benjamin/genome_assembly/Warrior/DK0911_v04/revisions_v01/genomesize/jellyfish/SRR6031720.jf\n",
      "0\n",
      "jellyfish histo -t 20 /home/benjamin/genome_assembly/Warrior/DK0911_v04/revisions_v01/genomesize/jellyfish/SRR6031720.jf > /home/benjamin/genome_assembly/Warrior/DK0911_v04/revisions_v01/genomesize/jellyfish/SRR6031720.histo\n",
      "jellyfish count -C -m 21 -s 1000000000 -t 20 /home/benjamin/genome_assembly/Warrior/DK0911_v04/revisions_v01/raw_data/S150_*.* -o /home/benjamin/genome_assembly/Warrior/DK0911_v04/revisions_v01/genomesize/jellyfish/S150.jf\n",
      "0\n",
      "jellyfish histo -t 20 /home/benjamin/genome_assembly/Warrior/DK0911_v04/revisions_v01/genomesize/jellyfish/S150.jf > /home/benjamin/genome_assembly/Warrior/DK0911_v04/revisions_v01/genomesize/jellyfish/S150.histo\n",
      "jellyfish count -C -m 21 -s 1000000000 -t 20 /home/benjamin/genome_assembly/Warrior/DK0911_v04/revisions_v01/raw_data/ERR1607728_*.* -o /home/benjamin/genome_assembly/Warrior/DK0911_v04/revisions_v01/genomesize/jellyfish/ERR1607728.jf\n",
      "0\n",
      "jellyfish histo -t 20 /home/benjamin/genome_assembly/Warrior/DK0911_v04/revisions_v01/genomesize/jellyfish/ERR1607728.jf > /home/benjamin/genome_assembly/Warrior/DK0911_v04/revisions_v01/genomesize/jellyfish/ERR1607728.histo\n",
      "jellyfish count -C -m 21 -s 1000000000 -t 20 /home/benjamin/genome_assembly/Warrior/DK0911_v04/revisions_v01/raw_data/SRR8208849_*.* -o /home/benjamin/genome_assembly/Warrior/DK0911_v04/revisions_v01/genomesize/jellyfish/SRR8208849.jf\n",
      "0\n",
      "jellyfish histo -t 20 /home/benjamin/genome_assembly/Warrior/DK0911_v04/revisions_v01/genomesize/jellyfish/SRR8208849.jf > /home/benjamin/genome_assembly/Warrior/DK0911_v04/revisions_v01/genomesize/jellyfish/SRR8208849.histo\n",
      "jellyfish count -C -m 21 -s 1000000000 -t 20 /home/benjamin/genome_assembly/Warrior/DK0911_v04/revisions_v01/raw_data/SRR1533792_*.* -o /home/benjamin/genome_assembly/Warrior/DK0911_v04/revisions_v01/genomesize/jellyfish/SRR1533792.jf\n",
      "0\n",
      "jellyfish histo -t 20 /home/benjamin/genome_assembly/Warrior/DK0911_v04/revisions_v01/genomesize/jellyfish/SRR1533792.jf > /home/benjamin/genome_assembly/Warrior/DK0911_v04/revisions_v01/genomesize/jellyfish/SRR1533792.histo\n",
      "jellyfish count -C -m 21 -s 1000000000 -t 20 /home/benjamin/genome_assembly/Warrior/DK0911_v04/revisions_v01/raw_data/SRR10406086_*.* -o /home/benjamin/genome_assembly/Warrior/DK0911_v04/revisions_v01/genomesize/jellyfish/SRR10406086.jf\n",
      "0\n",
      "jellyfish histo -t 20 /home/benjamin/genome_assembly/Warrior/DK0911_v04/revisions_v01/genomesize/jellyfish/SRR10406086.jf > /home/benjamin/genome_assembly/Warrior/DK0911_v04/revisions_v01/genomesize/jellyfish/SRR10406086.histo\n"
     ]
    }
   ],
   "source": [
    "jelly_k_cmd = 'jellyfish count -C -m 21 -s 1000000000 -t 20 %s_*.* -o %s.jf' \n",
    "jelly_h_cmd = 'jellyfish histo -t 20 %s.jf > %s.histo'\n",
    "for sample in samples:\n",
    "    cmd_1 = jelly_k_cmd % (os.path.join(RAW_READ_DIR, sample), os.path.join(JELLYFISH_DIR, sample))\n",
    "    print(cmd_1)\n",
    "    output = subprocess.run(cmd_1, shell=True)\n",
    "    print(output.returncode)\n",
    "    cmd_2 = jelly_h_cmd % (os.path.join(JELLYFISH_DIR, sample), os.path.join(JELLYFISH_DIR, sample))\n",
    "    print(cmd_2)\n",
    "    output = subprocess.run(cmd_2, shell=True)\n",
    "    "
   ]
  },
  {
   "cell_type": "markdown",
   "metadata": {
    "collapsed": true
   },
   "source": [
    "Files were uploaded to GenomeScope2 for analysis. This was last accessed online 20200212."
   ]
  }
 ],
 "metadata": {
  "kernelspec": {
   "display_name": "Python [default]",
   "language": "python",
   "name": "python3"
  },
  "language_info": {
   "codemirror_mode": {
    "name": "ipython",
    "version": 3
   },
   "file_extension": ".py",
   "mimetype": "text/x-python",
   "name": "python",
   "nbconvert_exporter": "python",
   "pygments_lexer": "ipython3",
   "version": "3.5.4"
  },
  "toc": {
   "nav_menu": {},
   "number_sections": true,
   "sideBar": true,
   "skip_h1_title": false,
   "title_cell": "Table of Contents",
   "title_sidebar": "Contents",
   "toc_cell": false,
   "toc_position": {},
   "toc_section_display": true,
   "toc_window_display": false
  }
 },
 "nbformat": 4,
 "nbformat_minor": 2
}
